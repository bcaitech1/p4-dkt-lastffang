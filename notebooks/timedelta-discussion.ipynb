{
 "metadata": {
  "language_info": {
   "codemirror_mode": {
    "name": "ipython",
    "version": 3
   },
   "file_extension": ".py",
   "mimetype": "text/x-python",
   "name": "python",
   "nbconvert_exporter": "python",
   "pygments_lexer": "ipython3",
   "version": "3.7.7"
  },
  "orig_nbformat": 2,
  "kernelspec": {
   "name": "python377jvsc74a57bd098b0a9b7b4eaaa670588a142fd0a9b87eaafe866f1db4228be72b4211d12040f",
   "display_name": "Python 3.7.7 64-bit ('base': conda)"
  }
 },
 "nbformat": 4,
 "nbformat_minor": 2,
 "cells": [
  {
   "source": [
    "# Timestamp Delta 및 관련 이슈"
   ],
   "cell_type": "markdown",
   "metadata": {}
  },
  {
   "cell_type": "code",
   "execution_count": 1,
   "metadata": {},
   "outputs": [],
   "source": [
    "import pandas as pd\n",
    "import pickle\n",
    "import numpy as np\n",
    "\n",
    "from tqdm import tqdm"
   ]
  },
  {
   "cell_type": "code",
   "execution_count": 2,
   "metadata": {},
   "outputs": [],
   "source": [
    "dtype = {\n",
    "    'userID': 'int16',\n",
    "    'answerCode': 'int8',\n",
    "    'KnowledgeTag': 'int16'\n",
    "} "
   ]
  },
  {
   "cell_type": "code",
   "execution_count": 3,
   "metadata": {},
   "outputs": [],
   "source": [
    "DATA_PATH = '/opt/ml/input/data/train_dataset/train_data.csv'\n",
    "train_df = pd.read_csv(DATA_PATH, dtype=dtype, parse_dates=['Timestamp'])\n",
    "train_df = train_df.sort_values(by=['userID', 'Timestamp']).reset_index(drop=True)"
   ]
  },
  {
   "cell_type": "code",
   "execution_count": 4,
   "metadata": {},
   "outputs": [],
   "source": [
    "DATA_PATH = '/opt/ml/input/data/train_dataset/test_data.csv'\n",
    "test_df = pd.read_csv(DATA_PATH, dtype=dtype, parse_dates=['Timestamp'])\n",
    "test_df = test_df.sort_values(by=['userID', 'Timestamp']).reset_index(drop=True)"
   ]
  },
  {
   "source": [
    "### Timestamp delta 계산 방법\n",
    "- 기존 데이터의 Timestamp 는 해당 문제를 풀기 **시작한** 시점\n",
    "- 동일 user, testId (시험지) 에서 Timestamp 기준으로 sorting 했을 때, 인접한 두 문제 중 뒤쪽 문제의 Timestamp 를 앞쪽 문제의 끝난 시점으로 사용해 그 차이를 초 단위로 계산\n",
    "\n",
    "\n",
    "### Timestamp delta 가 0 으로 계산될 수 있는 경우\n",
    "- Case 1: 한 testId 에 assessmentItemID 이 하나만 있을 때\n",
    "- Case 2: 동일 user, 시험지에서 연속한 두 문항의 Timestamp 가 동일할 때"
   ],
   "cell_type": "markdown",
   "metadata": {}
  },
  {
   "cell_type": "code",
   "execution_count": 5,
   "metadata": {},
   "outputs": [
    {
     "output_type": "execute_result",
     "data": {
      "text/plain": [
       "Empty DataFrame\n",
       "Columns: [assessmentItemID]\n",
       "Index: []"
      ],
      "text/html": "<div>\n<style scoped>\n    .dataframe tbody tr th:only-of-type {\n        vertical-align: middle;\n    }\n\n    .dataframe tbody tr th {\n        vertical-align: top;\n    }\n\n    .dataframe thead th {\n        text-align: right;\n    }\n</style>\n<table border=\"1\" class=\"dataframe\">\n  <thead>\n    <tr style=\"text-align: right;\">\n      <th></th>\n      <th></th>\n      <th>assessmentItemID</th>\n    </tr>\n    <tr>\n      <th>testId</th>\n      <th>userID</th>\n      <th></th>\n    </tr>\n  </thead>\n  <tbody>\n  </tbody>\n</table>\n</div>"
     },
     "metadata": {},
     "execution_count": 5
    }
   ],
   "source": [
    "# Case 1\n",
    "user_testid_groupby = train_df.groupby(['testId', 'userID']).agg({\n",
    "    'assessmentItemID': 'count'\n",
    "})\n",
    "user_testid_groupby[user_testid_groupby['assessmentItemID'] == 1]\n",
    "# 없는 것 같다..!"
   ]
  },
  {
   "cell_type": "code",
   "execution_count": 6,
   "metadata": {},
   "outputs": [
    {
     "output_type": "execute_result",
     "data": {
      "text/plain": [
       "Empty DataFrame\n",
       "Columns: [assessmentItemID]\n",
       "Index: []"
      ],
      "text/html": "<div>\n<style scoped>\n    .dataframe tbody tr th:only-of-type {\n        vertical-align: middle;\n    }\n\n    .dataframe tbody tr th {\n        vertical-align: top;\n    }\n\n    .dataframe thead th {\n        text-align: right;\n    }\n</style>\n<table border=\"1\" class=\"dataframe\">\n  <thead>\n    <tr style=\"text-align: right;\">\n      <th></th>\n      <th></th>\n      <th>assessmentItemID</th>\n    </tr>\n    <tr>\n      <th>testId</th>\n      <th>userID</th>\n      <th></th>\n    </tr>\n  </thead>\n  <tbody>\n  </tbody>\n</table>\n</div>"
     },
     "metadata": {},
     "execution_count": 6
    }
   ],
   "source": [
    "# Case 1 - test data 는?\n",
    "user_testid_groupby = test_df.groupby(['testId', 'userID']).agg({\n",
    "    'assessmentItemID': 'count'\n",
    "})\n",
    "user_testid_groupby[user_testid_groupby['assessmentItemID'] == 1]\n",
    "# 얘도 없는 것 같다..!"
   ]
  },
  {
   "cell_type": "code",
   "execution_count": 7,
   "metadata": {},
   "outputs": [
    {
     "output_type": "execute_result",
     "data": {
      "text/plain": [
       "     userID assessmentItemID      testId  answerCode           Timestamp  \\\n",
       "120       0       A080016005  A080000016           1 2020-05-07 00:51:29   \n",
       "121       0       A080016006  A080000016           1 2020-05-07 00:51:48   \n",
       "122       0       A080016007  A080000016           1 2020-05-07 00:52:47   \n",
       "123       0       A080016008  A080000016           0 2020-05-07 00:52:47   \n",
       "124       0       A060024001  A060000024           1 2020-05-07 01:20:10   \n",
       "125       0       A060024002  A060000024           1 2020-05-07 01:20:16   \n",
       "\n",
       "     KnowledgeTag  \n",
       "120          4669  \n",
       "121          4664  \n",
       "122          4672  \n",
       "123          4672  \n",
       "124           595  \n",
       "125           594  "
      ],
      "text/html": "<div>\n<style scoped>\n    .dataframe tbody tr th:only-of-type {\n        vertical-align: middle;\n    }\n\n    .dataframe tbody tr th {\n        vertical-align: top;\n    }\n\n    .dataframe thead th {\n        text-align: right;\n    }\n</style>\n<table border=\"1\" class=\"dataframe\">\n  <thead>\n    <tr style=\"text-align: right;\">\n      <th></th>\n      <th>userID</th>\n      <th>assessmentItemID</th>\n      <th>testId</th>\n      <th>answerCode</th>\n      <th>Timestamp</th>\n      <th>KnowledgeTag</th>\n    </tr>\n  </thead>\n  <tbody>\n    <tr>\n      <th>120</th>\n      <td>0</td>\n      <td>A080016005</td>\n      <td>A080000016</td>\n      <td>1</td>\n      <td>2020-05-07 00:51:29</td>\n      <td>4669</td>\n    </tr>\n    <tr>\n      <th>121</th>\n      <td>0</td>\n      <td>A080016006</td>\n      <td>A080000016</td>\n      <td>1</td>\n      <td>2020-05-07 00:51:48</td>\n      <td>4664</td>\n    </tr>\n    <tr>\n      <th>122</th>\n      <td>0</td>\n      <td>A080016007</td>\n      <td>A080000016</td>\n      <td>1</td>\n      <td>2020-05-07 00:52:47</td>\n      <td>4672</td>\n    </tr>\n    <tr>\n      <th>123</th>\n      <td>0</td>\n      <td>A080016008</td>\n      <td>A080000016</td>\n      <td>0</td>\n      <td>2020-05-07 00:52:47</td>\n      <td>4672</td>\n    </tr>\n    <tr>\n      <th>124</th>\n      <td>0</td>\n      <td>A060024001</td>\n      <td>A060000024</td>\n      <td>1</td>\n      <td>2020-05-07 01:20:10</td>\n      <td>595</td>\n    </tr>\n    <tr>\n      <th>125</th>\n      <td>0</td>\n      <td>A060024002</td>\n      <td>A060000024</td>\n      <td>1</td>\n      <td>2020-05-07 01:20:16</td>\n      <td>594</td>\n    </tr>\n  </tbody>\n</table>\n</div>"
     },
     "metadata": {},
     "execution_count": 7
    }
   ],
   "source": [
    "# Case 2 가 생각보다 많다. 예시로 아래에 row 122, 123 의 Timestamp 가 동일하다\n",
    "# 여러 문제의 풀기 시작한 시점이 같다는 것은 한 문제 아래에 딸린 문제라는 의미인지?\n",
    "train_df[120:126]"
   ]
  },
  {
   "source": [
    "### Timestamp delta 가 매우 크게 계산되는 경우\n",
    "- Case 1: 동일한 시험지를 꼭 하루에 연속해서 풀지 않을 때\n",
    "- Case 2: 동일한 시험지를 여러 번 풀 때\n",
    "\n",
    "Threshold 를 넘어가면 값을 초기화하거나 (Case 2) 무시하고 다른 통계량으로 대체 (Case 1) 하기?"
   ],
   "cell_type": "markdown",
   "metadata": {}
  },
  {
   "cell_type": "code",
   "execution_count": 8,
   "metadata": {},
   "outputs": [
    {
     "output_type": "execute_result",
     "data": {
      "text/plain": [
       "       userID assessmentItemID      testId  answerCode           Timestamp  \\\n",
       "15193      23       A080005002  A080000005           1 2020-01-07 10:14:34   \n",
       "15194      23       A080005001  A080000005           0 2020-01-08 10:48:38   \n",
       "15195      23       A080005003  A080000005           1 2020-01-08 10:49:06   \n",
       "\n",
       "       KnowledgeTag  \n",
       "15193          4657  \n",
       "15194          4657  \n",
       "15195          4657  "
      ],
      "text/html": "<div>\n<style scoped>\n    .dataframe tbody tr th:only-of-type {\n        vertical-align: middle;\n    }\n\n    .dataframe tbody tr th {\n        vertical-align: top;\n    }\n\n    .dataframe thead th {\n        text-align: right;\n    }\n</style>\n<table border=\"1\" class=\"dataframe\">\n  <thead>\n    <tr style=\"text-align: right;\">\n      <th></th>\n      <th>userID</th>\n      <th>assessmentItemID</th>\n      <th>testId</th>\n      <th>answerCode</th>\n      <th>Timestamp</th>\n      <th>KnowledgeTag</th>\n    </tr>\n  </thead>\n  <tbody>\n    <tr>\n      <th>15193</th>\n      <td>23</td>\n      <td>A080005002</td>\n      <td>A080000005</td>\n      <td>1</td>\n      <td>2020-01-07 10:14:34</td>\n      <td>4657</td>\n    </tr>\n    <tr>\n      <th>15194</th>\n      <td>23</td>\n      <td>A080005001</td>\n      <td>A080000005</td>\n      <td>0</td>\n      <td>2020-01-08 10:48:38</td>\n      <td>4657</td>\n    </tr>\n    <tr>\n      <th>15195</th>\n      <td>23</td>\n      <td>A080005003</td>\n      <td>A080000005</td>\n      <td>1</td>\n      <td>2020-01-08 10:49:06</td>\n      <td>4657</td>\n    </tr>\n  </tbody>\n</table>\n</div>"
     },
     "metadata": {},
     "execution_count": 8
    }
   ],
   "source": [
    "# 동일한 시험지를 꼭 하루에 연속해서 풀지 않을 수도 있다.\n",
    "# 아래 row 15193 에서 15194 로 넘어갈 때 하루 넘게 걸렸다\n",
    "train_df[15193:15196]"
   ]
  },
  {
   "cell_type": "code",
   "execution_count": 9,
   "metadata": {},
   "outputs": [
    {
     "output_type": "execute_result",
     "data": {
      "text/plain": [
       "         userID assessmentItemID      testId  answerCode           Timestamp  \\\n",
       "2078007    4631       A040027001  A040000027           1 2020-01-16 08:49:34   \n",
       "2078008    4631       A040027002  A040000027           1 2020-01-16 08:49:46   \n",
       "2078009    4631       A040027003  A040000027           1 2020-01-16 08:49:54   \n",
       "2078010    4631       A040027004  A040000027           1 2020-01-16 08:50:12   \n",
       "2078011    4631       A040027005  A040000027           0 2020-01-16 08:50:33   \n",
       "2078012    4631       A040027006  A040000027           0 2020-01-16 08:52:27   \n",
       "2078013    4631       A040027007  A040000027           1 2020-01-16 08:53:14   \n",
       "2078014    4631       A040027008  A040000027           0 2020-01-16 08:54:51   \n",
       "2078015    4631       A040027009  A040000027           0 2020-01-16 08:54:57   \n",
       "2078016    4631       A040027010  A040000027           0 2020-01-16 08:55:04   \n",
       "2078017    4631       A040027001  A040000027           1 2020-03-12 01:43:15   \n",
       "2078018    4631       A040027002  A040000027           1 2020-03-12 01:43:24   \n",
       "2078019    4631       A040027003  A040000027           1 2020-03-12 01:43:31   \n",
       "\n",
       "         KnowledgeTag  \n",
       "2078007          2053  \n",
       "2078008          2053  \n",
       "2078009          2053  \n",
       "2078010          2053  \n",
       "2078011          2053  \n",
       "2078012          2053  \n",
       "2078013         11214  \n",
       "2078014         11214  \n",
       "2078015         11214  \n",
       "2078016         11214  \n",
       "2078017          2053  \n",
       "2078018          2053  \n",
       "2078019          2053  "
      ],
      "text/html": "<div>\n<style scoped>\n    .dataframe tbody tr th:only-of-type {\n        vertical-align: middle;\n    }\n\n    .dataframe tbody tr th {\n        vertical-align: top;\n    }\n\n    .dataframe thead th {\n        text-align: right;\n    }\n</style>\n<table border=\"1\" class=\"dataframe\">\n  <thead>\n    <tr style=\"text-align: right;\">\n      <th></th>\n      <th>userID</th>\n      <th>assessmentItemID</th>\n      <th>testId</th>\n      <th>answerCode</th>\n      <th>Timestamp</th>\n      <th>KnowledgeTag</th>\n    </tr>\n  </thead>\n  <tbody>\n    <tr>\n      <th>2078007</th>\n      <td>4631</td>\n      <td>A040027001</td>\n      <td>A040000027</td>\n      <td>1</td>\n      <td>2020-01-16 08:49:34</td>\n      <td>2053</td>\n    </tr>\n    <tr>\n      <th>2078008</th>\n      <td>4631</td>\n      <td>A040027002</td>\n      <td>A040000027</td>\n      <td>1</td>\n      <td>2020-01-16 08:49:46</td>\n      <td>2053</td>\n    </tr>\n    <tr>\n      <th>2078009</th>\n      <td>4631</td>\n      <td>A040027003</td>\n      <td>A040000027</td>\n      <td>1</td>\n      <td>2020-01-16 08:49:54</td>\n      <td>2053</td>\n    </tr>\n    <tr>\n      <th>2078010</th>\n      <td>4631</td>\n      <td>A040027004</td>\n      <td>A040000027</td>\n      <td>1</td>\n      <td>2020-01-16 08:50:12</td>\n      <td>2053</td>\n    </tr>\n    <tr>\n      <th>2078011</th>\n      <td>4631</td>\n      <td>A040027005</td>\n      <td>A040000027</td>\n      <td>0</td>\n      <td>2020-01-16 08:50:33</td>\n      <td>2053</td>\n    </tr>\n    <tr>\n      <th>2078012</th>\n      <td>4631</td>\n      <td>A040027006</td>\n      <td>A040000027</td>\n      <td>0</td>\n      <td>2020-01-16 08:52:27</td>\n      <td>2053</td>\n    </tr>\n    <tr>\n      <th>2078013</th>\n      <td>4631</td>\n      <td>A040027007</td>\n      <td>A040000027</td>\n      <td>1</td>\n      <td>2020-01-16 08:53:14</td>\n      <td>11214</td>\n    </tr>\n    <tr>\n      <th>2078014</th>\n      <td>4631</td>\n      <td>A040027008</td>\n      <td>A040000027</td>\n      <td>0</td>\n      <td>2020-01-16 08:54:51</td>\n      <td>11214</td>\n    </tr>\n    <tr>\n      <th>2078015</th>\n      <td>4631</td>\n      <td>A040027009</td>\n      <td>A040000027</td>\n      <td>0</td>\n      <td>2020-01-16 08:54:57</td>\n      <td>11214</td>\n    </tr>\n    <tr>\n      <th>2078016</th>\n      <td>4631</td>\n      <td>A040027010</td>\n      <td>A040000027</td>\n      <td>0</td>\n      <td>2020-01-16 08:55:04</td>\n      <td>11214</td>\n    </tr>\n    <tr>\n      <th>2078017</th>\n      <td>4631</td>\n      <td>A040027001</td>\n      <td>A040000027</td>\n      <td>1</td>\n      <td>2020-03-12 01:43:15</td>\n      <td>2053</td>\n    </tr>\n    <tr>\n      <th>2078018</th>\n      <td>4631</td>\n      <td>A040027002</td>\n      <td>A040000027</td>\n      <td>1</td>\n      <td>2020-03-12 01:43:24</td>\n      <td>2053</td>\n    </tr>\n    <tr>\n      <th>2078019</th>\n      <td>4631</td>\n      <td>A040027003</td>\n      <td>A040000027</td>\n      <td>1</td>\n      <td>2020-03-12 01:43:31</td>\n      <td>2053</td>\n    </tr>\n  </tbody>\n</table>\n</div>"
     },
     "metadata": {},
     "execution_count": 9
    }
   ],
   "source": [
    "# 아래의 경우는 동일 시험지를 두달 후 다시 풀고 있음..!\n",
    "# 지금은 동일 user, testId 라면 인접한 Timestamp 의 delta 를 무조건 계산하므로,\n",
    "# row 2078016 에 매우 큰 값이 부여된다\n",
    "train_df[2078007:2078020]   "
   ]
  },
  {
   "cell_type": "code",
   "execution_count": null,
   "metadata": {},
   "outputs": [],
   "source": []
  }
 ]
}