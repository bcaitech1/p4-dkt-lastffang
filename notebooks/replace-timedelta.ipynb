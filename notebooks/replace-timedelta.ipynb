{
 "metadata": {
  "language_info": {
   "codemirror_mode": {
    "name": "ipython",
    "version": 3
   },
   "file_extension": ".py",
   "mimetype": "text/x-python",
   "name": "python",
   "nbconvert_exporter": "python",
   "pygments_lexer": "ipython3",
   "version": "3.7.7"
  },
  "orig_nbformat": 2,
  "kernelspec": {
   "name": "python377jvsc74a57bd098b0a9b7b4eaaa670588a142fd0a9b87eaafe866f1db4228be72b4211d12040f",
   "display_name": "Python 3.7.7 64-bit ('base': conda)"
  }
 },
 "nbformat": 4,
 "nbformat_minor": 2,
 "cells": [
  {
   "cell_type": "code",
   "execution_count": 2,
   "metadata": {},
   "outputs": [],
   "source": [
    "import pandas as pd\n",
    "import pickle\n",
    "import numpy as np\n",
    "\n",
    "from tqdm import tqdm"
   ]
  },
  {
   "source": [
    "## 데이터 읽어오기"
   ],
   "cell_type": "markdown",
   "metadata": {}
  },
  {
   "cell_type": "code",
   "execution_count": 11,
   "metadata": {},
   "outputs": [],
   "source": [
    "dtype = {\n",
    "    'userID': 'int16',\n",
    "    'answerCode': 'int8',\n",
    "    'KnowledgeTag': 'int16'\n",
    "}   \n",
    "\n",
    "DATA_PATH = '/opt/ml/input/data/train_dataset/train_data.csv'\n",
    "train_df = pd.read_csv(DATA_PATH, dtype=dtype, parse_dates=['Timestamp'])\n",
    "train_df = train_df.sort_values(by=['userID', 'Timestamp']).reset_index(drop=True)\n",
    "\n",
    "test_df = pd.read_csv(DATA_PATH, dtype=dtype, parse_dates=['Timestamp'])\n",
    "test_df = test_df.sort_values(by=['userID', 'Timestamp']).reset_index(drop=True)"
   ]
  },
  {
   "cell_type": "code",
   "execution_count": 41,
   "metadata": {},
   "outputs": [
    {
     "output_type": "execute_result",
     "data": {
      "text/plain": [
       "   userID assessmentItemID      testId  answerCode           Timestamp  \\\n",
       "0       0       A060001001  A060000001           1 2020-03-24 00:17:11   \n",
       "1       0       A060001002  A060000001           1 2020-03-24 00:17:14   \n",
       "2       0       A060001003  A060000001           1 2020-03-24 00:17:22   \n",
       "3       0       A060001004  A060000001           1 2020-03-24 00:17:29   \n",
       "4       0       A060001005  A060000001           1 2020-03-24 00:17:36   \n",
       "\n",
       "   KnowledgeTag  elapsed  \n",
       "0          7224      3.0  \n",
       "1          7225      8.0  \n",
       "2          7225      7.0  \n",
       "3          7225      7.0  \n",
       "4          7225     11.0  "
      ],
      "text/html": "<div>\n<style scoped>\n    .dataframe tbody tr th:only-of-type {\n        vertical-align: middle;\n    }\n\n    .dataframe tbody tr th {\n        vertical-align: top;\n    }\n\n    .dataframe thead th {\n        text-align: right;\n    }\n</style>\n<table border=\"1\" class=\"dataframe\">\n  <thead>\n    <tr style=\"text-align: right;\">\n      <th></th>\n      <th>userID</th>\n      <th>assessmentItemID</th>\n      <th>testId</th>\n      <th>answerCode</th>\n      <th>Timestamp</th>\n      <th>KnowledgeTag</th>\n      <th>elapsed</th>\n    </tr>\n  </thead>\n  <tbody>\n    <tr>\n      <th>0</th>\n      <td>0</td>\n      <td>A060001001</td>\n      <td>A060000001</td>\n      <td>1</td>\n      <td>2020-03-24 00:17:11</td>\n      <td>7224</td>\n      <td>3.0</td>\n    </tr>\n    <tr>\n      <th>1</th>\n      <td>0</td>\n      <td>A060001002</td>\n      <td>A060000001</td>\n      <td>1</td>\n      <td>2020-03-24 00:17:14</td>\n      <td>7225</td>\n      <td>8.0</td>\n    </tr>\n    <tr>\n      <th>2</th>\n      <td>0</td>\n      <td>A060001003</td>\n      <td>A060000001</td>\n      <td>1</td>\n      <td>2020-03-24 00:17:22</td>\n      <td>7225</td>\n      <td>7.0</td>\n    </tr>\n    <tr>\n      <th>3</th>\n      <td>0</td>\n      <td>A060001004</td>\n      <td>A060000001</td>\n      <td>1</td>\n      <td>2020-03-24 00:17:29</td>\n      <td>7225</td>\n      <td>7.0</td>\n    </tr>\n    <tr>\n      <th>4</th>\n      <td>0</td>\n      <td>A060001005</td>\n      <td>A060000001</td>\n      <td>1</td>\n      <td>2020-03-24 00:17:36</td>\n      <td>7225</td>\n      <td>11.0</td>\n    </tr>\n  </tbody>\n</table>\n</div>"
     },
     "metadata": {},
     "execution_count": 41
    }
   ],
   "source": [
    "train_df.head()"
   ]
  },
  {
   "source": [
    "## time delta 계산"
   ],
   "cell_type": "markdown",
   "metadata": {}
  },
  {
   "cell_type": "code",
   "execution_count": 4,
   "metadata": {},
   "outputs": [],
   "source": [
    "def get_timedelta(df):\n",
    "    # Daily mission 방식대로 계산하면 testId 경계 부분에서 마지막 문제 값이 너무 크게 계산되므로\n",
    "    # groupby 에서 testId 도 포함\n",
    "    diff = df.loc[:, ['userID', 'Timestamp', 'testId']].groupby(['userID','testId']).diff().shift(-1).fillna(pd.Timedelta(seconds=0))\n",
    "    diff = diff.fillna(pd.Timedelta(seconds=0))\n",
    "    diff = diff['Timestamp'].apply(lambda x: x.total_seconds())\n",
    "    return diff"
   ]
  },
  {
   "cell_type": "code",
   "execution_count": null,
   "metadata": {},
   "outputs": [],
   "source": [
    "# df['elapsed'] = diff\n",
    "\n",
    "# elapsed_answer = df.groupby('elapsed').agg({'answerCode': percentile, 'userID': 'count'})\n",
    "# elapsed_hist = elapsed_answer[elapsed_answer['userID'] > 100]"
   ]
  },
  {
   "cell_type": "code",
   "execution_count": 12,
   "metadata": {},
   "outputs": [],
   "source": [
    "diff = get_timedelta(test_df)"
   ]
  },
  {
   "cell_type": "code",
   "execution_count": 15,
   "metadata": {},
   "outputs": [
    {
     "output_type": "execute_result",
     "data": {
      "text/plain": [
       "0     3.0\n",
       "1     8.0\n",
       "2     7.0\n",
       "3     7.0\n",
       "4    11.0\n",
       "5     0.0\n",
       "6     7.0\n",
       "7    64.0\n",
       "8    15.0\n",
       "9    19.0\n",
       "Name: Timestamp, dtype: float64"
      ]
     },
     "metadata": {},
     "execution_count": 15
    }
   ],
   "source": [
    "diff.head(10)"
   ]
  },
  {
   "cell_type": "code",
   "execution_count": 49,
   "metadata": {},
   "outputs": [],
   "source": [
    "def add_timedelta(df):\n",
    "\n",
    "    curr_id = -1\n",
    "    curr_testid = -1\n",
    "    START, MID, END = 0, 1, 2\n",
    "\n",
    "    pos = [MID] * len(df)\n",
    "    sol_time = [0] * len(df)\n",
    "    prev_time = -1\n",
    "\n",
    "    for i in tqdm(range(len(df))):\n",
    "        # 새로운 user -> 이전 user 의 마지막 시험지 마지막 문항 처리 필요\n",
    "        if df.iloc[i]['userID'] != curr_id:\n",
    "            curr_id = df.iloc[i]['userID']\n",
    "            curr_testid = df.iloc[i]['testId']\n",
    "            prev_time = df.iloc[i]['Timestamp']\n",
    "            if i > 0:\n",
    "                pos[i-1] = END\n",
    "            if i > 1:\n",
    "                sol_time[i-1] = sol_time[i-2]\n",
    "            pos[i] = START\n",
    "        # 같은 user, 새로운 시험지 -> 같은 user 의 지난 시험지 마지막 문항 처리 필요\n",
    "        elif curr_testid != df.iloc[i]['testId']:\n",
    "            curr_testid = df.iloc[i]['testId']\n",
    "            prev_time = df.iloc[i]['Timestamp']\n",
    "            if i > 0:\n",
    "                pos[i-1] = END\n",
    "            if i > 1:\n",
    "                sol_time[i-1] = sol_time[i-2]\n",
    "            pos[i] = START\n",
    "        # 같은 user, 같은 시험지 -> 이번 문항의 timestamp가 이전 문항을 풀기 완료한 시점으로 친다. \n",
    "        else:\n",
    "            sol_time[i-1] = (df.iloc[i]['Timestamp'] - prev_time).total_seconds()\n",
    "            prev_time = df.iloc[i]['Timestamp']\n",
    "\n",
    "    df['pos'] = pos\n",
    "    df['sol_seconds'] = sol_time"
   ]
  },
  {
   "cell_type": "code",
   "execution_count": 17,
   "metadata": {},
   "outputs": [],
   "source": [
    "# with open('/opt/ml/input/data/train_dataset/train_timedelta.bin', 'wb') as f:\n",
    "#     pickle.dump(train_df, f)\n",
    "\n",
    "with open('/opt/ml/input/data/train_dataset/train_timedelta.bin', 'rb') as f:\n",
    "    train_df = pickle.load(f)"
   ]
  },
  {
   "source": [
    "## 결측치 파악"
   ],
   "cell_type": "markdown",
   "metadata": {}
  },
  {
   "cell_type": "code",
   "execution_count": 20,
   "metadata": {},
   "outputs": [
    {
     "output_type": "execute_result",
     "data": {
      "text/plain": [
       "                  assessmentItemID        \n",
       "                             count nunique\n",
       "userID testId                             \n",
       "0      A020000172                6       6\n",
       "       A020000174                5       5\n",
       "       A020000181                6       6\n",
       "       A020000182                5       5\n",
       "       A020000183                7       7"
      ],
      "text/html": "<div>\n<style scoped>\n    .dataframe tbody tr th:only-of-type {\n        vertical-align: middle;\n    }\n\n    .dataframe tbody tr th {\n        vertical-align: top;\n    }\n\n    .dataframe thead tr th {\n        text-align: left;\n    }\n\n    .dataframe thead tr:last-of-type th {\n        text-align: right;\n    }\n</style>\n<table border=\"1\" class=\"dataframe\">\n  <thead>\n    <tr>\n      <th></th>\n      <th></th>\n      <th colspan=\"2\" halign=\"left\">assessmentItemID</th>\n    </tr>\n    <tr>\n      <th></th>\n      <th></th>\n      <th>count</th>\n      <th>nunique</th>\n    </tr>\n    <tr>\n      <th>userID</th>\n      <th>testId</th>\n      <th></th>\n      <th></th>\n    </tr>\n  </thead>\n  <tbody>\n    <tr>\n      <th rowspan=\"5\" valign=\"top\">0</th>\n      <th>A020000172</th>\n      <td>6</td>\n      <td>6</td>\n    </tr>\n    <tr>\n      <th>A020000174</th>\n      <td>5</td>\n      <td>5</td>\n    </tr>\n    <tr>\n      <th>A020000181</th>\n      <td>6</td>\n      <td>6</td>\n    </tr>\n    <tr>\n      <th>A020000182</th>\n      <td>5</td>\n      <td>5</td>\n    </tr>\n    <tr>\n      <th>A020000183</th>\n      <td>7</td>\n      <td>7</td>\n    </tr>\n  </tbody>\n</table>\n</div>"
     },
     "metadata": {},
     "execution_count": 20
    }
   ],
   "source": [
    "stu_groupby = train_df.groupby(['userID', 'testId']).agg({\n",
    "    'assessmentItemID': ['count', pd.Series.nunique],\n",
    "})\n",
    "\n",
    "stu_groupby.head()"
   ]
  },
  {
   "cell_type": "code",
   "execution_count": 24,
   "metadata": {},
   "outputs": [
    {
     "output_type": "execute_result",
     "data": {
      "text/plain": [
       "                  assessmentItemID        \n",
       "                             count nunique\n",
       "userID testId                             \n",
       "1      A040000155               12       6\n",
       "       A040000156               12       6\n",
       "       A040000157               12       6\n",
       "       A040000158               12       6\n",
       "       A040000160               10       5"
      ],
      "text/html": "<div>\n<style scoped>\n    .dataframe tbody tr th:only-of-type {\n        vertical-align: middle;\n    }\n\n    .dataframe tbody tr th {\n        vertical-align: top;\n    }\n\n    .dataframe thead tr th {\n        text-align: left;\n    }\n\n    .dataframe thead tr:last-of-type th {\n        text-align: right;\n    }\n</style>\n<table border=\"1\" class=\"dataframe\">\n  <thead>\n    <tr>\n      <th></th>\n      <th></th>\n      <th colspan=\"2\" halign=\"left\">assessmentItemID</th>\n    </tr>\n    <tr>\n      <th></th>\n      <th></th>\n      <th>count</th>\n      <th>nunique</th>\n    </tr>\n    <tr>\n      <th>userID</th>\n      <th>testId</th>\n      <th></th>\n      <th></th>\n    </tr>\n  </thead>\n  <tbody>\n    <tr>\n      <th rowspan=\"5\" valign=\"top\">1</th>\n      <th>A040000155</th>\n      <td>12</td>\n      <td>6</td>\n    </tr>\n    <tr>\n      <th>A040000156</th>\n      <td>12</td>\n      <td>6</td>\n    </tr>\n    <tr>\n      <th>A040000157</th>\n      <td>12</td>\n      <td>6</td>\n    </tr>\n    <tr>\n      <th>A040000158</th>\n      <td>12</td>\n      <td>6</td>\n    </tr>\n    <tr>\n      <th>A040000160</th>\n      <td>10</td>\n      <td>5</td>\n    </tr>\n  </tbody>\n</table>\n</div>"
     },
     "metadata": {},
     "execution_count": 24
    }
   ],
   "source": [
    "multi_sol = stu_groupby[stu_groupby['assessmentItemID']['count'] != stu_groupby['assessmentItemID']['nunique']]\n",
    "multi_sol.head()"
   ]
  },
  {
   "cell_type": "code",
   "execution_count": 28,
   "metadata": {},
   "outputs": [
    {
     "output_type": "stream",
     "name": "stdout",
     "text": [
      "22733\n"
     ]
    },
    {
     "output_type": "execute_result",
     "data": {
      "text/plain": [
       "356    2349.0\n",
       "619    3998.0\n",
       "752    1688.0\n",
       "762    2171.0\n",
       "775    3259.0\n",
       "Name: Timestamp, dtype: float64"
      ]
     },
     "metadata": {},
     "execution_count": 28
    }
   ],
   "source": [
    "threshold_minutes = 20\n",
    "\n",
    "too_long = diff[diff > threshold_minutes * 60]\n",
    "print(len(too_long))\n",
    "too_long.head()"
   ]
  },
  {
   "cell_type": "code",
   "execution_count": 29,
   "metadata": {},
   "outputs": [],
   "source": [
    "diff[diff > threshold_minutes * 60] = 0"
   ]
  },
  {
   "cell_type": "code",
   "execution_count": 30,
   "metadata": {},
   "outputs": [
    {
     "output_type": "execute_result",
     "data": {
      "text/plain": [
       "350     11.0\n",
       "351     99.0\n",
       "352     43.0\n",
       "353      0.0\n",
       "354    111.0\n",
       "355     68.0\n",
       "356      0.0\n",
       "357     22.0\n",
       "358     21.0\n",
       "359     10.0\n",
       "Name: Timestamp, dtype: float64"
      ]
     },
     "metadata": {},
     "execution_count": 30
    }
   ],
   "source": [
    "diff[350:360]"
   ]
  },
  {
   "cell_type": "code",
   "execution_count": 40,
   "metadata": {},
   "outputs": [
    {
     "output_type": "execute_result",
     "data": {
      "text/plain": [
       "<AxesSubplot:ylabel='Frequency'>"
      ]
     },
     "metadata": {},
     "execution_count": 40
    },
    {
     "output_type": "display_data",
     "data": {
      "text/plain": "<Figure size 432x288 with 1 Axes>",
      "image/svg+xml": "<?xml version=\"1.0\" encoding=\"utf-8\" standalone=\"no\"?>\n<!DOCTYPE svg PUBLIC \"-//W3C//DTD SVG 1.1//EN\"\n  \"http://www.w3.org/Graphics/SVG/1.1/DTD/svg11.dtd\">\n<svg height=\"259.116562pt\" version=\"1.1\" viewBox=\"0 0 392.14375 259.116562\" width=\"392.14375pt\" xmlns=\"http://www.w3.org/2000/svg\" xmlns:xlink=\"http://www.w3.org/1999/xlink\">\n <metadata>\n  <rdf:RDF xmlns:cc=\"http://creativecommons.org/ns#\" xmlns:dc=\"http://purl.org/dc/elements/1.1/\" xmlns:rdf=\"http://www.w3.org/1999/02/22-rdf-syntax-ns#\">\n   <cc:Work>\n    <dc:type rdf:resource=\"http://purl.org/dc/dcmitype/StillImage\"/>\n    <dc:date>2021-06-01T04:52:54.577601</dc:date>\n    <dc:format>image/svg+xml</dc:format>\n    <dc:creator>\n     <cc:Agent>\n      <dc:title>Matplotlib v3.4.2, https://matplotlib.org/</dc:title>\n     </cc:Agent>\n    </dc:creator>\n   </cc:Work>\n  </rdf:RDF>\n </metadata>\n <defs>\n  <style type=\"text/css\">*{stroke-linecap:butt;stroke-linejoin:round;}</style>\n </defs>\n <g id=\"figure_1\">\n  <g id=\"patch_1\">\n   <path d=\"M 0 259.116562 \nL 392.14375 259.116562 \nL 392.14375 0 \nL 0 0 \nz\n\" style=\"fill:none;\"/>\n  </g>\n  <g id=\"axes_1\">\n   <g id=\"patch_2\">\n    <path d=\"M 50.14375 235.238437 \nL 384.94375 235.238437 \nL 384.94375 17.798437 \nL 50.14375 17.798437 \nz\n\" style=\"fill:#ffffff;\"/>\n   </g>\n   <g id=\"patch_3\">\n    <path clip-path=\"url(#p8af4893487)\" d=\"M 65.361932 235.238437 \nL 95.798295 235.238437 \nL 95.798295 28.152723 \nL 65.361932 28.152723 \nz\n\" style=\"fill:#1f77b4;\"/>\n   </g>\n   <g id=\"patch_4\">\n    <path clip-path=\"url(#p8af4893487)\" d=\"M 95.798295 235.238437 \nL 126.234659 235.238437 \nL 126.234659 220.625983 \nL 95.798295 220.625983 \nz\n\" style=\"fill:#1f77b4;\"/>\n   </g>\n   <g id=\"patch_5\">\n    <path clip-path=\"url(#p8af4893487)\" d=\"M 126.234659 235.238437 \nL 156.671023 235.238437 \nL 156.671023 230.88631 \nL 126.234659 230.88631 \nz\n\" style=\"fill:#1f77b4;\"/>\n   </g>\n   <g id=\"patch_6\">\n    <path clip-path=\"url(#p8af4893487)\" d=\"M 156.671023 235.238437 \nL 187.107386 235.238437 \nL 187.107386 233.274472 \nL 156.671023 233.274472 \nz\n\" style=\"fill:#1f77b4;\"/>\n   </g>\n   <g id=\"patch_7\">\n    <path clip-path=\"url(#p8af4893487)\" d=\"M 187.107386 235.238437 \nL 217.54375 235.238437 \nL 217.54375 234.160162 \nL 187.107386 234.160162 \nz\n\" style=\"fill:#1f77b4;\"/>\n   </g>\n   <g id=\"patch_8\">\n    <path clip-path=\"url(#p8af4893487)\" d=\"M 217.54375 235.238437 \nL 247.980114 235.238437 \nL 247.980114 234.5704 \nL 217.54375 234.5704 \nz\n\" style=\"fill:#1f77b4;\"/>\n   </g>\n   <g id=\"patch_9\">\n    <path clip-path=\"url(#p8af4893487)\" d=\"M 247.980114 235.238437 \nL 278.416477 235.238437 \nL 278.416477 234.788969 \nL 247.980114 234.788969 \nz\n\" style=\"fill:#1f77b4;\"/>\n   </g>\n   <g id=\"patch_10\">\n    <path clip-path=\"url(#p8af4893487)\" d=\"M 278.416477 235.238437 \nL 308.852841 235.238437 \nL 308.852841 234.916646 \nL 278.416477 234.916646 \nz\n\" style=\"fill:#1f77b4;\"/>\n   </g>\n   <g id=\"patch_11\">\n    <path clip-path=\"url(#p8af4893487)\" d=\"M 308.852841 235.238437 \nL 339.289205 235.238437 \nL 339.289205 234.999591 \nL 308.852841 234.999591 \nz\n\" style=\"fill:#1f77b4;\"/>\n   </g>\n   <g id=\"patch_12\">\n    <path clip-path=\"url(#p8af4893487)\" d=\"M 339.289205 235.238437 \nL 369.725568 235.238437 \nL 369.725568 235.050539 \nL 339.289205 235.050539 \nz\n\" style=\"fill:#1f77b4;\"/>\n   </g>\n   <g id=\"matplotlib.axis_1\">\n    <g id=\"xtick_1\">\n     <g id=\"line2d_1\">\n      <defs>\n       <path d=\"M 0 0 \nL 0 3.5 \n\" id=\"mff27cd7189\" style=\"stroke:#000000;stroke-width:0.8;\"/>\n      </defs>\n      <g>\n       <use style=\"stroke:#000000;stroke-width:0.8;\" x=\"65.361932\" xlink:href=\"#mff27cd7189\" y=\"235.238437\"/>\n      </g>\n     </g>\n     <g id=\"text_1\">\n      <!-- 0 -->\n      <g transform=\"translate(62.180682 249.836875)scale(0.1 -0.1)\">\n       <defs>\n        <path d=\"M 2034 4250 \nQ 1547 4250 1301 3770 \nQ 1056 3291 1056 2328 \nQ 1056 1369 1301 889 \nQ 1547 409 2034 409 \nQ 2525 409 2770 889 \nQ 3016 1369 3016 2328 \nQ 3016 3291 2770 3770 \nQ 2525 4250 2034 4250 \nz\nM 2034 4750 \nQ 2819 4750 3233 4129 \nQ 3647 3509 3647 2328 \nQ 3647 1150 3233 529 \nQ 2819 -91 2034 -91 \nQ 1250 -91 836 529 \nQ 422 1150 422 2328 \nQ 422 3509 836 4129 \nQ 1250 4750 2034 4750 \nz\n\" id=\"DejaVuSans-30\" transform=\"scale(0.015625)\"/>\n       </defs>\n       <use xlink:href=\"#DejaVuSans-30\"/>\n      </g>\n     </g>\n    </g>\n    <g id=\"xtick_2\">\n     <g id=\"line2d_2\">\n      <g>\n       <use style=\"stroke:#000000;stroke-width:0.8;\" x=\"116.089205\" xlink:href=\"#mff27cd7189\" y=\"235.238437\"/>\n      </g>\n     </g>\n     <g id=\"text_2\">\n      <!-- 200 -->\n      <g transform=\"translate(106.545455 249.836875)scale(0.1 -0.1)\">\n       <defs>\n        <path d=\"M 1228 531 \nL 3431 531 \nL 3431 0 \nL 469 0 \nL 469 531 \nQ 828 903 1448 1529 \nQ 2069 2156 2228 2338 \nQ 2531 2678 2651 2914 \nQ 2772 3150 2772 3378 \nQ 2772 3750 2511 3984 \nQ 2250 4219 1831 4219 \nQ 1534 4219 1204 4116 \nQ 875 4013 500 3803 \nL 500 4441 \nQ 881 4594 1212 4672 \nQ 1544 4750 1819 4750 \nQ 2544 4750 2975 4387 \nQ 3406 4025 3406 3419 \nQ 3406 3131 3298 2873 \nQ 3191 2616 2906 2266 \nQ 2828 2175 2409 1742 \nQ 1991 1309 1228 531 \nz\n\" id=\"DejaVuSans-32\" transform=\"scale(0.015625)\"/>\n       </defs>\n       <use xlink:href=\"#DejaVuSans-32\"/>\n       <use x=\"63.623047\" xlink:href=\"#DejaVuSans-30\"/>\n       <use x=\"127.246094\" xlink:href=\"#DejaVuSans-30\"/>\n      </g>\n     </g>\n    </g>\n    <g id=\"xtick_3\">\n     <g id=\"line2d_3\">\n      <g>\n       <use style=\"stroke:#000000;stroke-width:0.8;\" x=\"166.816477\" xlink:href=\"#mff27cd7189\" y=\"235.238437\"/>\n      </g>\n     </g>\n     <g id=\"text_3\">\n      <!-- 400 -->\n      <g transform=\"translate(157.272727 249.836875)scale(0.1 -0.1)\">\n       <defs>\n        <path d=\"M 2419 4116 \nL 825 1625 \nL 2419 1625 \nL 2419 4116 \nz\nM 2253 4666 \nL 3047 4666 \nL 3047 1625 \nL 3713 1625 \nL 3713 1100 \nL 3047 1100 \nL 3047 0 \nL 2419 0 \nL 2419 1100 \nL 313 1100 \nL 313 1709 \nL 2253 4666 \nz\n\" id=\"DejaVuSans-34\" transform=\"scale(0.015625)\"/>\n       </defs>\n       <use xlink:href=\"#DejaVuSans-34\"/>\n       <use x=\"63.623047\" xlink:href=\"#DejaVuSans-30\"/>\n       <use x=\"127.246094\" xlink:href=\"#DejaVuSans-30\"/>\n      </g>\n     </g>\n    </g>\n    <g id=\"xtick_4\">\n     <g id=\"line2d_4\">\n      <g>\n       <use style=\"stroke:#000000;stroke-width:0.8;\" x=\"217.54375\" xlink:href=\"#mff27cd7189\" y=\"235.238437\"/>\n      </g>\n     </g>\n     <g id=\"text_4\">\n      <!-- 600 -->\n      <g transform=\"translate(208 249.836875)scale(0.1 -0.1)\">\n       <defs>\n        <path d=\"M 2113 2584 \nQ 1688 2584 1439 2293 \nQ 1191 2003 1191 1497 \nQ 1191 994 1439 701 \nQ 1688 409 2113 409 \nQ 2538 409 2786 701 \nQ 3034 994 3034 1497 \nQ 3034 2003 2786 2293 \nQ 2538 2584 2113 2584 \nz\nM 3366 4563 \nL 3366 3988 \nQ 3128 4100 2886 4159 \nQ 2644 4219 2406 4219 \nQ 1781 4219 1451 3797 \nQ 1122 3375 1075 2522 \nQ 1259 2794 1537 2939 \nQ 1816 3084 2150 3084 \nQ 2853 3084 3261 2657 \nQ 3669 2231 3669 1497 \nQ 3669 778 3244 343 \nQ 2819 -91 2113 -91 \nQ 1303 -91 875 529 \nQ 447 1150 447 2328 \nQ 447 3434 972 4092 \nQ 1497 4750 2381 4750 \nQ 2619 4750 2861 4703 \nQ 3103 4656 3366 4563 \nz\n\" id=\"DejaVuSans-36\" transform=\"scale(0.015625)\"/>\n       </defs>\n       <use xlink:href=\"#DejaVuSans-36\"/>\n       <use x=\"63.623047\" xlink:href=\"#DejaVuSans-30\"/>\n       <use x=\"127.246094\" xlink:href=\"#DejaVuSans-30\"/>\n      </g>\n     </g>\n    </g>\n    <g id=\"xtick_5\">\n     <g id=\"line2d_5\">\n      <g>\n       <use style=\"stroke:#000000;stroke-width:0.8;\" x=\"268.271023\" xlink:href=\"#mff27cd7189\" y=\"235.238437\"/>\n      </g>\n     </g>\n     <g id=\"text_5\">\n      <!-- 800 -->\n      <g transform=\"translate(258.727273 249.836875)scale(0.1 -0.1)\">\n       <defs>\n        <path d=\"M 2034 2216 \nQ 1584 2216 1326 1975 \nQ 1069 1734 1069 1313 \nQ 1069 891 1326 650 \nQ 1584 409 2034 409 \nQ 2484 409 2743 651 \nQ 3003 894 3003 1313 \nQ 3003 1734 2745 1975 \nQ 2488 2216 2034 2216 \nz\nM 1403 2484 \nQ 997 2584 770 2862 \nQ 544 3141 544 3541 \nQ 544 4100 942 4425 \nQ 1341 4750 2034 4750 \nQ 2731 4750 3128 4425 \nQ 3525 4100 3525 3541 \nQ 3525 3141 3298 2862 \nQ 3072 2584 2669 2484 \nQ 3125 2378 3379 2068 \nQ 3634 1759 3634 1313 \nQ 3634 634 3220 271 \nQ 2806 -91 2034 -91 \nQ 1263 -91 848 271 \nQ 434 634 434 1313 \nQ 434 1759 690 2068 \nQ 947 2378 1403 2484 \nz\nM 1172 3481 \nQ 1172 3119 1398 2916 \nQ 1625 2713 2034 2713 \nQ 2441 2713 2670 2916 \nQ 2900 3119 2900 3481 \nQ 2900 3844 2670 4047 \nQ 2441 4250 2034 4250 \nQ 1625 4250 1398 4047 \nQ 1172 3844 1172 3481 \nz\n\" id=\"DejaVuSans-38\" transform=\"scale(0.015625)\"/>\n       </defs>\n       <use xlink:href=\"#DejaVuSans-38\"/>\n       <use x=\"63.623047\" xlink:href=\"#DejaVuSans-30\"/>\n       <use x=\"127.246094\" xlink:href=\"#DejaVuSans-30\"/>\n      </g>\n     </g>\n    </g>\n    <g id=\"xtick_6\">\n     <g id=\"line2d_6\">\n      <g>\n       <use style=\"stroke:#000000;stroke-width:0.8;\" x=\"318.998295\" xlink:href=\"#mff27cd7189\" y=\"235.238437\"/>\n      </g>\n     </g>\n     <g id=\"text_6\">\n      <!-- 1000 -->\n      <g transform=\"translate(306.273295 249.836875)scale(0.1 -0.1)\">\n       <defs>\n        <path d=\"M 794 531 \nL 1825 531 \nL 1825 4091 \nL 703 3866 \nL 703 4441 \nL 1819 4666 \nL 2450 4666 \nL 2450 531 \nL 3481 531 \nL 3481 0 \nL 794 0 \nL 794 531 \nz\n\" id=\"DejaVuSans-31\" transform=\"scale(0.015625)\"/>\n       </defs>\n       <use xlink:href=\"#DejaVuSans-31\"/>\n       <use x=\"63.623047\" xlink:href=\"#DejaVuSans-30\"/>\n       <use x=\"127.246094\" xlink:href=\"#DejaVuSans-30\"/>\n       <use x=\"190.869141\" xlink:href=\"#DejaVuSans-30\"/>\n      </g>\n     </g>\n    </g>\n    <g id=\"xtick_7\">\n     <g id=\"line2d_7\">\n      <g>\n       <use style=\"stroke:#000000;stroke-width:0.8;\" x=\"369.725568\" xlink:href=\"#mff27cd7189\" y=\"235.238437\"/>\n      </g>\n     </g>\n     <g id=\"text_7\">\n      <!-- 1200 -->\n      <g transform=\"translate(357.000568 249.836875)scale(0.1 -0.1)\">\n       <use xlink:href=\"#DejaVuSans-31\"/>\n       <use x=\"63.623047\" xlink:href=\"#DejaVuSans-32\"/>\n       <use x=\"127.246094\" xlink:href=\"#DejaVuSans-30\"/>\n       <use x=\"190.869141\" xlink:href=\"#DejaVuSans-30\"/>\n      </g>\n     </g>\n    </g>\n   </g>\n   <g id=\"matplotlib.axis_2\">\n    <g id=\"ytick_1\">\n     <g id=\"line2d_8\">\n      <defs>\n       <path d=\"M 0 0 \nL -3.5 0 \n\" id=\"mc2832ea2bb\" style=\"stroke:#000000;stroke-width:0.8;\"/>\n      </defs>\n      <g>\n       <use style=\"stroke:#000000;stroke-width:0.8;\" x=\"50.14375\" xlink:href=\"#mc2832ea2bb\" y=\"235.238437\"/>\n      </g>\n     </g>\n     <g id=\"text_8\">\n      <!-- 0.00 -->\n      <g transform=\"translate(20.878125 239.037656)scale(0.1 -0.1)\">\n       <defs>\n        <path d=\"M 684 794 \nL 1344 794 \nL 1344 0 \nL 684 0 \nL 684 794 \nz\n\" id=\"DejaVuSans-2e\" transform=\"scale(0.015625)\"/>\n       </defs>\n       <use xlink:href=\"#DejaVuSans-30\"/>\n       <use x=\"63.623047\" xlink:href=\"#DejaVuSans-2e\"/>\n       <use x=\"95.410156\" xlink:href=\"#DejaVuSans-30\"/>\n       <use x=\"159.033203\" xlink:href=\"#DejaVuSans-30\"/>\n      </g>\n     </g>\n    </g>\n    <g id=\"ytick_2\">\n     <g id=\"line2d_9\">\n      <g>\n       <use style=\"stroke:#000000;stroke-width:0.8;\" x=\"50.14375\" xlink:href=\"#mc2832ea2bb\" y=\"209.764158\"/>\n      </g>\n     </g>\n     <g id=\"text_9\">\n      <!-- 0.25 -->\n      <g transform=\"translate(20.878125 213.563377)scale(0.1 -0.1)\">\n       <defs>\n        <path d=\"M 691 4666 \nL 3169 4666 \nL 3169 4134 \nL 1269 4134 \nL 1269 2991 \nQ 1406 3038 1543 3061 \nQ 1681 3084 1819 3084 \nQ 2600 3084 3056 2656 \nQ 3513 2228 3513 1497 \nQ 3513 744 3044 326 \nQ 2575 -91 1722 -91 \nQ 1428 -91 1123 -41 \nQ 819 9 494 109 \nL 494 744 \nQ 775 591 1075 516 \nQ 1375 441 1709 441 \nQ 2250 441 2565 725 \nQ 2881 1009 2881 1497 \nQ 2881 1984 2565 2268 \nQ 2250 2553 1709 2553 \nQ 1456 2553 1204 2497 \nQ 953 2441 691 2322 \nL 691 4666 \nz\n\" id=\"DejaVuSans-35\" transform=\"scale(0.015625)\"/>\n       </defs>\n       <use xlink:href=\"#DejaVuSans-30\"/>\n       <use x=\"63.623047\" xlink:href=\"#DejaVuSans-2e\"/>\n       <use x=\"95.410156\" xlink:href=\"#DejaVuSans-32\"/>\n       <use x=\"159.033203\" xlink:href=\"#DejaVuSans-35\"/>\n      </g>\n     </g>\n    </g>\n    <g id=\"ytick_3\">\n     <g id=\"line2d_10\">\n      <g>\n       <use style=\"stroke:#000000;stroke-width:0.8;\" x=\"50.14375\" xlink:href=\"#mc2832ea2bb\" y=\"184.289879\"/>\n      </g>\n     </g>\n     <g id=\"text_10\">\n      <!-- 0.50 -->\n      <g transform=\"translate(20.878125 188.089098)scale(0.1 -0.1)\">\n       <use xlink:href=\"#DejaVuSans-30\"/>\n       <use x=\"63.623047\" xlink:href=\"#DejaVuSans-2e\"/>\n       <use x=\"95.410156\" xlink:href=\"#DejaVuSans-35\"/>\n       <use x=\"159.033203\" xlink:href=\"#DejaVuSans-30\"/>\n      </g>\n     </g>\n    </g>\n    <g id=\"ytick_4\">\n     <g id=\"line2d_11\">\n      <g>\n       <use style=\"stroke:#000000;stroke-width:0.8;\" x=\"50.14375\" xlink:href=\"#mc2832ea2bb\" y=\"158.8156\"/>\n      </g>\n     </g>\n     <g id=\"text_11\">\n      <!-- 0.75 -->\n      <g transform=\"translate(20.878125 162.614819)scale(0.1 -0.1)\">\n       <defs>\n        <path d=\"M 525 4666 \nL 3525 4666 \nL 3525 4397 \nL 1831 0 \nL 1172 0 \nL 2766 4134 \nL 525 4134 \nL 525 4666 \nz\n\" id=\"DejaVuSans-37\" transform=\"scale(0.015625)\"/>\n       </defs>\n       <use xlink:href=\"#DejaVuSans-30\"/>\n       <use x=\"63.623047\" xlink:href=\"#DejaVuSans-2e\"/>\n       <use x=\"95.410156\" xlink:href=\"#DejaVuSans-37\"/>\n       <use x=\"159.033203\" xlink:href=\"#DejaVuSans-35\"/>\n      </g>\n     </g>\n    </g>\n    <g id=\"ytick_5\">\n     <g id=\"line2d_12\">\n      <g>\n       <use style=\"stroke:#000000;stroke-width:0.8;\" x=\"50.14375\" xlink:href=\"#mc2832ea2bb\" y=\"133.341321\"/>\n      </g>\n     </g>\n     <g id=\"text_12\">\n      <!-- 1.00 -->\n      <g transform=\"translate(20.878125 137.140539)scale(0.1 -0.1)\">\n       <use xlink:href=\"#DejaVuSans-31\"/>\n       <use x=\"63.623047\" xlink:href=\"#DejaVuSans-2e\"/>\n       <use x=\"95.410156\" xlink:href=\"#DejaVuSans-30\"/>\n       <use x=\"159.033203\" xlink:href=\"#DejaVuSans-30\"/>\n      </g>\n     </g>\n    </g>\n    <g id=\"ytick_6\">\n     <g id=\"line2d_13\">\n      <g>\n       <use style=\"stroke:#000000;stroke-width:0.8;\" x=\"50.14375\" xlink:href=\"#mc2832ea2bb\" y=\"107.867041\"/>\n      </g>\n     </g>\n     <g id=\"text_13\">\n      <!-- 1.25 -->\n      <g transform=\"translate(20.878125 111.66626)scale(0.1 -0.1)\">\n       <use xlink:href=\"#DejaVuSans-31\"/>\n       <use x=\"63.623047\" xlink:href=\"#DejaVuSans-2e\"/>\n       <use x=\"95.410156\" xlink:href=\"#DejaVuSans-32\"/>\n       <use x=\"159.033203\" xlink:href=\"#DejaVuSans-35\"/>\n      </g>\n     </g>\n    </g>\n    <g id=\"ytick_7\">\n     <g id=\"line2d_14\">\n      <g>\n       <use style=\"stroke:#000000;stroke-width:0.8;\" x=\"50.14375\" xlink:href=\"#mc2832ea2bb\" y=\"82.392762\"/>\n      </g>\n     </g>\n     <g id=\"text_14\">\n      <!-- 1.50 -->\n      <g transform=\"translate(20.878125 86.191981)scale(0.1 -0.1)\">\n       <use xlink:href=\"#DejaVuSans-31\"/>\n       <use x=\"63.623047\" xlink:href=\"#DejaVuSans-2e\"/>\n       <use x=\"95.410156\" xlink:href=\"#DejaVuSans-35\"/>\n       <use x=\"159.033203\" xlink:href=\"#DejaVuSans-30\"/>\n      </g>\n     </g>\n    </g>\n    <g id=\"ytick_8\">\n     <g id=\"line2d_15\">\n      <g>\n       <use style=\"stroke:#000000;stroke-width:0.8;\" x=\"50.14375\" xlink:href=\"#mc2832ea2bb\" y=\"56.918483\"/>\n      </g>\n     </g>\n     <g id=\"text_15\">\n      <!-- 1.75 -->\n      <g transform=\"translate(20.878125 60.717702)scale(0.1 -0.1)\">\n       <use xlink:href=\"#DejaVuSans-31\"/>\n       <use x=\"63.623047\" xlink:href=\"#DejaVuSans-2e\"/>\n       <use x=\"95.410156\" xlink:href=\"#DejaVuSans-37\"/>\n       <use x=\"159.033203\" xlink:href=\"#DejaVuSans-35\"/>\n      </g>\n     </g>\n    </g>\n    <g id=\"ytick_9\">\n     <g id=\"line2d_16\">\n      <g>\n       <use style=\"stroke:#000000;stroke-width:0.8;\" x=\"50.14375\" xlink:href=\"#mc2832ea2bb\" y=\"31.444204\"/>\n      </g>\n     </g>\n     <g id=\"text_16\">\n      <!-- 2.00 -->\n      <g transform=\"translate(20.878125 35.243423)scale(0.1 -0.1)\">\n       <use xlink:href=\"#DejaVuSans-32\"/>\n       <use x=\"63.623047\" xlink:href=\"#DejaVuSans-2e\"/>\n       <use x=\"95.410156\" xlink:href=\"#DejaVuSans-30\"/>\n       <use x=\"159.033203\" xlink:href=\"#DejaVuSans-30\"/>\n      </g>\n     </g>\n    </g>\n    <g id=\"text_17\">\n     <!-- Frequency -->\n     <g transform=\"translate(14.798438 152.348125)rotate(-90)scale(0.1 -0.1)\">\n      <defs>\n       <path d=\"M 628 4666 \nL 3309 4666 \nL 3309 4134 \nL 1259 4134 \nL 1259 2759 \nL 3109 2759 \nL 3109 2228 \nL 1259 2228 \nL 1259 0 \nL 628 0 \nL 628 4666 \nz\n\" id=\"DejaVuSans-46\" transform=\"scale(0.015625)\"/>\n       <path d=\"M 2631 2963 \nQ 2534 3019 2420 3045 \nQ 2306 3072 2169 3072 \nQ 1681 3072 1420 2755 \nQ 1159 2438 1159 1844 \nL 1159 0 \nL 581 0 \nL 581 3500 \nL 1159 3500 \nL 1159 2956 \nQ 1341 3275 1631 3429 \nQ 1922 3584 2338 3584 \nQ 2397 3584 2469 3576 \nQ 2541 3569 2628 3553 \nL 2631 2963 \nz\n\" id=\"DejaVuSans-72\" transform=\"scale(0.015625)\"/>\n       <path d=\"M 3597 1894 \nL 3597 1613 \nL 953 1613 \nQ 991 1019 1311 708 \nQ 1631 397 2203 397 \nQ 2534 397 2845 478 \nQ 3156 559 3463 722 \nL 3463 178 \nQ 3153 47 2828 -22 \nQ 2503 -91 2169 -91 \nQ 1331 -91 842 396 \nQ 353 884 353 1716 \nQ 353 2575 817 3079 \nQ 1281 3584 2069 3584 \nQ 2775 3584 3186 3129 \nQ 3597 2675 3597 1894 \nz\nM 3022 2063 \nQ 3016 2534 2758 2815 \nQ 2500 3097 2075 3097 \nQ 1594 3097 1305 2825 \nQ 1016 2553 972 2059 \nL 3022 2063 \nz\n\" id=\"DejaVuSans-65\" transform=\"scale(0.015625)\"/>\n       <path d=\"M 947 1747 \nQ 947 1113 1208 752 \nQ 1469 391 1925 391 \nQ 2381 391 2643 752 \nQ 2906 1113 2906 1747 \nQ 2906 2381 2643 2742 \nQ 2381 3103 1925 3103 \nQ 1469 3103 1208 2742 \nQ 947 2381 947 1747 \nz\nM 2906 525 \nQ 2725 213 2448 61 \nQ 2172 -91 1784 -91 \nQ 1150 -91 751 415 \nQ 353 922 353 1747 \nQ 353 2572 751 3078 \nQ 1150 3584 1784 3584 \nQ 2172 3584 2448 3432 \nQ 2725 3281 2906 2969 \nL 2906 3500 \nL 3481 3500 \nL 3481 -1331 \nL 2906 -1331 \nL 2906 525 \nz\n\" id=\"DejaVuSans-71\" transform=\"scale(0.015625)\"/>\n       <path d=\"M 544 1381 \nL 544 3500 \nL 1119 3500 \nL 1119 1403 \nQ 1119 906 1312 657 \nQ 1506 409 1894 409 \nQ 2359 409 2629 706 \nQ 2900 1003 2900 1516 \nL 2900 3500 \nL 3475 3500 \nL 3475 0 \nL 2900 0 \nL 2900 538 \nQ 2691 219 2414 64 \nQ 2138 -91 1772 -91 \nQ 1169 -91 856 284 \nQ 544 659 544 1381 \nz\nM 1991 3584 \nL 1991 3584 \nz\n\" id=\"DejaVuSans-75\" transform=\"scale(0.015625)\"/>\n       <path d=\"M 3513 2113 \nL 3513 0 \nL 2938 0 \nL 2938 2094 \nQ 2938 2591 2744 2837 \nQ 2550 3084 2163 3084 \nQ 1697 3084 1428 2787 \nQ 1159 2491 1159 1978 \nL 1159 0 \nL 581 0 \nL 581 3500 \nL 1159 3500 \nL 1159 2956 \nQ 1366 3272 1645 3428 \nQ 1925 3584 2291 3584 \nQ 2894 3584 3203 3211 \nQ 3513 2838 3513 2113 \nz\n\" id=\"DejaVuSans-6e\" transform=\"scale(0.015625)\"/>\n       <path d=\"M 3122 3366 \nL 3122 2828 \nQ 2878 2963 2633 3030 \nQ 2388 3097 2138 3097 \nQ 1578 3097 1268 2742 \nQ 959 2388 959 1747 \nQ 959 1106 1268 751 \nQ 1578 397 2138 397 \nQ 2388 397 2633 464 \nQ 2878 531 3122 666 \nL 3122 134 \nQ 2881 22 2623 -34 \nQ 2366 -91 2075 -91 \nQ 1284 -91 818 406 \nQ 353 903 353 1747 \nQ 353 2603 823 3093 \nQ 1294 3584 2113 3584 \nQ 2378 3584 2631 3529 \nQ 2884 3475 3122 3366 \nz\n\" id=\"DejaVuSans-63\" transform=\"scale(0.015625)\"/>\n       <path d=\"M 2059 -325 \nQ 1816 -950 1584 -1140 \nQ 1353 -1331 966 -1331 \nL 506 -1331 \nL 506 -850 \nL 844 -850 \nQ 1081 -850 1212 -737 \nQ 1344 -625 1503 -206 \nL 1606 56 \nL 191 3500 \nL 800 3500 \nL 1894 763 \nL 2988 3500 \nL 3597 3500 \nL 2059 -325 \nz\n\" id=\"DejaVuSans-79\" transform=\"scale(0.015625)\"/>\n      </defs>\n      <use xlink:href=\"#DejaVuSans-46\"/>\n      <use x=\"50.269531\" xlink:href=\"#DejaVuSans-72\"/>\n      <use x=\"89.132812\" xlink:href=\"#DejaVuSans-65\"/>\n      <use x=\"150.65625\" xlink:href=\"#DejaVuSans-71\"/>\n      <use x=\"214.132812\" xlink:href=\"#DejaVuSans-75\"/>\n      <use x=\"277.511719\" xlink:href=\"#DejaVuSans-65\"/>\n      <use x=\"339.035156\" xlink:href=\"#DejaVuSans-6e\"/>\n      <use x=\"402.414062\" xlink:href=\"#DejaVuSans-63\"/>\n      <use x=\"457.394531\" xlink:href=\"#DejaVuSans-79\"/>\n     </g>\n    </g>\n    <g id=\"text_18\">\n     <!-- 1e6 -->\n     <g transform=\"translate(50.14375 14.798437)scale(0.1 -0.1)\">\n      <use xlink:href=\"#DejaVuSans-31\"/>\n      <use x=\"63.623047\" xlink:href=\"#DejaVuSans-65\"/>\n      <use x=\"125.146484\" xlink:href=\"#DejaVuSans-36\"/>\n     </g>\n    </g>\n   </g>\n   <g id=\"patch_13\">\n    <path d=\"M 50.14375 235.238437 \nL 50.14375 17.798437 \n\" style=\"fill:none;stroke:#000000;stroke-linecap:square;stroke-linejoin:miter;stroke-width:0.8;\"/>\n   </g>\n   <g id=\"patch_14\">\n    <path d=\"M 384.94375 235.238437 \nL 384.94375 17.798437 \n\" style=\"fill:none;stroke:#000000;stroke-linecap:square;stroke-linejoin:miter;stroke-width:0.8;\"/>\n   </g>\n   <g id=\"patch_15\">\n    <path d=\"M 50.14375 235.238437 \nL 384.94375 235.238437 \n\" style=\"fill:none;stroke:#000000;stroke-linecap:square;stroke-linejoin:miter;stroke-width:0.8;\"/>\n   </g>\n   <g id=\"patch_16\">\n    <path d=\"M 50.14375 17.798437 \nL 384.94375 17.798437 \n\" style=\"fill:none;stroke:#000000;stroke-linecap:square;stroke-linejoin:miter;stroke-width:0.8;\"/>\n   </g>\n  </g>\n </g>\n <defs>\n  <clipPath id=\"p8af4893487\">\n   <rect height=\"217.44\" width=\"334.8\" x=\"50.14375\" y=\"17.798437\"/>\n  </clipPath>\n </defs>\n</svg>\n",
      "image/png": "[encoded data removed]"
     },
     "metadata": {
      "needs_background": "light"
     }
    }
   ],
   "source": [
    "train_df['elapsed'] = diff\n",
    "train_df['elapsed'].plot.hist()"
   ]
  },
  {
   "source": [
    "## 결측치를 대체할 값들\n",
    "- 맞았을 때, 틀렸을 때 걸린 시간 따로 기록하기"
   ],
   "cell_type": "markdown",
   "metadata": {}
  },
  {
   "cell_type": "code",
   "execution_count": 55,
   "metadata": {},
   "outputs": [],
   "source": [
    "def nonzero_mean(s):\n",
    "    num_nonzero = len(s.to_numpy().nonzero()[0])\n",
    "\n",
    "    if num_nonzero == 0:\n",
    "        return 0\n",
    "\n",
    "    return np.sum(s) / num_nonzero"
   ]
  },
  {
   "cell_type": "code",
   "execution_count": 56,
   "metadata": {},
   "outputs": [
    {
     "output_type": "execute_result",
     "data": {
      "text/plain": [
       "0"
      ]
     },
     "metadata": {},
     "execution_count": 56
    }
   ],
   "source": [
    "nonzero_mean(pd.Series([0,0,0]))"
   ]
  },
  {
   "cell_type": "code",
   "execution_count": 50,
   "metadata": {},
   "outputs": [],
   "source": [
    "# 동일 사용자, knowledgeTag 에서 걸린 시간\n",
    "def get_time_per_user_tag(df):\n",
    "    tag_groupby = df.groupby(['userID', 'KnowledgeTag', 'answerCode']).agg({\n",
    "        'elapsed': nonzero_mean\n",
    "    })\n",
    "\n",
    "    return tag_groupby"
   ]
  },
  {
   "cell_type": "code",
   "execution_count": 58,
   "metadata": {},
   "outputs": [],
   "source": [
    "t = get_time_per_user_tag(train_df)"
   ]
  },
  {
   "cell_type": "code",
   "execution_count": 91,
   "metadata": {},
   "outputs": [
    {
     "output_type": "execute_result",
     "data": {
      "text/plain": [
       "                                  elapsed\n",
       "userID KnowledgeTag answerCode           \n",
       "0      23           0           10.666667\n",
       "       25           0            3.000000\n",
       "       26           0            6.333333\n",
       "                    1           27.000000\n",
       "       30           0           30.000000"
      ],
      "text/html": "<div>\n<style scoped>\n    .dataframe tbody tr th:only-of-type {\n        vertical-align: middle;\n    }\n\n    .dataframe tbody tr th {\n        vertical-align: top;\n    }\n\n    .dataframe thead th {\n        text-align: right;\n    }\n</style>\n<table border=\"1\" class=\"dataframe\">\n  <thead>\n    <tr style=\"text-align: right;\">\n      <th></th>\n      <th></th>\n      <th></th>\n      <th>elapsed</th>\n    </tr>\n    <tr>\n      <th>userID</th>\n      <th>KnowledgeTag</th>\n      <th>answerCode</th>\n      <th></th>\n    </tr>\n  </thead>\n  <tbody>\n    <tr>\n      <th rowspan=\"5\" valign=\"top\">0</th>\n      <th>23</th>\n      <th>0</th>\n      <td>10.666667</td>\n    </tr>\n    <tr>\n      <th>25</th>\n      <th>0</th>\n      <td>3.000000</td>\n    </tr>\n    <tr>\n      <th rowspan=\"2\" valign=\"top\">26</th>\n      <th>0</th>\n      <td>6.333333</td>\n    </tr>\n    <tr>\n      <th>1</th>\n      <td>27.000000</td>\n    </tr>\n    <tr>\n      <th>30</th>\n      <th>0</th>\n      <td>30.000000</td>\n    </tr>\n  </tbody>\n</table>\n</div>"
     },
     "metadata": {},
     "execution_count": 91
    }
   ],
   "source": [
    "t.head()"
   ]
  },
  {
   "cell_type": "code",
   "execution_count": 60,
   "metadata": {},
   "outputs": [
    {
     "output_type": "stream",
     "name": "stdout",
     "text": [
      "395267\n"
     ]
    },
    {
     "output_type": "execute_result",
     "data": {
      "text/plain": [
       "    userID assessmentItemID      testId  answerCode           Timestamp  \\\n",
       "5        0       A060001007  A060000001           1 2020-03-24 00:17:47   \n",
       "12       0       A060003007  A060000003           1 2020-03-26 05:54:11   \n",
       "19       0       A060005007  A060000005           1 2020-03-31 05:05:48   \n",
       "26       0       A060007007  A060000007           1 2020-04-02 05:04:08   \n",
       "32       0       A080002006  A080000002           1 2020-04-06 00:38:05   \n",
       "\n",
       "    KnowledgeTag  elapsed  \n",
       "5           7225      0.0  \n",
       "12          7226      0.0  \n",
       "19          7228      0.0  \n",
       "26          7229      0.0  \n",
       "32          1395      0.0  "
      ],
      "text/html": "<div>\n<style scoped>\n    .dataframe tbody tr th:only-of-type {\n        vertical-align: middle;\n    }\n\n    .dataframe tbody tr th {\n        vertical-align: top;\n    }\n\n    .dataframe thead th {\n        text-align: right;\n    }\n</style>\n<table border=\"1\" class=\"dataframe\">\n  <thead>\n    <tr style=\"text-align: right;\">\n      <th></th>\n      <th>userID</th>\n      <th>assessmentItemID</th>\n      <th>testId</th>\n      <th>answerCode</th>\n      <th>Timestamp</th>\n      <th>KnowledgeTag</th>\n      <th>elapsed</th>\n    </tr>\n  </thead>\n  <tbody>\n    <tr>\n      <th>5</th>\n      <td>0</td>\n      <td>A060001007</td>\n      <td>A060000001</td>\n      <td>1</td>\n      <td>2020-03-24 00:17:47</td>\n      <td>7225</td>\n      <td>0.0</td>\n    </tr>\n    <tr>\n      <th>12</th>\n      <td>0</td>\n      <td>A060003007</td>\n      <td>A060000003</td>\n      <td>1</td>\n      <td>2020-03-26 05:54:11</td>\n      <td>7226</td>\n      <td>0.0</td>\n    </tr>\n    <tr>\n      <th>19</th>\n      <td>0</td>\n      <td>A060005007</td>\n      <td>A060000005</td>\n      <td>1</td>\n      <td>2020-03-31 05:05:48</td>\n      <td>7228</td>\n      <td>0.0</td>\n    </tr>\n    <tr>\n      <th>26</th>\n      <td>0</td>\n      <td>A060007007</td>\n      <td>A060000007</td>\n      <td>1</td>\n      <td>2020-04-02 05:04:08</td>\n      <td>7229</td>\n      <td>0.0</td>\n    </tr>\n    <tr>\n      <th>32</th>\n      <td>0</td>\n      <td>A080002006</td>\n      <td>A080000002</td>\n      <td>1</td>\n      <td>2020-04-06 00:38:05</td>\n      <td>1395</td>\n      <td>0.0</td>\n    </tr>\n  </tbody>\n</table>\n</div>"
     },
     "metadata": {},
     "execution_count": 60
    }
   ],
   "source": [
    "zero_sol = train_df[train_df['elapsed'] == 0]\n",
    "print(len(zero_sol))\n",
    "zero_sol.head()"
   ]
  },
  {
   "cell_type": "code",
   "execution_count": 76,
   "metadata": {},
   "outputs": [
    {
     "output_type": "stream",
     "name": "stdout",
     "text": [
      "[0.]\n"
     ]
    }
   ],
   "source": [
    "example = train_df.loc[(train_df['userID'] == 0) & (train_df['assessmentItemID'] == 'A060001007') & (train_df['testId'] == 'A060000001')]\n",
    "\n",
    "if not example.empty:\n",
    "    print(example['elapsed'].values)"
   ]
  },
  {
   "cell_type": "code",
   "execution_count": 105,
   "metadata": {},
   "outputs": [
    {
     "output_type": "stream",
     "name": "stderr",
     "text": [
      "0it [00:00, ?it/s]/opt/conda/lib/python3.7/site-packages/pandas/core/indexing.py:1720: SettingWithCopyWarning: \n",
      "A value is trying to be set on a copy of a slice from a DataFrame.\n",
      "Try using .loc[row_indexer,col_indexer] = value instead\n",
      "\n",
      "See the caveats in the documentation: https://pandas.pydata.org/pandas-docs/stable/user_guide/indexing.html#returning-a-view-versus-a-copy\n",
      "  self._setitem_single_column(loc, value, pi)\n",
      "395267it [23:39, 278.43it/s]\n"
     ]
    }
   ],
   "source": [
    "for index, row in tqdm(zero_sol.iterrows()):\n",
    "\n",
    "    # Get replacement\n",
    "    uid = row['userID']\n",
    "    tag = row['KnowledgeTag']\n",
    "    answer = row['answerCode']\n",
    "    replace_elapsed = 0\n",
    "\n",
    "    # groupby with multiindex\n",
    "    replace = t.loc[(uid, tag, answer)]\n",
    "    if not replace.empty:\n",
    "        replace_elapsed = replace['elapsed']\n",
    "    else:\n",
    "        # answerCode 가 다르더라도 푼 적이 있으면\n",
    "        replace = t.loc[(uid, tag, (answer+1) % 2)]\n",
    "        if not replace.empty:\n",
    "            replace_elapsed = replace['elapsed']\n",
    "\n",
    "    if replace_elapsed > 0:\n",
    "        zero_sol.at[index, ['elapsed']] = (replace_elapsed)"
   ]
  },
  {
   "cell_type": "code",
   "execution_count": 108,
   "metadata": {},
   "outputs": [
    {
     "output_type": "stream",
     "name": "stdout",
     "text": [
      "48173\n"
     ]
    }
   ],
   "source": [
    "# Any zeros left?\n",
    "unresolved = zero_sol[zero_sol['elapsed'] == 0]\n",
    "print(len(unresolved))"
   ]
  },
  {
   "cell_type": "code",
   "execution_count": 109,
   "metadata": {},
   "outputs": [],
   "source": [
    "# 동일 assessmentItemID 에서 다른 사용자가 걸린 시간\n",
    "def get_time_per_question(df):\n",
    "    tag_groupby = df.groupby(['assessmentItemID', 'answerCode']).agg({\n",
    "        'elapsed': nonzero_mean\n",
    "    })\n",
    "\n",
    "    return tag_groupby"
   ]
  },
  {
   "cell_type": "code",
   "execution_count": 110,
   "metadata": {},
   "outputs": [],
   "source": [
    "t2 = get_time_per_question(train_df)"
   ]
  },
  {
   "cell_type": "code",
   "execution_count": 111,
   "metadata": {},
   "outputs": [
    {
     "output_type": "execute_result",
     "data": {
      "text/plain": [
       "                               elapsed\n",
       "assessmentItemID answerCode           \n",
       "A010001001       0           19.590909\n",
       "                 1           29.196610\n",
       "A010001002       0           22.076923\n",
       "                 1           16.901320\n",
       "A010001003       0           43.551724"
      ],
      "text/html": "<div>\n<style scoped>\n    .dataframe tbody tr th:only-of-type {\n        vertical-align: middle;\n    }\n\n    .dataframe tbody tr th {\n        vertical-align: top;\n    }\n\n    .dataframe thead th {\n        text-align: right;\n    }\n</style>\n<table border=\"1\" class=\"dataframe\">\n  <thead>\n    <tr style=\"text-align: right;\">\n      <th></th>\n      <th></th>\n      <th>elapsed</th>\n    </tr>\n    <tr>\n      <th>assessmentItemID</th>\n      <th>answerCode</th>\n      <th></th>\n    </tr>\n  </thead>\n  <tbody>\n    <tr>\n      <th rowspan=\"2\" valign=\"top\">A010001001</th>\n      <th>0</th>\n      <td>19.590909</td>\n    </tr>\n    <tr>\n      <th>1</th>\n      <td>29.196610</td>\n    </tr>\n    <tr>\n      <th rowspan=\"2\" valign=\"top\">A010001002</th>\n      <th>0</th>\n      <td>22.076923</td>\n    </tr>\n    <tr>\n      <th>1</th>\n      <td>16.901320</td>\n    </tr>\n    <tr>\n      <th>A010001003</th>\n      <th>0</th>\n      <td>43.551724</td>\n    </tr>\n  </tbody>\n</table>\n</div>"
     },
     "metadata": {},
     "execution_count": 111
    }
   ],
   "source": [
    "t2.head()"
   ]
  },
  {
   "cell_type": "code",
   "execution_count": 112,
   "metadata": {},
   "outputs": [
    {
     "output_type": "stream",
     "name": "stderr",
     "text": [
      "0it [00:00, ?it/s]/opt/conda/lib/python3.7/site-packages/pandas/core/indexing.py:1720: SettingWithCopyWarning: \n",
      "A value is trying to be set on a copy of a slice from a DataFrame.\n",
      "Try using .loc[row_indexer,col_indexer] = value instead\n",
      "\n",
      "See the caveats in the documentation: https://pandas.pydata.org/pandas-docs/stable/user_guide/indexing.html#returning-a-view-versus-a-copy\n",
      "  self._setitem_single_column(loc, value, pi)\n",
      "48173it [01:48, 444.28it/s]\n"
     ]
    }
   ],
   "source": [
    "for index, row in tqdm(unresolved.iterrows()):\n",
    "\n",
    "    # Get replacement\n",
    "    aid = row['assessmentItemID']\n",
    "    answer = row['answerCode']\n",
    "    replace_elapsed = 0\n",
    "\n",
    "    # groupby with multiindex\n",
    "    replace = t2.loc[(aid, answer)]\n",
    "    if not replace.empty:\n",
    "        replace_elapsed = replace['elapsed']\n",
    "    else:\n",
    "        # answerCode 가 다르더라도 푼 적이 있으면\n",
    "        replace = t2.loc[(aid, (answer+1) % 2)]\n",
    "        if not replace.empty:\n",
    "            replace_elapsed = replace['elapsed']\n",
    "\n",
    "    if replace_elapsed > 0:\n",
    "        unresolved.at[index, ['elapsed']] = (replace_elapsed)"
   ]
  },
  {
   "cell_type": "code",
   "execution_count": 114,
   "metadata": {},
   "outputs": [
    {
     "output_type": "stream",
     "name": "stderr",
     "text": [
      "/opt/conda/lib/python3.7/site-packages/pandas/core/frame.py:6599: SettingWithCopyWarning: \nA value is trying to be set on a copy of a slice from a DataFrame.\nTry using .loc[row_indexer,col_indexer] = value instead\n\nSee the caveats in the documentation: https://pandas.pydata.org/pandas-docs/stable/user_guide/indexing.html#returning-a-view-versus-a-copy\n  self[col] = expressions.where(mask, this, that)\n"
     ]
    }
   ],
   "source": [
    "zero_sol.update(unresolved)"
   ]
  },
  {
   "cell_type": "code",
   "execution_count": 118,
   "metadata": {},
   "outputs": [
    {
     "output_type": "stream",
     "name": "stdout",
     "text": [
      "132\n"
     ]
    },
    {
     "output_type": "execute_result",
     "data": {
      "text/plain": [
       "       userID assessmentItemID      testId  answerCode           Timestamp  \\\n",
       "583       0.0       A080098008  A080000098         0.0 2020-10-06 19:25:32   \n",
       "21324    28.0       A050144007  A050000144         0.0 2020-10-06 23:43:32   \n",
       "31856    43.0       A020033006  A020000033         0.0 2020-05-08 05:17:16   \n",
       "48412    65.0       A050144007  A050000144         0.0 2020-06-15 09:37:16   \n",
       "56938    77.0       A050144007  A050000144         0.0 2020-10-06 08:49:31   \n",
       "\n",
       "       KnowledgeTag  elapsed  \n",
       "583          1120.0      0.0  \n",
       "21324         441.0      0.0  \n",
       "31856        7920.0      0.0  \n",
       "48412         441.0      0.0  \n",
       "56938         441.0      0.0  "
      ],
      "text/html": "<div>\n<style scoped>\n    .dataframe tbody tr th:only-of-type {\n        vertical-align: middle;\n    }\n\n    .dataframe tbody tr th {\n        vertical-align: top;\n    }\n\n    .dataframe thead th {\n        text-align: right;\n    }\n</style>\n<table border=\"1\" class=\"dataframe\">\n  <thead>\n    <tr style=\"text-align: right;\">\n      <th></th>\n      <th>userID</th>\n      <th>assessmentItemID</th>\n      <th>testId</th>\n      <th>answerCode</th>\n      <th>Timestamp</th>\n      <th>KnowledgeTag</th>\n      <th>elapsed</th>\n    </tr>\n  </thead>\n  <tbody>\n    <tr>\n      <th>583</th>\n      <td>0.0</td>\n      <td>A080098008</td>\n      <td>A080000098</td>\n      <td>0.0</td>\n      <td>2020-10-06 19:25:32</td>\n      <td>1120.0</td>\n      <td>0.0</td>\n    </tr>\n    <tr>\n      <th>21324</th>\n      <td>28.0</td>\n      <td>A050144007</td>\n      <td>A050000144</td>\n      <td>0.0</td>\n      <td>2020-10-06 23:43:32</td>\n      <td>441.0</td>\n      <td>0.0</td>\n    </tr>\n    <tr>\n      <th>31856</th>\n      <td>43.0</td>\n      <td>A020033006</td>\n      <td>A020000033</td>\n      <td>0.0</td>\n      <td>2020-05-08 05:17:16</td>\n      <td>7920.0</td>\n      <td>0.0</td>\n    </tr>\n    <tr>\n      <th>48412</th>\n      <td>65.0</td>\n      <td>A050144007</td>\n      <td>A050000144</td>\n      <td>0.0</td>\n      <td>2020-06-15 09:37:16</td>\n      <td>441.0</td>\n      <td>0.0</td>\n    </tr>\n    <tr>\n      <th>56938</th>\n      <td>77.0</td>\n      <td>A050144007</td>\n      <td>A050000144</td>\n      <td>0.0</td>\n      <td>2020-10-06 08:49:31</td>\n      <td>441.0</td>\n      <td>0.0</td>\n    </tr>\n  </tbody>\n</table>\n</div>"
     },
     "metadata": {},
     "execution_count": 118
    }
   ],
   "source": [
    "print(len(zero_sol[zero_sol['elapsed'] == 0]))\n",
    "\n",
    "unresolved = zero_sol[zero_sol['elapsed'] == 0]\n",
    "unresolved.head()"
   ]
  },
  {
   "cell_type": "code",
   "execution_count": 119,
   "metadata": {},
   "outputs": [],
   "source": [
    "# 동일 KnowledgeTag 에서 다른 사용자가 걸린 시간\n",
    "def get_time_per_tag(df):\n",
    "    tag_groupby = df.groupby(['KnowledgeTag', 'answerCode']).agg({\n",
    "        'elapsed': nonzero_mean\n",
    "    })\n",
    "\n",
    "    return tag_groupby"
   ]
  },
  {
   "cell_type": "code",
   "execution_count": 120,
   "metadata": {},
   "outputs": [],
   "source": [
    "t3 = get_time_per_tag(train_df)"
   ]
  },
  {
   "cell_type": "code",
   "execution_count": 122,
   "metadata": {},
   "outputs": [
    {
     "output_type": "stream",
     "name": "stderr",
     "text": [
      "0it [00:00, ?it/s]/opt/conda/lib/python3.7/site-packages/pandas/core/indexing.py:1720: SettingWithCopyWarning: \n",
      "A value is trying to be set on a copy of a slice from a DataFrame.\n",
      "Try using .loc[row_indexer,col_indexer] = value instead\n",
      "\n",
      "See the caveats in the documentation: https://pandas.pydata.org/pandas-docs/stable/user_guide/indexing.html#returning-a-view-versus-a-copy\n",
      "  self._setitem_single_column(loc, value, pi)\n",
      "132it [00:00, 489.38it/s]\n"
     ]
    }
   ],
   "source": [
    "for index, row in tqdm(unresolved.iterrows()):\n",
    "\n",
    "    # Get replacement\n",
    "    tag = row['KnowledgeTag']\n",
    "    answer = row['answerCode']\n",
    "    replace_elapsed = 0\n",
    "\n",
    "    # groupby with multiindex\n",
    "    replace = t3.loc[(tag, answer)]\n",
    "    if not replace.empty:\n",
    "        replace_elapsed = replace['elapsed']\n",
    "    else:\n",
    "        # answerCode 가 다르더라도 푼 적이 있으면\n",
    "        replace = t3.loc[(tag, (answer+1) % 2)]\n",
    "        if not replace.empty:\n",
    "            replace_elapsed = replace['elapsed']\n",
    "\n",
    "    if replace_elapsed > 0:\n",
    "        unresolved.at[index, ['elapsed']] = (replace_elapsed)"
   ]
  },
  {
   "cell_type": "code",
   "execution_count": 123,
   "metadata": {},
   "outputs": [
    {
     "output_type": "stream",
     "name": "stdout",
     "text": [
      "0\n"
     ]
    }
   ],
   "source": [
    "print(len(unresolved[unresolved['elapsed'] == 0]))\n"
   ]
  },
  {
   "cell_type": "code",
   "execution_count": 124,
   "metadata": {},
   "outputs": [
    {
     "output_type": "stream",
     "name": "stderr",
     "text": [
      "/opt/conda/lib/python3.7/site-packages/pandas/core/frame.py:6599: SettingWithCopyWarning: \nA value is trying to be set on a copy of a slice from a DataFrame.\nTry using .loc[row_indexer,col_indexer] = value instead\n\nSee the caveats in the documentation: https://pandas.pydata.org/pandas-docs/stable/user_guide/indexing.html#returning-a-view-versus-a-copy\n  self[col] = expressions.where(mask, this, that)\n"
     ]
    }
   ],
   "source": [
    "zero_sol.update(unresolved)"
   ]
  },
  {
   "cell_type": "code",
   "execution_count": 125,
   "metadata": {},
   "outputs": [
    {
     "output_type": "stream",
     "name": "stdout",
     "text": [
      "395267\n0\n"
     ]
    }
   ],
   "source": [
    "print(len(zero_sol))\n",
    "print(len(zero_sol[zero_sol['elapsed'] == 0]))"
   ]
  },
  {
   "cell_type": "code",
   "execution_count": 126,
   "metadata": {},
   "outputs": [],
   "source": [
    "train_df.update(zero_sol)"
   ]
  },
  {
   "cell_type": "code",
   "execution_count": 127,
   "metadata": {},
   "outputs": [
    {
     "output_type": "stream",
     "name": "stdout",
     "text": [
      "0\n"
     ]
    }
   ],
   "source": [
    "print(len(train_df[train_df['elapsed'] == 0]))"
   ]
  },
  {
   "cell_type": "code",
   "execution_count": 128,
   "metadata": {},
   "outputs": [],
   "source": [
    "with open('/opt/ml/input/data/train_dataset/train_timedelta_replaced.bin', 'wb') as f:\n",
    "    pickle.dump(train_df, f)"
   ]
  },
  {
   "source": [
    "## 기타"
   ],
   "cell_type": "markdown",
   "metadata": {}
  },
  {
   "cell_type": "code",
   "execution_count": 34,
   "metadata": {},
   "outputs": [],
   "source": [
    "# 정답은 1, 오답은 0 이라 sum 을 전체 개수로 나눈 것이 정답률\n",
    "\n",
    "def percentile(s):\n",
    "    return np.sum(s) / len(s)"
   ]
  },
  {
   "cell_type": "code",
   "execution_count": 9,
   "metadata": {},
   "outputs": [],
   "source": [
    "# 문항별 정답률\n",
    "def get_score_per_question(df):\n",
    "    prob_groupby = df.groupby('assessmentItemID').agg({\n",
    "        'userID': pd.Series.nunique,  # 'count'\n",
    "        'answerCode': percentile\n",
    "    })\n",
    "\n",
    "    return prob_groupby"
   ]
  },
  {
   "cell_type": "code",
   "execution_count": 10,
   "metadata": {},
   "outputs": [],
   "source": [
    "# 시험지별 정답률\n",
    "def get_score_per_test(df):\n",
    "    test_groupby = df.groupby('testId').agg({\n",
    "        'userID': pd.Series.nunique,  # 'count'\n",
    "        'answerCode': percentile\n",
    "    })\n",
    "\n",
    "    return test_groupby"
   ]
  }
 ]
}