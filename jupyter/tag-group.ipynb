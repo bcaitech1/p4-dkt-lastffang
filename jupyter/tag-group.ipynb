{
 "metadata": {
  "language_info": {
   "codemirror_mode": {
    "name": "ipython",
    "version": 3
   },
   "file_extension": ".py",
   "mimetype": "text/x-python",
   "name": "python",
   "nbconvert_exporter": "python",
   "pygments_lexer": "ipython3",
   "version": "3.7.7"
  },
  "orig_nbformat": 2,
  "kernelspec": {
   "name": "python377jvsc74a57bd098b0a9b7b4eaaa670588a142fd0a9b87eaafe866f1db4228be72b4211d12040f",
   "display_name": "Python 3.7.7 64-bit ('base': conda)"
  }
 },
 "nbformat": 4,
 "nbformat_minor": 2,
 "cells": [
  {
   "cell_type": "code",
   "execution_count": 1,
   "metadata": {},
   "outputs": [],
   "source": [
    "import os\n",
    "from datetime import datetime\n",
    "import time\n",
    "import pandas as pd\n",
    "import pickle\n",
    "import numpy as np\n",
    "\n",
    "from scipy import stats\n",
    "from tqdm import tqdm\n",
    "from collections import defaultdict\n",
    "from itertools import permutations"
   ]
  },
  {
   "cell_type": "code",
   "execution_count": 2,
   "metadata": {},
   "outputs": [],
   "source": [
    "dtype = {\n",
    "    'userID': 'int16',\n",
    "    'answerCode': 'int8',\n",
    "    'KnowledgeTag': 'int16'\n",
    "}   \n",
    "\n",
    "DATA_PATH = '/opt/ml/input/data/train_dataset/train_data.csv'\n",
    "raw_train_df = pd.read_csv(DATA_PATH, dtype=dtype, parse_dates=['Timestamp'])\n",
    "raw_train_df = raw_train_df.sort_values(by=['userID', 'Timestamp']).reset_index(drop=True)\n",
    "\n",
    "DATA_PATH = '/opt/ml/input/data/train_dataset/test_data.csv'\n",
    "raw_test_df = pd.read_csv(DATA_PATH, dtype=dtype, parse_dates=['Timestamp'])\n",
    "raw_test_df = raw_test_df.sort_values(by=['userID', 'Timestamp']).reset_index(drop=True)\n",
    "\n",
    "full_df = pd.concat([raw_train_df, raw_test_df], ignore_index=True)\n",
    "full_df = full_df.sort_values(by=['userID', 'Timestamp']).reset_index(drop=True)"
   ]
  },
  {
   "cell_type": "code",
   "execution_count": 3,
   "metadata": {},
   "outputs": [
    {
     "output_type": "stream",
     "name": "stdout",
     "text": [
      "912\n"
     ]
    }
   ],
   "source": [
    "full_df_all_tags = sorted(list(set(full_df['KnowledgeTag'])))\n",
    "print(len(full_df_all_tags))"
   ]
  },
  {
   "source": [
    "### testId 마다 나오는 KnowledgeTag 확인"
   ],
   "cell_type": "markdown",
   "metadata": {}
  },
  {
   "cell_type": "code",
   "execution_count": 4,
   "metadata": {},
   "outputs": [
    {
     "output_type": "execute_result",
     "data": {
      "text/plain": [
       "                  KnowledgeTag\n",
       "testId                        \n",
       "A010000001              [5844]\n",
       "A010000002        [6803, 5844]\n",
       "A010000003  [6806, 6804, 6307]\n",
       "A010000004  [6806, 5845, 6804]\n",
       "A010000005        [5846, 6308]"
      ],
      "text/html": "<div>\n<style scoped>\n    .dataframe tbody tr th:only-of-type {\n        vertical-align: middle;\n    }\n\n    .dataframe tbody tr th {\n        vertical-align: top;\n    }\n\n    .dataframe thead th {\n        text-align: right;\n    }\n</style>\n<table border=\"1\" class=\"dataframe\">\n  <thead>\n    <tr style=\"text-align: right;\">\n      <th></th>\n      <th>KnowledgeTag</th>\n    </tr>\n    <tr>\n      <th>testId</th>\n      <th></th>\n    </tr>\n  </thead>\n  <tbody>\n    <tr>\n      <th>A010000001</th>\n      <td>[5844]</td>\n    </tr>\n    <tr>\n      <th>A010000002</th>\n      <td>[6803, 5844]</td>\n    </tr>\n    <tr>\n      <th>A010000003</th>\n      <td>[6806, 6804, 6307]</td>\n    </tr>\n    <tr>\n      <th>A010000004</th>\n      <td>[6806, 5845, 6804]</td>\n    </tr>\n    <tr>\n      <th>A010000005</th>\n      <td>[5846, 6308]</td>\n    </tr>\n  </tbody>\n</table>\n</div>"
     },
     "metadata": {},
     "execution_count": 4
    }
   ],
   "source": [
    "tag_groupby = full_df.groupby(['testId']).agg({\n",
    "   'KnowledgeTag': 'unique',\n",
    "})\n",
    "tag_groupby.head()"
   ]
  },
  {
   "cell_type": "code",
   "execution_count": 5,
   "metadata": {},
   "outputs": [
    {
     "output_type": "execute_result",
     "data": {
      "text/plain": [
       "                  KnowledgeTag  num_tags\n",
       "testId                                  \n",
       "A010000001              [5844]         1\n",
       "A010000002        [6803, 5844]         2\n",
       "A010000003  [6806, 6804, 6307]         3\n",
       "A010000004  [6806, 5845, 6804]         3\n",
       "A010000005        [5846, 6308]         2"
      ],
      "text/html": "<div>\n<style scoped>\n    .dataframe tbody tr th:only-of-type {\n        vertical-align: middle;\n    }\n\n    .dataframe tbody tr th {\n        vertical-align: top;\n    }\n\n    .dataframe thead th {\n        text-align: right;\n    }\n</style>\n<table border=\"1\" class=\"dataframe\">\n  <thead>\n    <tr style=\"text-align: right;\">\n      <th></th>\n      <th>KnowledgeTag</th>\n      <th>num_tags</th>\n    </tr>\n    <tr>\n      <th>testId</th>\n      <th></th>\n      <th></th>\n    </tr>\n  </thead>\n  <tbody>\n    <tr>\n      <th>A010000001</th>\n      <td>[5844]</td>\n      <td>1</td>\n    </tr>\n    <tr>\n      <th>A010000002</th>\n      <td>[6803, 5844]</td>\n      <td>2</td>\n    </tr>\n    <tr>\n      <th>A010000003</th>\n      <td>[6806, 6804, 6307]</td>\n      <td>3</td>\n    </tr>\n    <tr>\n      <th>A010000004</th>\n      <td>[6806, 5845, 6804]</td>\n      <td>3</td>\n    </tr>\n    <tr>\n      <th>A010000005</th>\n      <td>[5846, 6308]</td>\n      <td>2</td>\n    </tr>\n  </tbody>\n</table>\n</div>"
     },
     "metadata": {},
     "execution_count": 5
    }
   ],
   "source": [
    "tag_groupby['num_tags'] = tag_groupby['KnowledgeTag'].apply(len)\n",
    "tag_groupby.head()"
   ]
  },
  {
   "cell_type": "code",
   "execution_count": 6,
   "metadata": {},
   "outputs": [],
   "source": [
    "def l2t(l):\n",
    "    l.sort()\n",
    "    return tuple(l)"
   ]
  },
  {
   "cell_type": "code",
   "execution_count": 7,
   "metadata": {},
   "outputs": [
    {
     "output_type": "execute_result",
     "data": {
      "text/plain": [
       "                  KnowledgeTag  num_tags           tag_tuple\n",
       "testId                                                      \n",
       "A010000001              [5844]         1             (5844,)\n",
       "A010000002        [5844, 6803]         2        (5844, 6803)\n",
       "A010000003  [6307, 6804, 6806]         3  (6307, 6804, 6806)\n",
       "A010000004  [5845, 6804, 6806]         3  (5845, 6804, 6806)\n",
       "A010000005        [5846, 6308]         2        (5846, 6308)"
      ],
      "text/html": "<div>\n<style scoped>\n    .dataframe tbody tr th:only-of-type {\n        vertical-align: middle;\n    }\n\n    .dataframe tbody tr th {\n        vertical-align: top;\n    }\n\n    .dataframe thead th {\n        text-align: right;\n    }\n</style>\n<table border=\"1\" class=\"dataframe\">\n  <thead>\n    <tr style=\"text-align: right;\">\n      <th></th>\n      <th>KnowledgeTag</th>\n      <th>num_tags</th>\n      <th>tag_tuple</th>\n    </tr>\n    <tr>\n      <th>testId</th>\n      <th></th>\n      <th></th>\n      <th></th>\n    </tr>\n  </thead>\n  <tbody>\n    <tr>\n      <th>A010000001</th>\n      <td>[5844]</td>\n      <td>1</td>\n      <td>(5844,)</td>\n    </tr>\n    <tr>\n      <th>A010000002</th>\n      <td>[5844, 6803]</td>\n      <td>2</td>\n      <td>(5844, 6803)</td>\n    </tr>\n    <tr>\n      <th>A010000003</th>\n      <td>[6307, 6804, 6806]</td>\n      <td>3</td>\n      <td>(6307, 6804, 6806)</td>\n    </tr>\n    <tr>\n      <th>A010000004</th>\n      <td>[5845, 6804, 6806]</td>\n      <td>3</td>\n      <td>(5845, 6804, 6806)</td>\n    </tr>\n    <tr>\n      <th>A010000005</th>\n      <td>[5846, 6308]</td>\n      <td>2</td>\n      <td>(5846, 6308)</td>\n    </tr>\n  </tbody>\n</table>\n</div>"
     },
     "metadata": {},
     "execution_count": 7
    }
   ],
   "source": [
    "tag_groupby['tag_tuple'] = tag_groupby['KnowledgeTag'].apply(l2t)  # hashable\n",
    "# tag_groupby['tag_set'] = tag_groupby['KnowledgeTag'].apply(set)\n",
    "tag_groupby.head()\n"
   ]
  },
  {
   "cell_type": "code",
   "execution_count": 8,
   "metadata": {},
   "outputs": [
    {
     "output_type": "stream",
     "name": "stdout",
     "text": [
      "1537\n751\n"
     ]
    }
   ],
   "source": [
    "# tag tuple 이 겹치는 시험지들이 있을까?\n",
    "print(len(tag_groupby['tag_tuple']))\n",
    "print(len(set(tag_groupby['tag_tuple'])))"
   ]
  },
  {
   "cell_type": "code",
   "execution_count": 9,
   "metadata": {},
   "outputs": [
    {
     "output_type": "execute_result",
     "data": {
      "text/plain": [
       "<AxesSubplot:ylabel='Frequency'>"
      ]
     },
     "metadata": {},
     "execution_count": 9
    },
    {
     "output_type": "display_data",
     "data": {
      "text/plain": "<Figure size 432x288 with 1 Axes>",
      "image/svg+xml": "<?xml version=\"1.0\" encoding=\"utf-8\" standalone=\"no\"?>\n<!DOCTYPE svg PUBLIC \"-//W3C//DTD SVG 1.1//EN\"\n  \"http://www.w3.org/Graphics/SVG/1.1/DTD/svg11.dtd\">\n<svg height=\"248.518125pt\" version=\"1.1\" viewBox=\"0 0 388.965625 248.518125\" width=\"388.965625pt\" xmlns=\"http://www.w3.org/2000/svg\" xmlns:xlink=\"http://www.w3.org/1999/xlink\">\n <metadata>\n  <rdf:RDF xmlns:cc=\"http://creativecommons.org/ns#\" xmlns:dc=\"http://purl.org/dc/elements/1.1/\" xmlns:rdf=\"http://www.w3.org/1999/02/22-rdf-syntax-ns#\">\n   <cc:Work>\n    <dc:type rdf:resource=\"http://purl.org/dc/dcmitype/StillImage\"/>\n    <dc:date>2021-06-11T11:38:02.623409</dc:date>\n    <dc:format>image/svg+xml</dc:format>\n    <dc:creator>\n     <cc:Agent>\n      <dc:title>Matplotlib v3.4.2, https://matplotlib.org/</dc:title>\n     </cc:Agent>\n    </dc:creator>\n   </cc:Work>\n  </rdf:RDF>\n </metadata>\n <defs>\n  <style type=\"text/css\">*{stroke-linecap:butt;stroke-linejoin:round;}</style>\n </defs>\n <g id=\"figure_1\">\n  <g id=\"patch_1\">\n   <path d=\"M 0 248.518125 \nL 388.965625 248.518125 \nL 388.965625 0 \nL 0 0 \nz\n\" style=\"fill:none;\"/>\n  </g>\n  <g id=\"axes_1\">\n   <g id=\"patch_2\">\n    <path d=\"M 46.965625 224.64 \nL 381.765625 224.64 \nL 381.765625 7.2 \nL 46.965625 7.2 \nz\n\" style=\"fill:#ffffff;\"/>\n   </g>\n   <g id=\"patch_3\">\n    <path clip-path=\"url(#p4c45771765)\" d=\"M 62.183807 224.64 \nL 92.62017 224.64 \nL 92.62017 17.554286 \nL 62.183807 17.554286 \nz\n\" style=\"fill:#1f77b4;\"/>\n   </g>\n   <g id=\"patch_4\">\n    <path clip-path=\"url(#p4c45771765)\" d=\"M 92.62017 224.64 \nL 123.056534 224.64 \nL 123.056534 149.784341 \nL 92.62017 149.784341 \nz\n\" style=\"fill:#1f77b4;\"/>\n   </g>\n   <g id=\"patch_5\">\n    <path clip-path=\"url(#p4c45771765)\" d=\"M 123.056534 224.64 \nL 153.492898 224.64 \nL 153.492898 194.832208 \nL 123.056534 194.832208 \nz\n\" style=\"fill:#1f77b4;\"/>\n   </g>\n   <g id=\"patch_6\">\n    <path clip-path=\"url(#p4c45771765)\" d=\"M 153.492898 224.64 \nL 183.929261 224.64 \nL 183.929261 224.64 \nL 153.492898 224.64 \nz\n\" style=\"fill:#1f77b4;\"/>\n   </g>\n   <g id=\"patch_7\">\n    <path clip-path=\"url(#p4c45771765)\" d=\"M 183.929261 224.64 \nL 214.365625 224.64 \nL 214.365625 206.486382 \nL 183.929261 206.486382 \nz\n\" style=\"fill:#1f77b4;\"/>\n   </g>\n   <g id=\"patch_8\">\n    <path clip-path=\"url(#p4c45771765)\" d=\"M 214.365625 224.64 \nL 244.801989 224.64 \nL 244.801989 216.347607 \nL 214.365625 216.347607 \nz\n\" style=\"fill:#1f77b4;\"/>\n   </g>\n   <g id=\"patch_9\">\n    <path clip-path=\"url(#p4c45771765)\" d=\"M 244.801989 224.64 \nL 275.238352 224.64 \nL 275.238352 224.64 \nL 244.801989 224.64 \nz\n\" style=\"fill:#1f77b4;\"/>\n   </g>\n   <g id=\"patch_10\">\n    <path clip-path=\"url(#p4c45771765)\" d=\"M 275.238352 224.64 \nL 305.674716 224.64 \nL 305.674716 219.933506 \nL 275.238352 219.933506 \nz\n\" style=\"fill:#1f77b4;\"/>\n   </g>\n   <g id=\"patch_11\">\n    <path clip-path=\"url(#p4c45771765)\" d=\"M 305.674716 224.64 \nL 336.11108 224.64 \nL 336.11108 223.519406 \nL 305.674716 223.519406 \nz\n\" style=\"fill:#1f77b4;\"/>\n   </g>\n   <g id=\"patch_12\">\n    <path clip-path=\"url(#p4c45771765)\" d=\"M 336.11108 224.64 \nL 366.547443 224.64 \nL 366.547443 224.191763 \nL 336.11108 224.191763 \nz\n\" style=\"fill:#1f77b4;\"/>\n   </g>\n   <g id=\"matplotlib.axis_1\">\n    <g id=\"xtick_1\">\n     <g id=\"line2d_1\">\n      <defs>\n       <path d=\"M 0 0 \nL 0 3.5 \n\" id=\"m5b77fff5c0\" style=\"stroke:#000000;stroke-width:0.8;\"/>\n      </defs>\n      <g>\n       <use style=\"stroke:#000000;stroke-width:0.8;\" x=\"62.183807\" xlink:href=\"#m5b77fff5c0\" y=\"224.64\"/>\n      </g>\n     </g>\n     <g id=\"text_1\">\n      <!-- 1 -->\n      <g transform=\"translate(59.002557 239.238437)scale(0.1 -0.1)\">\n       <defs>\n        <path d=\"M 794 531 \nL 1825 531 \nL 1825 4091 \nL 703 3866 \nL 703 4441 \nL 1819 4666 \nL 2450 4666 \nL 2450 531 \nL 3481 531 \nL 3481 0 \nL 794 0 \nL 794 531 \nz\n\" id=\"DejaVuSans-31\" transform=\"scale(0.015625)\"/>\n       </defs>\n       <use xlink:href=\"#DejaVuSans-31\"/>\n      </g>\n     </g>\n    </g>\n    <g id=\"xtick_2\">\n     <g id=\"line2d_2\">\n      <g>\n       <use style=\"stroke:#000000;stroke-width:0.8;\" x=\"105.664326\" xlink:href=\"#m5b77fff5c0\" y=\"224.64\"/>\n      </g>\n     </g>\n     <g id=\"text_2\">\n      <!-- 2 -->\n      <g transform=\"translate(102.483076 239.238437)scale(0.1 -0.1)\">\n       <defs>\n        <path d=\"M 1228 531 \nL 3431 531 \nL 3431 0 \nL 469 0 \nL 469 531 \nQ 828 903 1448 1529 \nQ 2069 2156 2228 2338 \nQ 2531 2678 2651 2914 \nQ 2772 3150 2772 3378 \nQ 2772 3750 2511 3984 \nQ 2250 4219 1831 4219 \nQ 1534 4219 1204 4116 \nQ 875 4013 500 3803 \nL 500 4441 \nQ 881 4594 1212 4672 \nQ 1544 4750 1819 4750 \nQ 2544 4750 2975 4387 \nQ 3406 4025 3406 3419 \nQ 3406 3131 3298 2873 \nQ 3191 2616 2906 2266 \nQ 2828 2175 2409 1742 \nQ 1991 1309 1228 531 \nz\n\" id=\"DejaVuSans-32\" transform=\"scale(0.015625)\"/>\n       </defs>\n       <use xlink:href=\"#DejaVuSans-32\"/>\n      </g>\n     </g>\n    </g>\n    <g id=\"xtick_3\">\n     <g id=\"line2d_3\">\n      <g>\n       <use style=\"stroke:#000000;stroke-width:0.8;\" x=\"149.144846\" xlink:href=\"#m5b77fff5c0\" y=\"224.64\"/>\n      </g>\n     </g>\n     <g id=\"text_3\">\n      <!-- 3 -->\n      <g transform=\"translate(145.963596 239.238437)scale(0.1 -0.1)\">\n       <defs>\n        <path d=\"M 2597 2516 \nQ 3050 2419 3304 2112 \nQ 3559 1806 3559 1356 \nQ 3559 666 3084 287 \nQ 2609 -91 1734 -91 \nQ 1441 -91 1130 -33 \nQ 819 25 488 141 \nL 488 750 \nQ 750 597 1062 519 \nQ 1375 441 1716 441 \nQ 2309 441 2620 675 \nQ 2931 909 2931 1356 \nQ 2931 1769 2642 2001 \nQ 2353 2234 1838 2234 \nL 1294 2234 \nL 1294 2753 \nL 1863 2753 \nQ 2328 2753 2575 2939 \nQ 2822 3125 2822 3475 \nQ 2822 3834 2567 4026 \nQ 2313 4219 1838 4219 \nQ 1578 4219 1281 4162 \nQ 984 4106 628 3988 \nL 628 4550 \nQ 988 4650 1302 4700 \nQ 1616 4750 1894 4750 \nQ 2613 4750 3031 4423 \nQ 3450 4097 3450 3541 \nQ 3450 3153 3228 2886 \nQ 3006 2619 2597 2516 \nz\n\" id=\"DejaVuSans-33\" transform=\"scale(0.015625)\"/>\n       </defs>\n       <use xlink:href=\"#DejaVuSans-33\"/>\n      </g>\n     </g>\n    </g>\n    <g id=\"xtick_4\">\n     <g id=\"line2d_4\">\n      <g>\n       <use style=\"stroke:#000000;stroke-width:0.8;\" x=\"192.625365\" xlink:href=\"#m5b77fff5c0\" y=\"224.64\"/>\n      </g>\n     </g>\n     <g id=\"text_4\">\n      <!-- 4 -->\n      <g transform=\"translate(189.444115 239.238437)scale(0.1 -0.1)\">\n       <defs>\n        <path d=\"M 2419 4116 \nL 825 1625 \nL 2419 1625 \nL 2419 4116 \nz\nM 2253 4666 \nL 3047 4666 \nL 3047 1625 \nL 3713 1625 \nL 3713 1100 \nL 3047 1100 \nL 3047 0 \nL 2419 0 \nL 2419 1100 \nL 313 1100 \nL 313 1709 \nL 2253 4666 \nz\n\" id=\"DejaVuSans-34\" transform=\"scale(0.015625)\"/>\n       </defs>\n       <use xlink:href=\"#DejaVuSans-34\"/>\n      </g>\n     </g>\n    </g>\n    <g id=\"xtick_5\">\n     <g id=\"line2d_5\">\n      <g>\n       <use style=\"stroke:#000000;stroke-width:0.8;\" x=\"236.105885\" xlink:href=\"#m5b77fff5c0\" y=\"224.64\"/>\n      </g>\n     </g>\n     <g id=\"text_5\">\n      <!-- 5 -->\n      <g transform=\"translate(232.924635 239.238437)scale(0.1 -0.1)\">\n       <defs>\n        <path d=\"M 691 4666 \nL 3169 4666 \nL 3169 4134 \nL 1269 4134 \nL 1269 2991 \nQ 1406 3038 1543 3061 \nQ 1681 3084 1819 3084 \nQ 2600 3084 3056 2656 \nQ 3513 2228 3513 1497 \nQ 3513 744 3044 326 \nQ 2575 -91 1722 -91 \nQ 1428 -91 1123 -41 \nQ 819 9 494 109 \nL 494 744 \nQ 775 591 1075 516 \nQ 1375 441 1709 441 \nQ 2250 441 2565 725 \nQ 2881 1009 2881 1497 \nQ 2881 1984 2565 2268 \nQ 2250 2553 1709 2553 \nQ 1456 2553 1204 2497 \nQ 953 2441 691 2322 \nL 691 4666 \nz\n\" id=\"DejaVuSans-35\" transform=\"scale(0.015625)\"/>\n       </defs>\n       <use xlink:href=\"#DejaVuSans-35\"/>\n      </g>\n     </g>\n    </g>\n    <g id=\"xtick_6\">\n     <g id=\"line2d_6\">\n      <g>\n       <use style=\"stroke:#000000;stroke-width:0.8;\" x=\"279.586404\" xlink:href=\"#m5b77fff5c0\" y=\"224.64\"/>\n      </g>\n     </g>\n     <g id=\"text_6\">\n      <!-- 6 -->\n      <g transform=\"translate(276.405154 239.238437)scale(0.1 -0.1)\">\n       <defs>\n        <path d=\"M 2113 2584 \nQ 1688 2584 1439 2293 \nQ 1191 2003 1191 1497 \nQ 1191 994 1439 701 \nQ 1688 409 2113 409 \nQ 2538 409 2786 701 \nQ 3034 994 3034 1497 \nQ 3034 2003 2786 2293 \nQ 2538 2584 2113 2584 \nz\nM 3366 4563 \nL 3366 3988 \nQ 3128 4100 2886 4159 \nQ 2644 4219 2406 4219 \nQ 1781 4219 1451 3797 \nQ 1122 3375 1075 2522 \nQ 1259 2794 1537 2939 \nQ 1816 3084 2150 3084 \nQ 2853 3084 3261 2657 \nQ 3669 2231 3669 1497 \nQ 3669 778 3244 343 \nQ 2819 -91 2113 -91 \nQ 1303 -91 875 529 \nQ 447 1150 447 2328 \nQ 447 3434 972 4092 \nQ 1497 4750 2381 4750 \nQ 2619 4750 2861 4703 \nQ 3103 4656 3366 4563 \nz\n\" id=\"DejaVuSans-36\" transform=\"scale(0.015625)\"/>\n       </defs>\n       <use xlink:href=\"#DejaVuSans-36\"/>\n      </g>\n     </g>\n    </g>\n    <g id=\"xtick_7\">\n     <g id=\"line2d_7\">\n      <g>\n       <use style=\"stroke:#000000;stroke-width:0.8;\" x=\"323.066924\" xlink:href=\"#m5b77fff5c0\" y=\"224.64\"/>\n      </g>\n     </g>\n     <g id=\"text_7\">\n      <!-- 7 -->\n      <g transform=\"translate(319.885674 239.238437)scale(0.1 -0.1)\">\n       <defs>\n        <path d=\"M 525 4666 \nL 3525 4666 \nL 3525 4397 \nL 1831 0 \nL 1172 0 \nL 2766 4134 \nL 525 4134 \nL 525 4666 \nz\n\" id=\"DejaVuSans-37\" transform=\"scale(0.015625)\"/>\n       </defs>\n       <use xlink:href=\"#DejaVuSans-37\"/>\n      </g>\n     </g>\n    </g>\n    <g id=\"xtick_8\">\n     <g id=\"line2d_8\">\n      <g>\n       <use style=\"stroke:#000000;stroke-width:0.8;\" x=\"366.547443\" xlink:href=\"#m5b77fff5c0\" y=\"224.64\"/>\n      </g>\n     </g>\n     <g id=\"text_8\">\n      <!-- 8 -->\n      <g transform=\"translate(363.366193 239.238437)scale(0.1 -0.1)\">\n       <defs>\n        <path d=\"M 2034 2216 \nQ 1584 2216 1326 1975 \nQ 1069 1734 1069 1313 \nQ 1069 891 1326 650 \nQ 1584 409 2034 409 \nQ 2484 409 2743 651 \nQ 3003 894 3003 1313 \nQ 3003 1734 2745 1975 \nQ 2488 2216 2034 2216 \nz\nM 1403 2484 \nQ 997 2584 770 2862 \nQ 544 3141 544 3541 \nQ 544 4100 942 4425 \nQ 1341 4750 2034 4750 \nQ 2731 4750 3128 4425 \nQ 3525 4100 3525 3541 \nQ 3525 3141 3298 2862 \nQ 3072 2584 2669 2484 \nQ 3125 2378 3379 2068 \nQ 3634 1759 3634 1313 \nQ 3634 634 3220 271 \nQ 2806 -91 2034 -91 \nQ 1263 -91 848 271 \nQ 434 634 434 1313 \nQ 434 1759 690 2068 \nQ 947 2378 1403 2484 \nz\nM 1172 3481 \nQ 1172 3119 1398 2916 \nQ 1625 2713 2034 2713 \nQ 2441 2713 2670 2916 \nQ 2900 3119 2900 3481 \nQ 2900 3844 2670 4047 \nQ 2441 4250 2034 4250 \nQ 1625 4250 1398 4047 \nQ 1172 3844 1172 3481 \nz\n\" id=\"DejaVuSans-38\" transform=\"scale(0.015625)\"/>\n       </defs>\n       <use xlink:href=\"#DejaVuSans-38\"/>\n      </g>\n     </g>\n    </g>\n   </g>\n   <g id=\"matplotlib.axis_2\">\n    <g id=\"ytick_1\">\n     <g id=\"line2d_9\">\n      <defs>\n       <path d=\"M 0 0 \nL -3.5 0 \n\" id=\"m39666970fc\" style=\"stroke:#000000;stroke-width:0.8;\"/>\n      </defs>\n      <g>\n       <use style=\"stroke:#000000;stroke-width:0.8;\" x=\"46.965625\" xlink:href=\"#m39666970fc\" y=\"224.64\"/>\n      </g>\n     </g>\n     <g id=\"text_9\">\n      <!-- 0 -->\n      <g transform=\"translate(33.603125 228.439219)scale(0.1 -0.1)\">\n       <defs>\n        <path d=\"M 2034 4250 \nQ 1547 4250 1301 3770 \nQ 1056 3291 1056 2328 \nQ 1056 1369 1301 889 \nQ 1547 409 2034 409 \nQ 2525 409 2770 889 \nQ 3016 1369 3016 2328 \nQ 3016 3291 2770 3770 \nQ 2525 4250 2034 4250 \nz\nM 2034 4750 \nQ 2819 4750 3233 4129 \nQ 3647 3509 3647 2328 \nQ 3647 1150 3233 529 \nQ 2819 -91 2034 -91 \nQ 1250 -91 836 529 \nQ 422 1150 422 2328 \nQ 422 3509 836 4129 \nQ 1250 4750 2034 4750 \nz\n\" id=\"DejaVuSans-30\" transform=\"scale(0.015625)\"/>\n       </defs>\n       <use xlink:href=\"#DejaVuSans-30\"/>\n      </g>\n     </g>\n    </g>\n    <g id=\"ytick_2\">\n     <g id=\"line2d_10\">\n      <g>\n       <use style=\"stroke:#000000;stroke-width:0.8;\" x=\"46.965625\" xlink:href=\"#m39666970fc\" y=\"179.816252\"/>\n      </g>\n     </g>\n     <g id=\"text_10\">\n      <!-- 200 -->\n      <g transform=\"translate(20.878125 183.615471)scale(0.1 -0.1)\">\n       <use xlink:href=\"#DejaVuSans-32\"/>\n       <use x=\"63.623047\" xlink:href=\"#DejaVuSans-30\"/>\n       <use x=\"127.246094\" xlink:href=\"#DejaVuSans-30\"/>\n      </g>\n     </g>\n    </g>\n    <g id=\"ytick_3\">\n     <g id=\"line2d_11\">\n      <g>\n       <use style=\"stroke:#000000;stroke-width:0.8;\" x=\"46.965625\" xlink:href=\"#m39666970fc\" y=\"134.992505\"/>\n      </g>\n     </g>\n     <g id=\"text_11\">\n      <!-- 400 -->\n      <g transform=\"translate(20.878125 138.791723)scale(0.1 -0.1)\">\n       <use xlink:href=\"#DejaVuSans-34\"/>\n       <use x=\"63.623047\" xlink:href=\"#DejaVuSans-30\"/>\n       <use x=\"127.246094\" xlink:href=\"#DejaVuSans-30\"/>\n      </g>\n     </g>\n    </g>\n    <g id=\"ytick_4\">\n     <g id=\"line2d_12\">\n      <g>\n       <use style=\"stroke:#000000;stroke-width:0.8;\" x=\"46.965625\" xlink:href=\"#m39666970fc\" y=\"90.168757\"/>\n      </g>\n     </g>\n     <g id=\"text_12\">\n      <!-- 600 -->\n      <g transform=\"translate(20.878125 93.967976)scale(0.1 -0.1)\">\n       <use xlink:href=\"#DejaVuSans-36\"/>\n       <use x=\"63.623047\" xlink:href=\"#DejaVuSans-30\"/>\n       <use x=\"127.246094\" xlink:href=\"#DejaVuSans-30\"/>\n      </g>\n     </g>\n    </g>\n    <g id=\"ytick_5\">\n     <g id=\"line2d_13\">\n      <g>\n       <use style=\"stroke:#000000;stroke-width:0.8;\" x=\"46.965625\" xlink:href=\"#m39666970fc\" y=\"45.345009\"/>\n      </g>\n     </g>\n     <g id=\"text_13\">\n      <!-- 800 -->\n      <g transform=\"translate(20.878125 49.144228)scale(0.1 -0.1)\">\n       <use xlink:href=\"#DejaVuSans-38\"/>\n       <use x=\"63.623047\" xlink:href=\"#DejaVuSans-30\"/>\n       <use x=\"127.246094\" xlink:href=\"#DejaVuSans-30\"/>\n      </g>\n     </g>\n    </g>\n    <g id=\"text_14\">\n     <!-- Frequency -->\n     <g transform=\"translate(14.798438 141.749687)rotate(-90)scale(0.1 -0.1)\">\n      <defs>\n       <path d=\"M 628 4666 \nL 3309 4666 \nL 3309 4134 \nL 1259 4134 \nL 1259 2759 \nL 3109 2759 \nL 3109 2228 \nL 1259 2228 \nL 1259 0 \nL 628 0 \nL 628 4666 \nz\n\" id=\"DejaVuSans-46\" transform=\"scale(0.015625)\"/>\n       <path d=\"M 2631 2963 \nQ 2534 3019 2420 3045 \nQ 2306 3072 2169 3072 \nQ 1681 3072 1420 2755 \nQ 1159 2438 1159 1844 \nL 1159 0 \nL 581 0 \nL 581 3500 \nL 1159 3500 \nL 1159 2956 \nQ 1341 3275 1631 3429 \nQ 1922 3584 2338 3584 \nQ 2397 3584 2469 3576 \nQ 2541 3569 2628 3553 \nL 2631 2963 \nz\n\" id=\"DejaVuSans-72\" transform=\"scale(0.015625)\"/>\n       <path d=\"M 3597 1894 \nL 3597 1613 \nL 953 1613 \nQ 991 1019 1311 708 \nQ 1631 397 2203 397 \nQ 2534 397 2845 478 \nQ 3156 559 3463 722 \nL 3463 178 \nQ 3153 47 2828 -22 \nQ 2503 -91 2169 -91 \nQ 1331 -91 842 396 \nQ 353 884 353 1716 \nQ 353 2575 817 3079 \nQ 1281 3584 2069 3584 \nQ 2775 3584 3186 3129 \nQ 3597 2675 3597 1894 \nz\nM 3022 2063 \nQ 3016 2534 2758 2815 \nQ 2500 3097 2075 3097 \nQ 1594 3097 1305 2825 \nQ 1016 2553 972 2059 \nL 3022 2063 \nz\n\" id=\"DejaVuSans-65\" transform=\"scale(0.015625)\"/>\n       <path d=\"M 947 1747 \nQ 947 1113 1208 752 \nQ 1469 391 1925 391 \nQ 2381 391 2643 752 \nQ 2906 1113 2906 1747 \nQ 2906 2381 2643 2742 \nQ 2381 3103 1925 3103 \nQ 1469 3103 1208 2742 \nQ 947 2381 947 1747 \nz\nM 2906 525 \nQ 2725 213 2448 61 \nQ 2172 -91 1784 -91 \nQ 1150 -91 751 415 \nQ 353 922 353 1747 \nQ 353 2572 751 3078 \nQ 1150 3584 1784 3584 \nQ 2172 3584 2448 3432 \nQ 2725 3281 2906 2969 \nL 2906 3500 \nL 3481 3500 \nL 3481 -1331 \nL 2906 -1331 \nL 2906 525 \nz\n\" id=\"DejaVuSans-71\" transform=\"scale(0.015625)\"/>\n       <path d=\"M 544 1381 \nL 544 3500 \nL 1119 3500 \nL 1119 1403 \nQ 1119 906 1312 657 \nQ 1506 409 1894 409 \nQ 2359 409 2629 706 \nQ 2900 1003 2900 1516 \nL 2900 3500 \nL 3475 3500 \nL 3475 0 \nL 2900 0 \nL 2900 538 \nQ 2691 219 2414 64 \nQ 2138 -91 1772 -91 \nQ 1169 -91 856 284 \nQ 544 659 544 1381 \nz\nM 1991 3584 \nL 1991 3584 \nz\n\" id=\"DejaVuSans-75\" transform=\"scale(0.015625)\"/>\n       <path d=\"M 3513 2113 \nL 3513 0 \nL 2938 0 \nL 2938 2094 \nQ 2938 2591 2744 2837 \nQ 2550 3084 2163 3084 \nQ 1697 3084 1428 2787 \nQ 1159 2491 1159 1978 \nL 1159 0 \nL 581 0 \nL 581 3500 \nL 1159 3500 \nL 1159 2956 \nQ 1366 3272 1645 3428 \nQ 1925 3584 2291 3584 \nQ 2894 3584 3203 3211 \nQ 3513 2838 3513 2113 \nz\n\" id=\"DejaVuSans-6e\" transform=\"scale(0.015625)\"/>\n       <path d=\"M 3122 3366 \nL 3122 2828 \nQ 2878 2963 2633 3030 \nQ 2388 3097 2138 3097 \nQ 1578 3097 1268 2742 \nQ 959 2388 959 1747 \nQ 959 1106 1268 751 \nQ 1578 397 2138 397 \nQ 2388 397 2633 464 \nQ 2878 531 3122 666 \nL 3122 134 \nQ 2881 22 2623 -34 \nQ 2366 -91 2075 -91 \nQ 1284 -91 818 406 \nQ 353 903 353 1747 \nQ 353 2603 823 3093 \nQ 1294 3584 2113 3584 \nQ 2378 3584 2631 3529 \nQ 2884 3475 3122 3366 \nz\n\" id=\"DejaVuSans-63\" transform=\"scale(0.015625)\"/>\n       <path d=\"M 2059 -325 \nQ 1816 -950 1584 -1140 \nQ 1353 -1331 966 -1331 \nL 506 -1331 \nL 506 -850 \nL 844 -850 \nQ 1081 -850 1212 -737 \nQ 1344 -625 1503 -206 \nL 1606 56 \nL 191 3500 \nL 800 3500 \nL 1894 763 \nL 2988 3500 \nL 3597 3500 \nL 2059 -325 \nz\n\" id=\"DejaVuSans-79\" transform=\"scale(0.015625)\"/>\n      </defs>\n      <use xlink:href=\"#DejaVuSans-46\"/>\n      <use x=\"50.269531\" xlink:href=\"#DejaVuSans-72\"/>\n      <use x=\"89.132812\" xlink:href=\"#DejaVuSans-65\"/>\n      <use x=\"150.65625\" xlink:href=\"#DejaVuSans-71\"/>\n      <use x=\"214.132812\" xlink:href=\"#DejaVuSans-75\"/>\n      <use x=\"277.511719\" xlink:href=\"#DejaVuSans-65\"/>\n      <use x=\"339.035156\" xlink:href=\"#DejaVuSans-6e\"/>\n      <use x=\"402.414062\" xlink:href=\"#DejaVuSans-63\"/>\n      <use x=\"457.394531\" xlink:href=\"#DejaVuSans-79\"/>\n     </g>\n    </g>\n   </g>\n   <g id=\"patch_13\">\n    <path d=\"M 46.965625 224.64 \nL 46.965625 7.2 \n\" style=\"fill:none;stroke:#000000;stroke-linecap:square;stroke-linejoin:miter;stroke-width:0.8;\"/>\n   </g>\n   <g id=\"patch_14\">\n    <path d=\"M 381.765625 224.64 \nL 381.765625 7.2 \n\" style=\"fill:none;stroke:#000000;stroke-linecap:square;stroke-linejoin:miter;stroke-width:0.8;\"/>\n   </g>\n   <g id=\"patch_15\">\n    <path d=\"M 46.965625 224.64 \nL 381.765625 224.64 \n\" style=\"fill:none;stroke:#000000;stroke-linecap:square;stroke-linejoin:miter;stroke-width:0.8;\"/>\n   </g>\n   <g id=\"patch_16\">\n    <path d=\"M 46.965625 7.2 \nL 381.765625 7.2 \n\" style=\"fill:none;stroke:#000000;stroke-linecap:square;stroke-linejoin:miter;stroke-width:0.8;\"/>\n   </g>\n  </g>\n </g>\n <defs>\n  <clipPath id=\"p4c45771765\">\n   <rect height=\"217.44\" width=\"334.8\" x=\"46.965625\" y=\"7.2\"/>\n  </clipPath>\n </defs>\n</svg>\n",
      "image/png": "[encoded data removed]"
     },
     "metadata": {
      "needs_background": "light"
     }
    }
   ],
   "source": [
    "# 대부분 testId 당 tag 가 3개 이하이지만, 최대 8개의 tag 가 포함되기도 함\n",
    "# 퀴즈 - 단원정리처럼 testId 마다 평가하는 주제 규모가 다른걸까..!\n",
    "tag_groupby['num_tags'].plot.hist()"
   ]
  },
  {
   "source": [
    "## 숫자 기반 Tag grouping\n",
    "- 주관이 좀 들어감 ㅠㅠ"
   ],
   "cell_type": "markdown",
   "metadata": {}
  },
  {
   "cell_type": "code",
   "execution_count": 10,
   "metadata": {},
   "outputs": [
    {
     "output_type": "stream",
     "name": "stdout",
     "text": [
      "Total 191 tag groups.\n\nLargest group contains 41 tags.\n[2085, 2087, 2089, 2090, 2091, 2092, 2093, 2094, 2096, 2097, 2098, 2099, 2100, 2101, 2102, 2103, 2104, 2105, 2107, 2108, 2109, 2110, 2111, 2112, 2113, 2114, 2115, 2116, 2118, 2119, 2120, 2121, 2122, 2123, 2125, 2127, 2128, 2129, 2131, 2132, 2133]\n"
     ]
    }
   ],
   "source": [
    "THRESH = 5\n",
    "\n",
    "sep_by_value = []\n",
    "\n",
    "prev_val = 0\n",
    "tg = []\n",
    "for tag in full_df_all_tags:\n",
    "    if tag - prev_val > THRESH:\n",
    "        if len(tg) > 0:\n",
    "            sep_by_value.append(tg)\n",
    "            tg = []\n",
    "    tg.append(tag)\n",
    "    prev_val = tag\n",
    "if len(tg) > 0:\n",
    "    sep_by_value.append(tg)\n",
    "    tg = []\n",
    "    \n",
    "print(f\"Total {len(sep_by_value)} tag groups.\")\n",
    "sorted_sep_by_value = sorted(sep_by_value, key=len, reverse=True)\n",
    "\n",
    "# Largest group size\n",
    "print(f\"\\nLargest group contains {len(sorted_sep_by_value[0])} tags.\")\n",
    "print(sorted_sep_by_value[0])"
   ]
  },
  {
   "cell_type": "code",
   "execution_count": 11,
   "metadata": {},
   "outputs": [],
   "source": [
    "# KnowledgeTag 별로 TagGroup 에 mapping\n",
    "\n",
    "tag2group = {}\n",
    "for tgidx, tg in enumerate(sep_by_value):\n",
    "    for tag in tg:\n",
    "        assert tag not in tag2group.keys()\n",
    "        tag2group[tag] = tgidx"
   ]
  },
  {
   "cell_type": "code",
   "execution_count": 12,
   "metadata": {},
   "outputs": [],
   "source": [
    "# 모든 태그가 빠짐없이 들어간거 확인\n",
    "assert len(full_df_all_tags) == len(tag2group.keys())"
   ]
  },
  {
   "source": [
    "## 데이터에 tag group 정보 추가하기\n",
    "- 아래 cell 에서 사용하려는 train, test data 경로 설정\n",
    "- `jupyter/pre-fe.ipynb` 로 미리 정답률 등 feature 가 계산된 파일이어야 합니다!!!!"
   ],
   "cell_type": "markdown",
   "metadata": {}
  },
  {
   "cell_type": "code",
   "execution_count": 91,
   "metadata": {},
   "outputs": [],
   "source": [
    "data_dir = '/opt/ml/input/data/train_dataset/'\n",
    "train_name = 'train_timedelta_basic_stats.csv'\n",
    "test_name = 'test_timedelta_basic_stats.csv'"
   ]
  },
  {
   "source": [
    "### Train, test data 를 읽어와서 KnowledgeTagGroup column 추가"
   ],
   "cell_type": "markdown",
   "metadata": {}
  },
  {
   "cell_type": "code",
   "execution_count": 92,
   "metadata": {},
   "outputs": [],
   "source": [
    "train_df = pd.read_csv(os.path.join(data_dir, train_name), dtype=dtype, parse_dates=['Timestamp'])\n",
    "train_df = train_df.sort_values(by=['userID', 'Timestamp']).reset_index(drop=True)"
   ]
  },
  {
   "cell_type": "code",
   "execution_count": 93,
   "metadata": {},
   "outputs": [
    {
     "output_type": "execute_result",
     "data": {
      "text/plain": [
       "   userID assessmentItemID      testId  answerCode           Timestamp  \\\n",
       "0       0       A060001001  A060000001           1 2020-03-24 00:17:11   \n",
       "1       0       A060001002  A060000001           1 2020-03-24 00:17:14   \n",
       "2       0       A060001003  A060000001           1 2020-03-24 00:17:22   \n",
       "3       0       A060001004  A060000001           1 2020-03-24 00:17:29   \n",
       "4       0       A060001005  A060000001           1 2020-03-24 00:17:36   \n",
       "\n",
       "   KnowledgeTag  elapsed  testId_answer_rate  testId_answer_sum  \\\n",
       "0          7224      3.0            0.947683             1268.0   \n",
       "1          7225      8.0            0.947683             1268.0   \n",
       "2          7225      7.0            0.947683             1268.0   \n",
       "3          7225      7.0            0.947683             1268.0   \n",
       "4          7225     11.0            0.947683             1268.0   \n",
       "\n",
       "   assessmentItemID_answer_rate  assessmentItemID_answer_sum  \\\n",
       "0                      0.982063                        219.0   \n",
       "1                      0.964126                        215.0   \n",
       "2                      0.910314                        203.0   \n",
       "3                      0.968610                        216.0   \n",
       "4                      0.941704                        210.0   \n",
       "\n",
       "   knowledge_tag_mean  knowledge_tag_sum  assessment_category  \\\n",
       "0            0.955022              637.0                    6   \n",
       "1            0.913187             3040.0                    6   \n",
       "2            0.913187             3040.0                    6   \n",
       "3            0.913187             3040.0                    6   \n",
       "4            0.913187             3040.0                    6   \n",
       "\n",
       "   assessment_category_mean  elapsed_time  et_by_kt  et_by_as  \n",
       "0                  0.709232      1.098612  2.183516  2.024569  \n",
       "1                  0.709232      2.079442  2.927493  2.828940  \n",
       "2                  0.709232      1.945910  2.927493  2.522950  \n",
       "3                  0.709232      1.945910  2.927493  2.512345  \n",
       "4                  0.709232      2.397895  2.927493  3.168945  "
      ],
      "text/html": "<div>\n<style scoped>\n    .dataframe tbody tr th:only-of-type {\n        vertical-align: middle;\n    }\n\n    .dataframe tbody tr th {\n        vertical-align: top;\n    }\n\n    .dataframe thead th {\n        text-align: right;\n    }\n</style>\n<table border=\"1\" class=\"dataframe\">\n  <thead>\n    <tr style=\"text-align: right;\">\n      <th></th>\n      <th>userID</th>\n      <th>assessmentItemID</th>\n      <th>testId</th>\n      <th>answerCode</th>\n      <th>Timestamp</th>\n      <th>KnowledgeTag</th>\n      <th>elapsed</th>\n      <th>testId_answer_rate</th>\n      <th>testId_answer_sum</th>\n      <th>assessmentItemID_answer_rate</th>\n      <th>assessmentItemID_answer_sum</th>\n      <th>knowledge_tag_mean</th>\n      <th>knowledge_tag_sum</th>\n      <th>assessment_category</th>\n      <th>assessment_category_mean</th>\n      <th>elapsed_time</th>\n      <th>et_by_kt</th>\n      <th>et_by_as</th>\n    </tr>\n  </thead>\n  <tbody>\n    <tr>\n      <th>0</th>\n      <td>0</td>\n      <td>A060001001</td>\n      <td>A060000001</td>\n      <td>1</td>\n      <td>2020-03-24 00:17:11</td>\n      <td>7224</td>\n      <td>3.0</td>\n      <td>0.947683</td>\n      <td>1268.0</td>\n      <td>0.982063</td>\n      <td>219.0</td>\n      <td>0.955022</td>\n      <td>637.0</td>\n      <td>6</td>\n      <td>0.709232</td>\n      <td>1.098612</td>\n      <td>2.183516</td>\n      <td>2.024569</td>\n    </tr>\n    <tr>\n      <th>1</th>\n      <td>0</td>\n      <td>A060001002</td>\n      <td>A060000001</td>\n      <td>1</td>\n      <td>2020-03-24 00:17:14</td>\n      <td>7225</td>\n      <td>8.0</td>\n      <td>0.947683</td>\n      <td>1268.0</td>\n      <td>0.964126</td>\n      <td>215.0</td>\n      <td>0.913187</td>\n      <td>3040.0</td>\n      <td>6</td>\n      <td>0.709232</td>\n      <td>2.079442</td>\n      <td>2.927493</td>\n      <td>2.828940</td>\n    </tr>\n    <tr>\n      <th>2</th>\n      <td>0</td>\n      <td>A060001003</td>\n      <td>A060000001</td>\n      <td>1</td>\n      <td>2020-03-24 00:17:22</td>\n      <td>7225</td>\n      <td>7.0</td>\n      <td>0.947683</td>\n      <td>1268.0</td>\n      <td>0.910314</td>\n      <td>203.0</td>\n      <td>0.913187</td>\n      <td>3040.0</td>\n      <td>6</td>\n      <td>0.709232</td>\n      <td>1.945910</td>\n      <td>2.927493</td>\n      <td>2.522950</td>\n    </tr>\n    <tr>\n      <th>3</th>\n      <td>0</td>\n      <td>A060001004</td>\n      <td>A060000001</td>\n      <td>1</td>\n      <td>2020-03-24 00:17:29</td>\n      <td>7225</td>\n      <td>7.0</td>\n      <td>0.947683</td>\n      <td>1268.0</td>\n      <td>0.968610</td>\n      <td>216.0</td>\n      <td>0.913187</td>\n      <td>3040.0</td>\n      <td>6</td>\n      <td>0.709232</td>\n      <td>1.945910</td>\n      <td>2.927493</td>\n      <td>2.512345</td>\n    </tr>\n    <tr>\n      <th>4</th>\n      <td>0</td>\n      <td>A060001005</td>\n      <td>A060000001</td>\n      <td>1</td>\n      <td>2020-03-24 00:17:36</td>\n      <td>7225</td>\n      <td>11.0</td>\n      <td>0.947683</td>\n      <td>1268.0</td>\n      <td>0.941704</td>\n      <td>210.0</td>\n      <td>0.913187</td>\n      <td>3040.0</td>\n      <td>6</td>\n      <td>0.709232</td>\n      <td>2.397895</td>\n      <td>2.927493</td>\n      <td>3.168945</td>\n    </tr>\n  </tbody>\n</table>\n</div>"
     },
     "metadata": {},
     "execution_count": 93
    }
   ],
   "source": [
    "train_df.head()"
   ]
  },
  {
   "cell_type": "code",
   "execution_count": 94,
   "metadata": {},
   "outputs": [],
   "source": [
    "# KnowledgeTag 를 TagGroup 으로 mapping\n",
    "def get_tag_group(t):\n",
    "    return tag2group[t]"
   ]
  },
  {
   "cell_type": "code",
   "execution_count": 95,
   "metadata": {},
   "outputs": [],
   "source": [
    "train_df['KnowledgeTagGroup'] = train_df['KnowledgeTag'].apply(get_tag_group)"
   ]
  },
  {
   "cell_type": "code",
   "execution_count": 96,
   "metadata": {},
   "outputs": [],
   "source": [
    "test_df = pd.read_csv(os.path.join(data_dir, test_name), dtype=dtype, parse_dates=['Timestamp'])\n",
    "test_df = test_df.sort_values(by=['userID', 'Timestamp']).reset_index(drop=True)"
   ]
  },
  {
   "cell_type": "code",
   "execution_count": 97,
   "metadata": {},
   "outputs": [],
   "source": [
    "test_df['KnowledgeTagGroup'] = test_df['KnowledgeTag'].apply(get_tag_group)"
   ]
  },
  {
   "source": [
    "### Tag group 기반 유사한 testId 모으기"
   ],
   "cell_type": "markdown",
   "metadata": {}
  },
  {
   "cell_type": "code",
   "execution_count": 20,
   "metadata": {},
   "outputs": [],
   "source": [
    "def get_tag_sets(kts):\n",
    "    # testId 내 등장하는 tag list -> set of tag groups 을 정렬된 tuple 로 반환\n",
    "    tmp = set()\n",
    "    for kt in kts:\n",
    "        tmp.add(get_tag_group(kt))\n",
    "    return tuple(sorted(tmp))"
   ]
  },
  {
   "cell_type": "code",
   "execution_count": 98,
   "metadata": {},
   "outputs": [
    {
     "output_type": "execute_result",
     "data": {
      "text/plain": [
       "       testId KnowledgeTagGroups\n",
       "0  A010000001              (94,)\n",
       "1  A010000002          (94, 101)\n",
       "2  A010000003          (95, 101)\n",
       "3  A010000004          (94, 101)\n",
       "4  A010000005           (94, 95)\n",
       "5  A010000006           (94, 95)\n",
       "6  A010000007              (92,)\n",
       "7  A010000008              (92,)\n",
       "8  A010000009              (83,)\n",
       "9  A010000010              (83,)"
      ],
      "text/html": "<div>\n<style scoped>\n    .dataframe tbody tr th:only-of-type {\n        vertical-align: middle;\n    }\n\n    .dataframe tbody tr th {\n        vertical-align: top;\n    }\n\n    .dataframe thead th {\n        text-align: right;\n    }\n</style>\n<table border=\"1\" class=\"dataframe\">\n  <thead>\n    <tr style=\"text-align: right;\">\n      <th></th>\n      <th>testId</th>\n      <th>KnowledgeTagGroups</th>\n    </tr>\n  </thead>\n  <tbody>\n    <tr>\n      <th>0</th>\n      <td>A010000001</td>\n      <td>(94,)</td>\n    </tr>\n    <tr>\n      <th>1</th>\n      <td>A010000002</td>\n      <td>(94, 101)</td>\n    </tr>\n    <tr>\n      <th>2</th>\n      <td>A010000003</td>\n      <td>(95, 101)</td>\n    </tr>\n    <tr>\n      <th>3</th>\n      <td>A010000004</td>\n      <td>(94, 101)</td>\n    </tr>\n    <tr>\n      <th>4</th>\n      <td>A010000005</td>\n      <td>(94, 95)</td>\n    </tr>\n    <tr>\n      <th>5</th>\n      <td>A010000006</td>\n      <td>(94, 95)</td>\n    </tr>\n    <tr>\n      <th>6</th>\n      <td>A010000007</td>\n      <td>(92,)</td>\n    </tr>\n    <tr>\n      <th>7</th>\n      <td>A010000008</td>\n      <td>(92,)</td>\n    </tr>\n    <tr>\n      <th>8</th>\n      <td>A010000009</td>\n      <td>(83,)</td>\n    </tr>\n    <tr>\n      <th>9</th>\n      <td>A010000010</td>\n      <td>(83,)</td>\n    </tr>\n  </tbody>\n</table>\n</div>"
     },
     "metadata": {},
     "execution_count": 98
    }
   ],
   "source": [
    "# Train data 내 testId 들의 tag group set 을 구함\n",
    "testid_groupby = train_df.groupby(['testId'], as_index = False).agg({\n",
    "    'KnowledgeTag': get_tag_sets\n",
    "})\n",
    "testid_groupby = testid_groupby.rename(columns={\"KnowledgeTag\": \"KnowledgeTagGroups\"})\n",
    "testid_groupby.head(10)"
   ]
  },
  {
   "cell_type": "code",
   "execution_count": 99,
   "metadata": {},
   "outputs": [
    {
     "output_type": "execute_result",
     "data": {
      "text/plain": [
       "                                                              testId\n",
       "KnowledgeTagGroups                                                  \n",
       "(0,)                [A080000081, A080000082, A080000083, A080000084]\n",
       "(0, 53)                                     [A080000077, A080000078]\n",
       "(0, 175)                                    [A080000079, A080000080]\n",
       "(1, 69)                                                 [A090000002]\n",
       "(1, 69, 70)                                             [A090000004]"
      ],
      "text/html": "<div>\n<style scoped>\n    .dataframe tbody tr th:only-of-type {\n        vertical-align: middle;\n    }\n\n    .dataframe tbody tr th {\n        vertical-align: top;\n    }\n\n    .dataframe thead th {\n        text-align: right;\n    }\n</style>\n<table border=\"1\" class=\"dataframe\">\n  <thead>\n    <tr style=\"text-align: right;\">\n      <th></th>\n      <th>testId</th>\n    </tr>\n    <tr>\n      <th>KnowledgeTagGroups</th>\n      <th></th>\n    </tr>\n  </thead>\n  <tbody>\n    <tr>\n      <th>(0,)</th>\n      <td>[A080000081, A080000082, A080000083, A080000084]</td>\n    </tr>\n    <tr>\n      <th>(0, 53)</th>\n      <td>[A080000077, A080000078]</td>\n    </tr>\n    <tr>\n      <th>(0, 175)</th>\n      <td>[A080000079, A080000080]</td>\n    </tr>\n    <tr>\n      <th>(1, 69)</th>\n      <td>[A090000002]</td>\n    </tr>\n    <tr>\n      <th>(1, 69, 70)</th>\n      <td>[A090000004]</td>\n    </tr>\n  </tbody>\n</table>\n</div>"
     },
     "metadata": {},
     "execution_count": 99
    }
   ],
   "source": [
    "# 동일한 tag group set 을 가진 testId 들을 list 화\n",
    "testid_groups = testid_groupby.groupby(['KnowledgeTagGroups'])['testId'].apply(list)\n",
    "testid_groups = testid_groups.to_frame()\n",
    "\n",
    "testid_groups.head()"
   ]
  },
  {
   "cell_type": "code",
   "execution_count": 100,
   "metadata": {},
   "outputs": [],
   "source": [
    "id2tag = {}  # testId -> KnowledgeTagGroup\n",
    "tag2ids = {} # KnowledgeTagGroup -> list of testIds\n",
    "\n",
    "for tag, tests in testid_groups.iterrows():\n",
    "    tag2ids[tag] = tests['testId']\n",
    "    for test in tests['testId']:\n",
    "        id2tag[test] = tag\n"
   ]
  },
  {
   "cell_type": "code",
   "execution_count": 101,
   "metadata": {},
   "outputs": [
    {
     "output_type": "stream",
     "name": "stdout",
     "text": [
      "6698\n744\n"
     ]
    }
   ],
   "source": [
    "# 각 유저에 대해 예측 대상인 마지막 testId 구함 -> 유사한 시험지들로만 데이터 구성해볼 예정\n",
    "train_last_testids = train_df.groupby(['userID']).tail(1)['testId']\n",
    "test_last_testids = test_df.groupby(['userID']).tail(1)['testId']\n",
    "print(len(train_last_testids))\n",
    "print(len(test_last_testids))"
   ]
  },
  {
   "cell_type": "code",
   "execution_count": 102,
   "metadata": {},
   "outputs": [
    {
     "output_type": "stream",
     "name": "stdout",
     "text": [
      "870\n"
     ]
    }
   ],
   "source": [
    "# Train, test dataset 에 대해 unique last testIds 구함\n",
    "last_testids = set(train_last_testids) | set(test_last_testids)\n",
    "print(len(last_testids))"
   ]
  },
  {
   "cell_type": "code",
   "execution_count": 103,
   "metadata": {},
   "outputs": [
    {
     "output_type": "stream",
     "name": "stdout",
     "text": [
      "65\n"
     ]
    }
   ],
   "source": [
    "single_ktg = []  # 해당 KnowledgeTagGroup 을 가진 testId 가 한장뿐\n",
    "single_ktg_lens = []\n",
    "\n",
    "last_tags = []\n",
    "\n",
    "for last in last_testids:\n",
    "    last_tag = id2tag[last]\n",
    "    same_ids = tag2ids[last_tag]\n",
    "    last_tags.append(last_tag)\n",
    "    if len(same_ids) == 1:\n",
    "        single_ktg.append(last_tag)\n",
    "        single_ktg_lens.append(len(last_tag))\n",
    "print(len(single_ktg))"
   ]
  },
  {
   "cell_type": "code",
   "execution_count": 104,
   "metadata": {},
   "outputs": [
    {
     "output_type": "execute_result",
     "data": {
      "text/plain": [
       "<AxesSubplot:ylabel='Count'>"
      ]
     },
     "metadata": {},
     "execution_count": 104
    },
    {
     "output_type": "display_data",
     "data": {
      "text/plain": "<Figure size 432x288 with 1 Axes>",
      "image/svg+xml": "<?xml version=\"1.0\" encoding=\"utf-8\" standalone=\"no\"?>\n<!DOCTYPE svg PUBLIC \"-//W3C//DTD SVG 1.1//EN\"\n  \"http://www.w3.org/Graphics/SVG/1.1/DTD/svg11.dtd\">\n<svg height=\"250.591629pt\" version=\"1.1\" viewBox=\"0 0 382.603125 250.591629\" width=\"382.603125pt\" xmlns=\"http://www.w3.org/2000/svg\" xmlns:xlink=\"http://www.w3.org/1999/xlink\">\n <metadata>\n  <rdf:RDF xmlns:cc=\"http://creativecommons.org/ns#\" xmlns:dc=\"http://purl.org/dc/elements/1.1/\" xmlns:rdf=\"http://www.w3.org/1999/02/22-rdf-syntax-ns#\">\n   <cc:Work>\n    <dc:type rdf:resource=\"http://purl.org/dc/dcmitype/StillImage\"/>\n    <dc:date>2021-06-11T12:06:19.340210</dc:date>\n    <dc:format>image/svg+xml</dc:format>\n    <dc:creator>\n     <cc:Agent>\n      <dc:title>Matplotlib v3.4.2, https://matplotlib.org/</dc:title>\n     </cc:Agent>\n    </dc:creator>\n   </cc:Work>\n  </rdf:RDF>\n </metadata>\n <defs>\n  <style type=\"text/css\">*{stroke-linecap:butt;stroke-linejoin:round;}</style>\n </defs>\n <g id=\"figure_1\">\n  <g id=\"patch_1\">\n   <path d=\"M 0 250.591629 \nL 382.603125 250.591629 \nL 382.603125 0 \nL 0 0 \nz\n\" style=\"fill:none;\"/>\n  </g>\n  <g id=\"axes_1\">\n   <g id=\"patch_2\">\n    <path d=\"M 40.603125 226.713504 \nL 375.403125 226.713504 \nL 375.403125 9.273504 \nL 40.603125 9.273504 \nz\n\" style=\"fill:#ffffff;\"/>\n   </g>\n   <g id=\"patch_3\">\n    <path clip-path=\"url(#p4392711598)\" d=\"M 55.821307 226.713504 \nL 83.490728 226.713504 \nL 83.490728 140.42779 \nL 55.821307 140.42779 \nz\n\" style=\"fill:#1f77b4;fill-opacity:0.75;stroke:#000000;stroke-linejoin:miter;\"/>\n   </g>\n   <g id=\"patch_4\">\n    <path clip-path=\"url(#p4392711598)\" d=\"M 83.490728 226.713504 \nL 111.16015 226.713504 \nL 111.16015 226.713504 \nL 83.490728 226.713504 \nz\n\" style=\"fill:#1f77b4;fill-opacity:0.75;stroke:#000000;stroke-linejoin:miter;\"/>\n   </g>\n   <g id=\"patch_5\">\n    <path clip-path=\"url(#p4392711598)\" d=\"M 111.16015 226.713504 \nL 138.829571 226.713504 \nL 138.829571 19.62779 \nL 111.16015 19.62779 \nz\n\" style=\"fill:#1f77b4;fill-opacity:0.75;stroke:#000000;stroke-linejoin:miter;\"/>\n   </g>\n   <g id=\"patch_6\">\n    <path clip-path=\"url(#p4392711598)\" d=\"M 138.829571 226.713504 \nL 166.498993 226.713504 \nL 166.498993 226.713504 \nL 138.829571 226.713504 \nz\n\" style=\"fill:#1f77b4;fill-opacity:0.75;stroke:#000000;stroke-linejoin:miter;\"/>\n   </g>\n   <g id=\"patch_7\">\n    <path clip-path=\"url(#p4392711598)\" d=\"M 166.498993 226.713504 \nL 194.168414 226.713504 \nL 194.168414 19.62779 \nL 166.498993 19.62779 \nz\n\" style=\"fill:#1f77b4;fill-opacity:0.75;stroke:#000000;stroke-linejoin:miter;\"/>\n   </g>\n   <g id=\"patch_8\">\n    <path clip-path=\"url(#p4392711598)\" d=\"M 194.168414 226.713504 \nL 221.837836 226.713504 \nL 221.837836 226.713504 \nL 194.168414 226.713504 \nz\n\" style=\"fill:#1f77b4;fill-opacity:0.75;stroke:#000000;stroke-linejoin:miter;\"/>\n   </g>\n   <g id=\"patch_9\">\n    <path clip-path=\"url(#p4392711598)\" d=\"M 221.837836 226.713504 \nL 249.507257 226.713504 \nL 249.507257 183.570647 \nL 221.837836 183.570647 \nz\n\" style=\"fill:#1f77b4;fill-opacity:0.75;stroke:#000000;stroke-linejoin:miter;\"/>\n   </g>\n   <g id=\"patch_10\">\n    <path clip-path=\"url(#p4392711598)\" d=\"M 249.507257 226.713504 \nL 277.176679 226.713504 \nL 277.176679 226.713504 \nL 249.507257 226.713504 \nz\n\" style=\"fill:#1f77b4;fill-opacity:0.75;stroke:#000000;stroke-linejoin:miter;\"/>\n   </g>\n   <g id=\"patch_11\">\n    <path clip-path=\"url(#p4392711598)\" d=\"M 277.176679 226.713504 \nL 304.8461 226.713504 \nL 304.8461 218.084933 \nL 277.176679 218.084933 \nz\n\" style=\"fill:#1f77b4;fill-opacity:0.75;stroke:#000000;stroke-linejoin:miter;\"/>\n   </g>\n   <g id=\"patch_12\">\n    <path clip-path=\"url(#p4392711598)\" d=\"M 304.8461 226.713504 \nL 332.515522 226.713504 \nL 332.515522 226.713504 \nL 304.8461 226.713504 \nz\n\" style=\"fill:#1f77b4;fill-opacity:0.75;stroke:#000000;stroke-linejoin:miter;\"/>\n   </g>\n   <g id=\"patch_13\">\n    <path clip-path=\"url(#p4392711598)\" d=\"M 332.515522 226.713504 \nL 360.184943 226.713504 \nL 360.184943 218.084933 \nL 332.515522 218.084933 \nz\n\" style=\"fill:#1f77b4;fill-opacity:0.75;stroke:#000000;stroke-linejoin:miter;\"/>\n   </g>\n   <g id=\"matplotlib.axis_1\">\n    <g id=\"xtick_1\">\n     <g id=\"line2d_1\">\n      <defs>\n       <path d=\"M 0 0 \nL 0 3.5 \n\" id=\"m93997c783a\" style=\"stroke:#000000;stroke-width:0.8;\"/>\n      </defs>\n      <g>\n       <use style=\"stroke:#000000;stroke-width:0.8;\" x=\"55.821307\" xlink:href=\"#m93997c783a\" y=\"226.713504\"/>\n      </g>\n     </g>\n     <g id=\"text_1\">\n      <!-- 1 -->\n      <g transform=\"translate(52.640057 241.311942)scale(0.1 -0.1)\">\n       <defs>\n        <path d=\"M 794 531 \nL 1825 531 \nL 1825 4091 \nL 703 3866 \nL 703 4441 \nL 1819 4666 \nL 2450 4666 \nL 2450 531 \nL 3481 531 \nL 3481 0 \nL 794 0 \nL 794 531 \nz\n\" id=\"DejaVuSans-31\" transform=\"scale(0.015625)\"/>\n       </defs>\n       <use xlink:href=\"#DejaVuSans-31\"/>\n      </g>\n     </g>\n    </g>\n    <g id=\"xtick_2\">\n     <g id=\"line2d_2\">\n      <g>\n       <use style=\"stroke:#000000;stroke-width:0.8;\" x=\"116.694034\" xlink:href=\"#m93997c783a\" y=\"226.713504\"/>\n      </g>\n     </g>\n     <g id=\"text_2\">\n      <!-- 2 -->\n      <g transform=\"translate(113.512784 241.311942)scale(0.1 -0.1)\">\n       <defs>\n        <path d=\"M 1228 531 \nL 3431 531 \nL 3431 0 \nL 469 0 \nL 469 531 \nQ 828 903 1448 1529 \nQ 2069 2156 2228 2338 \nQ 2531 2678 2651 2914 \nQ 2772 3150 2772 3378 \nQ 2772 3750 2511 3984 \nQ 2250 4219 1831 4219 \nQ 1534 4219 1204 4116 \nQ 875 4013 500 3803 \nL 500 4441 \nQ 881 4594 1212 4672 \nQ 1544 4750 1819 4750 \nQ 2544 4750 2975 4387 \nQ 3406 4025 3406 3419 \nQ 3406 3131 3298 2873 \nQ 3191 2616 2906 2266 \nQ 2828 2175 2409 1742 \nQ 1991 1309 1228 531 \nz\n\" id=\"DejaVuSans-32\" transform=\"scale(0.015625)\"/>\n       </defs>\n       <use xlink:href=\"#DejaVuSans-32\"/>\n      </g>\n     </g>\n    </g>\n    <g id=\"xtick_3\">\n     <g id=\"line2d_3\">\n      <g>\n       <use style=\"stroke:#000000;stroke-width:0.8;\" x=\"177.566761\" xlink:href=\"#m93997c783a\" y=\"226.713504\"/>\n      </g>\n     </g>\n     <g id=\"text_3\">\n      <!-- 3 -->\n      <g transform=\"translate(174.385511 241.311942)scale(0.1 -0.1)\">\n       <defs>\n        <path d=\"M 2597 2516 \nQ 3050 2419 3304 2112 \nQ 3559 1806 3559 1356 \nQ 3559 666 3084 287 \nQ 2609 -91 1734 -91 \nQ 1441 -91 1130 -33 \nQ 819 25 488 141 \nL 488 750 \nQ 750 597 1062 519 \nQ 1375 441 1716 441 \nQ 2309 441 2620 675 \nQ 2931 909 2931 1356 \nQ 2931 1769 2642 2001 \nQ 2353 2234 1838 2234 \nL 1294 2234 \nL 1294 2753 \nL 1863 2753 \nQ 2328 2753 2575 2939 \nQ 2822 3125 2822 3475 \nQ 2822 3834 2567 4026 \nQ 2313 4219 1838 4219 \nQ 1578 4219 1281 4162 \nQ 984 4106 628 3988 \nL 628 4550 \nQ 988 4650 1302 4700 \nQ 1616 4750 1894 4750 \nQ 2613 4750 3031 4423 \nQ 3450 4097 3450 3541 \nQ 3450 3153 3228 2886 \nQ 3006 2619 2597 2516 \nz\n\" id=\"DejaVuSans-33\" transform=\"scale(0.015625)\"/>\n       </defs>\n       <use xlink:href=\"#DejaVuSans-33\"/>\n      </g>\n     </g>\n    </g>\n    <g id=\"xtick_4\">\n     <g id=\"line2d_4\">\n      <g>\n       <use style=\"stroke:#000000;stroke-width:0.8;\" x=\"238.439489\" xlink:href=\"#m93997c783a\" y=\"226.713504\"/>\n      </g>\n     </g>\n     <g id=\"text_4\">\n      <!-- 4 -->\n      <g transform=\"translate(235.258239 241.311942)scale(0.1 -0.1)\">\n       <defs>\n        <path d=\"M 2419 4116 \nL 825 1625 \nL 2419 1625 \nL 2419 4116 \nz\nM 2253 4666 \nL 3047 4666 \nL 3047 1625 \nL 3713 1625 \nL 3713 1100 \nL 3047 1100 \nL 3047 0 \nL 2419 0 \nL 2419 1100 \nL 313 1100 \nL 313 1709 \nL 2253 4666 \nz\n\" id=\"DejaVuSans-34\" transform=\"scale(0.015625)\"/>\n       </defs>\n       <use xlink:href=\"#DejaVuSans-34\"/>\n      </g>\n     </g>\n    </g>\n    <g id=\"xtick_5\">\n     <g id=\"line2d_5\">\n      <g>\n       <use style=\"stroke:#000000;stroke-width:0.8;\" x=\"299.312216\" xlink:href=\"#m93997c783a\" y=\"226.713504\"/>\n      </g>\n     </g>\n     <g id=\"text_5\">\n      <!-- 5 -->\n      <g transform=\"translate(296.130966 241.311942)scale(0.1 -0.1)\">\n       <defs>\n        <path d=\"M 691 4666 \nL 3169 4666 \nL 3169 4134 \nL 1269 4134 \nL 1269 2991 \nQ 1406 3038 1543 3061 \nQ 1681 3084 1819 3084 \nQ 2600 3084 3056 2656 \nQ 3513 2228 3513 1497 \nQ 3513 744 3044 326 \nQ 2575 -91 1722 -91 \nQ 1428 -91 1123 -41 \nQ 819 9 494 109 \nL 494 744 \nQ 775 591 1075 516 \nQ 1375 441 1709 441 \nQ 2250 441 2565 725 \nQ 2881 1009 2881 1497 \nQ 2881 1984 2565 2268 \nQ 2250 2553 1709 2553 \nQ 1456 2553 1204 2497 \nQ 953 2441 691 2322 \nL 691 4666 \nz\n\" id=\"DejaVuSans-35\" transform=\"scale(0.015625)\"/>\n       </defs>\n       <use xlink:href=\"#DejaVuSans-35\"/>\n      </g>\n     </g>\n    </g>\n    <g id=\"xtick_6\">\n     <g id=\"line2d_6\">\n      <g>\n       <use style=\"stroke:#000000;stroke-width:0.8;\" x=\"360.184943\" xlink:href=\"#m93997c783a\" y=\"226.713504\"/>\n      </g>\n     </g>\n     <g id=\"text_6\">\n      <!-- 6 -->\n      <g transform=\"translate(357.003693 241.311942)scale(0.1 -0.1)\">\n       <defs>\n        <path d=\"M 2113 2584 \nQ 1688 2584 1439 2293 \nQ 1191 2003 1191 1497 \nQ 1191 994 1439 701 \nQ 1688 409 2113 409 \nQ 2538 409 2786 701 \nQ 3034 994 3034 1497 \nQ 3034 2003 2786 2293 \nQ 2538 2584 2113 2584 \nz\nM 3366 4563 \nL 3366 3988 \nQ 3128 4100 2886 4159 \nQ 2644 4219 2406 4219 \nQ 1781 4219 1451 3797 \nQ 1122 3375 1075 2522 \nQ 1259 2794 1537 2939 \nQ 1816 3084 2150 3084 \nQ 2853 3084 3261 2657 \nQ 3669 2231 3669 1497 \nQ 3669 778 3244 343 \nQ 2819 -91 2113 -91 \nQ 1303 -91 875 529 \nQ 447 1150 447 2328 \nQ 447 3434 972 4092 \nQ 1497 4750 2381 4750 \nQ 2619 4750 2861 4703 \nQ 3103 4656 3366 4563 \nz\n\" id=\"DejaVuSans-36\" transform=\"scale(0.015625)\"/>\n       </defs>\n       <use xlink:href=\"#DejaVuSans-36\"/>\n      </g>\n     </g>\n    </g>\n   </g>\n   <g id=\"matplotlib.axis_2\">\n    <g id=\"ytick_1\">\n     <g id=\"line2d_7\">\n      <defs>\n       <path d=\"M 0 0 \nL -3.5 0 \n\" id=\"m2da1a1c7c3\" style=\"stroke:#000000;stroke-width:0.8;\"/>\n      </defs>\n      <g>\n       <use style=\"stroke:#000000;stroke-width:0.8;\" x=\"40.603125\" xlink:href=\"#m2da1a1c7c3\" y=\"226.713504\"/>\n      </g>\n     </g>\n     <g id=\"text_7\">\n      <!-- 0 -->\n      <g transform=\"translate(27.240625 230.512723)scale(0.1 -0.1)\">\n       <defs>\n        <path d=\"M 2034 4250 \nQ 1547 4250 1301 3770 \nQ 1056 3291 1056 2328 \nQ 1056 1369 1301 889 \nQ 1547 409 2034 409 \nQ 2525 409 2770 889 \nQ 3016 1369 3016 2328 \nQ 3016 3291 2770 3770 \nQ 2525 4250 2034 4250 \nz\nM 2034 4750 \nQ 2819 4750 3233 4129 \nQ 3647 3509 3647 2328 \nQ 3647 1150 3233 529 \nQ 2819 -91 2034 -91 \nQ 1250 -91 836 529 \nQ 422 1150 422 2328 \nQ 422 3509 836 4129 \nQ 1250 4750 2034 4750 \nz\n\" id=\"DejaVuSans-30\" transform=\"scale(0.015625)\"/>\n       </defs>\n       <use xlink:href=\"#DejaVuSans-30\"/>\n      </g>\n     </g>\n    </g>\n    <g id=\"ytick_2\">\n     <g id=\"line2d_8\">\n      <g>\n       <use style=\"stroke:#000000;stroke-width:0.8;\" x=\"40.603125\" xlink:href=\"#m2da1a1c7c3\" y=\"183.570647\"/>\n      </g>\n     </g>\n     <g id=\"text_8\">\n      <!-- 5 -->\n      <g transform=\"translate(27.240625 187.369866)scale(0.1 -0.1)\">\n       <use xlink:href=\"#DejaVuSans-35\"/>\n      </g>\n     </g>\n    </g>\n    <g id=\"ytick_3\">\n     <g id=\"line2d_9\">\n      <g>\n       <use style=\"stroke:#000000;stroke-width:0.8;\" x=\"40.603125\" xlink:href=\"#m2da1a1c7c3\" y=\"140.42779\"/>\n      </g>\n     </g>\n     <g id=\"text_9\">\n      <!-- 10 -->\n      <g transform=\"translate(20.878125 144.227009)scale(0.1 -0.1)\">\n       <use xlink:href=\"#DejaVuSans-31\"/>\n       <use x=\"63.623047\" xlink:href=\"#DejaVuSans-30\"/>\n      </g>\n     </g>\n    </g>\n    <g id=\"ytick_4\">\n     <g id=\"line2d_10\">\n      <g>\n       <use style=\"stroke:#000000;stroke-width:0.8;\" x=\"40.603125\" xlink:href=\"#m2da1a1c7c3\" y=\"97.284933\"/>\n      </g>\n     </g>\n     <g id=\"text_10\">\n      <!-- 15 -->\n      <g transform=\"translate(20.878125 101.084152)scale(0.1 -0.1)\">\n       <use xlink:href=\"#DejaVuSans-31\"/>\n       <use x=\"63.623047\" xlink:href=\"#DejaVuSans-35\"/>\n      </g>\n     </g>\n    </g>\n    <g id=\"ytick_5\">\n     <g id=\"line2d_11\">\n      <g>\n       <use style=\"stroke:#000000;stroke-width:0.8;\" x=\"40.603125\" xlink:href=\"#m2da1a1c7c3\" y=\"54.142076\"/>\n      </g>\n     </g>\n     <g id=\"text_11\">\n      <!-- 20 -->\n      <g transform=\"translate(20.878125 57.941295)scale(0.1 -0.1)\">\n       <use xlink:href=\"#DejaVuSans-32\"/>\n       <use x=\"63.623047\" xlink:href=\"#DejaVuSans-30\"/>\n      </g>\n     </g>\n    </g>\n    <g id=\"ytick_6\">\n     <g id=\"line2d_12\">\n      <g>\n       <use style=\"stroke:#000000;stroke-width:0.8;\" x=\"40.603125\" xlink:href=\"#m2da1a1c7c3\" y=\"10.999219\"/>\n      </g>\n     </g>\n     <g id=\"text_12\">\n      <!-- 25 -->\n      <g transform=\"translate(20.878125 14.798437)scale(0.1 -0.1)\">\n       <use xlink:href=\"#DejaVuSans-32\"/>\n       <use x=\"63.623047\" xlink:href=\"#DejaVuSans-35\"/>\n      </g>\n     </g>\n    </g>\n    <g id=\"text_13\">\n     <!-- Count -->\n     <g transform=\"translate(14.798438 132.841942)rotate(-90)scale(0.1 -0.1)\">\n      <defs>\n       <path d=\"M 4122 4306 \nL 4122 3641 \nQ 3803 3938 3442 4084 \nQ 3081 4231 2675 4231 \nQ 1875 4231 1450 3742 \nQ 1025 3253 1025 2328 \nQ 1025 1406 1450 917 \nQ 1875 428 2675 428 \nQ 3081 428 3442 575 \nQ 3803 722 4122 1019 \nL 4122 359 \nQ 3791 134 3420 21 \nQ 3050 -91 2638 -91 \nQ 1578 -91 968 557 \nQ 359 1206 359 2328 \nQ 359 3453 968 4101 \nQ 1578 4750 2638 4750 \nQ 3056 4750 3426 4639 \nQ 3797 4528 4122 4306 \nz\n\" id=\"DejaVuSans-43\" transform=\"scale(0.015625)\"/>\n       <path d=\"M 1959 3097 \nQ 1497 3097 1228 2736 \nQ 959 2375 959 1747 \nQ 959 1119 1226 758 \nQ 1494 397 1959 397 \nQ 2419 397 2687 759 \nQ 2956 1122 2956 1747 \nQ 2956 2369 2687 2733 \nQ 2419 3097 1959 3097 \nz\nM 1959 3584 \nQ 2709 3584 3137 3096 \nQ 3566 2609 3566 1747 \nQ 3566 888 3137 398 \nQ 2709 -91 1959 -91 \nQ 1206 -91 779 398 \nQ 353 888 353 1747 \nQ 353 2609 779 3096 \nQ 1206 3584 1959 3584 \nz\n\" id=\"DejaVuSans-6f\" transform=\"scale(0.015625)\"/>\n       <path d=\"M 544 1381 \nL 544 3500 \nL 1119 3500 \nL 1119 1403 \nQ 1119 906 1312 657 \nQ 1506 409 1894 409 \nQ 2359 409 2629 706 \nQ 2900 1003 2900 1516 \nL 2900 3500 \nL 3475 3500 \nL 3475 0 \nL 2900 0 \nL 2900 538 \nQ 2691 219 2414 64 \nQ 2138 -91 1772 -91 \nQ 1169 -91 856 284 \nQ 544 659 544 1381 \nz\nM 1991 3584 \nL 1991 3584 \nz\n\" id=\"DejaVuSans-75\" transform=\"scale(0.015625)\"/>\n       <path d=\"M 3513 2113 \nL 3513 0 \nL 2938 0 \nL 2938 2094 \nQ 2938 2591 2744 2837 \nQ 2550 3084 2163 3084 \nQ 1697 3084 1428 2787 \nQ 1159 2491 1159 1978 \nL 1159 0 \nL 581 0 \nL 581 3500 \nL 1159 3500 \nL 1159 2956 \nQ 1366 3272 1645 3428 \nQ 1925 3584 2291 3584 \nQ 2894 3584 3203 3211 \nQ 3513 2838 3513 2113 \nz\n\" id=\"DejaVuSans-6e\" transform=\"scale(0.015625)\"/>\n       <path d=\"M 1172 4494 \nL 1172 3500 \nL 2356 3500 \nL 2356 3053 \nL 1172 3053 \nL 1172 1153 \nQ 1172 725 1289 603 \nQ 1406 481 1766 481 \nL 2356 481 \nL 2356 0 \nL 1766 0 \nQ 1100 0 847 248 \nQ 594 497 594 1153 \nL 594 3053 \nL 172 3053 \nL 172 3500 \nL 594 3500 \nL 594 4494 \nL 1172 4494 \nz\n\" id=\"DejaVuSans-74\" transform=\"scale(0.015625)\"/>\n      </defs>\n      <use xlink:href=\"#DejaVuSans-43\"/>\n      <use x=\"69.824219\" xlink:href=\"#DejaVuSans-6f\"/>\n      <use x=\"131.005859\" xlink:href=\"#DejaVuSans-75\"/>\n      <use x=\"194.384766\" xlink:href=\"#DejaVuSans-6e\"/>\n      <use x=\"257.763672\" xlink:href=\"#DejaVuSans-74\"/>\n     </g>\n    </g>\n   </g>\n   <g id=\"patch_14\">\n    <path d=\"M 40.603125 226.713504 \nL 40.603125 9.273504 \n\" style=\"fill:none;stroke:#000000;stroke-linecap:square;stroke-linejoin:miter;stroke-width:0.8;\"/>\n   </g>\n   <g id=\"patch_15\">\n    <path d=\"M 375.403125 226.713504 \nL 375.403125 9.273504 \n\" style=\"fill:none;stroke:#000000;stroke-linecap:square;stroke-linejoin:miter;stroke-width:0.8;\"/>\n   </g>\n   <g id=\"patch_16\">\n    <path d=\"M 40.603125 226.713504 \nL 375.403125 226.713504 \n\" style=\"fill:none;stroke:#000000;stroke-linecap:square;stroke-linejoin:miter;stroke-width:0.8;\"/>\n   </g>\n   <g id=\"patch_17\">\n    <path d=\"M 40.603125 9.273504 \nL 375.403125 9.273504 \n\" style=\"fill:none;stroke:#000000;stroke-linecap:square;stroke-linejoin:miter;stroke-width:0.8;\"/>\n   </g>\n  </g>\n </g>\n <defs>\n  <clipPath id=\"p4392711598\">\n   <rect height=\"217.44\" width=\"334.8\" x=\"40.603125\" y=\"9.273504\"/>\n  </clipPath>\n </defs>\n</svg>\n",
      "image/png": "[encoded data removed]"
     },
     "metadata": {
      "needs_background": "light"
     }
    }
   ],
   "source": [
    "import seaborn as sns\n",
    "\n",
    "# 해당 tag tuple 시험지가 한장만 존재하는 경우 -> tag tuple 의 subset 으로 확장?\n",
    "# tag tuple 길이가 1인 경우 10 건은 확장하기 어려움 ㅠㅠ\n",
    "sns.histplot(single_ktg_lens)"
   ]
  },
  {
   "cell_type": "code",
   "execution_count": 30,
   "metadata": {},
   "outputs": [],
   "source": [
    "from itertools import chain, combinations\n",
    "\n",
    "def powerset(iterable):\n",
    "    \"powerset([1,2,3]) --> (1,2,3) (1,2) (1,3) (2,3) (1,) (2,) (3,)\"\n",
    "    s = list(iterable)\n",
    "    return chain.from_iterable(combinations(s, r) for r in range(len(s)-1,0,-1))\n",
    "\n",
    "def get_subsample_powerset(tag_tuple):\n",
    "    pset = list(powerset(tag_tuple))\n",
    "    \n",
    "    tmp = []\n",
    "    for s in pset:\n",
    "        if s in tag2ids.keys():\n",
    "            tmp.extend(tag2ids[s])\n",
    "    if len(tmp) > 0:\n",
    "        # print(f\"{tag_tuple} filled by {pset}\")\n",
    "        return tmp\n",
    "\n",
    "    print(f\"No replacements available for {tag_tuple}! :(\")\n",
    "    return []\n",
    "\n",
    "def get_subsample_minimal(tag_tuple):\n",
    "    # Subset 크기 큰 순서대로 확장하고 대체가 되면 종료하는 버전\n",
    "    for subsample_len in range(len(tag_tuple)-1, 0, -1):\n",
    "        tmp = []\n",
    "        pset = list(combinations(tag_tuple, subsample_len))\n",
    "\n",
    "        for p in pset:\n",
    "            if p in tag2ids.keys():\n",
    "                tmp.extend(tag2ids[p])\n",
    "        if len(tmp) > 0:\n",
    "            # print(f\"{tag_tuple} filled by {pset}\")\n",
    "            return tmp\n",
    "    # print(f\"No replacements available for {tag_tuple}! :(\")\n",
    "    return []"
   ]
  },
  {
   "cell_type": "code",
   "execution_count": 105,
   "metadata": {},
   "outputs": [],
   "source": [
    "import copy\n",
    "\n",
    "tag2ids_filled = copy.deepcopy(tag2ids)"
   ]
  },
  {
   "cell_type": "code",
   "execution_count": 66,
   "metadata": {
    "tags": []
   },
   "outputs": [
    {
     "output_type": "stream",
     "name": "stdout",
     "text": [
      "No replacements available for (69, 70)! :(\nNo replacements available for (63, 86)! :(\nNo replacements available for (175,)! :(\nNo replacements available for (20,)! :(\nNo replacements available for (180,)! :(\nNo replacements available for (28, 29)! :(\nNo replacements available for (22,)! :(\nNo replacements available for (135,)! :(\nNo replacements available for (103,)! :(\nNo replacements available for (29, 67)! :(\nNo replacements available for (113,)! :(\nNo replacements available for (102,)! :(\nNo replacements available for (166,)! :(\nNo replacements available for (65,)! :(\n"
     ]
    }
   ],
   "source": [
    "for tag_tuple in single_ktg:  # testId 가 1장뿐인 tag tuple 만 powerset 의 testId 까지 사용\n",
    "# for tag_tuple in last_tags:  # 모든 tag tuple 에 대해 \n",
    "    # tag2ids_filled[tag_tuple].extend(get_subsample_powerset(tag_tuple))  # 모든 powerset 사용\n",
    "    tag2ids_filled[tag_tuple].extend(get_subsample_minimal(tag_tuple))  # 크기 큰 subset 부터 사용하고 \n"
   ]
  },
  {
   "cell_type": "code",
   "execution_count": 108,
   "metadata": {},
   "outputs": [
    {
     "output_type": "stream",
     "name": "stdout",
     "text": [
      "['A070000112']\n['A070000112']\n"
     ]
    }
   ],
   "source": [
    "# Verify single testids are filled\n",
    "print(tag2ids[(141, 155)])\n",
    "print(tag2ids_filled[(141, 155)])"
   ]
  },
  {
   "cell_type": "code",
   "execution_count": 106,
   "metadata": {},
   "outputs": [
    {
     "output_type": "execute_result",
     "data": {
      "text/plain": [
       "          testId\n",
       "744   A080000129\n",
       "1677  A090000074\n",
       "1953  A050000139\n",
       "2786  A080000138\n",
       "3707  A030000145"
      ],
      "text/html": "<div>\n<style scoped>\n    .dataframe tbody tr th:only-of-type {\n        vertical-align: middle;\n    }\n\n    .dataframe tbody tr th {\n        vertical-align: top;\n    }\n\n    .dataframe thead th {\n        text-align: right;\n    }\n</style>\n<table border=\"1\" class=\"dataframe\">\n  <thead>\n    <tr style=\"text-align: right;\">\n      <th></th>\n      <th>testId</th>\n    </tr>\n  </thead>\n  <tbody>\n    <tr>\n      <th>744</th>\n      <td>A080000129</td>\n    </tr>\n    <tr>\n      <th>1677</th>\n      <td>A090000074</td>\n    </tr>\n    <tr>\n      <th>1953</th>\n      <td>A050000139</td>\n    </tr>\n    <tr>\n      <th>2786</th>\n      <td>A080000138</td>\n    </tr>\n    <tr>\n      <th>3707</th>\n      <td>A030000145</td>\n    </tr>\n  </tbody>\n</table>\n</div>"
     },
     "metadata": {},
     "execution_count": 106
    }
   ],
   "source": [
    "train_last_testids_df = train_last_testids.to_frame()\n",
    "train_last_testids_df.head()"
   ]
  },
  {
   "cell_type": "code",
   "execution_count": 107,
   "metadata": {},
   "outputs": [
    {
     "output_type": "execute_result",
     "data": {
      "text/plain": [
       "          testId\n",
       "1035  A050000133\n",
       "1706  A070000146\n",
       "3023  A070000111\n",
       "4283  A090000064\n",
       "4670  A060000135"
      ],
      "text/html": "<div>\n<style scoped>\n    .dataframe tbody tr th:only-of-type {\n        vertical-align: middle;\n    }\n\n    .dataframe tbody tr th {\n        vertical-align: top;\n    }\n\n    .dataframe thead th {\n        text-align: right;\n    }\n</style>\n<table border=\"1\" class=\"dataframe\">\n  <thead>\n    <tr style=\"text-align: right;\">\n      <th></th>\n      <th>testId</th>\n    </tr>\n  </thead>\n  <tbody>\n    <tr>\n      <th>1035</th>\n      <td>A050000133</td>\n    </tr>\n    <tr>\n      <th>1706</th>\n      <td>A070000146</td>\n    </tr>\n    <tr>\n      <th>3023</th>\n      <td>A070000111</td>\n    </tr>\n    <tr>\n      <th>4283</th>\n      <td>A090000064</td>\n    </tr>\n    <tr>\n      <th>4670</th>\n      <td>A060000135</td>\n    </tr>\n  </tbody>\n</table>\n</div>"
     },
     "metadata": {},
     "execution_count": 107
    }
   ],
   "source": [
    "test_last_testids_df = test_last_testids.to_frame()\n",
    "test_last_testids_df.head()"
   ]
  },
  {
   "cell_type": "code",
   "execution_count": 70,
   "metadata": {},
   "outputs": [
    {
     "output_type": "execute_result",
     "data": {
      "text/plain": [
       "          testId KnowledgeTagGroups\n",
       "0     A010000001              (94,)\n",
       "1     A010000002          (94, 101)\n",
       "2     A010000003          (95, 101)\n",
       "3     A010000004          (94, 101)\n",
       "4     A010000005           (94, 95)\n",
       "...          ...                ...\n",
       "1532  A090000070          (48, 165)\n",
       "1533  A090000071          (48, 165)\n",
       "1534  A090000072           (48, 65)\n",
       "1535  A090000073      (48, 65, 169)\n",
       "1536  A090000074      (48, 65, 169)\n",
       "\n",
       "[1537 rows x 2 columns]"
      ],
      "text/html": "<div>\n<style scoped>\n    .dataframe tbody tr th:only-of-type {\n        vertical-align: middle;\n    }\n\n    .dataframe tbody tr th {\n        vertical-align: top;\n    }\n\n    .dataframe thead th {\n        text-align: right;\n    }\n</style>\n<table border=\"1\" class=\"dataframe\">\n  <thead>\n    <tr style=\"text-align: right;\">\n      <th></th>\n      <th>testId</th>\n      <th>KnowledgeTagGroups</th>\n    </tr>\n  </thead>\n  <tbody>\n    <tr>\n      <th>0</th>\n      <td>A010000001</td>\n      <td>(94,)</td>\n    </tr>\n    <tr>\n      <th>1</th>\n      <td>A010000002</td>\n      <td>(94, 101)</td>\n    </tr>\n    <tr>\n      <th>2</th>\n      <td>A010000003</td>\n      <td>(95, 101)</td>\n    </tr>\n    <tr>\n      <th>3</th>\n      <td>A010000004</td>\n      <td>(94, 101)</td>\n    </tr>\n    <tr>\n      <th>4</th>\n      <td>A010000005</td>\n      <td>(94, 95)</td>\n    </tr>\n    <tr>\n      <th>...</th>\n      <td>...</td>\n      <td>...</td>\n    </tr>\n    <tr>\n      <th>1532</th>\n      <td>A090000070</td>\n      <td>(48, 165)</td>\n    </tr>\n    <tr>\n      <th>1533</th>\n      <td>A090000071</td>\n      <td>(48, 165)</td>\n    </tr>\n    <tr>\n      <th>1534</th>\n      <td>A090000072</td>\n      <td>(48, 65)</td>\n    </tr>\n    <tr>\n      <th>1535</th>\n      <td>A090000073</td>\n      <td>(48, 65, 169)</td>\n    </tr>\n    <tr>\n      <th>1536</th>\n      <td>A090000074</td>\n      <td>(48, 65, 169)</td>\n    </tr>\n  </tbody>\n</table>\n<p>1537 rows × 2 columns</p>\n</div>"
     },
     "metadata": {},
     "execution_count": 70
    }
   ],
   "source": [
    "testid_groupby"
   ]
  },
  {
   "cell_type": "code",
   "execution_count": 109,
   "metadata": {},
   "outputs": [
    {
     "output_type": "execute_result",
     "data": {
      "text/plain": [
       "          testId KnowledgeTagGroups\n",
       "744   A080000129              (49,)\n",
       "1677  A090000074      (48, 65, 169)\n",
       "1953  A050000139              (12,)\n",
       "2786  A080000138             (138,)\n",
       "3707  A030000145             (124,)"
      ],
      "text/html": "<div>\n<style scoped>\n    .dataframe tbody tr th:only-of-type {\n        vertical-align: middle;\n    }\n\n    .dataframe tbody tr th {\n        vertical-align: top;\n    }\n\n    .dataframe thead th {\n        text-align: right;\n    }\n</style>\n<table border=\"1\" class=\"dataframe\">\n  <thead>\n    <tr style=\"text-align: right;\">\n      <th></th>\n      <th>testId</th>\n      <th>KnowledgeTagGroups</th>\n    </tr>\n  </thead>\n  <tbody>\n    <tr>\n      <th>744</th>\n      <td>A080000129</td>\n      <td>(49,)</td>\n    </tr>\n    <tr>\n      <th>1677</th>\n      <td>A090000074</td>\n      <td>(48, 65, 169)</td>\n    </tr>\n    <tr>\n      <th>1953</th>\n      <td>A050000139</td>\n      <td>(12,)</td>\n    </tr>\n    <tr>\n      <th>2786</th>\n      <td>A080000138</td>\n      <td>(138,)</td>\n    </tr>\n    <tr>\n      <th>3707</th>\n      <td>A030000145</td>\n      <td>(124,)</td>\n    </tr>\n  </tbody>\n</table>\n</div>"
     },
     "metadata": {},
     "execution_count": 109
    }
   ],
   "source": [
    "# 마지막 testId 의 KnowledgeTagGroup 구함\n",
    "train_last_testids_df['KnowledgeTagGroups'] = train_last_testids_df['testId'].apply(lambda x: testid_groupby.loc[testid_groupby['testId'] == x]['KnowledgeTagGroups'].values[0])\n",
    "train_last_testids_df.head()"
   ]
  },
  {
   "cell_type": "code",
   "execution_count": 110,
   "metadata": {},
   "outputs": [
    {
     "output_type": "execute_result",
     "data": {
      "text/plain": [
       "          testId KnowledgeTagGroups\n",
       "1035  A050000133              (79,)\n",
       "1706  A070000146             (145,)\n",
       "3023  A070000111    (141, 155, 186)\n",
       "4283  A090000064              (47,)\n",
       "4670  A060000135              (30,)"
      ],
      "text/html": "<div>\n<style scoped>\n    .dataframe tbody tr th:only-of-type {\n        vertical-align: middle;\n    }\n\n    .dataframe tbody tr th {\n        vertical-align: top;\n    }\n\n    .dataframe thead th {\n        text-align: right;\n    }\n</style>\n<table border=\"1\" class=\"dataframe\">\n  <thead>\n    <tr style=\"text-align: right;\">\n      <th></th>\n      <th>testId</th>\n      <th>KnowledgeTagGroups</th>\n    </tr>\n  </thead>\n  <tbody>\n    <tr>\n      <th>1035</th>\n      <td>A050000133</td>\n      <td>(79,)</td>\n    </tr>\n    <tr>\n      <th>1706</th>\n      <td>A070000146</td>\n      <td>(145,)</td>\n    </tr>\n    <tr>\n      <th>3023</th>\n      <td>A070000111</td>\n      <td>(141, 155, 186)</td>\n    </tr>\n    <tr>\n      <th>4283</th>\n      <td>A090000064</td>\n      <td>(47,)</td>\n    </tr>\n    <tr>\n      <th>4670</th>\n      <td>A060000135</td>\n      <td>(30,)</td>\n    </tr>\n  </tbody>\n</table>\n</div>"
     },
     "metadata": {},
     "execution_count": 110
    }
   ],
   "source": [
    "# 마지막 testId 의 KnowledgeTagGroup 구함\n",
    "test_last_testids_df['KnowledgeTagGroups'] = test_last_testids_df['testId'].apply(lambda x: testid_groupby.loc[testid_groupby['testId'] == x]['KnowledgeTagGroups'].values[0])\n",
    "test_last_testids_df.head()"
   ]
  },
  {
   "cell_type": "code",
   "execution_count": 111,
   "metadata": {},
   "outputs": [
    {
     "output_type": "execute_result",
     "data": {
      "text/plain": [
       "          testId                                     similar_testId\n",
       "744   A080000129  [A080000115, A080000116, A080000123, A08000012...\n",
       "1677  A090000074                           [A090000073, A090000074]\n",
       "1953  A050000139  [A030000062, A030000063, A030000064, A03000006...\n",
       "2786  A080000138  [A080000131, A080000132, A080000133, A08000013...\n",
       "3707  A030000145  [A010000113, A010000114, A010000115, A01000012..."
      ],
      "text/html": "<div>\n<style scoped>\n    .dataframe tbody tr th:only-of-type {\n        vertical-align: middle;\n    }\n\n    .dataframe tbody tr th {\n        vertical-align: top;\n    }\n\n    .dataframe thead th {\n        text-align: right;\n    }\n</style>\n<table border=\"1\" class=\"dataframe\">\n  <thead>\n    <tr style=\"text-align: right;\">\n      <th></th>\n      <th>testId</th>\n      <th>similar_testId</th>\n    </tr>\n  </thead>\n  <tbody>\n    <tr>\n      <th>744</th>\n      <td>A080000129</td>\n      <td>[A080000115, A080000116, A080000123, A08000012...</td>\n    </tr>\n    <tr>\n      <th>1677</th>\n      <td>A090000074</td>\n      <td>[A090000073, A090000074]</td>\n    </tr>\n    <tr>\n      <th>1953</th>\n      <td>A050000139</td>\n      <td>[A030000062, A030000063, A030000064, A03000006...</td>\n    </tr>\n    <tr>\n      <th>2786</th>\n      <td>A080000138</td>\n      <td>[A080000131, A080000132, A080000133, A08000013...</td>\n    </tr>\n    <tr>\n      <th>3707</th>\n      <td>A030000145</td>\n      <td>[A010000113, A010000114, A010000115, A01000012...</td>\n    </tr>\n  </tbody>\n</table>\n</div>"
     },
     "metadata": {},
     "execution_count": 111
    }
   ],
   "source": [
    "train_last_testids_df['similar_testId'] = train_last_testids_df['KnowledgeTagGroups'].apply(lambda x: tag2ids_filled[x])\n",
    "train_last_testids_df = train_last_testids_df.drop(columns=['KnowledgeTagGroups'])\n",
    "train_last_testids_df.head()\n"
   ]
  },
  {
   "cell_type": "code",
   "execution_count": 112,
   "metadata": {},
   "outputs": [
    {
     "output_type": "execute_result",
     "data": {
      "text/plain": [
       "          testId                                     similar_testId\n",
       "1035  A050000133  [A050000108, A050000109, A050000110, A05000011...\n",
       "1706  A070000146  [A070000128, A070000130, A070000132, A07000013...\n",
       "3023  A070000111               [A070000111, A070000120, A070000121]\n",
       "4283  A090000064  [A050000001, A050000002, A050000003, A05000000...\n",
       "4670  A060000135               [A060000135, A060000136, A060000142]"
      ],
      "text/html": "<div>\n<style scoped>\n    .dataframe tbody tr th:only-of-type {\n        vertical-align: middle;\n    }\n\n    .dataframe tbody tr th {\n        vertical-align: top;\n    }\n\n    .dataframe thead th {\n        text-align: right;\n    }\n</style>\n<table border=\"1\" class=\"dataframe\">\n  <thead>\n    <tr style=\"text-align: right;\">\n      <th></th>\n      <th>testId</th>\n      <th>similar_testId</th>\n    </tr>\n  </thead>\n  <tbody>\n    <tr>\n      <th>1035</th>\n      <td>A050000133</td>\n      <td>[A050000108, A050000109, A050000110, A05000011...</td>\n    </tr>\n    <tr>\n      <th>1706</th>\n      <td>A070000146</td>\n      <td>[A070000128, A070000130, A070000132, A07000013...</td>\n    </tr>\n    <tr>\n      <th>3023</th>\n      <td>A070000111</td>\n      <td>[A070000111, A070000120, A070000121]</td>\n    </tr>\n    <tr>\n      <th>4283</th>\n      <td>A090000064</td>\n      <td>[A050000001, A050000002, A050000003, A05000000...</td>\n    </tr>\n    <tr>\n      <th>4670</th>\n      <td>A060000135</td>\n      <td>[A060000135, A060000136, A060000142]</td>\n    </tr>\n  </tbody>\n</table>\n</div>"
     },
     "metadata": {},
     "execution_count": 112
    }
   ],
   "source": [
    "test_last_testids_df['similar_testId'] = test_last_testids_df['KnowledgeTagGroups'].apply(lambda x: tag2ids_filled[x])\n",
    "test_last_testids_df = test_last_testids_df.drop(columns=['KnowledgeTagGroups'])\n",
    "test_last_testids_df.head()\n"
   ]
  },
  {
   "cell_type": "code",
   "execution_count": 113,
   "metadata": {},
   "outputs": [
    {
     "output_type": "execute_result",
     "data": {
      "text/plain": [
       "   userID assessmentItemID      testId  answerCode           Timestamp  \\\n",
       "0       0       A060001001  A060000001           1 2020-03-24 00:17:11   \n",
       "1       0       A060001002  A060000001           1 2020-03-24 00:17:14   \n",
       "2       0       A060001003  A060000001           1 2020-03-24 00:17:22   \n",
       "3       0       A060001004  A060000001           1 2020-03-24 00:17:29   \n",
       "4       0       A060001005  A060000001           1 2020-03-24 00:17:36   \n",
       "\n",
       "   KnowledgeTag  elapsed  testId_answer_rate  testId_answer_sum  \\\n",
       "0          7224      3.0            0.947683             1268.0   \n",
       "1          7225      8.0            0.947683             1268.0   \n",
       "2          7225      7.0            0.947683             1268.0   \n",
       "3          7225      7.0            0.947683             1268.0   \n",
       "4          7225     11.0            0.947683             1268.0   \n",
       "\n",
       "   assessmentItemID_answer_rate  assessmentItemID_answer_sum  \\\n",
       "0                      0.982063                        219.0   \n",
       "1                      0.964126                        215.0   \n",
       "2                      0.910314                        203.0   \n",
       "3                      0.968610                        216.0   \n",
       "4                      0.941704                        210.0   \n",
       "\n",
       "   knowledge_tag_mean  knowledge_tag_sum  assessment_category  \\\n",
       "0            0.955022              637.0                    6   \n",
       "1            0.913187             3040.0                    6   \n",
       "2            0.913187             3040.0                    6   \n",
       "3            0.913187             3040.0                    6   \n",
       "4            0.913187             3040.0                    6   \n",
       "\n",
       "   assessment_category_mean  elapsed_time  et_by_kt  et_by_as  \\\n",
       "0                  0.709232      1.098612  2.183516  2.024569   \n",
       "1                  0.709232      2.079442  2.927493  2.828940   \n",
       "2                  0.709232      1.945910  2.927493  2.522950   \n",
       "3                  0.709232      1.945910  2.927493  2.512345   \n",
       "4                  0.709232      2.397895  2.927493  3.168945   \n",
       "\n",
       "   KnowledgeTagGroup  similar_testId  \n",
       "0                107             NaN  \n",
       "1                107             NaN  \n",
       "2                107             NaN  \n",
       "3                107             NaN  \n",
       "4                107             NaN  "
      ],
      "text/html": "<div>\n<style scoped>\n    .dataframe tbody tr th:only-of-type {\n        vertical-align: middle;\n    }\n\n    .dataframe tbody tr th {\n        vertical-align: top;\n    }\n\n    .dataframe thead th {\n        text-align: right;\n    }\n</style>\n<table border=\"1\" class=\"dataframe\">\n  <thead>\n    <tr style=\"text-align: right;\">\n      <th></th>\n      <th>userID</th>\n      <th>assessmentItemID</th>\n      <th>testId</th>\n      <th>answerCode</th>\n      <th>Timestamp</th>\n      <th>KnowledgeTag</th>\n      <th>elapsed</th>\n      <th>testId_answer_rate</th>\n      <th>testId_answer_sum</th>\n      <th>assessmentItemID_answer_rate</th>\n      <th>assessmentItemID_answer_sum</th>\n      <th>knowledge_tag_mean</th>\n      <th>knowledge_tag_sum</th>\n      <th>assessment_category</th>\n      <th>assessment_category_mean</th>\n      <th>elapsed_time</th>\n      <th>et_by_kt</th>\n      <th>et_by_as</th>\n      <th>KnowledgeTagGroup</th>\n      <th>similar_testId</th>\n    </tr>\n  </thead>\n  <tbody>\n    <tr>\n      <th>0</th>\n      <td>0</td>\n      <td>A060001001</td>\n      <td>A060000001</td>\n      <td>1</td>\n      <td>2020-03-24 00:17:11</td>\n      <td>7224</td>\n      <td>3.0</td>\n      <td>0.947683</td>\n      <td>1268.0</td>\n      <td>0.982063</td>\n      <td>219.0</td>\n      <td>0.955022</td>\n      <td>637.0</td>\n      <td>6</td>\n      <td>0.709232</td>\n      <td>1.098612</td>\n      <td>2.183516</td>\n      <td>2.024569</td>\n      <td>107</td>\n      <td>NaN</td>\n    </tr>\n    <tr>\n      <th>1</th>\n      <td>0</td>\n      <td>A060001002</td>\n      <td>A060000001</td>\n      <td>1</td>\n      <td>2020-03-24 00:17:14</td>\n      <td>7225</td>\n      <td>8.0</td>\n      <td>0.947683</td>\n      <td>1268.0</td>\n      <td>0.964126</td>\n      <td>215.0</td>\n      <td>0.913187</td>\n      <td>3040.0</td>\n      <td>6</td>\n      <td>0.709232</td>\n      <td>2.079442</td>\n      <td>2.927493</td>\n      <td>2.828940</td>\n      <td>107</td>\n      <td>NaN</td>\n    </tr>\n    <tr>\n      <th>2</th>\n      <td>0</td>\n      <td>A060001003</td>\n      <td>A060000001</td>\n      <td>1</td>\n      <td>2020-03-24 00:17:22</td>\n      <td>7225</td>\n      <td>7.0</td>\n      <td>0.947683</td>\n      <td>1268.0</td>\n      <td>0.910314</td>\n      <td>203.0</td>\n      <td>0.913187</td>\n      <td>3040.0</td>\n      <td>6</td>\n      <td>0.709232</td>\n      <td>1.945910</td>\n      <td>2.927493</td>\n      <td>2.522950</td>\n      <td>107</td>\n      <td>NaN</td>\n    </tr>\n    <tr>\n      <th>3</th>\n      <td>0</td>\n      <td>A060001004</td>\n      <td>A060000001</td>\n      <td>1</td>\n      <td>2020-03-24 00:17:29</td>\n      <td>7225</td>\n      <td>7.0</td>\n      <td>0.947683</td>\n      <td>1268.0</td>\n      <td>0.968610</td>\n      <td>216.0</td>\n      <td>0.913187</td>\n      <td>3040.0</td>\n      <td>6</td>\n      <td>0.709232</td>\n      <td>1.945910</td>\n      <td>2.927493</td>\n      <td>2.512345</td>\n      <td>107</td>\n      <td>NaN</td>\n    </tr>\n    <tr>\n      <th>4</th>\n      <td>0</td>\n      <td>A060001005</td>\n      <td>A060000001</td>\n      <td>1</td>\n      <td>2020-03-24 00:17:36</td>\n      <td>7225</td>\n      <td>11.0</td>\n      <td>0.947683</td>\n      <td>1268.0</td>\n      <td>0.941704</td>\n      <td>210.0</td>\n      <td>0.913187</td>\n      <td>3040.0</td>\n      <td>6</td>\n      <td>0.709232</td>\n      <td>2.397895</td>\n      <td>2.927493</td>\n      <td>3.168945</td>\n      <td>107</td>\n      <td>NaN</td>\n    </tr>\n  </tbody>\n</table>\n</div>"
     },
     "metadata": {},
     "execution_count": 113
    }
   ],
   "source": [
    "import numpy as np\n",
    "\n",
    "train_df['similar_testId'] = np.nan\n",
    "train_df.head()"
   ]
  },
  {
   "cell_type": "code",
   "execution_count": 114,
   "metadata": {},
   "outputs": [
    {
     "output_type": "execute_result",
     "data": {
      "text/plain": [
       "   userID assessmentItemID      testId  answerCode           Timestamp  \\\n",
       "0       3       A050023001  A050000023           1 2020-01-09 10:56:31   \n",
       "1       3       A050023002  A050000023           1 2020-01-09 10:56:57   \n",
       "2       3       A050023003  A050000023           0 2020-01-09 10:58:31   \n",
       "3       3       A050023004  A050000023           0 2020-01-09 10:58:36   \n",
       "4       3       A050023006  A050000023           0 2020-01-09 10:58:43   \n",
       "\n",
       "   KnowledgeTag  elapsed  testId_answer_rate  testId_answer_sum  \\\n",
       "0          2626     26.0            0.560944              856.0   \n",
       "1          2626     94.0            0.560944              856.0   \n",
       "2          2625      5.0            0.560944              856.0   \n",
       "3          2625      7.0            0.560944              856.0   \n",
       "4          2623      3.0            0.560944              856.0   \n",
       "\n",
       "   assessmentItemID_answer_rate  assessmentItemID_answer_sum  \\\n",
       "0                      0.646789                        141.0   \n",
       "1                      0.628440                        137.0   \n",
       "2                      0.577982                        126.0   \n",
       "3                      0.655963                        143.0   \n",
       "4                      0.307339                         67.0   \n",
       "\n",
       "   knowledge_tag_mean  knowledge_tag_sum  assessment_category  \\\n",
       "0            0.641379             1023.0                    5   \n",
       "1            0.641379             1023.0                    5   \n",
       "2            0.670013             1535.0                    5   \n",
       "3            0.670013             1535.0                    5   \n",
       "4            0.568970             2314.0                    5   \n",
       "\n",
       "   assessment_category_mean  elapsed_time  et_by_kt  et_by_as  \\\n",
       "0                  0.658208      3.258097  3.384855  3.540414   \n",
       "1                  0.658208      4.543295  3.384855  3.664071   \n",
       "2                  0.658208      1.609438  3.500664  3.138796   \n",
       "3                  0.658208      1.945910  3.500664  3.702171   \n",
       "4                  0.658208      1.098612  3.626136  3.119886   \n",
       "\n",
       "   KnowledgeTagGroup  similar_testId  \n",
       "0                 47             NaN  \n",
       "1                 47             NaN  \n",
       "2                 47             NaN  \n",
       "3                 47             NaN  \n",
       "4                 47             NaN  "
      ],
      "text/html": "<div>\n<style scoped>\n    .dataframe tbody tr th:only-of-type {\n        vertical-align: middle;\n    }\n\n    .dataframe tbody tr th {\n        vertical-align: top;\n    }\n\n    .dataframe thead th {\n        text-align: right;\n    }\n</style>\n<table border=\"1\" class=\"dataframe\">\n  <thead>\n    <tr style=\"text-align: right;\">\n      <th></th>\n      <th>userID</th>\n      <th>assessmentItemID</th>\n      <th>testId</th>\n      <th>answerCode</th>\n      <th>Timestamp</th>\n      <th>KnowledgeTag</th>\n      <th>elapsed</th>\n      <th>testId_answer_rate</th>\n      <th>testId_answer_sum</th>\n      <th>assessmentItemID_answer_rate</th>\n      <th>assessmentItemID_answer_sum</th>\n      <th>knowledge_tag_mean</th>\n      <th>knowledge_tag_sum</th>\n      <th>assessment_category</th>\n      <th>assessment_category_mean</th>\n      <th>elapsed_time</th>\n      <th>et_by_kt</th>\n      <th>et_by_as</th>\n      <th>KnowledgeTagGroup</th>\n      <th>similar_testId</th>\n    </tr>\n  </thead>\n  <tbody>\n    <tr>\n      <th>0</th>\n      <td>3</td>\n      <td>A050023001</td>\n      <td>A050000023</td>\n      <td>1</td>\n      <td>2020-01-09 10:56:31</td>\n      <td>2626</td>\n      <td>26.0</td>\n      <td>0.560944</td>\n      <td>856.0</td>\n      <td>0.646789</td>\n      <td>141.0</td>\n      <td>0.641379</td>\n      <td>1023.0</td>\n      <td>5</td>\n      <td>0.658208</td>\n      <td>3.258097</td>\n      <td>3.384855</td>\n      <td>3.540414</td>\n      <td>47</td>\n      <td>NaN</td>\n    </tr>\n    <tr>\n      <th>1</th>\n      <td>3</td>\n      <td>A050023002</td>\n      <td>A050000023</td>\n      <td>1</td>\n      <td>2020-01-09 10:56:57</td>\n      <td>2626</td>\n      <td>94.0</td>\n      <td>0.560944</td>\n      <td>856.0</td>\n      <td>0.628440</td>\n      <td>137.0</td>\n      <td>0.641379</td>\n      <td>1023.0</td>\n      <td>5</td>\n      <td>0.658208</td>\n      <td>4.543295</td>\n      <td>3.384855</td>\n      <td>3.664071</td>\n      <td>47</td>\n      <td>NaN</td>\n    </tr>\n    <tr>\n      <th>2</th>\n      <td>3</td>\n      <td>A050023003</td>\n      <td>A050000023</td>\n      <td>0</td>\n      <td>2020-01-09 10:58:31</td>\n      <td>2625</td>\n      <td>5.0</td>\n      <td>0.560944</td>\n      <td>856.0</td>\n      <td>0.577982</td>\n      <td>126.0</td>\n      <td>0.670013</td>\n      <td>1535.0</td>\n      <td>5</td>\n      <td>0.658208</td>\n      <td>1.609438</td>\n      <td>3.500664</td>\n      <td>3.138796</td>\n      <td>47</td>\n      <td>NaN</td>\n    </tr>\n    <tr>\n      <th>3</th>\n      <td>3</td>\n      <td>A050023004</td>\n      <td>A050000023</td>\n      <td>0</td>\n      <td>2020-01-09 10:58:36</td>\n      <td>2625</td>\n      <td>7.0</td>\n      <td>0.560944</td>\n      <td>856.0</td>\n      <td>0.655963</td>\n      <td>143.0</td>\n      <td>0.670013</td>\n      <td>1535.0</td>\n      <td>5</td>\n      <td>0.658208</td>\n      <td>1.945910</td>\n      <td>3.500664</td>\n      <td>3.702171</td>\n      <td>47</td>\n      <td>NaN</td>\n    </tr>\n    <tr>\n      <th>4</th>\n      <td>3</td>\n      <td>A050023006</td>\n      <td>A050000023</td>\n      <td>0</td>\n      <td>2020-01-09 10:58:43</td>\n      <td>2623</td>\n      <td>3.0</td>\n      <td>0.560944</td>\n      <td>856.0</td>\n      <td>0.307339</td>\n      <td>67.0</td>\n      <td>0.568970</td>\n      <td>2314.0</td>\n      <td>5</td>\n      <td>0.658208</td>\n      <td>1.098612</td>\n      <td>3.626136</td>\n      <td>3.119886</td>\n      <td>47</td>\n      <td>NaN</td>\n    </tr>\n  </tbody>\n</table>\n</div>"
     },
     "metadata": {},
     "execution_count": 114
    }
   ],
   "source": [
    "test_df['similar_testId'] = np.nan\n",
    "test_df.head()"
   ]
  },
  {
   "cell_type": "code",
   "execution_count": 115,
   "metadata": {},
   "outputs": [
    {
     "output_type": "execute_result",
     "data": {
      "text/plain": [
       "     userID assessmentItemID      testId  answerCode           Timestamp  \\\n",
       "740       0       A080129002  A080000129           1 2020-12-23 03:35:54   \n",
       "741       0       A080129003  A080000129           0 2020-12-23 03:37:20   \n",
       "742       0       A080129004  A080000129           1 2020-12-23 03:38:43   \n",
       "743       0       A080129005  A080000129           0 2020-12-23 03:40:14   \n",
       "744       0       A080129006  A080000129           0 2020-12-23 03:40:19   \n",
       "745       1       A040013001  A040000013           1 2020-01-06 08:40:43   \n",
       "\n",
       "     KnowledgeTag     elapsed  testId_answer_rate  testId_answer_sum  \\\n",
       "740          2723   86.000000            0.360111              780.0   \n",
       "741          2725   83.000000            0.360111              780.0   \n",
       "742          2725   91.000000            0.360111              780.0   \n",
       "743          2725    5.000000            0.360111              780.0   \n",
       "744          2725   65.778707            0.360111              780.0   \n",
       "745          2048  183.000000            0.595472              789.0   \n",
       "\n",
       "     assessmentItemID_answer_rate  assessmentItemID_answer_sum  \\\n",
       "740                      0.360111                        130.0   \n",
       "741                      0.204986                         74.0   \n",
       "742                      0.448753                        162.0   \n",
       "743                      0.398892                        144.0   \n",
       "744                      0.155125                         56.0   \n",
       "745                      0.800000                        212.0   \n",
       "\n",
       "     knowledge_tag_mean  knowledge_tag_sum  assessment_category  \\\n",
       "740            0.476454              344.0                    8   \n",
       "741            0.301939              436.0                    8   \n",
       "742            0.301939              436.0                    8   \n",
       "743            0.301939              436.0                    8   \n",
       "744            0.301939              436.0                    8   \n",
       "745            0.616900              971.0                    4   \n",
       "\n",
       "     assessment_category_mean  elapsed_time  et_by_kt  et_by_as  \\\n",
       "740                  0.502598      4.454347  2.975214  2.857286   \n",
       "741                  0.502598      4.418841  2.734488  2.473111   \n",
       "742                  0.502598      4.510860  2.734488  2.499002   \n",
       "743                  0.502598      1.609438  2.734488  2.583565   \n",
       "744                  0.502598      4.186296  2.734488  3.382273   \n",
       "745                  0.684056      5.209486  3.699489  3.564511   \n",
       "\n",
       "     KnowledgeTagGroup                                     similar_testId  \n",
       "740                 49                                                NaN  \n",
       "741                 49                                                NaN  \n",
       "742                 49                                                NaN  \n",
       "743                 49                                                NaN  \n",
       "744                 49  [A080000115, A080000116, A080000123, A08000012...  \n",
       "745                 44                                                NaN  "
      ],
      "text/html": "<div>\n<style scoped>\n    .dataframe tbody tr th:only-of-type {\n        vertical-align: middle;\n    }\n\n    .dataframe tbody tr th {\n        vertical-align: top;\n    }\n\n    .dataframe thead th {\n        text-align: right;\n    }\n</style>\n<table border=\"1\" class=\"dataframe\">\n  <thead>\n    <tr style=\"text-align: right;\">\n      <th></th>\n      <th>userID</th>\n      <th>assessmentItemID</th>\n      <th>testId</th>\n      <th>answerCode</th>\n      <th>Timestamp</th>\n      <th>KnowledgeTag</th>\n      <th>elapsed</th>\n      <th>testId_answer_rate</th>\n      <th>testId_answer_sum</th>\n      <th>assessmentItemID_answer_rate</th>\n      <th>assessmentItemID_answer_sum</th>\n      <th>knowledge_tag_mean</th>\n      <th>knowledge_tag_sum</th>\n      <th>assessment_category</th>\n      <th>assessment_category_mean</th>\n      <th>elapsed_time</th>\n      <th>et_by_kt</th>\n      <th>et_by_as</th>\n      <th>KnowledgeTagGroup</th>\n      <th>similar_testId</th>\n    </tr>\n  </thead>\n  <tbody>\n    <tr>\n      <th>740</th>\n      <td>0</td>\n      <td>A080129002</td>\n      <td>A080000129</td>\n      <td>1</td>\n      <td>2020-12-23 03:35:54</td>\n      <td>2723</td>\n      <td>86.000000</td>\n      <td>0.360111</td>\n      <td>780.0</td>\n      <td>0.360111</td>\n      <td>130.0</td>\n      <td>0.476454</td>\n      <td>344.0</td>\n      <td>8</td>\n      <td>0.502598</td>\n      <td>4.454347</td>\n      <td>2.975214</td>\n      <td>2.857286</td>\n      <td>49</td>\n      <td>NaN</td>\n    </tr>\n    <tr>\n      <th>741</th>\n      <td>0</td>\n      <td>A080129003</td>\n      <td>A080000129</td>\n      <td>0</td>\n      <td>2020-12-23 03:37:20</td>\n      <td>2725</td>\n      <td>83.000000</td>\n      <td>0.360111</td>\n      <td>780.0</td>\n      <td>0.204986</td>\n      <td>74.0</td>\n      <td>0.301939</td>\n      <td>436.0</td>\n      <td>8</td>\n      <td>0.502598</td>\n      <td>4.418841</td>\n      <td>2.734488</td>\n      <td>2.473111</td>\n      <td>49</td>\n      <td>NaN</td>\n    </tr>\n    <tr>\n      <th>742</th>\n      <td>0</td>\n      <td>A080129004</td>\n      <td>A080000129</td>\n      <td>1</td>\n      <td>2020-12-23 03:38:43</td>\n      <td>2725</td>\n      <td>91.000000</td>\n      <td>0.360111</td>\n      <td>780.0</td>\n      <td>0.448753</td>\n      <td>162.0</td>\n      <td>0.301939</td>\n      <td>436.0</td>\n      <td>8</td>\n      <td>0.502598</td>\n      <td>4.510860</td>\n      <td>2.734488</td>\n      <td>2.499002</td>\n      <td>49</td>\n      <td>NaN</td>\n    </tr>\n    <tr>\n      <th>743</th>\n      <td>0</td>\n      <td>A080129005</td>\n      <td>A080000129</td>\n      <td>0</td>\n      <td>2020-12-23 03:40:14</td>\n      <td>2725</td>\n      <td>5.000000</td>\n      <td>0.360111</td>\n      <td>780.0</td>\n      <td>0.398892</td>\n      <td>144.0</td>\n      <td>0.301939</td>\n      <td>436.0</td>\n      <td>8</td>\n      <td>0.502598</td>\n      <td>1.609438</td>\n      <td>2.734488</td>\n      <td>2.583565</td>\n      <td>49</td>\n      <td>NaN</td>\n    </tr>\n    <tr>\n      <th>744</th>\n      <td>0</td>\n      <td>A080129006</td>\n      <td>A080000129</td>\n      <td>0</td>\n      <td>2020-12-23 03:40:19</td>\n      <td>2725</td>\n      <td>65.778707</td>\n      <td>0.360111</td>\n      <td>780.0</td>\n      <td>0.155125</td>\n      <td>56.0</td>\n      <td>0.301939</td>\n      <td>436.0</td>\n      <td>8</td>\n      <td>0.502598</td>\n      <td>4.186296</td>\n      <td>2.734488</td>\n      <td>3.382273</td>\n      <td>49</td>\n      <td>[A080000115, A080000116, A080000123, A08000012...</td>\n    </tr>\n    <tr>\n      <th>745</th>\n      <td>1</td>\n      <td>A040013001</td>\n      <td>A040000013</td>\n      <td>1</td>\n      <td>2020-01-06 08:40:43</td>\n      <td>2048</td>\n      <td>183.000000</td>\n      <td>0.595472</td>\n      <td>789.0</td>\n      <td>0.800000</td>\n      <td>212.0</td>\n      <td>0.616900</td>\n      <td>971.0</td>\n      <td>4</td>\n      <td>0.684056</td>\n      <td>5.209486</td>\n      <td>3.699489</td>\n      <td>3.564511</td>\n      <td>44</td>\n      <td>NaN</td>\n    </tr>\n  </tbody>\n</table>\n</div>"
     },
     "metadata": {},
     "execution_count": 115
    }
   ],
   "source": [
    "train_df.update(train_last_testids_df)\n",
    "# NaN 은 아래에서 back fill 로 채울 예정\n",
    "train_df[740:746]"
   ]
  },
  {
   "cell_type": "code",
   "execution_count": 116,
   "metadata": {},
   "outputs": [
    {
     "output_type": "execute_result",
     "data": {
      "text/plain": [
       "      userID assessmentItemID      testId  answerCode           Timestamp  \\\n",
       "1032       3       A050133005  A050000133           1 2020-10-26 13:12:36   \n",
       "1033       3       A050133006  A050000133           1 2020-10-26 13:12:52   \n",
       "1034       3       A050133007  A050000133           0 2020-10-26 13:13:11   \n",
       "1035       3       A050133008  A050000133          -1 2020-10-26 13:13:57   \n",
       "1036       4       A040001001  A040000001           1 2020-02-11 04:13:36   \n",
       "1037       4       A040001002  A040000001           1 2020-02-11 04:13:44   \n",
       "\n",
       "      KnowledgeTag    elapsed  testId_answer_rate  testId_answer_sum  \\\n",
       "1032          5288  16.000000            0.653970             1219.0   \n",
       "1033          5288  19.000000            0.653970             1219.0   \n",
       "1034          5289  46.000000            0.653970             1219.0   \n",
       "1035          5289  89.076807            0.653970             1219.0   \n",
       "1036          7271   8.000000            0.893585             1184.0   \n",
       "1037          7271  17.000000            0.893585             1184.0   \n",
       "\n",
       "      assessmentItemID_answer_rate  assessmentItemID_answer_sum  \\\n",
       "1032                      0.802575                        187.0   \n",
       "1033                      0.652361                        152.0   \n",
       "1034                      0.437768                        102.0   \n",
       "1035                      0.532189                        124.0   \n",
       "1036                      0.969811                        257.0   \n",
       "1037                      0.909434                        241.0   \n",
       "\n",
       "      knowledge_tag_mean  knowledge_tag_sum  assessment_category  \\\n",
       "1032            0.627408             1433.0                    5   \n",
       "1033            0.627408             1433.0                    5   \n",
       "1034            0.560703             1658.0                    5   \n",
       "1035            0.560703             1658.0                    5   \n",
       "1036            0.876386             3715.0                    4   \n",
       "1037            0.876386             3715.0                    4   \n",
       "\n",
       "      assessment_category_mean  elapsed_time  et_by_kt  et_by_as  \\\n",
       "1032                  0.658208      2.772589  3.835096  3.001590   \n",
       "1033                  0.658208      2.944439  3.835096  3.384596   \n",
       "1034                  0.658208      3.828641  3.729360  3.794574   \n",
       "1035                  0.658208      4.489499  3.729360  4.012263   \n",
       "1036                  0.684056      2.079442  3.046992  2.260932   \n",
       "1037                  0.684056      2.833213  3.046992  2.933387   \n",
       "\n",
       "      KnowledgeTagGroup                                     similar_testId  \n",
       "1032                 79                                                NaN  \n",
       "1033                 79                                                NaN  \n",
       "1034                 79                                                NaN  \n",
       "1035                 79  [A050000108, A050000109, A050000110, A05000011...  \n",
       "1036                110                                                NaN  \n",
       "1037                110                                                NaN  "
      ],
      "text/html": "<div>\n<style scoped>\n    .dataframe tbody tr th:only-of-type {\n        vertical-align: middle;\n    }\n\n    .dataframe tbody tr th {\n        vertical-align: top;\n    }\n\n    .dataframe thead th {\n        text-align: right;\n    }\n</style>\n<table border=\"1\" class=\"dataframe\">\n  <thead>\n    <tr style=\"text-align: right;\">\n      <th></th>\n      <th>userID</th>\n      <th>assessmentItemID</th>\n      <th>testId</th>\n      <th>answerCode</th>\n      <th>Timestamp</th>\n      <th>KnowledgeTag</th>\n      <th>elapsed</th>\n      <th>testId_answer_rate</th>\n      <th>testId_answer_sum</th>\n      <th>assessmentItemID_answer_rate</th>\n      <th>assessmentItemID_answer_sum</th>\n      <th>knowledge_tag_mean</th>\n      <th>knowledge_tag_sum</th>\n      <th>assessment_category</th>\n      <th>assessment_category_mean</th>\n      <th>elapsed_time</th>\n      <th>et_by_kt</th>\n      <th>et_by_as</th>\n      <th>KnowledgeTagGroup</th>\n      <th>similar_testId</th>\n    </tr>\n  </thead>\n  <tbody>\n    <tr>\n      <th>1032</th>\n      <td>3</td>\n      <td>A050133005</td>\n      <td>A050000133</td>\n      <td>1</td>\n      <td>2020-10-26 13:12:36</td>\n      <td>5288</td>\n      <td>16.000000</td>\n      <td>0.653970</td>\n      <td>1219.0</td>\n      <td>0.802575</td>\n      <td>187.0</td>\n      <td>0.627408</td>\n      <td>1433.0</td>\n      <td>5</td>\n      <td>0.658208</td>\n      <td>2.772589</td>\n      <td>3.835096</td>\n      <td>3.001590</td>\n      <td>79</td>\n      <td>NaN</td>\n    </tr>\n    <tr>\n      <th>1033</th>\n      <td>3</td>\n      <td>A050133006</td>\n      <td>A050000133</td>\n      <td>1</td>\n      <td>2020-10-26 13:12:52</td>\n      <td>5288</td>\n      <td>19.000000</td>\n      <td>0.653970</td>\n      <td>1219.0</td>\n      <td>0.652361</td>\n      <td>152.0</td>\n      <td>0.627408</td>\n      <td>1433.0</td>\n      <td>5</td>\n      <td>0.658208</td>\n      <td>2.944439</td>\n      <td>3.835096</td>\n      <td>3.384596</td>\n      <td>79</td>\n      <td>NaN</td>\n    </tr>\n    <tr>\n      <th>1034</th>\n      <td>3</td>\n      <td>A050133007</td>\n      <td>A050000133</td>\n      <td>0</td>\n      <td>2020-10-26 13:13:11</td>\n      <td>5289</td>\n      <td>46.000000</td>\n      <td>0.653970</td>\n      <td>1219.0</td>\n      <td>0.437768</td>\n      <td>102.0</td>\n      <td>0.560703</td>\n      <td>1658.0</td>\n      <td>5</td>\n      <td>0.658208</td>\n      <td>3.828641</td>\n      <td>3.729360</td>\n      <td>3.794574</td>\n      <td>79</td>\n      <td>NaN</td>\n    </tr>\n    <tr>\n      <th>1035</th>\n      <td>3</td>\n      <td>A050133008</td>\n      <td>A050000133</td>\n      <td>-1</td>\n      <td>2020-10-26 13:13:57</td>\n      <td>5289</td>\n      <td>89.076807</td>\n      <td>0.653970</td>\n      <td>1219.0</td>\n      <td>0.532189</td>\n      <td>124.0</td>\n      <td>0.560703</td>\n      <td>1658.0</td>\n      <td>5</td>\n      <td>0.658208</td>\n      <td>4.489499</td>\n      <td>3.729360</td>\n      <td>4.012263</td>\n      <td>79</td>\n      <td>[A050000108, A050000109, A050000110, A05000011...</td>\n    </tr>\n    <tr>\n      <th>1036</th>\n      <td>4</td>\n      <td>A040001001</td>\n      <td>A040000001</td>\n      <td>1</td>\n      <td>2020-02-11 04:13:36</td>\n      <td>7271</td>\n      <td>8.000000</td>\n      <td>0.893585</td>\n      <td>1184.0</td>\n      <td>0.969811</td>\n      <td>257.0</td>\n      <td>0.876386</td>\n      <td>3715.0</td>\n      <td>4</td>\n      <td>0.684056</td>\n      <td>2.079442</td>\n      <td>3.046992</td>\n      <td>2.260932</td>\n      <td>110</td>\n      <td>NaN</td>\n    </tr>\n    <tr>\n      <th>1037</th>\n      <td>4</td>\n      <td>A040001002</td>\n      <td>A040000001</td>\n      <td>1</td>\n      <td>2020-02-11 04:13:44</td>\n      <td>7271</td>\n      <td>17.000000</td>\n      <td>0.893585</td>\n      <td>1184.0</td>\n      <td>0.909434</td>\n      <td>241.0</td>\n      <td>0.876386</td>\n      <td>3715.0</td>\n      <td>4</td>\n      <td>0.684056</td>\n      <td>2.833213</td>\n      <td>3.046992</td>\n      <td>2.933387</td>\n      <td>110</td>\n      <td>NaN</td>\n    </tr>\n  </tbody>\n</table>\n</div>"
     },
     "metadata": {},
     "execution_count": 116
    }
   ],
   "source": [
    "test_df.update(test_last_testids_df)\n",
    "test_df[1032:1038]"
   ]
  },
  {
   "cell_type": "code",
   "execution_count": 117,
   "metadata": {},
   "outputs": [
    {
     "output_type": "execute_result",
     "data": {
      "text/plain": [
       "     userID assessmentItemID      testId  answerCode           Timestamp  \\\n",
       "740       0       A080129002  A080000129           1 2020-12-23 03:35:54   \n",
       "741       0       A080129003  A080000129           0 2020-12-23 03:37:20   \n",
       "742       0       A080129004  A080000129           1 2020-12-23 03:38:43   \n",
       "743       0       A080129005  A080000129           0 2020-12-23 03:40:14   \n",
       "744       0       A080129006  A080000129           0 2020-12-23 03:40:19   \n",
       "745       1       A040013001  A040000013           1 2020-01-06 08:40:43   \n",
       "\n",
       "     KnowledgeTag     elapsed  testId_answer_rate  testId_answer_sum  \\\n",
       "740          2723   86.000000            0.360111              780.0   \n",
       "741          2725   83.000000            0.360111              780.0   \n",
       "742          2725   91.000000            0.360111              780.0   \n",
       "743          2725    5.000000            0.360111              780.0   \n",
       "744          2725   65.778707            0.360111              780.0   \n",
       "745          2048  183.000000            0.595472              789.0   \n",
       "\n",
       "     assessmentItemID_answer_rate  assessmentItemID_answer_sum  \\\n",
       "740                      0.360111                        130.0   \n",
       "741                      0.204986                         74.0   \n",
       "742                      0.448753                        162.0   \n",
       "743                      0.398892                        144.0   \n",
       "744                      0.155125                         56.0   \n",
       "745                      0.800000                        212.0   \n",
       "\n",
       "     knowledge_tag_mean  knowledge_tag_sum  assessment_category  \\\n",
       "740            0.476454              344.0                    8   \n",
       "741            0.301939              436.0                    8   \n",
       "742            0.301939              436.0                    8   \n",
       "743            0.301939              436.0                    8   \n",
       "744            0.301939              436.0                    8   \n",
       "745            0.616900              971.0                    4   \n",
       "\n",
       "     assessment_category_mean  elapsed_time  et_by_kt  et_by_as  \\\n",
       "740                  0.502598      4.454347  2.975214  2.857286   \n",
       "741                  0.502598      4.418841  2.734488  2.473111   \n",
       "742                  0.502598      4.510860  2.734488  2.499002   \n",
       "743                  0.502598      1.609438  2.734488  2.583565   \n",
       "744                  0.502598      4.186296  2.734488  3.382273   \n",
       "745                  0.684056      5.209486  3.699489  3.564511   \n",
       "\n",
       "     KnowledgeTagGroup                                     similar_testId  \n",
       "740                 49  [A080000115, A080000116, A080000123, A08000012...  \n",
       "741                 49  [A080000115, A080000116, A080000123, A08000012...  \n",
       "742                 49  [A080000115, A080000116, A080000123, A08000012...  \n",
       "743                 49  [A080000115, A080000116, A080000123, A08000012...  \n",
       "744                 49  [A080000115, A080000116, A080000123, A08000012...  \n",
       "745                 44                           [A090000073, A090000074]  "
      ],
      "text/html": "<div>\n<style scoped>\n    .dataframe tbody tr th:only-of-type {\n        vertical-align: middle;\n    }\n\n    .dataframe tbody tr th {\n        vertical-align: top;\n    }\n\n    .dataframe thead th {\n        text-align: right;\n    }\n</style>\n<table border=\"1\" class=\"dataframe\">\n  <thead>\n    <tr style=\"text-align: right;\">\n      <th></th>\n      <th>userID</th>\n      <th>assessmentItemID</th>\n      <th>testId</th>\n      <th>answerCode</th>\n      <th>Timestamp</th>\n      <th>KnowledgeTag</th>\n      <th>elapsed</th>\n      <th>testId_answer_rate</th>\n      <th>testId_answer_sum</th>\n      <th>assessmentItemID_answer_rate</th>\n      <th>assessmentItemID_answer_sum</th>\n      <th>knowledge_tag_mean</th>\n      <th>knowledge_tag_sum</th>\n      <th>assessment_category</th>\n      <th>assessment_category_mean</th>\n      <th>elapsed_time</th>\n      <th>et_by_kt</th>\n      <th>et_by_as</th>\n      <th>KnowledgeTagGroup</th>\n      <th>similar_testId</th>\n    </tr>\n  </thead>\n  <tbody>\n    <tr>\n      <th>740</th>\n      <td>0</td>\n      <td>A080129002</td>\n      <td>A080000129</td>\n      <td>1</td>\n      <td>2020-12-23 03:35:54</td>\n      <td>2723</td>\n      <td>86.000000</td>\n      <td>0.360111</td>\n      <td>780.0</td>\n      <td>0.360111</td>\n      <td>130.0</td>\n      <td>0.476454</td>\n      <td>344.0</td>\n      <td>8</td>\n      <td>0.502598</td>\n      <td>4.454347</td>\n      <td>2.975214</td>\n      <td>2.857286</td>\n      <td>49</td>\n      <td>[A080000115, A080000116, A080000123, A08000012...</td>\n    </tr>\n    <tr>\n      <th>741</th>\n      <td>0</td>\n      <td>A080129003</td>\n      <td>A080000129</td>\n      <td>0</td>\n      <td>2020-12-23 03:37:20</td>\n      <td>2725</td>\n      <td>83.000000</td>\n      <td>0.360111</td>\n      <td>780.0</td>\n      <td>0.204986</td>\n      <td>74.0</td>\n      <td>0.301939</td>\n      <td>436.0</td>\n      <td>8</td>\n      <td>0.502598</td>\n      <td>4.418841</td>\n      <td>2.734488</td>\n      <td>2.473111</td>\n      <td>49</td>\n      <td>[A080000115, A080000116, A080000123, A08000012...</td>\n    </tr>\n    <tr>\n      <th>742</th>\n      <td>0</td>\n      <td>A080129004</td>\n      <td>A080000129</td>\n      <td>1</td>\n      <td>2020-12-23 03:38:43</td>\n      <td>2725</td>\n      <td>91.000000</td>\n      <td>0.360111</td>\n      <td>780.0</td>\n      <td>0.448753</td>\n      <td>162.0</td>\n      <td>0.301939</td>\n      <td>436.0</td>\n      <td>8</td>\n      <td>0.502598</td>\n      <td>4.510860</td>\n      <td>2.734488</td>\n      <td>2.499002</td>\n      <td>49</td>\n      <td>[A080000115, A080000116, A080000123, A08000012...</td>\n    </tr>\n    <tr>\n      <th>743</th>\n      <td>0</td>\n      <td>A080129005</td>\n      <td>A080000129</td>\n      <td>0</td>\n      <td>2020-12-23 03:40:14</td>\n      <td>2725</td>\n      <td>5.000000</td>\n      <td>0.360111</td>\n      <td>780.0</td>\n      <td>0.398892</td>\n      <td>144.0</td>\n      <td>0.301939</td>\n      <td>436.0</td>\n      <td>8</td>\n      <td>0.502598</td>\n      <td>1.609438</td>\n      <td>2.734488</td>\n      <td>2.583565</td>\n      <td>49</td>\n      <td>[A080000115, A080000116, A080000123, A08000012...</td>\n    </tr>\n    <tr>\n      <th>744</th>\n      <td>0</td>\n      <td>A080129006</td>\n      <td>A080000129</td>\n      <td>0</td>\n      <td>2020-12-23 03:40:19</td>\n      <td>2725</td>\n      <td>65.778707</td>\n      <td>0.360111</td>\n      <td>780.0</td>\n      <td>0.155125</td>\n      <td>56.0</td>\n      <td>0.301939</td>\n      <td>436.0</td>\n      <td>8</td>\n      <td>0.502598</td>\n      <td>4.186296</td>\n      <td>2.734488</td>\n      <td>3.382273</td>\n      <td>49</td>\n      <td>[A080000115, A080000116, A080000123, A08000012...</td>\n    </tr>\n    <tr>\n      <th>745</th>\n      <td>1</td>\n      <td>A040013001</td>\n      <td>A040000013</td>\n      <td>1</td>\n      <td>2020-01-06 08:40:43</td>\n      <td>2048</td>\n      <td>183.000000</td>\n      <td>0.595472</td>\n      <td>789.0</td>\n      <td>0.800000</td>\n      <td>212.0</td>\n      <td>0.616900</td>\n      <td>971.0</td>\n      <td>4</td>\n      <td>0.684056</td>\n      <td>5.209486</td>\n      <td>3.699489</td>\n      <td>3.564511</td>\n      <td>44</td>\n      <td>[A090000073, A090000074]</td>\n    </tr>\n  </tbody>\n</table>\n</div>"
     },
     "metadata": {},
     "execution_count": 117
    }
   ],
   "source": [
    "train_df = train_df.fillna(method='bfill')\n",
    "train_df[740:746]\n"
   ]
  },
  {
   "cell_type": "code",
   "execution_count": 118,
   "metadata": {},
   "outputs": [
    {
     "output_type": "execute_result",
     "data": {
      "text/plain": [
       "      userID assessmentItemID      testId  answerCode           Timestamp  \\\n",
       "1032       3       A050133005  A050000133           1 2020-10-26 13:12:36   \n",
       "1033       3       A050133006  A050000133           1 2020-10-26 13:12:52   \n",
       "1034       3       A050133007  A050000133           0 2020-10-26 13:13:11   \n",
       "1035       3       A050133008  A050000133          -1 2020-10-26 13:13:57   \n",
       "1036       4       A040001001  A040000001           1 2020-02-11 04:13:36   \n",
       "1037       4       A040001002  A040000001           1 2020-02-11 04:13:44   \n",
       "\n",
       "      KnowledgeTag    elapsed  testId_answer_rate  testId_answer_sum  \\\n",
       "1032          5288  16.000000            0.653970             1219.0   \n",
       "1033          5288  19.000000            0.653970             1219.0   \n",
       "1034          5289  46.000000            0.653970             1219.0   \n",
       "1035          5289  89.076807            0.653970             1219.0   \n",
       "1036          7271   8.000000            0.893585             1184.0   \n",
       "1037          7271  17.000000            0.893585             1184.0   \n",
       "\n",
       "      assessmentItemID_answer_rate  assessmentItemID_answer_sum  \\\n",
       "1032                      0.802575                        187.0   \n",
       "1033                      0.652361                        152.0   \n",
       "1034                      0.437768                        102.0   \n",
       "1035                      0.532189                        124.0   \n",
       "1036                      0.969811                        257.0   \n",
       "1037                      0.909434                        241.0   \n",
       "\n",
       "      knowledge_tag_mean  knowledge_tag_sum  assessment_category  \\\n",
       "1032            0.627408             1433.0                    5   \n",
       "1033            0.627408             1433.0                    5   \n",
       "1034            0.560703             1658.0                    5   \n",
       "1035            0.560703             1658.0                    5   \n",
       "1036            0.876386             3715.0                    4   \n",
       "1037            0.876386             3715.0                    4   \n",
       "\n",
       "      assessment_category_mean  elapsed_time  et_by_kt  et_by_as  \\\n",
       "1032                  0.658208      2.772589  3.835096  3.001590   \n",
       "1033                  0.658208      2.944439  3.835096  3.384596   \n",
       "1034                  0.658208      3.828641  3.729360  3.794574   \n",
       "1035                  0.658208      4.489499  3.729360  4.012263   \n",
       "1036                  0.684056      2.079442  3.046992  2.260932   \n",
       "1037                  0.684056      2.833213  3.046992  2.933387   \n",
       "\n",
       "      KnowledgeTagGroup                                     similar_testId  \n",
       "1032                 79  [A050000108, A050000109, A050000110, A05000011...  \n",
       "1033                 79  [A050000108, A050000109, A050000110, A05000011...  \n",
       "1034                 79  [A050000108, A050000109, A050000110, A05000011...  \n",
       "1035                 79  [A050000108, A050000109, A050000110, A05000011...  \n",
       "1036                110  [A070000128, A070000130, A070000132, A07000013...  \n",
       "1037                110  [A070000128, A070000130, A070000132, A07000013...  "
      ],
      "text/html": "<div>\n<style scoped>\n    .dataframe tbody tr th:only-of-type {\n        vertical-align: middle;\n    }\n\n    .dataframe tbody tr th {\n        vertical-align: top;\n    }\n\n    .dataframe thead th {\n        text-align: right;\n    }\n</style>\n<table border=\"1\" class=\"dataframe\">\n  <thead>\n    <tr style=\"text-align: right;\">\n      <th></th>\n      <th>userID</th>\n      <th>assessmentItemID</th>\n      <th>testId</th>\n      <th>answerCode</th>\n      <th>Timestamp</th>\n      <th>KnowledgeTag</th>\n      <th>elapsed</th>\n      <th>testId_answer_rate</th>\n      <th>testId_answer_sum</th>\n      <th>assessmentItemID_answer_rate</th>\n      <th>assessmentItemID_answer_sum</th>\n      <th>knowledge_tag_mean</th>\n      <th>knowledge_tag_sum</th>\n      <th>assessment_category</th>\n      <th>assessment_category_mean</th>\n      <th>elapsed_time</th>\n      <th>et_by_kt</th>\n      <th>et_by_as</th>\n      <th>KnowledgeTagGroup</th>\n      <th>similar_testId</th>\n    </tr>\n  </thead>\n  <tbody>\n    <tr>\n      <th>1032</th>\n      <td>3</td>\n      <td>A050133005</td>\n      <td>A050000133</td>\n      <td>1</td>\n      <td>2020-10-26 13:12:36</td>\n      <td>5288</td>\n      <td>16.000000</td>\n      <td>0.653970</td>\n      <td>1219.0</td>\n      <td>0.802575</td>\n      <td>187.0</td>\n      <td>0.627408</td>\n      <td>1433.0</td>\n      <td>5</td>\n      <td>0.658208</td>\n      <td>2.772589</td>\n      <td>3.835096</td>\n      <td>3.001590</td>\n      <td>79</td>\n      <td>[A050000108, A050000109, A050000110, A05000011...</td>\n    </tr>\n    <tr>\n      <th>1033</th>\n      <td>3</td>\n      <td>A050133006</td>\n      <td>A050000133</td>\n      <td>1</td>\n      <td>2020-10-26 13:12:52</td>\n      <td>5288</td>\n      <td>19.000000</td>\n      <td>0.653970</td>\n      <td>1219.0</td>\n      <td>0.652361</td>\n      <td>152.0</td>\n      <td>0.627408</td>\n      <td>1433.0</td>\n      <td>5</td>\n      <td>0.658208</td>\n      <td>2.944439</td>\n      <td>3.835096</td>\n      <td>3.384596</td>\n      <td>79</td>\n      <td>[A050000108, A050000109, A050000110, A05000011...</td>\n    </tr>\n    <tr>\n      <th>1034</th>\n      <td>3</td>\n      <td>A050133007</td>\n      <td>A050000133</td>\n      <td>0</td>\n      <td>2020-10-26 13:13:11</td>\n      <td>5289</td>\n      <td>46.000000</td>\n      <td>0.653970</td>\n      <td>1219.0</td>\n      <td>0.437768</td>\n      <td>102.0</td>\n      <td>0.560703</td>\n      <td>1658.0</td>\n      <td>5</td>\n      <td>0.658208</td>\n      <td>3.828641</td>\n      <td>3.729360</td>\n      <td>3.794574</td>\n      <td>79</td>\n      <td>[A050000108, A050000109, A050000110, A05000011...</td>\n    </tr>\n    <tr>\n      <th>1035</th>\n      <td>3</td>\n      <td>A050133008</td>\n      <td>A050000133</td>\n      <td>-1</td>\n      <td>2020-10-26 13:13:57</td>\n      <td>5289</td>\n      <td>89.076807</td>\n      <td>0.653970</td>\n      <td>1219.0</td>\n      <td>0.532189</td>\n      <td>124.0</td>\n      <td>0.560703</td>\n      <td>1658.0</td>\n      <td>5</td>\n      <td>0.658208</td>\n      <td>4.489499</td>\n      <td>3.729360</td>\n      <td>4.012263</td>\n      <td>79</td>\n      <td>[A050000108, A050000109, A050000110, A05000011...</td>\n    </tr>\n    <tr>\n      <th>1036</th>\n      <td>4</td>\n      <td>A040001001</td>\n      <td>A040000001</td>\n      <td>1</td>\n      <td>2020-02-11 04:13:36</td>\n      <td>7271</td>\n      <td>8.000000</td>\n      <td>0.893585</td>\n      <td>1184.0</td>\n      <td>0.969811</td>\n      <td>257.0</td>\n      <td>0.876386</td>\n      <td>3715.0</td>\n      <td>4</td>\n      <td>0.684056</td>\n      <td>2.079442</td>\n      <td>3.046992</td>\n      <td>2.260932</td>\n      <td>110</td>\n      <td>[A070000128, A070000130, A070000132, A07000013...</td>\n    </tr>\n    <tr>\n      <th>1037</th>\n      <td>4</td>\n      <td>A040001002</td>\n      <td>A040000001</td>\n      <td>1</td>\n      <td>2020-02-11 04:13:44</td>\n      <td>7271</td>\n      <td>17.000000</td>\n      <td>0.893585</td>\n      <td>1184.0</td>\n      <td>0.909434</td>\n      <td>241.0</td>\n      <td>0.876386</td>\n      <td>3715.0</td>\n      <td>4</td>\n      <td>0.684056</td>\n      <td>2.833213</td>\n      <td>3.046992</td>\n      <td>2.933387</td>\n      <td>110</td>\n      <td>[A070000128, A070000130, A070000132, A07000013...</td>\n    </tr>\n  </tbody>\n</table>\n</div>"
     },
     "metadata": {},
     "execution_count": 118
    }
   ],
   "source": [
    "test_df = test_df.fillna(method='bfill')\n",
    "test_df[1032:1038]\n"
   ]
  },
  {
   "source": [
    "### Similar testId 만 filtering"
   ],
   "cell_type": "markdown",
   "metadata": {}
  },
  {
   "cell_type": "code",
   "execution_count": 47,
   "metadata": {},
   "outputs": [],
   "source": [
    "change_to_set = lambda x: set(x) if type(x) == list else set([x])"
   ]
  },
  {
   "cell_type": "code",
   "execution_count": 119,
   "metadata": {},
   "outputs": [
    {
     "output_type": "stream",
     "name": "stdout",
     "text": [
      "159752\n"
     ]
    }
   ],
   "source": [
    "tid_set = train_df.testId.map(change_to_set).values\n",
    "similar_tid_set = train_df.similar_testId.map(change_to_set).values\n",
    "filtered_train_df = train_df[(tid_set & similar_tid_set).astype(bool)]\n",
    "print(len(filtered_train_df))"
   ]
  },
  {
   "cell_type": "code",
   "execution_count": 120,
   "metadata": {},
   "outputs": [
    {
     "output_type": "stream",
     "name": "stdout",
     "text": [
      "17962\n"
     ]
    }
   ],
   "source": [
    "tid_set = test_df.testId.map(change_to_set).values\n",
    "similar_tid_set = test_df.similar_testId.map(change_to_set).values\n",
    "filtered_test_df = test_df[(tid_set & similar_tid_set).astype(bool)]\n",
    "print(len(filtered_test_df))"
   ]
  },
  {
   "source": [
    "### Filtered dataset 의 규모, 유저별 문제수 min/max 등 확인"
   ],
   "cell_type": "markdown",
   "metadata": {}
  },
  {
   "cell_type": "code",
   "execution_count": 121,
   "metadata": {},
   "outputs": [
    {
     "output_type": "execute_result",
     "data": {
      "text/plain": [
       "        assessmentItemID\n",
       "userID                  \n",
       "0                      6\n",
       "1                     12\n",
       "2                     14\n",
       "5                     50\n",
       "6                     10"
      ],
      "text/html": "<div>\n<style scoped>\n    .dataframe tbody tr th:only-of-type {\n        vertical-align: middle;\n    }\n\n    .dataframe tbody tr th {\n        vertical-align: top;\n    }\n\n    .dataframe thead th {\n        text-align: right;\n    }\n</style>\n<table border=\"1\" class=\"dataframe\">\n  <thead>\n    <tr style=\"text-align: right;\">\n      <th></th>\n      <th>assessmentItemID</th>\n    </tr>\n    <tr>\n      <th>userID</th>\n      <th></th>\n    </tr>\n  </thead>\n  <tbody>\n    <tr>\n      <th>0</th>\n      <td>6</td>\n    </tr>\n    <tr>\n      <th>1</th>\n      <td>12</td>\n    </tr>\n    <tr>\n      <th>2</th>\n      <td>14</td>\n    </tr>\n    <tr>\n      <th>5</th>\n      <td>50</td>\n    </tr>\n    <tr>\n      <th>6</th>\n      <td>10</td>\n    </tr>\n  </tbody>\n</table>\n</div>"
     },
     "metadata": {},
     "execution_count": 121
    }
   ],
   "source": [
    "train_filtered_user_gb = filtered_train_df.groupby('userID').agg({\n",
    "    'assessmentItemID': 'count'\n",
    "})\n",
    "train_filtered_user_gb.head()"
   ]
  },
  {
   "cell_type": "code",
   "execution_count": 129,
   "metadata": {},
   "outputs": [
    {
     "output_type": "execute_result",
     "data": {
      "text/plain": [
       "0.25     7.0\n",
       "0.50    12.0\n",
       "0.75    27.0\n",
       "Name: assessmentItemID, dtype: float64"
      ]
     },
     "metadata": {},
     "execution_count": 129
    }
   ],
   "source": [
    "train_filtered_user_gb['assessmentItemID'].quantile([0.25,0.5,0.75])"
   ]
  },
  {
   "cell_type": "code",
   "execution_count": 127,
   "metadata": {},
   "outputs": [
    {
     "output_type": "execute_result",
     "data": {
      "text/plain": [
       "<AxesSubplot:ylabel='Frequency'>"
      ]
     },
     "metadata": {},
     "execution_count": 127
    },
    {
     "output_type": "display_data",
     "data": {
      "text/plain": "<Figure size 432x288 with 1 Axes>",
      "image/svg+xml": "<?xml version=\"1.0\" encoding=\"utf-8\" standalone=\"no\"?>\n<!DOCTYPE svg PUBLIC \"-//W3C//DTD SVG 1.1//EN\"\n  \"http://www.w3.org/Graphics/SVG/1.1/DTD/svg11.dtd\">\n<svg height=\"248.518125pt\" version=\"1.1\" viewBox=\"0 0 395.328125 248.518125\" width=\"395.328125pt\" xmlns=\"http://www.w3.org/2000/svg\" xmlns:xlink=\"http://www.w3.org/1999/xlink\">\n <metadata>\n  <rdf:RDF xmlns:cc=\"http://creativecommons.org/ns#\" xmlns:dc=\"http://purl.org/dc/elements/1.1/\" xmlns:rdf=\"http://www.w3.org/1999/02/22-rdf-syntax-ns#\">\n   <cc:Work>\n    <dc:type rdf:resource=\"http://purl.org/dc/dcmitype/StillImage\"/>\n    <dc:date>2021-06-11T12:25:07.577266</dc:date>\n    <dc:format>image/svg+xml</dc:format>\n    <dc:creator>\n     <cc:Agent>\n      <dc:title>Matplotlib v3.4.2, https://matplotlib.org/</dc:title>\n     </cc:Agent>\n    </dc:creator>\n   </cc:Work>\n  </rdf:RDF>\n </metadata>\n <defs>\n  <style type=\"text/css\">*{stroke-linecap:butt;stroke-linejoin:round;}</style>\n </defs>\n <g id=\"figure_1\">\n  <g id=\"patch_1\">\n   <path d=\"M 0 248.518125 \nL 395.328125 248.518125 \nL 395.328125 0 \nL 0 0 \nz\n\" style=\"fill:none;\"/>\n  </g>\n  <g id=\"axes_1\">\n   <g id=\"patch_2\">\n    <path d=\"M 53.328125 224.64 \nL 388.128125 224.64 \nL 388.128125 7.2 \nL 53.328125 7.2 \nz\n\" style=\"fill:#ffffff;\"/>\n   </g>\n   <g id=\"patch_3\">\n    <path clip-path=\"url(#p2294799ebd)\" d=\"M 68.546307 224.64 \nL 98.98267 224.64 \nL 98.98267 17.554286 \nL 68.546307 17.554286 \nz\n\" style=\"fill:#1f77b4;\"/>\n   </g>\n   <g id=\"patch_4\">\n    <path clip-path=\"url(#p2294799ebd)\" d=\"M 98.98267 224.64 \nL 129.419034 224.64 \nL 129.419034 197.777029 \nL 98.98267 197.777029 \nz\n\" style=\"fill:#1f77b4;\"/>\n   </g>\n   <g id=\"patch_5\">\n    <path clip-path=\"url(#p2294799ebd)\" d=\"M 129.419034 224.64 \nL 159.855398 224.64 \nL 159.855398 216.747844 \nL 129.419034 216.747844 \nz\n\" style=\"fill:#1f77b4;\"/>\n   </g>\n   <g id=\"patch_6\">\n    <path clip-path=\"url(#p2294799ebd)\" d=\"M 159.855398 224.64 \nL 190.291761 224.64 \nL 190.291761 221.786967 \nL 159.855398 221.786967 \nz\n\" style=\"fill:#1f77b4;\"/>\n   </g>\n   <g id=\"patch_7\">\n    <path clip-path=\"url(#p2294799ebd)\" d=\"M 190.291761 224.64 \nL 220.728125 224.64 \nL 220.728125 222.898538 \nL 190.291761 222.898538 \nz\n\" style=\"fill:#1f77b4;\"/>\n   </g>\n   <g id=\"patch_8\">\n    <path clip-path=\"url(#p2294799ebd)\" d=\"M 220.728125 224.64 \nL 251.164489 224.64 \nL 251.164489 223.676638 \nL 220.728125 223.676638 \nz\n\" style=\"fill:#1f77b4;\"/>\n   </g>\n   <g id=\"patch_9\">\n    <path clip-path=\"url(#p2294799ebd)\" d=\"M 251.164489 224.64 \nL 281.600852 224.64 \nL 281.600852 224.306529 \nL 251.164489 224.306529 \nz\n\" style=\"fill:#1f77b4;\"/>\n   </g>\n   <g id=\"patch_10\">\n    <path clip-path=\"url(#p2294799ebd)\" d=\"M 281.600852 224.64 \nL 312.037216 224.64 \nL 312.037216 224.343581 \nL 281.600852 224.343581 \nz\n\" style=\"fill:#1f77b4;\"/>\n   </g>\n   <g id=\"patch_11\">\n    <path clip-path=\"url(#p2294799ebd)\" d=\"M 312.037216 224.64 \nL 342.47358 224.64 \nL 342.47358 224.602948 \nL 312.037216 224.602948 \nz\n\" style=\"fill:#1f77b4;\"/>\n   </g>\n   <g id=\"patch_12\">\n    <path clip-path=\"url(#p2294799ebd)\" d=\"M 342.47358 224.64 \nL 372.909943 224.64 \nL 372.909943 224.528843 \nL 342.47358 224.528843 \nz\n\" style=\"fill:#1f77b4;\"/>\n   </g>\n   <g id=\"matplotlib.axis_1\">\n    <g id=\"xtick_1\">\n     <g id=\"line2d_1\">\n      <defs>\n       <path d=\"M 0 0 \nL 0 3.5 \n\" id=\"me05b1edd9a\" style=\"stroke:#000000;stroke-width:0.8;\"/>\n      </defs>\n      <g>\n       <use style=\"stroke:#000000;stroke-width:0.8;\" x=\"66.065082\" xlink:href=\"#me05b1edd9a\" y=\"224.64\"/>\n      </g>\n     </g>\n     <g id=\"text_1\">\n      <!-- 0 -->\n      <g transform=\"translate(62.883832 239.238437)scale(0.1 -0.1)\">\n       <defs>\n        <path d=\"M 2034 4250 \nQ 1547 4250 1301 3770 \nQ 1056 3291 1056 2328 \nQ 1056 1369 1301 889 \nQ 1547 409 2034 409 \nQ 2525 409 2770 889 \nQ 3016 1369 3016 2328 \nQ 3016 3291 2770 3770 \nQ 2525 4250 2034 4250 \nz\nM 2034 4750 \nQ 2819 4750 3233 4129 \nQ 3647 3509 3647 2328 \nQ 3647 1150 3233 529 \nQ 2819 -91 2034 -91 \nQ 1250 -91 836 529 \nQ 422 1150 422 2328 \nQ 422 3509 836 4129 \nQ 1250 4750 2034 4750 \nz\n\" id=\"DejaVuSans-30\" transform=\"scale(0.015625)\"/>\n       </defs>\n       <use xlink:href=\"#DejaVuSans-30\"/>\n      </g>\n     </g>\n    </g>\n    <g id=\"xtick_2\">\n     <g id=\"line2d_2\">\n      <g>\n       <use style=\"stroke:#000000;stroke-width:0.8;\" x=\"107.418836\" xlink:href=\"#me05b1edd9a\" y=\"224.64\"/>\n      </g>\n     </g>\n     <g id=\"text_2\">\n      <!-- 50 -->\n      <g transform=\"translate(101.056336 239.238437)scale(0.1 -0.1)\">\n       <defs>\n        <path d=\"M 691 4666 \nL 3169 4666 \nL 3169 4134 \nL 1269 4134 \nL 1269 2991 \nQ 1406 3038 1543 3061 \nQ 1681 3084 1819 3084 \nQ 2600 3084 3056 2656 \nQ 3513 2228 3513 1497 \nQ 3513 744 3044 326 \nQ 2575 -91 1722 -91 \nQ 1428 -91 1123 -41 \nQ 819 9 494 109 \nL 494 744 \nQ 775 591 1075 516 \nQ 1375 441 1709 441 \nQ 2250 441 2565 725 \nQ 2881 1009 2881 1497 \nQ 2881 1984 2565 2268 \nQ 2250 2553 1709 2553 \nQ 1456 2553 1204 2497 \nQ 953 2441 691 2322 \nL 691 4666 \nz\n\" id=\"DejaVuSans-35\" transform=\"scale(0.015625)\"/>\n       </defs>\n       <use xlink:href=\"#DejaVuSans-35\"/>\n       <use x=\"63.623047\" xlink:href=\"#DejaVuSans-30\"/>\n      </g>\n     </g>\n    </g>\n    <g id=\"xtick_3\">\n     <g id=\"line2d_3\">\n      <g>\n       <use style=\"stroke:#000000;stroke-width:0.8;\" x=\"148.772591\" xlink:href=\"#me05b1edd9a\" y=\"224.64\"/>\n      </g>\n     </g>\n     <g id=\"text_3\">\n      <!-- 100 -->\n      <g transform=\"translate(139.228841 239.238437)scale(0.1 -0.1)\">\n       <defs>\n        <path d=\"M 794 531 \nL 1825 531 \nL 1825 4091 \nL 703 3866 \nL 703 4441 \nL 1819 4666 \nL 2450 4666 \nL 2450 531 \nL 3481 531 \nL 3481 0 \nL 794 0 \nL 794 531 \nz\n\" id=\"DejaVuSans-31\" transform=\"scale(0.015625)\"/>\n       </defs>\n       <use xlink:href=\"#DejaVuSans-31\"/>\n       <use x=\"63.623047\" xlink:href=\"#DejaVuSans-30\"/>\n       <use x=\"127.246094\" xlink:href=\"#DejaVuSans-30\"/>\n      </g>\n     </g>\n    </g>\n    <g id=\"xtick_4\">\n     <g id=\"line2d_4\">\n      <g>\n       <use style=\"stroke:#000000;stroke-width:0.8;\" x=\"190.126346\" xlink:href=\"#me05b1edd9a\" y=\"224.64\"/>\n      </g>\n     </g>\n     <g id=\"text_4\">\n      <!-- 150 -->\n      <g transform=\"translate(180.582596 239.238437)scale(0.1 -0.1)\">\n       <use xlink:href=\"#DejaVuSans-31\"/>\n       <use x=\"63.623047\" xlink:href=\"#DejaVuSans-35\"/>\n       <use x=\"127.246094\" xlink:href=\"#DejaVuSans-30\"/>\n      </g>\n     </g>\n    </g>\n    <g id=\"xtick_5\">\n     <g id=\"line2d_5\">\n      <g>\n       <use style=\"stroke:#000000;stroke-width:0.8;\" x=\"231.480101\" xlink:href=\"#me05b1edd9a\" y=\"224.64\"/>\n      </g>\n     </g>\n     <g id=\"text_5\">\n      <!-- 200 -->\n      <g transform=\"translate(221.936351 239.238437)scale(0.1 -0.1)\">\n       <defs>\n        <path d=\"M 1228 531 \nL 3431 531 \nL 3431 0 \nL 469 0 \nL 469 531 \nQ 828 903 1448 1529 \nQ 2069 2156 2228 2338 \nQ 2531 2678 2651 2914 \nQ 2772 3150 2772 3378 \nQ 2772 3750 2511 3984 \nQ 2250 4219 1831 4219 \nQ 1534 4219 1204 4116 \nQ 875 4013 500 3803 \nL 500 4441 \nQ 881 4594 1212 4672 \nQ 1544 4750 1819 4750 \nQ 2544 4750 2975 4387 \nQ 3406 4025 3406 3419 \nQ 3406 3131 3298 2873 \nQ 3191 2616 2906 2266 \nQ 2828 2175 2409 1742 \nQ 1991 1309 1228 531 \nz\n\" id=\"DejaVuSans-32\" transform=\"scale(0.015625)\"/>\n       </defs>\n       <use xlink:href=\"#DejaVuSans-32\"/>\n       <use x=\"63.623047\" xlink:href=\"#DejaVuSans-30\"/>\n       <use x=\"127.246094\" xlink:href=\"#DejaVuSans-30\"/>\n      </g>\n     </g>\n    </g>\n    <g id=\"xtick_6\">\n     <g id=\"line2d_6\">\n      <g>\n       <use style=\"stroke:#000000;stroke-width:0.8;\" x=\"272.833856\" xlink:href=\"#me05b1edd9a\" y=\"224.64\"/>\n      </g>\n     </g>\n     <g id=\"text_6\">\n      <!-- 250 -->\n      <g transform=\"translate(263.290106 239.238437)scale(0.1 -0.1)\">\n       <use xlink:href=\"#DejaVuSans-32\"/>\n       <use x=\"63.623047\" xlink:href=\"#DejaVuSans-35\"/>\n       <use x=\"127.246094\" xlink:href=\"#DejaVuSans-30\"/>\n      </g>\n     </g>\n    </g>\n    <g id=\"xtick_7\">\n     <g id=\"line2d_7\">\n      <g>\n       <use style=\"stroke:#000000;stroke-width:0.8;\" x=\"314.187611\" xlink:href=\"#me05b1edd9a\" y=\"224.64\"/>\n      </g>\n     </g>\n     <g id=\"text_7\">\n      <!-- 300 -->\n      <g transform=\"translate(304.643861 239.238437)scale(0.1 -0.1)\">\n       <defs>\n        <path d=\"M 2597 2516 \nQ 3050 2419 3304 2112 \nQ 3559 1806 3559 1356 \nQ 3559 666 3084 287 \nQ 2609 -91 1734 -91 \nQ 1441 -91 1130 -33 \nQ 819 25 488 141 \nL 488 750 \nQ 750 597 1062 519 \nQ 1375 441 1716 441 \nQ 2309 441 2620 675 \nQ 2931 909 2931 1356 \nQ 2931 1769 2642 2001 \nQ 2353 2234 1838 2234 \nL 1294 2234 \nL 1294 2753 \nL 1863 2753 \nQ 2328 2753 2575 2939 \nQ 2822 3125 2822 3475 \nQ 2822 3834 2567 4026 \nQ 2313 4219 1838 4219 \nQ 1578 4219 1281 4162 \nQ 984 4106 628 3988 \nL 628 4550 \nQ 988 4650 1302 4700 \nQ 1616 4750 1894 4750 \nQ 2613 4750 3031 4423 \nQ 3450 4097 3450 3541 \nQ 3450 3153 3228 2886 \nQ 3006 2619 2597 2516 \nz\n\" id=\"DejaVuSans-33\" transform=\"scale(0.015625)\"/>\n       </defs>\n       <use xlink:href=\"#DejaVuSans-33\"/>\n       <use x=\"63.623047\" xlink:href=\"#DejaVuSans-30\"/>\n       <use x=\"127.246094\" xlink:href=\"#DejaVuSans-30\"/>\n      </g>\n     </g>\n    </g>\n    <g id=\"xtick_8\">\n     <g id=\"line2d_8\">\n      <g>\n       <use style=\"stroke:#000000;stroke-width:0.8;\" x=\"355.541366\" xlink:href=\"#me05b1edd9a\" y=\"224.64\"/>\n      </g>\n     </g>\n     <g id=\"text_8\">\n      <!-- 350 -->\n      <g transform=\"translate(345.997616 239.238437)scale(0.1 -0.1)\">\n       <use xlink:href=\"#DejaVuSans-33\"/>\n       <use x=\"63.623047\" xlink:href=\"#DejaVuSans-35\"/>\n       <use x=\"127.246094\" xlink:href=\"#DejaVuSans-30\"/>\n      </g>\n     </g>\n    </g>\n   </g>\n   <g id=\"matplotlib.axis_2\">\n    <g id=\"ytick_1\">\n     <g id=\"line2d_9\">\n      <defs>\n       <path d=\"M 0 0 \nL -3.5 0 \n\" id=\"m29780daebc\" style=\"stroke:#000000;stroke-width:0.8;\"/>\n      </defs>\n      <g>\n       <use style=\"stroke:#000000;stroke-width:0.8;\" x=\"53.328125\" xlink:href=\"#m29780daebc\" y=\"224.64\"/>\n      </g>\n     </g>\n     <g id=\"text_9\">\n      <!-- 0 -->\n      <g transform=\"translate(39.965625 228.439219)scale(0.1 -0.1)\">\n       <use xlink:href=\"#DejaVuSans-30\"/>\n      </g>\n     </g>\n    </g>\n    <g id=\"ytick_2\">\n     <g id=\"line2d_10\">\n      <g>\n       <use style=\"stroke:#000000;stroke-width:0.8;\" x=\"53.328125\" xlink:href=\"#m29780daebc\" y=\"187.587627\"/>\n      </g>\n     </g>\n     <g id=\"text_10\">\n      <!-- 1000 -->\n      <g transform=\"translate(20.878125 191.386845)scale(0.1 -0.1)\">\n       <use xlink:href=\"#DejaVuSans-31\"/>\n       <use x=\"63.623047\" xlink:href=\"#DejaVuSans-30\"/>\n       <use x=\"127.246094\" xlink:href=\"#DejaVuSans-30\"/>\n       <use x=\"190.869141\" xlink:href=\"#DejaVuSans-30\"/>\n      </g>\n     </g>\n    </g>\n    <g id=\"ytick_3\">\n     <g id=\"line2d_11\">\n      <g>\n       <use style=\"stroke:#000000;stroke-width:0.8;\" x=\"53.328125\" xlink:href=\"#m29780daebc\" y=\"150.535253\"/>\n      </g>\n     </g>\n     <g id=\"text_11\">\n      <!-- 2000 -->\n      <g transform=\"translate(20.878125 154.334472)scale(0.1 -0.1)\">\n       <use xlink:href=\"#DejaVuSans-32\"/>\n       <use x=\"63.623047\" xlink:href=\"#DejaVuSans-30\"/>\n       <use x=\"127.246094\" xlink:href=\"#DejaVuSans-30\"/>\n       <use x=\"190.869141\" xlink:href=\"#DejaVuSans-30\"/>\n      </g>\n     </g>\n    </g>\n    <g id=\"ytick_4\">\n     <g id=\"line2d_12\">\n      <g>\n       <use style=\"stroke:#000000;stroke-width:0.8;\" x=\"53.328125\" xlink:href=\"#m29780daebc\" y=\"113.48288\"/>\n      </g>\n     </g>\n     <g id=\"text_12\">\n      <!-- 3000 -->\n      <g transform=\"translate(20.878125 117.282099)scale(0.1 -0.1)\">\n       <use xlink:href=\"#DejaVuSans-33\"/>\n       <use x=\"63.623047\" xlink:href=\"#DejaVuSans-30\"/>\n       <use x=\"127.246094\" xlink:href=\"#DejaVuSans-30\"/>\n       <use x=\"190.869141\" xlink:href=\"#DejaVuSans-30\"/>\n      </g>\n     </g>\n    </g>\n    <g id=\"ytick_5\">\n     <g id=\"line2d_13\">\n      <g>\n       <use style=\"stroke:#000000;stroke-width:0.8;\" x=\"53.328125\" xlink:href=\"#m29780daebc\" y=\"76.430507\"/>\n      </g>\n     </g>\n     <g id=\"text_13\">\n      <!-- 4000 -->\n      <g transform=\"translate(20.878125 80.229726)scale(0.1 -0.1)\">\n       <defs>\n        <path d=\"M 2419 4116 \nL 825 1625 \nL 2419 1625 \nL 2419 4116 \nz\nM 2253 4666 \nL 3047 4666 \nL 3047 1625 \nL 3713 1625 \nL 3713 1100 \nL 3047 1100 \nL 3047 0 \nL 2419 0 \nL 2419 1100 \nL 313 1100 \nL 313 1709 \nL 2253 4666 \nz\n\" id=\"DejaVuSans-34\" transform=\"scale(0.015625)\"/>\n       </defs>\n       <use xlink:href=\"#DejaVuSans-34\"/>\n       <use x=\"63.623047\" xlink:href=\"#DejaVuSans-30\"/>\n       <use x=\"127.246094\" xlink:href=\"#DejaVuSans-30\"/>\n       <use x=\"190.869141\" xlink:href=\"#DejaVuSans-30\"/>\n      </g>\n     </g>\n    </g>\n    <g id=\"ytick_6\">\n     <g id=\"line2d_14\">\n      <g>\n       <use style=\"stroke:#000000;stroke-width:0.8;\" x=\"53.328125\" xlink:href=\"#m29780daebc\" y=\"39.378134\"/>\n      </g>\n     </g>\n     <g id=\"text_14\">\n      <!-- 5000 -->\n      <g transform=\"translate(20.878125 43.177352)scale(0.1 -0.1)\">\n       <use xlink:href=\"#DejaVuSans-35\"/>\n       <use x=\"63.623047\" xlink:href=\"#DejaVuSans-30\"/>\n       <use x=\"127.246094\" xlink:href=\"#DejaVuSans-30\"/>\n       <use x=\"190.869141\" xlink:href=\"#DejaVuSans-30\"/>\n      </g>\n     </g>\n    </g>\n    <g id=\"text_15\">\n     <!-- Frequency -->\n     <g transform=\"translate(14.798438 141.749687)rotate(-90)scale(0.1 -0.1)\">\n      <defs>\n       <path d=\"M 628 4666 \nL 3309 4666 \nL 3309 4134 \nL 1259 4134 \nL 1259 2759 \nL 3109 2759 \nL 3109 2228 \nL 1259 2228 \nL 1259 0 \nL 628 0 \nL 628 4666 \nz\n\" id=\"DejaVuSans-46\" transform=\"scale(0.015625)\"/>\n       <path d=\"M 2631 2963 \nQ 2534 3019 2420 3045 \nQ 2306 3072 2169 3072 \nQ 1681 3072 1420 2755 \nQ 1159 2438 1159 1844 \nL 1159 0 \nL 581 0 \nL 581 3500 \nL 1159 3500 \nL 1159 2956 \nQ 1341 3275 1631 3429 \nQ 1922 3584 2338 3584 \nQ 2397 3584 2469 3576 \nQ 2541 3569 2628 3553 \nL 2631 2963 \nz\n\" id=\"DejaVuSans-72\" transform=\"scale(0.015625)\"/>\n       <path d=\"M 3597 1894 \nL 3597 1613 \nL 953 1613 \nQ 991 1019 1311 708 \nQ 1631 397 2203 397 \nQ 2534 397 2845 478 \nQ 3156 559 3463 722 \nL 3463 178 \nQ 3153 47 2828 -22 \nQ 2503 -91 2169 -91 \nQ 1331 -91 842 396 \nQ 353 884 353 1716 \nQ 353 2575 817 3079 \nQ 1281 3584 2069 3584 \nQ 2775 3584 3186 3129 \nQ 3597 2675 3597 1894 \nz\nM 3022 2063 \nQ 3016 2534 2758 2815 \nQ 2500 3097 2075 3097 \nQ 1594 3097 1305 2825 \nQ 1016 2553 972 2059 \nL 3022 2063 \nz\n\" id=\"DejaVuSans-65\" transform=\"scale(0.015625)\"/>\n       <path d=\"M 947 1747 \nQ 947 1113 1208 752 \nQ 1469 391 1925 391 \nQ 2381 391 2643 752 \nQ 2906 1113 2906 1747 \nQ 2906 2381 2643 2742 \nQ 2381 3103 1925 3103 \nQ 1469 3103 1208 2742 \nQ 947 2381 947 1747 \nz\nM 2906 525 \nQ 2725 213 2448 61 \nQ 2172 -91 1784 -91 \nQ 1150 -91 751 415 \nQ 353 922 353 1747 \nQ 353 2572 751 3078 \nQ 1150 3584 1784 3584 \nQ 2172 3584 2448 3432 \nQ 2725 3281 2906 2969 \nL 2906 3500 \nL 3481 3500 \nL 3481 -1331 \nL 2906 -1331 \nL 2906 525 \nz\n\" id=\"DejaVuSans-71\" transform=\"scale(0.015625)\"/>\n       <path d=\"M 544 1381 \nL 544 3500 \nL 1119 3500 \nL 1119 1403 \nQ 1119 906 1312 657 \nQ 1506 409 1894 409 \nQ 2359 409 2629 706 \nQ 2900 1003 2900 1516 \nL 2900 3500 \nL 3475 3500 \nL 3475 0 \nL 2900 0 \nL 2900 538 \nQ 2691 219 2414 64 \nQ 2138 -91 1772 -91 \nQ 1169 -91 856 284 \nQ 544 659 544 1381 \nz\nM 1991 3584 \nL 1991 3584 \nz\n\" id=\"DejaVuSans-75\" transform=\"scale(0.015625)\"/>\n       <path d=\"M 3513 2113 \nL 3513 0 \nL 2938 0 \nL 2938 2094 \nQ 2938 2591 2744 2837 \nQ 2550 3084 2163 3084 \nQ 1697 3084 1428 2787 \nQ 1159 2491 1159 1978 \nL 1159 0 \nL 581 0 \nL 581 3500 \nL 1159 3500 \nL 1159 2956 \nQ 1366 3272 1645 3428 \nQ 1925 3584 2291 3584 \nQ 2894 3584 3203 3211 \nQ 3513 2838 3513 2113 \nz\n\" id=\"DejaVuSans-6e\" transform=\"scale(0.015625)\"/>\n       <path d=\"M 3122 3366 \nL 3122 2828 \nQ 2878 2963 2633 3030 \nQ 2388 3097 2138 3097 \nQ 1578 3097 1268 2742 \nQ 959 2388 959 1747 \nQ 959 1106 1268 751 \nQ 1578 397 2138 397 \nQ 2388 397 2633 464 \nQ 2878 531 3122 666 \nL 3122 134 \nQ 2881 22 2623 -34 \nQ 2366 -91 2075 -91 \nQ 1284 -91 818 406 \nQ 353 903 353 1747 \nQ 353 2603 823 3093 \nQ 1294 3584 2113 3584 \nQ 2378 3584 2631 3529 \nQ 2884 3475 3122 3366 \nz\n\" id=\"DejaVuSans-63\" transform=\"scale(0.015625)\"/>\n       <path d=\"M 2059 -325 \nQ 1816 -950 1584 -1140 \nQ 1353 -1331 966 -1331 \nL 506 -1331 \nL 506 -850 \nL 844 -850 \nQ 1081 -850 1212 -737 \nQ 1344 -625 1503 -206 \nL 1606 56 \nL 191 3500 \nL 800 3500 \nL 1894 763 \nL 2988 3500 \nL 3597 3500 \nL 2059 -325 \nz\n\" id=\"DejaVuSans-79\" transform=\"scale(0.015625)\"/>\n      </defs>\n      <use xlink:href=\"#DejaVuSans-46\"/>\n      <use x=\"50.269531\" xlink:href=\"#DejaVuSans-72\"/>\n      <use x=\"89.132812\" xlink:href=\"#DejaVuSans-65\"/>\n      <use x=\"150.65625\" xlink:href=\"#DejaVuSans-71\"/>\n      <use x=\"214.132812\" xlink:href=\"#DejaVuSans-75\"/>\n      <use x=\"277.511719\" xlink:href=\"#DejaVuSans-65\"/>\n      <use x=\"339.035156\" xlink:href=\"#DejaVuSans-6e\"/>\n      <use x=\"402.414062\" xlink:href=\"#DejaVuSans-63\"/>\n      <use x=\"457.394531\" xlink:href=\"#DejaVuSans-79\"/>\n     </g>\n    </g>\n   </g>\n   <g id=\"patch_13\">\n    <path d=\"M 53.328125 224.64 \nL 53.328125 7.2 \n\" style=\"fill:none;stroke:#000000;stroke-linecap:square;stroke-linejoin:miter;stroke-width:0.8;\"/>\n   </g>\n   <g id=\"patch_14\">\n    <path d=\"M 388.128125 224.64 \nL 388.128125 7.2 \n\" style=\"fill:none;stroke:#000000;stroke-linecap:square;stroke-linejoin:miter;stroke-width:0.8;\"/>\n   </g>\n   <g id=\"patch_15\">\n    <path d=\"M 53.328125 224.64 \nL 388.128125 224.64 \n\" style=\"fill:none;stroke:#000000;stroke-linecap:square;stroke-linejoin:miter;stroke-width:0.8;\"/>\n   </g>\n   <g id=\"patch_16\">\n    <path d=\"M 53.328125 7.2 \nL 388.128125 7.2 \n\" style=\"fill:none;stroke:#000000;stroke-linecap:square;stroke-linejoin:miter;stroke-width:0.8;\"/>\n   </g>\n  </g>\n </g>\n <defs>\n  <clipPath id=\"p2294799ebd\">\n   <rect height=\"217.44\" width=\"334.8\" x=\"53.328125\" y=\"7.2\"/>\n  </clipPath>\n </defs>\n</svg>\n",
      "image/png": "[encoded data removed]"
     },
     "metadata": {
      "needs_background": "light"
     }
    }
   ],
   "source": [
    "train_filtered_user_gb['assessmentItemID'].plot.hist()"
   ]
  },
  {
   "cell_type": "code",
   "execution_count": 122,
   "metadata": {},
   "outputs": [
    {
     "output_type": "execute_result",
     "data": {
      "text/plain": [
       "        assessmentItemID\n",
       "userID                  \n",
       "3                    106\n",
       "4                     40\n",
       "13                     8\n",
       "17                    64\n",
       "26                     7"
      ],
      "text/html": "<div>\n<style scoped>\n    .dataframe tbody tr th:only-of-type {\n        vertical-align: middle;\n    }\n\n    .dataframe tbody tr th {\n        vertical-align: top;\n    }\n\n    .dataframe thead th {\n        text-align: right;\n    }\n</style>\n<table border=\"1\" class=\"dataframe\">\n  <thead>\n    <tr style=\"text-align: right;\">\n      <th></th>\n      <th>assessmentItemID</th>\n    </tr>\n    <tr>\n      <th>userID</th>\n      <th></th>\n    </tr>\n  </thead>\n  <tbody>\n    <tr>\n      <th>3</th>\n      <td>106</td>\n    </tr>\n    <tr>\n      <th>4</th>\n      <td>40</td>\n    </tr>\n    <tr>\n      <th>13</th>\n      <td>8</td>\n    </tr>\n    <tr>\n      <th>17</th>\n      <td>64</td>\n    </tr>\n    <tr>\n      <th>26</th>\n      <td>7</td>\n    </tr>\n  </tbody>\n</table>\n</div>"
     },
     "metadata": {},
     "execution_count": 122
    }
   ],
   "source": [
    "test_filtered_user_gb = filtered_test_df.groupby('userID').agg({\n",
    "    'assessmentItemID': 'count'\n",
    "})\n",
    "test_filtered_user_gb.head()"
   ]
  },
  {
   "cell_type": "code",
   "execution_count": 130,
   "metadata": {},
   "outputs": [
    {
     "output_type": "execute_result",
     "data": {
      "text/plain": [
       "0.25     7.00\n",
       "0.50    10.50\n",
       "0.75    26.25\n",
       "Name: assessmentItemID, dtype: float64"
      ]
     },
     "metadata": {},
     "execution_count": 130
    }
   ],
   "source": [
    "test_filtered_user_gb['assessmentItemID'].quantile([0.25,0.5,0.75])"
   ]
  },
  {
   "cell_type": "code",
   "execution_count": 128,
   "metadata": {},
   "outputs": [
    {
     "output_type": "execute_result",
     "data": {
      "text/plain": [
       "<AxesSubplot:ylabel='Frequency'>"
      ]
     },
     "metadata": {},
     "execution_count": 128
    },
    {
     "output_type": "display_data",
     "data": {
      "text/plain": "<Figure size 432x288 with 1 Axes>",
      "image/svg+xml": "<?xml version=\"1.0\" encoding=\"utf-8\" standalone=\"no\"?>\n<!DOCTYPE svg PUBLIC \"-//W3C//DTD SVG 1.1//EN\"\n  \"http://www.w3.org/Graphics/SVG/1.1/DTD/svg11.dtd\">\n<svg height=\"248.518125pt\" version=\"1.1\" viewBox=\"0 0 388.965625 248.518125\" width=\"388.965625pt\" xmlns=\"http://www.w3.org/2000/svg\" xmlns:xlink=\"http://www.w3.org/1999/xlink\">\n <metadata>\n  <rdf:RDF xmlns:cc=\"http://creativecommons.org/ns#\" xmlns:dc=\"http://purl.org/dc/elements/1.1/\" xmlns:rdf=\"http://www.w3.org/1999/02/22-rdf-syntax-ns#\">\n   <cc:Work>\n    <dc:type rdf:resource=\"http://purl.org/dc/dcmitype/StillImage\"/>\n    <dc:date>2021-06-11T12:25:22.356689</dc:date>\n    <dc:format>image/svg+xml</dc:format>\n    <dc:creator>\n     <cc:Agent>\n      <dc:title>Matplotlib v3.4.2, https://matplotlib.org/</dc:title>\n     </cc:Agent>\n    </dc:creator>\n   </cc:Work>\n  </rdf:RDF>\n </metadata>\n <defs>\n  <style type=\"text/css\">*{stroke-linecap:butt;stroke-linejoin:round;}</style>\n </defs>\n <g id=\"figure_1\">\n  <g id=\"patch_1\">\n   <path d=\"M 0 248.518125 \nL 388.965625 248.518125 \nL 388.965625 0 \nL 0 0 \nz\n\" style=\"fill:none;\"/>\n  </g>\n  <g id=\"axes_1\">\n   <g id=\"patch_2\">\n    <path d=\"M 46.965625 224.64 \nL 381.765625 224.64 \nL 381.765625 7.2 \nL 46.965625 7.2 \nz\n\" style=\"fill:#ffffff;\"/>\n   </g>\n   <g id=\"patch_3\">\n    <path clip-path=\"url(#p2459d5aeee)\" d=\"M 62.183807 224.64 \nL 92.62017 224.64 \nL 92.62017 17.554286 \nL 62.183807 17.554286 \nz\n\" style=\"fill:#1f77b4;\"/>\n   </g>\n   <g id=\"patch_4\">\n    <path clip-path=\"url(#p2459d5aeee)\" d=\"M 92.62017 224.64 \nL 123.056534 224.64 \nL 123.056534 204.452399 \nL 92.62017 204.452399 \nz\n\" style=\"fill:#1f77b4;\"/>\n   </g>\n   <g id=\"patch_5\">\n    <path clip-path=\"url(#p2459d5aeee)\" d=\"M 123.056534 224.64 \nL 153.492898 224.64 \nL 153.492898 217.476658 \nL 123.056534 217.476658 \nz\n\" style=\"fill:#1f77b4;\"/>\n   </g>\n   <g id=\"patch_6\">\n    <path clip-path=\"url(#p2459d5aeee)\" d=\"M 153.492898 224.64 \nL 183.929261 224.64 \nL 183.929261 220.081509 \nL 153.492898 220.081509 \nz\n\" style=\"fill:#1f77b4;\"/>\n   </g>\n   <g id=\"patch_7\">\n    <path clip-path=\"url(#p2459d5aeee)\" d=\"M 183.929261 224.64 \nL 214.365625 224.64 \nL 214.365625 223.337574 \nL 183.929261 223.337574 \nz\n\" style=\"fill:#1f77b4;\"/>\n   </g>\n   <g id=\"patch_8\">\n    <path clip-path=\"url(#p2459d5aeee)\" d=\"M 214.365625 224.64 \nL 244.801989 224.64 \nL 244.801989 223.663181 \nL 214.365625 223.663181 \nz\n\" style=\"fill:#1f77b4;\"/>\n   </g>\n   <g id=\"patch_9\">\n    <path clip-path=\"url(#p2459d5aeee)\" d=\"M 244.801989 224.64 \nL 275.238352 224.64 \nL 275.238352 224.314394 \nL 244.801989 224.314394 \nz\n\" style=\"fill:#1f77b4;\"/>\n   </g>\n   <g id=\"patch_10\">\n    <path clip-path=\"url(#p2459d5aeee)\" d=\"M 275.238352 224.64 \nL 305.674716 224.64 \nL 305.674716 224.64 \nL 275.238352 224.64 \nz\n\" style=\"fill:#1f77b4;\"/>\n   </g>\n   <g id=\"patch_11\">\n    <path clip-path=\"url(#p2459d5aeee)\" d=\"M 305.674716 224.64 \nL 336.11108 224.64 \nL 336.11108 224.314394 \nL 305.674716 224.314394 \nz\n\" style=\"fill:#1f77b4;\"/>\n   </g>\n   <g id=\"patch_12\">\n    <path clip-path=\"url(#p2459d5aeee)\" d=\"M 336.11108 224.64 \nL 366.547443 224.64 \nL 366.547443 224.314394 \nL 336.11108 224.314394 \nz\n\" style=\"fill:#1f77b4;\"/>\n   </g>\n   <g id=\"matplotlib.axis_1\">\n    <g id=\"xtick_1\">\n     <g id=\"line2d_1\">\n      <defs>\n       <path d=\"M 0 0 \nL 0 3.5 \n\" id=\"ma7e8e94269\" style=\"stroke:#000000;stroke-width:0.8;\"/>\n      </defs>\n      <g>\n       <use style=\"stroke:#000000;stroke-width:0.8;\" x=\"58.866492\" xlink:href=\"#ma7e8e94269\" y=\"224.64\"/>\n      </g>\n     </g>\n     <g id=\"text_1\">\n      <!-- 0 -->\n      <g transform=\"translate(55.685242 239.238437)scale(0.1 -0.1)\">\n       <defs>\n        <path d=\"M 2034 4250 \nQ 1547 4250 1301 3770 \nQ 1056 3291 1056 2328 \nQ 1056 1369 1301 889 \nQ 1547 409 2034 409 \nQ 2525 409 2770 889 \nQ 3016 1369 3016 2328 \nQ 3016 3291 2770 3770 \nQ 2525 4250 2034 4250 \nz\nM 2034 4750 \nQ 2819 4750 3233 4129 \nQ 3647 3509 3647 2328 \nQ 3647 1150 3233 529 \nQ 2819 -91 2034 -91 \nQ 1250 -91 836 529 \nQ 422 1150 422 2328 \nQ 422 3509 836 4129 \nQ 1250 4750 2034 4750 \nz\n\" id=\"DejaVuSans-30\" transform=\"scale(0.015625)\"/>\n       </defs>\n       <use xlink:href=\"#DejaVuSans-30\"/>\n      </g>\n     </g>\n    </g>\n    <g id=\"xtick_2\">\n     <g id=\"line2d_2\">\n      <g>\n       <use style=\"stroke:#000000;stroke-width:0.8;\" x=\"100.332927\" xlink:href=\"#ma7e8e94269\" y=\"224.64\"/>\n      </g>\n     </g>\n     <g id=\"text_2\">\n      <!-- 50 -->\n      <g transform=\"translate(93.970427 239.238437)scale(0.1 -0.1)\">\n       <defs>\n        <path d=\"M 691 4666 \nL 3169 4666 \nL 3169 4134 \nL 1269 4134 \nL 1269 2991 \nQ 1406 3038 1543 3061 \nQ 1681 3084 1819 3084 \nQ 2600 3084 3056 2656 \nQ 3513 2228 3513 1497 \nQ 3513 744 3044 326 \nQ 2575 -91 1722 -91 \nQ 1428 -91 1123 -41 \nQ 819 9 494 109 \nL 494 744 \nQ 775 591 1075 516 \nQ 1375 441 1709 441 \nQ 2250 441 2565 725 \nQ 2881 1009 2881 1497 \nQ 2881 1984 2565 2268 \nQ 2250 2553 1709 2553 \nQ 1456 2553 1204 2497 \nQ 953 2441 691 2322 \nL 691 4666 \nz\n\" id=\"DejaVuSans-35\" transform=\"scale(0.015625)\"/>\n       </defs>\n       <use xlink:href=\"#DejaVuSans-35\"/>\n       <use x=\"63.623047\" xlink:href=\"#DejaVuSans-30\"/>\n      </g>\n     </g>\n    </g>\n    <g id=\"xtick_3\">\n     <g id=\"line2d_3\">\n      <g>\n       <use style=\"stroke:#000000;stroke-width:0.8;\" x=\"141.799363\" xlink:href=\"#ma7e8e94269\" y=\"224.64\"/>\n      </g>\n     </g>\n     <g id=\"text_3\">\n      <!-- 100 -->\n      <g transform=\"translate(132.255613 239.238437)scale(0.1 -0.1)\">\n       <defs>\n        <path d=\"M 794 531 \nL 1825 531 \nL 1825 4091 \nL 703 3866 \nL 703 4441 \nL 1819 4666 \nL 2450 4666 \nL 2450 531 \nL 3481 531 \nL 3481 0 \nL 794 0 \nL 794 531 \nz\n\" id=\"DejaVuSans-31\" transform=\"scale(0.015625)\"/>\n       </defs>\n       <use xlink:href=\"#DejaVuSans-31\"/>\n       <use x=\"63.623047\" xlink:href=\"#DejaVuSans-30\"/>\n       <use x=\"127.246094\" xlink:href=\"#DejaVuSans-30\"/>\n      </g>\n     </g>\n    </g>\n    <g id=\"xtick_4\">\n     <g id=\"line2d_4\">\n      <g>\n       <use style=\"stroke:#000000;stroke-width:0.8;\" x=\"183.265798\" xlink:href=\"#ma7e8e94269\" y=\"224.64\"/>\n      </g>\n     </g>\n     <g id=\"text_4\">\n      <!-- 150 -->\n      <g transform=\"translate(173.722048 239.238437)scale(0.1 -0.1)\">\n       <use xlink:href=\"#DejaVuSans-31\"/>\n       <use x=\"63.623047\" xlink:href=\"#DejaVuSans-35\"/>\n       <use x=\"127.246094\" xlink:href=\"#DejaVuSans-30\"/>\n      </g>\n     </g>\n    </g>\n    <g id=\"xtick_5\">\n     <g id=\"line2d_5\">\n      <g>\n       <use style=\"stroke:#000000;stroke-width:0.8;\" x=\"224.732234\" xlink:href=\"#ma7e8e94269\" y=\"224.64\"/>\n      </g>\n     </g>\n     <g id=\"text_5\">\n      <!-- 200 -->\n      <g transform=\"translate(215.188484 239.238437)scale(0.1 -0.1)\">\n       <defs>\n        <path d=\"M 1228 531 \nL 3431 531 \nL 3431 0 \nL 469 0 \nL 469 531 \nQ 828 903 1448 1529 \nQ 2069 2156 2228 2338 \nQ 2531 2678 2651 2914 \nQ 2772 3150 2772 3378 \nQ 2772 3750 2511 3984 \nQ 2250 4219 1831 4219 \nQ 1534 4219 1204 4116 \nQ 875 4013 500 3803 \nL 500 4441 \nQ 881 4594 1212 4672 \nQ 1544 4750 1819 4750 \nQ 2544 4750 2975 4387 \nQ 3406 4025 3406 3419 \nQ 3406 3131 3298 2873 \nQ 3191 2616 2906 2266 \nQ 2828 2175 2409 1742 \nQ 1991 1309 1228 531 \nz\n\" id=\"DejaVuSans-32\" transform=\"scale(0.015625)\"/>\n       </defs>\n       <use xlink:href=\"#DejaVuSans-32\"/>\n       <use x=\"63.623047\" xlink:href=\"#DejaVuSans-30\"/>\n       <use x=\"127.246094\" xlink:href=\"#DejaVuSans-30\"/>\n      </g>\n     </g>\n    </g>\n    <g id=\"xtick_6\">\n     <g id=\"line2d_6\">\n      <g>\n       <use style=\"stroke:#000000;stroke-width:0.8;\" x=\"266.198669\" xlink:href=\"#ma7e8e94269\" y=\"224.64\"/>\n      </g>\n     </g>\n     <g id=\"text_6\">\n      <!-- 250 -->\n      <g transform=\"translate(256.654919 239.238437)scale(0.1 -0.1)\">\n       <use xlink:href=\"#DejaVuSans-32\"/>\n       <use x=\"63.623047\" xlink:href=\"#DejaVuSans-35\"/>\n       <use x=\"127.246094\" xlink:href=\"#DejaVuSans-30\"/>\n      </g>\n     </g>\n    </g>\n    <g id=\"xtick_7\">\n     <g id=\"line2d_7\">\n      <g>\n       <use style=\"stroke:#000000;stroke-width:0.8;\" x=\"307.665105\" xlink:href=\"#ma7e8e94269\" y=\"224.64\"/>\n      </g>\n     </g>\n     <g id=\"text_7\">\n      <!-- 300 -->\n      <g transform=\"translate(298.121355 239.238437)scale(0.1 -0.1)\">\n       <defs>\n        <path d=\"M 2597 2516 \nQ 3050 2419 3304 2112 \nQ 3559 1806 3559 1356 \nQ 3559 666 3084 287 \nQ 2609 -91 1734 -91 \nQ 1441 -91 1130 -33 \nQ 819 25 488 141 \nL 488 750 \nQ 750 597 1062 519 \nQ 1375 441 1716 441 \nQ 2309 441 2620 675 \nQ 2931 909 2931 1356 \nQ 2931 1769 2642 2001 \nQ 2353 2234 1838 2234 \nL 1294 2234 \nL 1294 2753 \nL 1863 2753 \nQ 2328 2753 2575 2939 \nQ 2822 3125 2822 3475 \nQ 2822 3834 2567 4026 \nQ 2313 4219 1838 4219 \nQ 1578 4219 1281 4162 \nQ 984 4106 628 3988 \nL 628 4550 \nQ 988 4650 1302 4700 \nQ 1616 4750 1894 4750 \nQ 2613 4750 3031 4423 \nQ 3450 4097 3450 3541 \nQ 3450 3153 3228 2886 \nQ 3006 2619 2597 2516 \nz\n\" id=\"DejaVuSans-33\" transform=\"scale(0.015625)\"/>\n       </defs>\n       <use xlink:href=\"#DejaVuSans-33\"/>\n       <use x=\"63.623047\" xlink:href=\"#DejaVuSans-30\"/>\n       <use x=\"127.246094\" xlink:href=\"#DejaVuSans-30\"/>\n      </g>\n     </g>\n    </g>\n    <g id=\"xtick_8\">\n     <g id=\"line2d_8\">\n      <g>\n       <use style=\"stroke:#000000;stroke-width:0.8;\" x=\"349.13154\" xlink:href=\"#ma7e8e94269\" y=\"224.64\"/>\n      </g>\n     </g>\n     <g id=\"text_8\">\n      <!-- 350 -->\n      <g transform=\"translate(339.58779 239.238437)scale(0.1 -0.1)\">\n       <use xlink:href=\"#DejaVuSans-33\"/>\n       <use x=\"63.623047\" xlink:href=\"#DejaVuSans-35\"/>\n       <use x=\"127.246094\" xlink:href=\"#DejaVuSans-30\"/>\n      </g>\n     </g>\n    </g>\n   </g>\n   <g id=\"matplotlib.axis_2\">\n    <g id=\"ytick_1\">\n     <g id=\"line2d_9\">\n      <defs>\n       <path d=\"M 0 0 \nL -3.5 0 \n\" id=\"m0edba0ef13\" style=\"stroke:#000000;stroke-width:0.8;\"/>\n      </defs>\n      <g>\n       <use style=\"stroke:#000000;stroke-width:0.8;\" x=\"46.965625\" xlink:href=\"#m0edba0ef13\" y=\"224.64\"/>\n      </g>\n     </g>\n     <g id=\"text_9\">\n      <!-- 0 -->\n      <g transform=\"translate(33.603125 228.439219)scale(0.1 -0.1)\">\n       <use xlink:href=\"#DejaVuSans-30\"/>\n      </g>\n     </g>\n    </g>\n    <g id=\"ytick_2\">\n     <g id=\"line2d_10\">\n      <g>\n       <use style=\"stroke:#000000;stroke-width:0.8;\" x=\"46.965625\" xlink:href=\"#m0edba0ef13\" y=\"192.079353\"/>\n      </g>\n     </g>\n     <g id=\"text_10\">\n      <!-- 100 -->\n      <g transform=\"translate(20.878125 195.878572)scale(0.1 -0.1)\">\n       <use xlink:href=\"#DejaVuSans-31\"/>\n       <use x=\"63.623047\" xlink:href=\"#DejaVuSans-30\"/>\n       <use x=\"127.246094\" xlink:href=\"#DejaVuSans-30\"/>\n      </g>\n     </g>\n    </g>\n    <g id=\"ytick_3\">\n     <g id=\"line2d_11\">\n      <g>\n       <use style=\"stroke:#000000;stroke-width:0.8;\" x=\"46.965625\" xlink:href=\"#m0edba0ef13\" y=\"159.518706\"/>\n      </g>\n     </g>\n     <g id=\"text_11\">\n      <!-- 200 -->\n      <g transform=\"translate(20.878125 163.317925)scale(0.1 -0.1)\">\n       <use xlink:href=\"#DejaVuSans-32\"/>\n       <use x=\"63.623047\" xlink:href=\"#DejaVuSans-30\"/>\n       <use x=\"127.246094\" xlink:href=\"#DejaVuSans-30\"/>\n      </g>\n     </g>\n    </g>\n    <g id=\"ytick_4\">\n     <g id=\"line2d_12\">\n      <g>\n       <use style=\"stroke:#000000;stroke-width:0.8;\" x=\"46.965625\" xlink:href=\"#m0edba0ef13\" y=\"126.958059\"/>\n      </g>\n     </g>\n     <g id=\"text_12\">\n      <!-- 300 -->\n      <g transform=\"translate(20.878125 130.757278)scale(0.1 -0.1)\">\n       <use xlink:href=\"#DejaVuSans-33\"/>\n       <use x=\"63.623047\" xlink:href=\"#DejaVuSans-30\"/>\n       <use x=\"127.246094\" xlink:href=\"#DejaVuSans-30\"/>\n      </g>\n     </g>\n    </g>\n    <g id=\"ytick_5\">\n     <g id=\"line2d_13\">\n      <g>\n       <use style=\"stroke:#000000;stroke-width:0.8;\" x=\"46.965625\" xlink:href=\"#m0edba0ef13\" y=\"94.397412\"/>\n      </g>\n     </g>\n     <g id=\"text_13\">\n      <!-- 400 -->\n      <g transform=\"translate(20.878125 98.196631)scale(0.1 -0.1)\">\n       <defs>\n        <path d=\"M 2419 4116 \nL 825 1625 \nL 2419 1625 \nL 2419 4116 \nz\nM 2253 4666 \nL 3047 4666 \nL 3047 1625 \nL 3713 1625 \nL 3713 1100 \nL 3047 1100 \nL 3047 0 \nL 2419 0 \nL 2419 1100 \nL 313 1100 \nL 313 1709 \nL 2253 4666 \nz\n\" id=\"DejaVuSans-34\" transform=\"scale(0.015625)\"/>\n       </defs>\n       <use xlink:href=\"#DejaVuSans-34\"/>\n       <use x=\"63.623047\" xlink:href=\"#DejaVuSans-30\"/>\n       <use x=\"127.246094\" xlink:href=\"#DejaVuSans-30\"/>\n      </g>\n     </g>\n    </g>\n    <g id=\"ytick_6\">\n     <g id=\"line2d_14\">\n      <g>\n       <use style=\"stroke:#000000;stroke-width:0.8;\" x=\"46.965625\" xlink:href=\"#m0edba0ef13\" y=\"61.836765\"/>\n      </g>\n     </g>\n     <g id=\"text_14\">\n      <!-- 500 -->\n      <g transform=\"translate(20.878125 65.635984)scale(0.1 -0.1)\">\n       <use xlink:href=\"#DejaVuSans-35\"/>\n       <use x=\"63.623047\" xlink:href=\"#DejaVuSans-30\"/>\n       <use x=\"127.246094\" xlink:href=\"#DejaVuSans-30\"/>\n      </g>\n     </g>\n    </g>\n    <g id=\"ytick_7\">\n     <g id=\"line2d_15\">\n      <g>\n       <use style=\"stroke:#000000;stroke-width:0.8;\" x=\"46.965625\" xlink:href=\"#m0edba0ef13\" y=\"29.276119\"/>\n      </g>\n     </g>\n     <g id=\"text_15\">\n      <!-- 600 -->\n      <g transform=\"translate(20.878125 33.075337)scale(0.1 -0.1)\">\n       <defs>\n        <path d=\"M 2113 2584 \nQ 1688 2584 1439 2293 \nQ 1191 2003 1191 1497 \nQ 1191 994 1439 701 \nQ 1688 409 2113 409 \nQ 2538 409 2786 701 \nQ 3034 994 3034 1497 \nQ 3034 2003 2786 2293 \nQ 2538 2584 2113 2584 \nz\nM 3366 4563 \nL 3366 3988 \nQ 3128 4100 2886 4159 \nQ 2644 4219 2406 4219 \nQ 1781 4219 1451 3797 \nQ 1122 3375 1075 2522 \nQ 1259 2794 1537 2939 \nQ 1816 3084 2150 3084 \nQ 2853 3084 3261 2657 \nQ 3669 2231 3669 1497 \nQ 3669 778 3244 343 \nQ 2819 -91 2113 -91 \nQ 1303 -91 875 529 \nQ 447 1150 447 2328 \nQ 447 3434 972 4092 \nQ 1497 4750 2381 4750 \nQ 2619 4750 2861 4703 \nQ 3103 4656 3366 4563 \nz\n\" id=\"DejaVuSans-36\" transform=\"scale(0.015625)\"/>\n       </defs>\n       <use xlink:href=\"#DejaVuSans-36\"/>\n       <use x=\"63.623047\" xlink:href=\"#DejaVuSans-30\"/>\n       <use x=\"127.246094\" xlink:href=\"#DejaVuSans-30\"/>\n      </g>\n     </g>\n    </g>\n    <g id=\"text_16\">\n     <!-- Frequency -->\n     <g transform=\"translate(14.798438 141.749687)rotate(-90)scale(0.1 -0.1)\">\n      <defs>\n       <path d=\"M 628 4666 \nL 3309 4666 \nL 3309 4134 \nL 1259 4134 \nL 1259 2759 \nL 3109 2759 \nL 3109 2228 \nL 1259 2228 \nL 1259 0 \nL 628 0 \nL 628 4666 \nz\n\" id=\"DejaVuSans-46\" transform=\"scale(0.015625)\"/>\n       <path d=\"M 2631 2963 \nQ 2534 3019 2420 3045 \nQ 2306 3072 2169 3072 \nQ 1681 3072 1420 2755 \nQ 1159 2438 1159 1844 \nL 1159 0 \nL 581 0 \nL 581 3500 \nL 1159 3500 \nL 1159 2956 \nQ 1341 3275 1631 3429 \nQ 1922 3584 2338 3584 \nQ 2397 3584 2469 3576 \nQ 2541 3569 2628 3553 \nL 2631 2963 \nz\n\" id=\"DejaVuSans-72\" transform=\"scale(0.015625)\"/>\n       <path d=\"M 3597 1894 \nL 3597 1613 \nL 953 1613 \nQ 991 1019 1311 708 \nQ 1631 397 2203 397 \nQ 2534 397 2845 478 \nQ 3156 559 3463 722 \nL 3463 178 \nQ 3153 47 2828 -22 \nQ 2503 -91 2169 -91 \nQ 1331 -91 842 396 \nQ 353 884 353 1716 \nQ 353 2575 817 3079 \nQ 1281 3584 2069 3584 \nQ 2775 3584 3186 3129 \nQ 3597 2675 3597 1894 \nz\nM 3022 2063 \nQ 3016 2534 2758 2815 \nQ 2500 3097 2075 3097 \nQ 1594 3097 1305 2825 \nQ 1016 2553 972 2059 \nL 3022 2063 \nz\n\" id=\"DejaVuSans-65\" transform=\"scale(0.015625)\"/>\n       <path d=\"M 947 1747 \nQ 947 1113 1208 752 \nQ 1469 391 1925 391 \nQ 2381 391 2643 752 \nQ 2906 1113 2906 1747 \nQ 2906 2381 2643 2742 \nQ 2381 3103 1925 3103 \nQ 1469 3103 1208 2742 \nQ 947 2381 947 1747 \nz\nM 2906 525 \nQ 2725 213 2448 61 \nQ 2172 -91 1784 -91 \nQ 1150 -91 751 415 \nQ 353 922 353 1747 \nQ 353 2572 751 3078 \nQ 1150 3584 1784 3584 \nQ 2172 3584 2448 3432 \nQ 2725 3281 2906 2969 \nL 2906 3500 \nL 3481 3500 \nL 3481 -1331 \nL 2906 -1331 \nL 2906 525 \nz\n\" id=\"DejaVuSans-71\" transform=\"scale(0.015625)\"/>\n       <path d=\"M 544 1381 \nL 544 3500 \nL 1119 3500 \nL 1119 1403 \nQ 1119 906 1312 657 \nQ 1506 409 1894 409 \nQ 2359 409 2629 706 \nQ 2900 1003 2900 1516 \nL 2900 3500 \nL 3475 3500 \nL 3475 0 \nL 2900 0 \nL 2900 538 \nQ 2691 219 2414 64 \nQ 2138 -91 1772 -91 \nQ 1169 -91 856 284 \nQ 544 659 544 1381 \nz\nM 1991 3584 \nL 1991 3584 \nz\n\" id=\"DejaVuSans-75\" transform=\"scale(0.015625)\"/>\n       <path d=\"M 3513 2113 \nL 3513 0 \nL 2938 0 \nL 2938 2094 \nQ 2938 2591 2744 2837 \nQ 2550 3084 2163 3084 \nQ 1697 3084 1428 2787 \nQ 1159 2491 1159 1978 \nL 1159 0 \nL 581 0 \nL 581 3500 \nL 1159 3500 \nL 1159 2956 \nQ 1366 3272 1645 3428 \nQ 1925 3584 2291 3584 \nQ 2894 3584 3203 3211 \nQ 3513 2838 3513 2113 \nz\n\" id=\"DejaVuSans-6e\" transform=\"scale(0.015625)\"/>\n       <path d=\"M 3122 3366 \nL 3122 2828 \nQ 2878 2963 2633 3030 \nQ 2388 3097 2138 3097 \nQ 1578 3097 1268 2742 \nQ 959 2388 959 1747 \nQ 959 1106 1268 751 \nQ 1578 397 2138 397 \nQ 2388 397 2633 464 \nQ 2878 531 3122 666 \nL 3122 134 \nQ 2881 22 2623 -34 \nQ 2366 -91 2075 -91 \nQ 1284 -91 818 406 \nQ 353 903 353 1747 \nQ 353 2603 823 3093 \nQ 1294 3584 2113 3584 \nQ 2378 3584 2631 3529 \nQ 2884 3475 3122 3366 \nz\n\" id=\"DejaVuSans-63\" transform=\"scale(0.015625)\"/>\n       <path d=\"M 2059 -325 \nQ 1816 -950 1584 -1140 \nQ 1353 -1331 966 -1331 \nL 506 -1331 \nL 506 -850 \nL 844 -850 \nQ 1081 -850 1212 -737 \nQ 1344 -625 1503 -206 \nL 1606 56 \nL 191 3500 \nL 800 3500 \nL 1894 763 \nL 2988 3500 \nL 3597 3500 \nL 2059 -325 \nz\n\" id=\"DejaVuSans-79\" transform=\"scale(0.015625)\"/>\n      </defs>\n      <use xlink:href=\"#DejaVuSans-46\"/>\n      <use x=\"50.269531\" xlink:href=\"#DejaVuSans-72\"/>\n      <use x=\"89.132812\" xlink:href=\"#DejaVuSans-65\"/>\n      <use x=\"150.65625\" xlink:href=\"#DejaVuSans-71\"/>\n      <use x=\"214.132812\" xlink:href=\"#DejaVuSans-75\"/>\n      <use x=\"277.511719\" xlink:href=\"#DejaVuSans-65\"/>\n      <use x=\"339.035156\" xlink:href=\"#DejaVuSans-6e\"/>\n      <use x=\"402.414062\" xlink:href=\"#DejaVuSans-63\"/>\n      <use x=\"457.394531\" xlink:href=\"#DejaVuSans-79\"/>\n     </g>\n    </g>\n   </g>\n   <g id=\"patch_13\">\n    <path d=\"M 46.965625 224.64 \nL 46.965625 7.2 \n\" style=\"fill:none;stroke:#000000;stroke-linecap:square;stroke-linejoin:miter;stroke-width:0.8;\"/>\n   </g>\n   <g id=\"patch_14\">\n    <path d=\"M 381.765625 224.64 \nL 381.765625 7.2 \n\" style=\"fill:none;stroke:#000000;stroke-linecap:square;stroke-linejoin:miter;stroke-width:0.8;\"/>\n   </g>\n   <g id=\"patch_15\">\n    <path d=\"M 46.965625 224.64 \nL 381.765625 224.64 \n\" style=\"fill:none;stroke:#000000;stroke-linecap:square;stroke-linejoin:miter;stroke-width:0.8;\"/>\n   </g>\n   <g id=\"patch_16\">\n    <path d=\"M 46.965625 7.2 \nL 381.765625 7.2 \n\" style=\"fill:none;stroke:#000000;stroke-linecap:square;stroke-linejoin:miter;stroke-width:0.8;\"/>\n   </g>\n  </g>\n </g>\n <defs>\n  <clipPath id=\"p2459d5aeee\">\n   <rect height=\"217.44\" width=\"334.8\" x=\"46.965625\" y=\"7.2\"/>\n  </clipPath>\n </defs>\n</svg>\n",
      "image/png": "[encoded data removed]"
     },
     "metadata": {
      "needs_background": "light"
     }
    }
   ],
   "source": [
    "test_filtered_user_gb['assessmentItemID'].plot.hist()"
   ]
  },
  {
   "cell_type": "code",
   "execution_count": 123,
   "metadata": {},
   "outputs": [
    {
     "output_type": "stream",
     "name": "stdout",
     "text": [
      "********************  Stats: Number of assessmentItemID  ********************\nmax 371, min 3, mean 23.8507017020006, median 12.0\n\n********************  Stats: Number of assessmentItemID  ********************\nmax 371, min 4, mean 24.142473118279568, median 10.5\n\n"
     ]
    }
   ],
   "source": [
    "for gb in [train_filtered_user_gb, test_filtered_user_gb]:\n",
    "    print('*'*20, \" Stats: Number of assessmentItemID \", '*'*20)\n",
    "    print(f\"max {max(gb['assessmentItemID'])}, min {min(gb['assessmentItemID'])}, mean {np.mean(gb['assessmentItemID'])}, median {np.median(gb['assessmentItemID'])}\")\n",
    "    print()"
   ]
  },
  {
   "cell_type": "code",
   "execution_count": 124,
   "metadata": {},
   "outputs": [
    {
     "output_type": "execute_result",
     "data": {
      "text/plain": [
       "   userID assessmentItemID      testId  answerCode           Timestamp  \\\n",
       "0       0       A080129001  A080000129           1 2020-12-23 03:35:32   \n",
       "1       0       A080129002  A080000129           1 2020-12-23 03:35:54   \n",
       "2       0       A080129003  A080000129           0 2020-12-23 03:37:20   \n",
       "3       0       A080129004  A080000129           1 2020-12-23 03:38:43   \n",
       "4       0       A080129005  A080000129           0 2020-12-23 03:40:14   \n",
       "\n",
       "   KnowledgeTag  elapsed  testId_answer_rate  testId_answer_sum  \\\n",
       "0          2723     22.0            0.360111              780.0   \n",
       "1          2723     86.0            0.360111              780.0   \n",
       "2          2725     83.0            0.360111              780.0   \n",
       "3          2725     91.0            0.360111              780.0   \n",
       "4          2725      5.0            0.360111              780.0   \n",
       "\n",
       "   assessmentItemID_answer_rate  assessmentItemID_answer_sum  \\\n",
       "0                      0.592798                        214.0   \n",
       "1                      0.360111                        130.0   \n",
       "2                      0.204986                         74.0   \n",
       "3                      0.448753                        162.0   \n",
       "4                      0.398892                        144.0   \n",
       "\n",
       "   knowledge_tag_mean  knowledge_tag_sum  assessment_category  \\\n",
       "0            0.476454              344.0                    8   \n",
       "1            0.476454              344.0                    8   \n",
       "2            0.301939              436.0                    8   \n",
       "3            0.301939              436.0                    8   \n",
       "4            0.301939              436.0                    8   \n",
       "\n",
       "   assessment_category_mean  elapsed_time  et_by_kt  et_by_as  \\\n",
       "0                  0.502598      3.091042  2.975214  3.093141   \n",
       "1                  0.502598      4.454347  2.975214  2.857286   \n",
       "2                  0.502598      4.418841  2.734488  2.473111   \n",
       "3                  0.502598      4.510860  2.734488  2.499002   \n",
       "4                  0.502598      1.609438  2.734488  2.583565   \n",
       "\n",
       "   KnowledgeTagGroup  \n",
       "0                 49  \n",
       "1                 49  \n",
       "2                 49  \n",
       "3                 49  \n",
       "4                 49  "
      ],
      "text/html": "<div>\n<style scoped>\n    .dataframe tbody tr th:only-of-type {\n        vertical-align: middle;\n    }\n\n    .dataframe tbody tr th {\n        vertical-align: top;\n    }\n\n    .dataframe thead th {\n        text-align: right;\n    }\n</style>\n<table border=\"1\" class=\"dataframe\">\n  <thead>\n    <tr style=\"text-align: right;\">\n      <th></th>\n      <th>userID</th>\n      <th>assessmentItemID</th>\n      <th>testId</th>\n      <th>answerCode</th>\n      <th>Timestamp</th>\n      <th>KnowledgeTag</th>\n      <th>elapsed</th>\n      <th>testId_answer_rate</th>\n      <th>testId_answer_sum</th>\n      <th>assessmentItemID_answer_rate</th>\n      <th>assessmentItemID_answer_sum</th>\n      <th>knowledge_tag_mean</th>\n      <th>knowledge_tag_sum</th>\n      <th>assessment_category</th>\n      <th>assessment_category_mean</th>\n      <th>elapsed_time</th>\n      <th>et_by_kt</th>\n      <th>et_by_as</th>\n      <th>KnowledgeTagGroup</th>\n    </tr>\n  </thead>\n  <tbody>\n    <tr>\n      <th>0</th>\n      <td>0</td>\n      <td>A080129001</td>\n      <td>A080000129</td>\n      <td>1</td>\n      <td>2020-12-23 03:35:32</td>\n      <td>2723</td>\n      <td>22.0</td>\n      <td>0.360111</td>\n      <td>780.0</td>\n      <td>0.592798</td>\n      <td>214.0</td>\n      <td>0.476454</td>\n      <td>344.0</td>\n      <td>8</td>\n      <td>0.502598</td>\n      <td>3.091042</td>\n      <td>2.975214</td>\n      <td>3.093141</td>\n      <td>49</td>\n    </tr>\n    <tr>\n      <th>1</th>\n      <td>0</td>\n      <td>A080129002</td>\n      <td>A080000129</td>\n      <td>1</td>\n      <td>2020-12-23 03:35:54</td>\n      <td>2723</td>\n      <td>86.0</td>\n      <td>0.360111</td>\n      <td>780.0</td>\n      <td>0.360111</td>\n      <td>130.0</td>\n      <td>0.476454</td>\n      <td>344.0</td>\n      <td>8</td>\n      <td>0.502598</td>\n      <td>4.454347</td>\n      <td>2.975214</td>\n      <td>2.857286</td>\n      <td>49</td>\n    </tr>\n    <tr>\n      <th>2</th>\n      <td>0</td>\n      <td>A080129003</td>\n      <td>A080000129</td>\n      <td>0</td>\n      <td>2020-12-23 03:37:20</td>\n      <td>2725</td>\n      <td>83.0</td>\n      <td>0.360111</td>\n      <td>780.0</td>\n      <td>0.204986</td>\n      <td>74.0</td>\n      <td>0.301939</td>\n      <td>436.0</td>\n      <td>8</td>\n      <td>0.502598</td>\n      <td>4.418841</td>\n      <td>2.734488</td>\n      <td>2.473111</td>\n      <td>49</td>\n    </tr>\n    <tr>\n      <th>3</th>\n      <td>0</td>\n      <td>A080129004</td>\n      <td>A080000129</td>\n      <td>1</td>\n      <td>2020-12-23 03:38:43</td>\n      <td>2725</td>\n      <td>91.0</td>\n      <td>0.360111</td>\n      <td>780.0</td>\n      <td>0.448753</td>\n      <td>162.0</td>\n      <td>0.301939</td>\n      <td>436.0</td>\n      <td>8</td>\n      <td>0.502598</td>\n      <td>4.510860</td>\n      <td>2.734488</td>\n      <td>2.499002</td>\n      <td>49</td>\n    </tr>\n    <tr>\n      <th>4</th>\n      <td>0</td>\n      <td>A080129005</td>\n      <td>A080000129</td>\n      <td>0</td>\n      <td>2020-12-23 03:40:14</td>\n      <td>2725</td>\n      <td>5.0</td>\n      <td>0.360111</td>\n      <td>780.0</td>\n      <td>0.398892</td>\n      <td>144.0</td>\n      <td>0.301939</td>\n      <td>436.0</td>\n      <td>8</td>\n      <td>0.502598</td>\n      <td>1.609438</td>\n      <td>2.734488</td>\n      <td>2.583565</td>\n      <td>49</td>\n    </tr>\n  </tbody>\n</table>\n</div>"
     },
     "metadata": {},
     "execution_count": 124
    }
   ],
   "source": [
    "filtered_train_df = filtered_train_df.drop(columns=['similar_testId'])\n",
    "filtered_train_df = filtered_train_df.reset_index(drop=True)\n",
    "filtered_train_df.head()"
   ]
  },
  {
   "cell_type": "code",
   "execution_count": 125,
   "metadata": {},
   "outputs": [
    {
     "output_type": "execute_result",
     "data": {
      "text/plain": [
       "   userID assessmentItemID      testId  answerCode           Timestamp  \\\n",
       "0       3       A050108001  A050000108           1 2020-08-09 14:15:42   \n",
       "1       3       A050108002  A050000108           1 2020-08-09 14:16:23   \n",
       "2       3       A050108003  A050000108           1 2020-08-09 14:16:34   \n",
       "3       3       A050108004  A050000108           1 2020-08-09 14:17:22   \n",
       "4       3       A050108005  A050000108           1 2020-08-09 14:18:15   \n",
       "\n",
       "   KnowledgeTag  elapsed  testId_answer_rate  testId_answer_sum  \\\n",
       "0          5283     41.0            0.804718             1228.0   \n",
       "1          5283     11.0            0.804718             1228.0   \n",
       "2          5283     48.0            0.804718             1228.0   \n",
       "3          5283     53.0            0.804718             1228.0   \n",
       "4          5283     27.0            0.804718             1228.0   \n",
       "\n",
       "   assessmentItemID_answer_rate  assessmentItemID_answer_sum  \\\n",
       "0                      0.857798                        187.0   \n",
       "1                      0.834862                        182.0   \n",
       "2                      0.807339                        176.0   \n",
       "3                      0.866972                        189.0   \n",
       "4                      0.821101                        179.0   \n",
       "\n",
       "   knowledge_tag_mean  knowledge_tag_sum  assessment_category  \\\n",
       "0            0.762096             3229.0                    5   \n",
       "1            0.762096             3229.0                    5   \n",
       "2            0.762096             3229.0                    5   \n",
       "3            0.762096             3229.0                    5   \n",
       "4            0.762096             3229.0                    5   \n",
       "\n",
       "   assessment_category_mean  elapsed_time  et_by_kt  et_by_as  \\\n",
       "0                  0.658208      3.713572   3.54022  3.419548   \n",
       "1                  0.658208      2.397895   3.54022  2.819150   \n",
       "2                  0.658208      3.871201   3.54022  3.516157   \n",
       "3                  0.658208      3.970292   3.54022  2.795905   \n",
       "4                  0.658208      3.295837   3.54022  3.227989   \n",
       "\n",
       "   KnowledgeTagGroup  \n",
       "0                 79  \n",
       "1                 79  \n",
       "2                 79  \n",
       "3                 79  \n",
       "4                 79  "
      ],
      "text/html": "<div>\n<style scoped>\n    .dataframe tbody tr th:only-of-type {\n        vertical-align: middle;\n    }\n\n    .dataframe tbody tr th {\n        vertical-align: top;\n    }\n\n    .dataframe thead th {\n        text-align: right;\n    }\n</style>\n<table border=\"1\" class=\"dataframe\">\n  <thead>\n    <tr style=\"text-align: right;\">\n      <th></th>\n      <th>userID</th>\n      <th>assessmentItemID</th>\n      <th>testId</th>\n      <th>answerCode</th>\n      <th>Timestamp</th>\n      <th>KnowledgeTag</th>\n      <th>elapsed</th>\n      <th>testId_answer_rate</th>\n      <th>testId_answer_sum</th>\n      <th>assessmentItemID_answer_rate</th>\n      <th>assessmentItemID_answer_sum</th>\n      <th>knowledge_tag_mean</th>\n      <th>knowledge_tag_sum</th>\n      <th>assessment_category</th>\n      <th>assessment_category_mean</th>\n      <th>elapsed_time</th>\n      <th>et_by_kt</th>\n      <th>et_by_as</th>\n      <th>KnowledgeTagGroup</th>\n    </tr>\n  </thead>\n  <tbody>\n    <tr>\n      <th>0</th>\n      <td>3</td>\n      <td>A050108001</td>\n      <td>A050000108</td>\n      <td>1</td>\n      <td>2020-08-09 14:15:42</td>\n      <td>5283</td>\n      <td>41.0</td>\n      <td>0.804718</td>\n      <td>1228.0</td>\n      <td>0.857798</td>\n      <td>187.0</td>\n      <td>0.762096</td>\n      <td>3229.0</td>\n      <td>5</td>\n      <td>0.658208</td>\n      <td>3.713572</td>\n      <td>3.54022</td>\n      <td>3.419548</td>\n      <td>79</td>\n    </tr>\n    <tr>\n      <th>1</th>\n      <td>3</td>\n      <td>A050108002</td>\n      <td>A050000108</td>\n      <td>1</td>\n      <td>2020-08-09 14:16:23</td>\n      <td>5283</td>\n      <td>11.0</td>\n      <td>0.804718</td>\n      <td>1228.0</td>\n      <td>0.834862</td>\n      <td>182.0</td>\n      <td>0.762096</td>\n      <td>3229.0</td>\n      <td>5</td>\n      <td>0.658208</td>\n      <td>2.397895</td>\n      <td>3.54022</td>\n      <td>2.819150</td>\n      <td>79</td>\n    </tr>\n    <tr>\n      <th>2</th>\n      <td>3</td>\n      <td>A050108003</td>\n      <td>A050000108</td>\n      <td>1</td>\n      <td>2020-08-09 14:16:34</td>\n      <td>5283</td>\n      <td>48.0</td>\n      <td>0.804718</td>\n      <td>1228.0</td>\n      <td>0.807339</td>\n      <td>176.0</td>\n      <td>0.762096</td>\n      <td>3229.0</td>\n      <td>5</td>\n      <td>0.658208</td>\n      <td>3.871201</td>\n      <td>3.54022</td>\n      <td>3.516157</td>\n      <td>79</td>\n    </tr>\n    <tr>\n      <th>3</th>\n      <td>3</td>\n      <td>A050108004</td>\n      <td>A050000108</td>\n      <td>1</td>\n      <td>2020-08-09 14:17:22</td>\n      <td>5283</td>\n      <td>53.0</td>\n      <td>0.804718</td>\n      <td>1228.0</td>\n      <td>0.866972</td>\n      <td>189.0</td>\n      <td>0.762096</td>\n      <td>3229.0</td>\n      <td>5</td>\n      <td>0.658208</td>\n      <td>3.970292</td>\n      <td>3.54022</td>\n      <td>2.795905</td>\n      <td>79</td>\n    </tr>\n    <tr>\n      <th>4</th>\n      <td>3</td>\n      <td>A050108005</td>\n      <td>A050000108</td>\n      <td>1</td>\n      <td>2020-08-09 14:18:15</td>\n      <td>5283</td>\n      <td>27.0</td>\n      <td>0.804718</td>\n      <td>1228.0</td>\n      <td>0.821101</td>\n      <td>179.0</td>\n      <td>0.762096</td>\n      <td>3229.0</td>\n      <td>5</td>\n      <td>0.658208</td>\n      <td>3.295837</td>\n      <td>3.54022</td>\n      <td>3.227989</td>\n      <td>79</td>\n    </tr>\n  </tbody>\n</table>\n</div>"
     },
     "metadata": {},
     "execution_count": 125
    }
   ],
   "source": [
    "filtered_test_df = filtered_test_df.drop(columns=['similar_testId'])\n",
    "filtered_test_df = filtered_test_df.reset_index(drop=True)\n",
    "filtered_test_df.head()"
   ]
  },
  {
   "source": [
    "### Filtered dataset 저장"
   ],
   "cell_type": "markdown",
   "metadata": {}
  },
  {
   "cell_type": "code",
   "execution_count": null,
   "metadata": {},
   "outputs": [],
   "source": [
    "filtered_train_df.to_csv(os.path.join(data_dir, f\"{train_name.split('.')[0]}_filtered.csv\"), sep=',', index=False)\n",
    "filtered_test_df.to_csv(os.path.join(data_dir, f\"{test_name.split('.')[0]}_filtered.csv\"), sep=',', index=False)"
   ]
  }
 ]
}