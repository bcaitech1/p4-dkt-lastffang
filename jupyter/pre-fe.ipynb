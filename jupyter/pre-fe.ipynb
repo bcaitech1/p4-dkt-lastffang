{
 "metadata": {
  "language_info": {
   "codemirror_mode": {
    "name": "ipython",
    "version": 3
   },
   "file_extension": ".py",
   "mimetype": "text/x-python",
   "name": "python",
   "nbconvert_exporter": "python",
   "pygments_lexer": "ipython3",
   "version": "3.7.7"
  },
  "orig_nbformat": 2,
  "kernelspec": {
   "name": "python377jvsc74a57bd098b0a9b7b4eaaa670588a142fd0a9b87eaafe866f1db4228be72b4211d12040f",
   "display_name": "Python 3.7.7 64-bit ('base': conda)"
  }
 },
 "nbformat": 4,
 "nbformat_minor": 2,
 "cells": [
  {
   "cell_type": "code",
   "execution_count": 1,
   "metadata": {},
   "outputs": [],
   "source": [
    "import os\n",
    "from datetime import datetime\n",
    "import time\n",
    "import pandas as pd\n",
    "import numpy as np"
   ]
  },
  {
   "cell_type": "code",
   "execution_count": 2,
   "metadata": {},
   "outputs": [],
   "source": [
    "dtype = {\n",
    "    'userID': 'int16',\n",
    "    'answerCode': 'int8',\n",
    "    'KnowledgeTag': 'int16'\n",
    "}"
   ]
  },
  {
   "cell_type": "code",
   "execution_count": 3,
   "metadata": {},
   "outputs": [],
   "source": [
    "data_dir = '/opt/ml/input/data/train_dataset/'"
   ]
  },
  {
   "source": [
    "### 사용하려는 dataset 이름을 아래 cell 에서 설정해주세요!!!!"
   ],
   "cell_type": "markdown",
   "metadata": {}
  },
  {
   "cell_type": "code",
   "execution_count": 4,
   "metadata": {},
   "outputs": [],
   "source": [
    "# Baseline dataset 사용하는 경우 아래 주석 해제!\n",
    "train_name = 'train_data.csv'\n",
    "test_name = 'test_data.csv'\n",
    "\n",
    "# Time delta dataset 사용하는 경우 아래 주석 해제!\n",
    "# train_name = 'train_all_three.csv'\n",
    "# test_name = 'test_all_three.csv'"
   ]
  },
  {
   "cell_type": "code",
   "execution_count": 5,
   "metadata": {},
   "outputs": [],
   "source": [
    "raw_train_df = pd.read_csv(os.path.join(data_dir, train_name), dtype=dtype, parse_dates=['Timestamp'])\n",
    "raw_train_df = raw_train_df.sort_values(by=['userID', 'Timestamp']).reset_index(drop=True)\n",
    "\n",
    "raw_test_df = pd.read_csv(os.path.join(data_dir, test_name), dtype=dtype, parse_dates=['Timestamp'])\n",
    "raw_test_df = raw_test_df.sort_values(by=['userID', 'Timestamp']).reset_index(drop=True)\n",
    "\n",
    "# TODO: 전체 데이터에 대해서 통계량 계산 가능\n",
    "# full_df = pd.concat([raw_train_df, raw_test_df], ignore_index=True)\n",
    "# full_df = full_df.sort_values(by=['userID', 'Timestamp']).reset_index(drop=True)"
   ]
  },
  {
   "source": [
    "### train 데이터에서 시험지/문제/태그별 평균 정답률과 총 정답 수 뽑기"
   ],
   "cell_type": "markdown",
   "metadata": {}
  },
  {
   "cell_type": "code",
   "execution_count": 6,
   "metadata": {},
   "outputs": [],
   "source": [
    "testId_mean_sum = raw_train_df.groupby(['testId'])['answerCode'].agg(['mean','sum']).to_dict()\n",
    "assessmentItemID_mean_sum = raw_train_df.groupby(['assessmentItemID'])['answerCode'].agg(['mean', 'sum']).to_dict()\n",
    "KnowledgeTag_mean_sum = raw_train_df.groupby(['KnowledgeTag'])['answerCode'].agg(['mean', 'sum']).to_dict()"
   ]
  },
  {
   "source": [
    "### train 데이터에서 대분류별 평균 정답률과 총 정답 수 뽑기"
   ],
   "cell_type": "markdown",
   "metadata": {}
  },
  {
   "cell_type": "code",
   "execution_count": 7,
   "metadata": {},
   "outputs": [],
   "source": [
    "raw_train_df['assessment_category'] = raw_train_df.apply(lambda row: row.assessmentItemID[2], axis=1)\n",
    "\n",
    "assessment_category_mean_sum = raw_train_df.groupby(['assessment_category'])['answerCode'].agg(['mean', 'sum']).to_dict()"
   ]
  },
  {
   "source": [
    "### train 데이터에서 문제/태그별 평균 소요 시간 뽑기"
   ],
   "cell_type": "markdown",
   "metadata": {}
  },
  {
   "cell_type": "code",
   "execution_count": 8,
   "metadata": {},
   "outputs": [],
   "source": [
    "# 먼저 소요 시간을 계산\n",
    "\n",
    "def convert_time(s):\n",
    "    timestamp = time.mktime(s.timetuple())\n",
    "    return int(timestamp)\n",
    "\n",
    "if 'elapsed' in raw_train_df.columns:\n",
    "    raw_train_df['elapsed_time'] = raw_train_df['elapsed'].apply(lambda x: np.log(x))\n",
    "else:\n",
    "    # TODO: Deal with zeros first before using log of elapsed_time\n",
    "    raw_train_df['Timestamp_int'] = raw_train_df['Timestamp'].apply(convert_time)\n",
    "    raw_train_df['elapsed_time'] = raw_train_df.loc[:, ['userID', 'Timestamp_int', 'testId']].groupby(\n",
    "        ['userID', 'testId']).diff().shift(-1).fillna(int(10))"
   ]
  },
  {
   "cell_type": "code",
   "execution_count": 9,
   "metadata": {},
   "outputs": [],
   "source": [
    "et_by_kt_mean = raw_train_df.groupby(['KnowledgeTag'])['elapsed_time'].agg(['mean']).to_dict()\n",
    "et_by_as_mean = raw_train_df.groupby(['assessmentItemID'])['elapsed_time'].agg(['mean']).to_dict()"
   ]
  },
  {
   "source": [
    "### 구한 train 통계량들로 데이터 만들기"
   ],
   "cell_type": "markdown",
   "metadata": {}
  },
  {
   "cell_type": "code",
   "execution_count": 10,
   "metadata": {},
   "outputs": [],
   "source": [
    "def set_basic_stats(df):\n",
    "    df[\"testId_answer_rate\"] = df.testId.map(testId_mean_sum['mean'])\n",
    "    df['testId_answer_sum'] = df.testId.map(testId_mean_sum['sum'])\n",
    "    df[\"assessmentItemID_answer_rate\"] = df.assessmentItemID.map(assessmentItemID_mean_sum['mean'])\n",
    "    df['assessmentItemID_answer_sum'] = df.assessmentItemID.map(assessmentItemID_mean_sum['sum'])\n",
    "    df[\"knowledge_tag_mean\"] = df.KnowledgeTag.map(KnowledgeTag_mean_sum['mean'])\n",
    "    df['knowledge_tag_sum'] = df.KnowledgeTag.map(KnowledgeTag_mean_sum['sum'])\n",
    "\n",
    "    if 'assessment_category' not in df.columns:\n",
    "        df['assessment_category'] = df.apply(lambda row: row.assessmentItemID[2], axis=1)\n",
    "    df['assessment_category_mean'] = df.assessment_category.map(assessment_category_mean_sum['mean'])\n",
    "\n",
    "    if 'elapsed_time' not in df.columns:\n",
    "        if 'elapsed' in df.columns:\n",
    "            df['elapsed_time'] = df['elapsed'].apply(lambda x: np.log(x))\n",
    "        else:\n",
    "            df['Timestamp_int'] = df['Timestamp'].apply(convert_time)\n",
    "            df['elapsed_time'] = df.loc[:, ['userID', 'Timestamp_int', 'testId']].groupby(\n",
    "                ['userID', 'testId']).diff().shift(-1).fillna(int(10))\n",
    "\n",
    "    df['et_by_kt'] = df.KnowledgeTag.map(et_by_kt_mean['mean'])\n",
    "    df['et_by_as'] = df.assessmentItemID.map(et_by_as_mean['mean'])\n",
    "\n",
    "    return df"
   ]
  },
  {
   "cell_type": "code",
   "execution_count": 11,
   "metadata": {},
   "outputs": [
    {
     "output_type": "execute_result",
     "data": {
      "text/plain": [
       "   userID assessmentItemID      testId  answerCode           Timestamp  \\\n",
       "0       0       A060001001  A060000001           1 2020-03-24 00:17:11   \n",
       "1       0       A060001002  A060000001           1 2020-03-24 00:17:14   \n",
       "2       0       A060001003  A060000001           1 2020-03-24 00:17:22   \n",
       "3       0       A060001004  A060000001           1 2020-03-24 00:17:29   \n",
       "4       0       A060001005  A060000001           1 2020-03-24 00:17:36   \n",
       "\n",
       "   KnowledgeTag assessment_category  Timestamp_int  elapsed_time  \\\n",
       "0          7224                   6     1585009031           3.0   \n",
       "1          7225                   6     1585009034           8.0   \n",
       "2          7225                   6     1585009042           7.0   \n",
       "3          7225                   6     1585009049           7.0   \n",
       "4          7225                   6     1585009056          11.0   \n",
       "\n",
       "   testId_answer_rate  testId_answer_sum  assessmentItemID_answer_rate  \\\n",
       "0            0.947683             1268.0                      0.982063   \n",
       "1            0.947683             1268.0                      0.964126   \n",
       "2            0.947683             1268.0                      0.910314   \n",
       "3            0.947683             1268.0                      0.968610   \n",
       "4            0.947683             1268.0                      0.941704   \n",
       "\n",
       "   assessmentItemID_answer_sum  knowledge_tag_mean  knowledge_tag_sum  \\\n",
       "0                        219.0            0.955022              637.0   \n",
       "1                        215.0            0.913187             3040.0   \n",
       "2                        203.0            0.913187             3040.0   \n",
       "3                        216.0            0.913187             3040.0   \n",
       "4                        210.0            0.913187             3040.0   \n",
       "\n",
       "   assessment_category_mean      et_by_kt   et_by_as  \n",
       "0                  0.709232     20.505247  13.762332  \n",
       "1                  0.709232  11339.147492  26.708520  \n",
       "2                  0.709232  11339.147492  19.237668  \n",
       "3                  0.709232  11339.147492  18.811659  \n",
       "4                  0.709232  11339.147492  34.529148  "
      ],
      "text/html": "<div>\n<style scoped>\n    .dataframe tbody tr th:only-of-type {\n        vertical-align: middle;\n    }\n\n    .dataframe tbody tr th {\n        vertical-align: top;\n    }\n\n    .dataframe thead th {\n        text-align: right;\n    }\n</style>\n<table border=\"1\" class=\"dataframe\">\n  <thead>\n    <tr style=\"text-align: right;\">\n      <th></th>\n      <th>userID</th>\n      <th>assessmentItemID</th>\n      <th>testId</th>\n      <th>answerCode</th>\n      <th>Timestamp</th>\n      <th>KnowledgeTag</th>\n      <th>assessment_category</th>\n      <th>Timestamp_int</th>\n      <th>elapsed_time</th>\n      <th>testId_answer_rate</th>\n      <th>testId_answer_sum</th>\n      <th>assessmentItemID_answer_rate</th>\n      <th>assessmentItemID_answer_sum</th>\n      <th>knowledge_tag_mean</th>\n      <th>knowledge_tag_sum</th>\n      <th>assessment_category_mean</th>\n      <th>et_by_kt</th>\n      <th>et_by_as</th>\n    </tr>\n  </thead>\n  <tbody>\n    <tr>\n      <th>0</th>\n      <td>0</td>\n      <td>A060001001</td>\n      <td>A060000001</td>\n      <td>1</td>\n      <td>2020-03-24 00:17:11</td>\n      <td>7224</td>\n      <td>6</td>\n      <td>1585009031</td>\n      <td>3.0</td>\n      <td>0.947683</td>\n      <td>1268.0</td>\n      <td>0.982063</td>\n      <td>219.0</td>\n      <td>0.955022</td>\n      <td>637.0</td>\n      <td>0.709232</td>\n      <td>20.505247</td>\n      <td>13.762332</td>\n    </tr>\n    <tr>\n      <th>1</th>\n      <td>0</td>\n      <td>A060001002</td>\n      <td>A060000001</td>\n      <td>1</td>\n      <td>2020-03-24 00:17:14</td>\n      <td>7225</td>\n      <td>6</td>\n      <td>1585009034</td>\n      <td>8.0</td>\n      <td>0.947683</td>\n      <td>1268.0</td>\n      <td>0.964126</td>\n      <td>215.0</td>\n      <td>0.913187</td>\n      <td>3040.0</td>\n      <td>0.709232</td>\n      <td>11339.147492</td>\n      <td>26.708520</td>\n    </tr>\n    <tr>\n      <th>2</th>\n      <td>0</td>\n      <td>A060001003</td>\n      <td>A060000001</td>\n      <td>1</td>\n      <td>2020-03-24 00:17:22</td>\n      <td>7225</td>\n      <td>6</td>\n      <td>1585009042</td>\n      <td>7.0</td>\n      <td>0.947683</td>\n      <td>1268.0</td>\n      <td>0.910314</td>\n      <td>203.0</td>\n      <td>0.913187</td>\n      <td>3040.0</td>\n      <td>0.709232</td>\n      <td>11339.147492</td>\n      <td>19.237668</td>\n    </tr>\n    <tr>\n      <th>3</th>\n      <td>0</td>\n      <td>A060001004</td>\n      <td>A060000001</td>\n      <td>1</td>\n      <td>2020-03-24 00:17:29</td>\n      <td>7225</td>\n      <td>6</td>\n      <td>1585009049</td>\n      <td>7.0</td>\n      <td>0.947683</td>\n      <td>1268.0</td>\n      <td>0.968610</td>\n      <td>216.0</td>\n      <td>0.913187</td>\n      <td>3040.0</td>\n      <td>0.709232</td>\n      <td>11339.147492</td>\n      <td>18.811659</td>\n    </tr>\n    <tr>\n      <th>4</th>\n      <td>0</td>\n      <td>A060001005</td>\n      <td>A060000001</td>\n      <td>1</td>\n      <td>2020-03-24 00:17:36</td>\n      <td>7225</td>\n      <td>6</td>\n      <td>1585009056</td>\n      <td>11.0</td>\n      <td>0.947683</td>\n      <td>1268.0</td>\n      <td>0.941704</td>\n      <td>210.0</td>\n      <td>0.913187</td>\n      <td>3040.0</td>\n      <td>0.709232</td>\n      <td>11339.147492</td>\n      <td>34.529148</td>\n    </tr>\n  </tbody>\n</table>\n</div>"
     },
     "metadata": {},
     "execution_count": 11
    }
   ],
   "source": [
    "raw_train_df = set_basic_stats(raw_train_df)\n",
    "raw_train_df.head()"
   ]
  },
  {
   "cell_type": "code",
   "execution_count": 12,
   "metadata": {},
   "outputs": [
    {
     "output_type": "execute_result",
     "data": {
      "text/plain": [
       "   userID assessmentItemID      testId  answerCode           Timestamp  \\\n",
       "0       3       A050023001  A050000023           1 2020-01-09 10:56:31   \n",
       "1       3       A050023002  A050000023           1 2020-01-09 10:56:57   \n",
       "2       3       A050023003  A050000023           0 2020-01-09 10:58:31   \n",
       "3       3       A050023004  A050000023           0 2020-01-09 10:58:36   \n",
       "4       3       A050023006  A050000023           0 2020-01-09 10:58:43   \n",
       "\n",
       "   KnowledgeTag  testId_answer_rate  testId_answer_sum  \\\n",
       "0          2626            0.560944              856.0   \n",
       "1          2626            0.560944              856.0   \n",
       "2          2625            0.560944              856.0   \n",
       "3          2625            0.560944              856.0   \n",
       "4          2623            0.560944              856.0   \n",
       "\n",
       "   assessmentItemID_answer_rate  assessmentItemID_answer_sum  \\\n",
       "0                      0.646789                        141.0   \n",
       "1                      0.628440                        137.0   \n",
       "2                      0.577982                        126.0   \n",
       "3                      0.655963                        143.0   \n",
       "4                      0.307339                         67.0   \n",
       "\n",
       "   knowledge_tag_mean  knowledge_tag_sum assessment_category  \\\n",
       "0            0.641379             1023.0                   5   \n",
       "1            0.641379             1023.0                   5   \n",
       "2            0.670013             1535.0                   5   \n",
       "3            0.670013             1535.0                   5   \n",
       "4            0.568970             2314.0                   5   \n",
       "\n",
       "   assessment_category_mean  Timestamp_int  elapsed_time      et_by_kt  \\\n",
       "0                  0.658208     1578567391          26.0    103.047022   \n",
       "1                  0.658208     1578567417          94.0    103.047022   \n",
       "2                  0.658208     1578567511           5.0    122.663029   \n",
       "3                  0.658208     1578567516           7.0    122.663029   \n",
       "4                  0.658208     1578567523           3.0  20855.813622   \n",
       "\n",
       "     et_by_as  \n",
       "0  150.408257  \n",
       "1  112.472477  \n",
       "2   59.348624  \n",
       "3  151.344037  \n",
       "4   74.316514  "
      ],
      "text/html": "<div>\n<style scoped>\n    .dataframe tbody tr th:only-of-type {\n        vertical-align: middle;\n    }\n\n    .dataframe tbody tr th {\n        vertical-align: top;\n    }\n\n    .dataframe thead th {\n        text-align: right;\n    }\n</style>\n<table border=\"1\" class=\"dataframe\">\n  <thead>\n    <tr style=\"text-align: right;\">\n      <th></th>\n      <th>userID</th>\n      <th>assessmentItemID</th>\n      <th>testId</th>\n      <th>answerCode</th>\n      <th>Timestamp</th>\n      <th>KnowledgeTag</th>\n      <th>testId_answer_rate</th>\n      <th>testId_answer_sum</th>\n      <th>assessmentItemID_answer_rate</th>\n      <th>assessmentItemID_answer_sum</th>\n      <th>knowledge_tag_mean</th>\n      <th>knowledge_tag_sum</th>\n      <th>assessment_category</th>\n      <th>assessment_category_mean</th>\n      <th>Timestamp_int</th>\n      <th>elapsed_time</th>\n      <th>et_by_kt</th>\n      <th>et_by_as</th>\n    </tr>\n  </thead>\n  <tbody>\n    <tr>\n      <th>0</th>\n      <td>3</td>\n      <td>A050023001</td>\n      <td>A050000023</td>\n      <td>1</td>\n      <td>2020-01-09 10:56:31</td>\n      <td>2626</td>\n      <td>0.560944</td>\n      <td>856.0</td>\n      <td>0.646789</td>\n      <td>141.0</td>\n      <td>0.641379</td>\n      <td>1023.0</td>\n      <td>5</td>\n      <td>0.658208</td>\n      <td>1578567391</td>\n      <td>26.0</td>\n      <td>103.047022</td>\n      <td>150.408257</td>\n    </tr>\n    <tr>\n      <th>1</th>\n      <td>3</td>\n      <td>A050023002</td>\n      <td>A050000023</td>\n      <td>1</td>\n      <td>2020-01-09 10:56:57</td>\n      <td>2626</td>\n      <td>0.560944</td>\n      <td>856.0</td>\n      <td>0.628440</td>\n      <td>137.0</td>\n      <td>0.641379</td>\n      <td>1023.0</td>\n      <td>5</td>\n      <td>0.658208</td>\n      <td>1578567417</td>\n      <td>94.0</td>\n      <td>103.047022</td>\n      <td>112.472477</td>\n    </tr>\n    <tr>\n      <th>2</th>\n      <td>3</td>\n      <td>A050023003</td>\n      <td>A050000023</td>\n      <td>0</td>\n      <td>2020-01-09 10:58:31</td>\n      <td>2625</td>\n      <td>0.560944</td>\n      <td>856.0</td>\n      <td>0.577982</td>\n      <td>126.0</td>\n      <td>0.670013</td>\n      <td>1535.0</td>\n      <td>5</td>\n      <td>0.658208</td>\n      <td>1578567511</td>\n      <td>5.0</td>\n      <td>122.663029</td>\n      <td>59.348624</td>\n    </tr>\n    <tr>\n      <th>3</th>\n      <td>3</td>\n      <td>A050023004</td>\n      <td>A050000023</td>\n      <td>0</td>\n      <td>2020-01-09 10:58:36</td>\n      <td>2625</td>\n      <td>0.560944</td>\n      <td>856.0</td>\n      <td>0.655963</td>\n      <td>143.0</td>\n      <td>0.670013</td>\n      <td>1535.0</td>\n      <td>5</td>\n      <td>0.658208</td>\n      <td>1578567516</td>\n      <td>7.0</td>\n      <td>122.663029</td>\n      <td>151.344037</td>\n    </tr>\n    <tr>\n      <th>4</th>\n      <td>3</td>\n      <td>A050023006</td>\n      <td>A050000023</td>\n      <td>0</td>\n      <td>2020-01-09 10:58:43</td>\n      <td>2623</td>\n      <td>0.560944</td>\n      <td>856.0</td>\n      <td>0.307339</td>\n      <td>67.0</td>\n      <td>0.568970</td>\n      <td>2314.0</td>\n      <td>5</td>\n      <td>0.658208</td>\n      <td>1578567523</td>\n      <td>3.0</td>\n      <td>20855.813622</td>\n      <td>74.316514</td>\n    </tr>\n  </tbody>\n</table>\n</div>"
     },
     "metadata": {},
     "execution_count": 12
    }
   ],
   "source": [
    "raw_test_df = set_basic_stats(raw_test_df)\n",
    "raw_test_df.head()"
   ]
  },
  {
   "source": [
    "### 새로운 데이터를 csv 로 저장\n",
    "- 원래 데이터 이름 뒤에 \"basic_stats\" 가 붙은 새로운 파일로 저장됩니다."
   ],
   "cell_type": "markdown",
   "metadata": {}
  },
  {
   "cell_type": "code",
   "execution_count": 13,
   "metadata": {},
   "outputs": [],
   "source": [
    "train_name = f\"{train_name.split('.')[0]}_basic_stats.csv\"\n",
    "test_name = f\"{test_name.split('.')[0]}_basic_stats.csv\"\n",
    "\n",
    "raw_train_df.to_csv(os.path.join(data_dir, train_name), sep=',', index=False)\n",
    "raw_test_df.to_csv(os.path.join(data_dir, test_name), sep=',', index=False)"
   ]
  },
  {
   "cell_type": "code",
   "execution_count": null,
   "metadata": {},
   "outputs": [],
   "source": []
  }
 ]
}