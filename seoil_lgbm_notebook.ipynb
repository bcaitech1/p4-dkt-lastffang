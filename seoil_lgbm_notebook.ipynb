{
 "cells": [
  {
   "cell_type": "markdown",
   "metadata": {},
   "source": [
    "# 서일님 코드 수정\n",
    "* 코드 출처: https://colab.research.google.com/drive/1jvOR7fUyleb-Pd7i-GdNmCxOtkBZqx4b#scrollTo=0G2znWfJHxLI"
   ]
  },
  {
   "cell_type": "code",
   "execution_count": null,
   "metadata": {},
   "outputs": [],
   "source": [
    "!pip install scikit-learn==0.23.2"
   ]
  },
  {
   "cell_type": "code",
   "execution_count": null,
   "metadata": {
    "colab": {
     "base_uri": "https://localhost:8080/"
    },
    "id": "0unUz7C7YQ2b",
    "outputId": "d8786baf-52f3-4154-9f5f-2ad964834f2b"
   },
   "outputs": [],
   "source": [
    "!pip install pycaret > /dev/null"
   ]
  },
  {
   "cell_type": "markdown",
   "metadata": {
    "id": "yQO9VJswFGRt"
   },
   "source": [
    "# LGBM with pycaret\n",
    "\n"
   ]
  },
  {
   "cell_type": "code",
   "execution_count": null,
   "metadata": {
    "id": "gq_6e-6RFGRv"
   },
   "outputs": [],
   "source": [
    "import numpy as np\n",
    "import pandas as pd\n",
    "import os\n",
    "import random\n",
    "import pickle\n",
    "from pycaret.classification import *\n",
    "from pycaret.utils import check_metric\n",
    "from datetime import timedelta, timezone, datetime\n",
    "\n",
    "import time"
   ]
  },
  {
   "cell_type": "markdown",
   "metadata": {
    "id": "62_TwoqRFGRw"
   },
   "source": [
    "# 데이터 가져오기"
   ]
  },
  {
   "cell_type": "code",
   "execution_count": null,
   "metadata": {
    "id": "drlrOZ3hroWh"
   },
   "outputs": [],
   "source": [
    "#train_path = '/opt/ml/input/data/train_dataset/train_data.csv'\n",
    "#test_path = '/opt/ml/input/data/train_dataset/test_data.csv'\n",
    "\n",
    "# 도윤님 데이터 사용. 다른 데이터셋 사용 시 경로 수정할 것\n",
    "train_path = \"/opt/ml/input/data/train_data_time/train_all_three.csv\"\n",
    "test_path = \"/opt/ml/input/data/train_data_time/test_all_three.csv\"\n",
    "submission_path = 'output/lgbm_results/'"
   ]
  },
  {
   "cell_type": "code",
   "execution_count": null,
   "metadata": {
    "id": "hERUJHdAAz2J"
   },
   "outputs": [],
   "source": [
    "df_train_ori = pd.read_csv(train_path) \n",
    "df_test_ori = pd.read_csv(test_path)\n",
    "\n",
    "\n",
    "answerCode2bool = {'userID':object,  'answerCode': 'int16', 'KnowledgeTag':object}\n",
    "df_train_ori = df_train_ori.astype(answerCode2bool)\n",
    "df_test_ori = df_test_ori.astype(answerCode2bool)\n",
    "df_train_ori.Timestamp = pd.to_datetime(df_train_ori.Timestamp)\n",
    "df_test_ori.Timestamp = pd.to_datetime(df_test_ori.Timestamp)"
   ]
  },
  {
   "cell_type": "markdown",
   "metadata": {
    "id": "sDSFqsJJFGRx"
   },
   "source": [
    "# Feature Engineering"
   ]
  },
  {
   "cell_type": "markdown",
   "metadata": {
    "id": "nwJ2Vgz6EdxJ"
   },
   "source": [
    "## 미리미리 만들어놔야 하는 피처가 있습니다."
   ]
  },
  {
   "cell_type": "code",
   "execution_count": null,
   "metadata": {
    "id": "TvhQlwqnErzf"
   },
   "outputs": [],
   "source": [
    "# train에서 각 문제 평균 뽑기\n",
    "testId_mean_sum = df_train_ori.groupby(['testId'])['answerCode'].agg(['mean','sum']).to_dict()\n",
    "assessmentItemID_mean_sum = df_train_ori.groupby(['assessmentItemID'])['answerCode'].agg(['mean', 'sum']).to_dict()\n",
    "KnowledgeTag_mean_sum = df_train_ori.groupby(['KnowledgeTag'])['answerCode'].agg(['mean', 'sum']).to_dict()\n",
    "\n",
    "assessmentItemID_mean_sum['mean']['A060001001']"
   ]
  },
  {
   "cell_type": "code",
   "execution_count": null,
   "metadata": {
    "id": "UtsPA2dTIeBa"
   },
   "outputs": [],
   "source": [
    "# 맞춰야하는 문항 ID 파악\n",
    "set_assessmentItemID = set(df_test_ori.loc[df_test_ori.answerCode == -1, 'assessmentItemID'].values)"
   ]
  },
  {
   "cell_type": "markdown",
   "metadata": {
    "id": "3vwnt67Tg-lt"
   },
   "source": [
    "## 그때그때 만들어줘야 하는 피처가 있습니다."
   ]
  },
  {
   "cell_type": "code",
   "execution_count": null,
   "metadata": {
    "id": "28WlJMYjFGRx"
   },
   "outputs": [],
   "source": [
    "def feature_engineering(df):\n",
    "\n",
    "    # 문항이 중간에 비어있는 경우를 파악 (1,2,3,,5)\n",
    "    def assessmentItemID2item(x):\n",
    "        return int(x[-3:]) - 1  # 0 부터 시작하도록 \n",
    "    df['item'] = df.assessmentItemID.map(assessmentItemID2item)\n",
    "\n",
    "    item_size = df[['assessmentItemID', 'testId']].drop_duplicates().groupby('testId').size()\n",
    "    testId2maxlen = item_size.to_dict() # 중복해서 풀이할 놈들을 제거하기 위해\n",
    "\n",
    "    item_max = df.groupby('testId').item.max()\n",
    "    print(len(item_max[item_max + 1 != item_size]), '개의 시험지가 중간 문항이 빈다. item_order가 올바른 순서') # item_max는 0부터 시작하니까 + 1\n",
    "    shit_index = item_max[item_max +1 != item_size].index\n",
    "    shit_df = df.loc[df.testId.isin(shit_index),['assessmentItemID', 'testId']].drop_duplicates().sort_values('assessmentItemID')      \n",
    "    shit_df_group = shit_df.groupby('testId')\n",
    "\n",
    "    shitItemID2item = {}\n",
    "    for key in shit_df_group.groups:\n",
    "        for i, (k,_) in enumerate(shit_df_group.get_group(key).values):\n",
    "            shitItemID2item[k] = i\n",
    "        \n",
    "    def assessmentItemID2item_order(x):\n",
    "        if x in shitItemID2item:\n",
    "            return int(shitItemID2item[x])\n",
    "        return int(x[-3:]) - 1  # 0 부터 시작하도록 \n",
    "    df['item_order'] =  df.assessmentItemID.map(assessmentItemID2item_order)\n",
    "\n",
    "\n",
    "\n",
    "    #유저별 시퀀스를 고려하기 위해 아래와 같이 정렬\n",
    "    df.sort_values(by=['userID','Timestamp'], inplace=True)\n",
    "    \n",
    "    # 유저가 푼 시험지에 대해, 유저의 전체 정답/풀이횟수/정답률 계산 (3번 풀었으면 3배)\n",
    "    df_group = df.groupby(['userID','testId'])['answerCode']\n",
    "    df['user_total_correct_cnt'] = df_group.transform(lambda x: x.cumsum().shift(1))\n",
    "    df['user_total_ans_cnt'] = df_group.cumcount()\n",
    "    df['user_total_acc'] = df['user_total_correct_cnt'] / df['user_total_ans_cnt']\n",
    "\n",
    "    # 유저가 푼 시험지에 대해, 유저의 풀이 순서 계산 (시험지를 반복해서 풀었어도, 누적되지 않음)\n",
    "    # 특정 시험지를 얼마나 반복하여 풀었는지 계산 ( 2번 풀었다면, retest == 1)\n",
    "    df['test_size'] = df.testId.map(testId2maxlen)\n",
    "    df['retest'] = df['user_total_ans_cnt'] // df['test_size']\n",
    "    df['user_test_ans_cnt'] = df['user_total_ans_cnt'] % df['test_size']\n",
    "\n",
    "    # 각 시험지 당 유저의 정확도를 계산\n",
    "    df['user_test_correct_cnt'] = df.groupby(['userID','testId','retest'])['answerCode'].transform(lambda x: x.cumsum().shift(1))\n",
    "    df['user_acc'] = df['user_test_correct_cnt']/df['user_test_ans_cnt']\n",
    "\n",
    "    # 진홍님 feature\n",
    "    df['assessment_category'] = df.apply(lambda row: row.assessmentItemID[2], axis = 1)#TODO # 대분류\n",
    "    df['answer_mean'] = df.groupby('userID')['answerCode'].transform('mean') # 사용자별 정답률\n",
    "    df['assessment_category_mean'] = df.groupby('assessment_category')['answerCode'].transform('mean') # 대분류의 정답률\n",
    "    df['knowledge_tag_mean'] = df.groupby('KnowledgeTag')['answerCode'].transform('mean') # 지식 태그 분류별 정답률\n",
    "    df['testId_answer_rate'] = df.groupby('testId')['answerCode'].transform('mean') #시험지 별로 정답률\n",
    "    df['assessmentItemID_answer_rate'] = df.groupby('assessmentItemID')['answerCode'].transform('mean') #문항별 정답률\n",
    "    '''\n",
    "    def convert_time(s):\n",
    "            timestamp = time.mktime(s.timetuple())\n",
    "            return int(timestamp)\n",
    "\n",
    "    df['Timestamp_int'] = df['Timestamp'].apply(convert_time)\n",
    "    df['elapsed_time'] = df.loc[:,['userID','Timestamp_int','testId']].groupby(['userID','testId']).diff().shift(-1).fillna(int(10))\n",
    "    \n",
    "    df.sort_values(by=['userID','Timestamp'], inplace=True)\n",
    "    \n",
    "    df['et_by_kt'] = df.groupby('KnowledgeTag')['elapsed_time'].transform(lambda x: x.quantile(q=0.5))#KT별 평균 소요 시간\n",
    "    df['et_by_as'] = df.groupby('assessmentItemID')['elapsed_time'].transform(lambda x: x.quantile(q=0.5))#문항별 평균 소요 시간\n",
    "    '''\n",
    "    df['assessment_category2'] = df.apply(lambda row: row.assessmentItemID[-3:], axis=1) #문항의 대분류2\n",
    "    df['answer_shift_-2'] = df.groupby('userID')['answerCode'].shift(-2).fillna(0)\n",
    "    df['answer_shift_-1'] = df.groupby('userID')['answerCode'].shift(-1).fillna(0)\n",
    "\n",
    "    # 과거 정보\n",
    "    df['answer_shift_1'] = df.groupby('userID')['answerCode'].shift(1).fillna(0)\n",
    "    df['answer_shift_2'] = df.groupby('userID')['answerCode'].shift(2).fillna(0)\n",
    "    \n",
    "    # 여기까지 진홍님\n",
    "    \n",
    "    # 도윤님 feature\n",
    "    df['elapsed_time'] = df['elapsed'].apply(lambda x: np.log(x))\n",
    "    \n",
    "    # 아래의 피처는 다이나믹 합니다. 학습된 train의 평균값을 사용하지 않고, 새로 들어온 데이터의 평균 값을 사용합니다.\n",
    "    # # testId와 KnowledgeTag의 전체 정답률은 한번에 계산\n",
    "    # # 아래 데이터는 제출용 데이터셋에 대해서도 재사용\n",
    "    # correct_t = df.groupby(['testId'])['answerCode'].agg(['mean', 'sum'])\n",
    "    # correct_t.columns = [\"test_mean\", 'test_sum']\n",
    "    # correct_a = df.groupby(['assessmentItemID'])['answerCode'].agg(['mean', 'sum'])\n",
    "    # correct_a.columns = [\"ItemID_mean\", 'ItemID_sum']\n",
    "    # correct_k = df.groupby(['KnowledgeTag'])['answerCode'].agg(['mean', 'sum'])\n",
    "    # correct_k.columns = [\"tag_mean\", 'tag_sum']\n",
    "    # df = pd.merge(df, correct_t, on=['testId'], how=\"left\")\n",
    "    # df = pd.merge(df, correct_a, on=['assessmentItemID'], how=\"left\")\n",
    "    # df = pd.merge(df, correct_k, on=['KnowledgeTag'], how=\"left\")\n",
    "\n",
    "    # 본 피처는 train에서 얻어진 값을 그대로 유지합니다.\n",
    "    df[\"test_mean\"] = df.testId.map(testId_mean_sum['mean'])\n",
    "    df['test_sum'] = df.testId.map(testId_mean_sum['sum'])\n",
    "    df[\"ItemID_mean\"] = df.assessmentItemID.map(assessmentItemID_mean_sum['mean'])\n",
    "    df['ItemID_sum'] = df.assessmentItemID.map(assessmentItemID_mean_sum['sum'])\n",
    "    df[\"tag_mean\"] = df.KnowledgeTag.map(KnowledgeTag_mean_sum['mean'])\n",
    "    df['tag_sum'] = df.KnowledgeTag.map(KnowledgeTag_mean_sum['sum'])\n",
    "\n",
    "    return df"
   ]
  },
  {
   "cell_type": "code",
   "execution_count": null,
   "metadata": {
    "colab": {
     "base_uri": "https://localhost:8080/"
    },
    "id": "AKcg19GcFGRy",
    "outputId": "7278c90f-83f4-42be-c370-4a048ac91bc6"
   },
   "outputs": [],
   "source": [
    "df_test = feature_engineering(df_test_ori)\n",
    "df = feature_engineering(df_train_ori)\n",
    "# 피처를 대충만들어서 꽤 오래걸립니다."
   ]
  },
  {
   "cell_type": "code",
   "execution_count": null,
   "metadata": {
    "id": "V1Ct8LUX-shj"
   },
   "outputs": [],
   "source": [
    "df_test_shift = df_test[df_test['userID'] != df_test['userID'].shift(-1)]"
   ]
  },
  {
   "cell_type": "markdown",
   "metadata": {
    "id": "wFLTDadShGYT"
   },
   "source": [
    "## 엔지니어링 이후의 EDA"
   ]
  },
  {
   "cell_type": "code",
   "execution_count": null,
   "metadata": {
    "colab": {
     "base_uri": "https://localhost:8080/"
    },
    "id": "v5zP7xp3Y1JZ",
    "outputId": "a0070260-550a-4b49-b4ee-0ec1d8e2b686"
   },
   "outputs": [],
   "source": [
    "for i in range(14):\n",
    "    order = df.loc[(df.item_order == df.user_test_ans_cnt) & (df.user_test_ans_cnt >= i),'answerCode'].mean()\n",
    "    deorder = df.loc[(df.item_order != df.user_test_ans_cnt) & (df.user_test_ans_cnt >= i),'answerCode'].mean()\n",
    "    print(order,deorder)\n",
    "\n",
    "# 섞어서 풀면 인간의 성능이 항상 떨어진다고 생각했는데, 마지막 2놈은 아니었다.\n",
    "# 그 와중에 뒤로 갈 수록 정답률 떨어지는건 신기하네"
   ]
  },
  {
   "cell_type": "code",
   "execution_count": null,
   "metadata": {
    "colab": {
     "base_uri": "https://localhost:8080/",
     "height": 1000
    },
    "id": "0G2znWfJHxLI",
    "outputId": "b8f7576f-612d-41d7-9c7f-ce6efee115c5"
   },
   "outputs": [],
   "source": [
    "# 시험지를 여러번 푼 경우\n",
    "# 이 친구 보면 알겠지만, 나중에 푼다고 잘 푸는건 아님\n",
    "# 어짜피 2번째 푸는거면 직전 문제들도 어련히 잘 풀었겠지\n",
    "df[(df.userID == 1069)  & (df.testId =='A080000127')] "
   ]
  },
  {
   "cell_type": "markdown",
   "metadata": {
    "id": "FloWAa2IFGRy"
   },
   "source": [
    "# train/vali 데이터 셋 분리"
   ]
  },
  {
   "cell_type": "code",
   "execution_count": null,
   "metadata": {
    "id": "1cvgUhyvMO12"
   },
   "outputs": [],
   "source": [
    "def my_train_vali_split(df, filter_option = None, train_must_exist_leaderboard = False, ratio=0.5, seed = 23):\n",
    "    random.seed(seed)\n",
    "    # 리더보드와 동일 조건의 컬럼 수집\n",
    "    vali_full = df[(df['userID'] != df['userID'].shift(-1)) & (df.assessmentItemID.isin(set_assessmentItemID))].copy()\n",
    "    \n",
    "    # 리더보드와 동일 조건의 컬럼을 나누기\n",
    "    ratio_r = (1 - ratio)\n",
    "    vali_1 = vali_full.sample(frac=ratio_r, random_state = seed) # ratio가 1이면, ratio_r이 0이 되어, vali_1에 아무것도 할당되지 않는다.\n",
    "    vali_2 = vali_full.drop(vali_1.index)\n",
    "\n",
    "    # vali에 포함된 유저 목록 확인하기\n",
    "    vali_1_userID = set(vali_1.userID.values)\n",
    "    vali_2_userID = set(vali_2.userID.values)\n",
    "    \n",
    "    # vali에 없는 유저들만 train으로 데려오기\n",
    "    train_1 = df[ df['userID'].isin(vali_1_userID) == False ].copy()\n",
    "    train_2 = df[ df['userID'].isin(vali_2_userID) == False ].copy()\n",
    "    \n",
    "    # 마지막 응답만 가져올지 여부\n",
    "    if filter_option == '시험지마지막응답':\n",
    "        train_1 = train_1[train_1['testId'] != train_1['testId'].shift(-1)].copy()\n",
    "        train_2 = train_2[train_2['testId'] != train_2['testId'].shift(-1)].copy()\n",
    "    if filter_option == '사용자마지막응답':\n",
    "        train_1 = train_1[train_1['userID'] != train_1['userID'].shift(-1)].copy()\n",
    "        train_2 = train_2[train_2['userID'] != train_2['userID'].shift(-1)].copy()\n",
    "\n",
    "    # train도 리더보드에서 맞춰야하는 문제(444개 문제)만 볼지 여부\n",
    "    if train_must_exist_leaderboard:\n",
    "        train_1 = train_1[train_1.assessmentItemID.isin(set_assessmentItemID)].copy()\n",
    "        train_2 = train_2[train_2.assessmentItemID.isin(set_assessmentItemID)].copy()\n",
    "    \n",
    "    return train_1, vali_1, train_2, vali_2 , vali_full"
   ]
  },
  {
   "cell_type": "markdown",
   "metadata": {
    "id": "j03kWH0Yg6Yz"
   },
   "source": [
    "## 후보기능"
   ]
  },
  {
   "cell_type": "code",
   "execution_count": null,
   "metadata": {
    "id": "V4LQK9wug4er"
   },
   "outputs": [],
   "source": [
    "def my_train_vali_split2(df, filter_option = None, train_must_exist_leaderboard = False, vali='Full', ratio=0.5, seed = 23):\n",
    "    random.seed(seed)\n",
    "    # 리더보드와 동일 조건의 컬럼 수집을 포기했다. df.assessmentItemID.isin(set_assessmentItemID))\n",
    "    vali_full = df[(df['userID'] != df['userID'].shift(-1))].copy()\n",
    "\n",
    "    # 리더보드와 동일 조건의 컬럼을 나누기\n",
    "    ratio_r = (1 - ratio)\n",
    "    vali_1 = vali_full.sample(frac=ratio_r, random_state = seed) # ratio가 1이면, ratio_r이 0이 되어, vali_1에 아무것도 할당되지 않는다.\n",
    "    vali_2 = vali_full.drop(vali_1.index)\n",
    "\n",
    "    # vali에 포함된 유저 목록 확인하기\n",
    "    vali_1_userID = set(vali_1.userID.values)\n",
    "    vali_2_userID = set(vali_2.userID.values)\n",
    "    #vali_full_userID = set(vali_full.userID.values)\n",
    "\n",
    "    # vali 유저의 전 기록을 쓸 경우, 디폴트는 마지막 응답만 사용합니다.\n",
    "    if vali in ['Full', '시험지마지막응답']:\n",
    "        vali_1 = df[ df['userID'].isin(vali_1_userID) == True ].copy()\n",
    "        vali_2 = df[ df['userID'].isin(vali_2_userID) == True ].copy()\n",
    "        #vali_full = df[ df['userID'].isin(vali_full_userID) == True ].copy()\n",
    "\n",
    "    # vali 유저의 각 시험지 기록을 쓸 경우\n",
    "    if vali == '시험지마지막응답': \n",
    "        vali_1 = vali_1[(vali_1['testId'] != vali_1['testId'].shift(-1))].copy()\n",
    "        vali_2 = vali_2[(vali_2['testId'] != vali_2['testId'].shift(-1))].copy()\n",
    "        #vali_full = df[ df['userID'].isin(vali_full_userID) == True ].copy()\n",
    "        #vali_full = vali_full[(vali_full['testId'] != vali_full['testId'].shift(-1))].copy()\n",
    "\n",
    "    # vali에 없는 유저들만 train으로 데려오기\n",
    "    train_1 = df[ df['userID'].isin(vali_1_userID) == False ].copy()\n",
    "    train_2 = df[ df['userID'].isin(vali_2_userID) == False ].copy()\n",
    "    \n",
    "    # 마지막 응답만 가져올지 여부\n",
    "    if filter_option == '시험지마지막응답':\n",
    "        train_1 = train_1[train_1['testId'] != train_1['testId'].shift(-1)].copy()\n",
    "        train_2 = train_2[train_2['testId'] != train_2['testId'].shift(-1)].copy()\n",
    "    if filter_option == '사용자마지막응답':\n",
    "        train_1 = train_1[train_1['userID'] != train_1['userID'].shift(-1)].copy()\n",
    "        train_2 = train_2[train_2['userID'] != train_2['userID'].shift(-1)].copy()\n",
    "\n",
    "    # train도 리더보드에서 맞춰야하는 문제(444개 문제)만 볼지 여부\n",
    "    if train_must_exist_leaderboard:\n",
    "        train_1 = train_1[train_1.assessmentItemID.isin(set_assessmentItemID)].copy()\n",
    "        train_2 = train_2[train_2.assessmentItemID.isin(set_assessmentItemID)].copy()\n",
    "    \n",
    "    return train_1, vali_1, train_2, vali_2 , vali_full"
   ]
  },
  {
   "cell_type": "code",
   "execution_count": null,
   "metadata": {
    "id": "dM6UJHdrvaNm"
   },
   "outputs": [],
   "source": [
    "def test_train_vali_split(df, filter_option = None, train_must_exist_leaderboard = False, vali='Full', ratio=0.5, seed = 23):\n",
    "    random.seed(seed)\n",
    "    # 리더보드와 동일 조건의 컬럼 수집을 포기했다.\n",
    "    df = df[df.answerCode != -1].copy()\n",
    "    vali_full = df[(df['userID'] != df['userID'].shift(-1))].copy()\n",
    "\n",
    "    # 리더보드와 동일 조건의 컬럼을 나누기\n",
    "    ratio_r = (1 - ratio)\n",
    "    vali_1 = vali_full.sample(frac=ratio_r, random_state = seed) # ratio가 1이면, ratio_r이 0이 되어, vali_1에 아무것도 할당되지 않는다.\n",
    "    vali_2 = vali_full.drop(vali_1.index)\n",
    "\n",
    "    # vali에 포함된 유저 목록 확인하기\n",
    "    vali_1_userID = set(vali_1.userID.values)\n",
    "    vali_2_userID = set(vali_2.userID.values)\n",
    "    #vali_full_userID = set(vali_full.userID.values)\n",
    "\n",
    "    # vali 유저의 전 기록을 쓸 경우, 디폴트는 마지막 응답만 사용합니다.\n",
    "    if vali in ['Full', '시험지마지막응답']:\n",
    "        vali_1 = df[ df['userID'].isin(vali_1_userID) == True ].copy()\n",
    "        vali_2 = df[ df['userID'].isin(vali_2_userID) == True ].copy()\n",
    "        #vali_full = df[ df['userID'].isin(vali_full_userID) == True ].copy()\n",
    "\n",
    "    # vali 유저의 각 시험지 마지막 기록을 쓸 경우\n",
    "    if vali == '시험지마지막응답': \n",
    "        vali_1 = vali_1[(vali_1['testId'] != vali_1['testId'].shift(-1))].copy()\n",
    "        vali_2 = vali_2[(vali_2['testId'] != vali_2['testId'].shift(-1))].copy()\n",
    "        #vali_full = df[ df['userID'].isin(vali_full_userID) == True ].copy()\n",
    "        #vali_full = vali_full[(vali_full['testId'] != vali_full['testId'].shift(-1))].copy()\n",
    "\n",
    "    # vali에 없는 유저들만 train으로 데려오기\n",
    "    train_1 = df[ df['userID'].isin(vali_1_userID) == False ].copy()\n",
    "    train_2 = df[ df['userID'].isin(vali_2_userID) == False ].copy()\n",
    "    \n",
    "    # 마지막 응답만 가져올지 여부\n",
    "    if filter_option == '시험지마지막응답':\n",
    "        train_1 = train_1[train_1['testId'] != train_1['testId'].shift(-1)].copy()\n",
    "        train_2 = train_2[train_2['testId'] != train_2['testId'].shift(-1)].copy()\n",
    "    if filter_option == '사용자마지막응답':\n",
    "        train_1 = train_1[train_1['userID'] != train_1['userID'].shift(-1)].copy()\n",
    "        train_2 = train_2[train_2['userID'] != train_2['userID'].shift(-1)].copy()\n",
    "\n",
    "    # train도 리더보드에서 맞춰야하는 문제(444개 문제)만 볼지 여부\n",
    "    if train_must_exist_leaderboard:\n",
    "        train_1 = train_1[train_1.assessmentItemID.isin(set_assessmentItemID)].copy()\n",
    "        train_2 = train_2[train_2.assessmentItemID.isin(set_assessmentItemID)].copy()\n",
    "    \n",
    "    return train_1, vali_1, train_2, vali_2 , vali_full"
   ]
  },
  {
   "cell_type": "markdown",
   "metadata": {
    "id": "npqAI40BIMnK"
   },
   "source": [
    "# LGBM으로 실험 함수"
   ]
  },
  {
   "cell_type": "code",
   "execution_count": null,
   "metadata": {
    "id": "1PVjRx-3IPwu"
   },
   "outputs": [],
   "source": [
    "def exam_LGBM1( datasets ,FEATS, categorical_features=[],numeric_features=[],seed=47):\n",
    "    train_1, vali_1, train_2, vali_2, vali_full = datasets\n",
    "    random.seed(seed)\n",
    "    settings = setup(data=train_1[FEATS], target='answerCode', train_size=0.8, categorical_features=categorical_features, numeric_features=numeric_features)\n",
    "    \n",
    "    lgbm = create_model('lightgbm', sort='AUC')\n",
    "    tuned_lgbm = tune_model(lgbm, optimize = 'AUC', fold = 10)\n",
    "    final_lgbm = finalize_model(tuned_lgbm)\n",
    "\n",
    "    predict_model(lgbm)\n",
    "    predict_model(tuned_lgbm)\n",
    "    predict_model(final_lgbm)\n",
    "\n",
    "    log = []\n",
    "    prediction = predict_model(final_lgbm, data=vali_1[FEATS], raw_score = True)\n",
    "    log.append(f\"학습에 사용안한 데이터: {check_metric(prediction['answerCode'], prediction['Label'], metric = 'Accuracy')} ,{check_metric(prediction['answerCode'], prediction['Score_1'], metric = 'AUC')}\")\n",
    "    prediction = predict_model(final_lgbm, data=vali_2[FEATS], raw_score = True)\n",
    "    log.append(f\"학습에 사용한 데이터:  {check_metric(prediction['answerCode'], prediction['Label'], metric = 'Accuracy')} ,{check_metric(prediction['answerCode'], prediction['Score_1'], metric = 'AUC')}\")\n",
    "    prediction = predict_model(final_lgbm, data=vali_full[FEATS], raw_score = True)\n",
    "    log.append(f\"모든 vali 데이터:    {check_metric(prediction['answerCode'], prediction['Label'], metric = 'Accuracy')} ,{check_metric(prediction['answerCode'], prediction['Score_1'], metric = 'AUC')}\")\n",
    "        \n",
    "    return final_lgbm, log"
   ]
  },
  {
   "cell_type": "code",
   "execution_count": null,
   "metadata": {
    "id": "PHDebFzVPk-P"
   },
   "outputs": [],
   "source": [
    "def exam_LGBM2( datasets ,FEATS, categorical_features=[],numeric_features=[],seed=47):\n",
    "    train_1, vali_1, train_2, vali_2, vali_full = datasets\n",
    "    random.seed(seed)\n",
    "    settings = setup(data=train_2[FEATS], target='answerCode', train_size=0.8, categorical_features=categorical_features, numeric_features=numeric_features)\n",
    "    \n",
    "    lgbm = create_model('lightgbm', sort='AUC')\n",
    "    tuned_lgbm = tune_model(lgbm, optimize = 'AUC', fold = 10)\n",
    "    final_lgbm = finalize_model(tuned_lgbm)\n",
    "    \n",
    "    predict_model(lgbm)\n",
    "    predict_model(tuned_lgbm)\n",
    "    predict_model(final_lgbm)\n",
    "    \n",
    "    log = []\n",
    "    prediction = predict_model(final_lgbm, data=vali_2[FEATS], raw_score = True)\n",
    "    log.append(f\"학습에 사용안한 데이터: {check_metric(prediction['answerCode'], prediction['Label'], metric = 'Accuracy')} ,{check_metric(prediction['answerCode'], prediction['Score_1'], metric = 'AUC')}\")\n",
    "    prediction = predict_model(final_lgbm, data=vali_1[FEATS], raw_score = True)\n",
    "    log.append(f\"학습에 사용한 데이터:  {check_metric(prediction['answerCode'], prediction['Label'], metric = 'Accuracy')} ,{check_metric(prediction['answerCode'], prediction['Score_1'], metric = 'AUC')}\")\n",
    "    prediction = predict_model(final_lgbm, data=vali_full[FEATS], raw_score = True)\n",
    "    log.append(f\"모든 vali 데이터:    {check_metric(prediction['answerCode'], prediction['Label'], metric = 'Accuracy')} ,{check_metric(prediction['answerCode'], prediction['Score_1'], metric = 'AUC')}\")    \n",
    "    \n",
    "    return final_lgbm, log"
   ]
  },
  {
   "cell_type": "code",
   "execution_count": null,
   "metadata": {
    "id": "u4whXmA6S-mJ"
   },
   "outputs": [],
   "source": [
    "def exam_full(datasets, FEATS, categorical_features=[],numeric_features=[],seed=47):\n",
    "    train_1, vali_1, train_2, vali_2, vali_full = datasets\n",
    "    random.seed(seed)\n",
    "    settings = setup(data=train_1[FEATS], target='answerCode', train_size=0.8, categorical_features=categorical_features, numeric_features=numeric_features)\n",
    "    \n",
    "    lgbm = create_model('lightgbm', sort='AUC')\n",
    "    tuned_lgbm = tune_model(lgbm, optimize = 'AUC', fold = 10)\n",
    "    final_lgbm = finalize_model(tuned_lgbm)\n",
    "\n",
    "    predict_model(lgbm)\n",
    "    predict_model(tuned_lgbm)\n",
    "    predict_model(final_lgbm)\n",
    "\n",
    "    log = []\n",
    "    prediction = predict_model(final_lgbm, data=vali_full[FEATS], raw_score = True)\n",
    "    log.append(f\"모든 vali 데이터:    {check_metric(prediction['answerCode'], prediction['Label'], metric = 'Accuracy')} ,{check_metric(prediction['answerCode'], prediction['Score_1'], metric = 'AUC')}\")\n",
    "    return final_lgbm, log"
   ]
  },
  {
   "cell_type": "markdown",
   "metadata": {
    "id": "uQ8SKMWaamCo"
   },
   "source": [
    "# 절반 나눈 데이터로 실험"
   ]
  },
  {
   "cell_type": "code",
   "execution_count": null,
   "metadata": {
    "colab": {
     "base_uri": "https://localhost:8080/"
    },
    "id": "ad2VGUFScSUz",
    "outputId": "3bd76458-d1c6-46b5-b93f-8d0958bccfe3"
   },
   "outputs": [],
   "source": [
    "df.columns # FEATS 참고용"
   ]
  },
  {
   "cell_type": "code",
   "execution_count": null,
   "metadata": {
    "id": "l6mS59ZqcJj3"
   },
   "outputs": [],
   "source": [
    "filter_option = '시험지마지막응답' # 시험지마지막응답, 사용자마지막응답, None\n",
    "train_must_exist_leaderboard = False # True, False\n",
    "\n",
    "FEATS = ['user_acc','ItemID_mean','answerCode']\n",
    "FEATS += ['test_mean']\n",
    "\n",
    "# 기본 columns 추가\n",
    "FEATS += ['KnowledgeTag']\n",
    "\n",
    "# 진홍님 features\n",
    "FEATS += ['answer_shift_2']\n",
    "\n",
    "categorical_features = []\n",
    "#categorical_features = ['assessment_category2']\n",
    "#categorical_features += ['KnowledgeTag']\n",
    "\n",
    "numeric_features = []\n",
    "numeric_features += []"
   ]
  },
  {
   "cell_type": "code",
   "execution_count": null,
   "metadata": {
    "colab": {
     "base_uri": "https://localhost:8080/"
    },
    "id": "gEkEl7G43LeV",
    "outputId": "f2d719d4-d6e9-4227-bb99-370faa11d14f"
   },
   "outputs": [],
   "source": [
    "datasets = my_train_vali_split(df, filter_option = filter_option, train_must_exist_leaderboard = train_must_exist_leaderboard)\n",
    "datasets_full = my_train_vali_split(df, filter_option = filter_option, train_must_exist_leaderboard = train_must_exist_leaderboard, ratio = 1.0) # 어떤 시드를 주던 영향 안받음.\n",
    "\n",
    "print(len(datasets[0]), len(datasets[1]))\n",
    "print(len(datasets[2]), len(datasets[3]))\n",
    "print(len(datasets[4]), '\\n')\n",
    "print(datasets[0].answerCode.mean(),datasets[1].answerCode.mean())\n",
    "print(datasets[2].answerCode.mean(),datasets[3].answerCode.mean())\n",
    "print(datasets[4].answerCode.mean(), '\\n')\n",
    "print(len(datasets_full[0]), len(datasets_full[4]))\n",
    "print(datasets_full[0].answerCode.mean(), datasets_full[4].answerCode.mean())"
   ]
  },
  {
   "cell_type": "code",
   "execution_count": null,
   "metadata": {
    "id": "-zHE_3XFC-ye"
   },
   "outputs": [],
   "source": [
    "# datasets = my_train_vali_split2(df, filter_option = filter_option, train_must_exist_leaderboard = train_must_exist_leaderboard, vali = '시험지마지막응답',  ratio = 0.5)\n",
    "# datasets_full = my_train_vali_split2(df, filter_option = filter_option, train_must_exist_leaderboard = train_must_exist_leaderboard, vali = '시험지마지막응답', ratio =1.0) # 어떤 시드를 주던 영향 안받음.\n",
    "\n",
    "# print(len(datasets[0]), len(datasets[1]))\n",
    "# print(len(datasets[2]), len(datasets[3]))\n",
    "# print(len(datasets[4]), '\\n')\n",
    "# print(datasets[0].answerCode.mean(),datasets[1].answerCode.mean())\n",
    "# print(datasets[2].answerCode.mean(),datasets[3].answerCode.mean())\n",
    "# print(datasets[4].answerCode.mean(), '\\n')\n",
    "# print(len(datasets_full[0]), len(datasets_full[4]))\n",
    "# print(datasets_full[0].answerCode.mean(), datasets_full[4].answerCode.mean())"
   ]
  },
  {
   "cell_type": "code",
   "execution_count": null,
   "metadata": {
    "id": "PsETCJlrwNov"
   },
   "outputs": [],
   "source": [
    "# datasets = test_train_vali_split(df_test, filter_option = filter_option, train_must_exist_leaderboard = train_must_exist_leaderboard, vali = None,  ratio = 0.5)\n",
    "# datasets_full = test_train_vali_split(df_test, filter_option = filter_option, train_must_exist_leaderboard = train_must_exist_leaderboard, vali = None, ratio =1.0) # 어떤 시드를 주던 영향 안받음.\n",
    "\n",
    "# print(len(datasets[0]), len(datasets[1]))\n",
    "# print(len(datasets[2]), len(datasets[3]))\n",
    "# print(len(datasets[4]), '\\n')\n",
    "# print(datasets[0].answerCode.mean(),datasets[1].answerCode.mean())\n",
    "# print(datasets[2].answerCode.mean(),datasets[3].answerCode.mean())\n",
    "# print(datasets[4].answerCode.mean(), '\\n')\n",
    "# print(len(datasets_full[0]), len(datasets_full[4]))\n",
    "# print(datasets_full[0].answerCode.mean(), datasets_full[4].answerCode.mean())"
   ]
  },
  {
   "cell_type": "code",
   "execution_count": null,
   "metadata": {},
   "outputs": [],
   "source": [
    "\n",
    "model1,log1 = exam_LGBM1(datasets ,FEATS, categorical_features, numeric_features)\n",
    "print('\\n',model1)\n",
    "print(f'\\n폴드1:')\n",
    "print('\\n'.join(log1))\n"
   ]
  },
  {
   "cell_type": "code",
   "execution_count": null,
   "metadata": {},
   "outputs": [],
   "source": [
    "\n",
    "model2,log2 = exam_LGBM2(datasets ,FEATS, categorical_features, numeric_features)\n",
    "print(model2)\n",
    "print(f'\\n폴드2:')\n",
    "print('\\n'.join(log2))\n"
   ]
  },
  {
   "cell_type": "code",
   "execution_count": null,
   "metadata": {
    "colab": {
     "base_uri": "https://localhost:8080/",
     "height": 1000,
     "referenced_widgets": [
      "8755dadb553144c6b147bc1c5fdc4705",
      "14d8a8ec76234e07b472bfa66488c746",
      "905053f66a784337a90be8aeab6fb0f2",
      "a677d44bffa74a8d9a0303c4aa4daae5",
      "f1a3089504b94e208af3e45db31d2ad5",
      "ef650fcff44141a39c8faded30ff25d7",
      "550cedf56100475baa1c5d55be22e556",
      "7cfb9f737f904636a50826720c490ffa",
      "74e223eba7f4464dbde68601e8d6a682",
      "0bb2d851c2d24912a9030843235a0403",
      "4c7f582278684b9681235cb8353020c2",
      "d3bc00f6e9fa4033876d0c6fb3fee669",
      "300da9c69464453c96741727955df6ac",
      "e9bad9636931464e97b2e1e2f5a1ec61",
      "22b9a14f344244f69163f677725b6a84",
      "0ed63a91627e47368b3be67befecfcad",
      "ecf0eb4eb8f641d591365150c1485174",
      "47ca0516b186464987fc6d2dc3279f99",
      "088b6761daaf4f4da4e8b92bbb479720",
      "ca3712427eb64a63ab162b2c9a73a6f0",
      "ea5221c6e0c94fcd86df22555b3a7c52",
      "fbf4ef0c753f4494a190c55670b8eb82",
      "227b4917fb1847c39aded16caae47dd7",
      "b56d7218d0cb48909340c02b7a65b9ad",
      "fd27e1cc8dfe475db4a38176e1e1cfd9",
      "af13da7c13024099a6d437044b7d3393",
      "8c215526354340d582910fabaaaf11cf",
      "168f33457053488fbaee342d7b17b13f",
      "9489c73bb04b4045bc572cb718bfd605",
      "64e134d37f894327984124c0eccf688d",
      "8a8073dc9baf4a0c924f220b3e0b50bc",
      "9d2cef9cd5e3419b924bfca13762ac5e",
      "fec84246bc724c7abf0ceaa6e2d07e9a",
      "1ed91200c52d49e28975e16af8c6a2f7",
      "39dbee50b3e64935bfdf9cef285d88b4",
      "07e8a961cb4f4b638a320f74f6acedfa"
     ]
    },
    "id": "JdSD3V7BOfv6",
    "outputId": "d5885981-ba1e-4e49-ff2a-49b74a0b374d"
   },
   "outputs": [],
   "source": [
    "model_full,log_full = exam_full(datasets_full, FEATS, categorical_features, numeric_features)\n",
    "\n",
    "print(model_full)\n",
    "print(f'\\n전부넣기:')\n",
    "print('\\n'.join(log_full))"
   ]
  },
  {
   "cell_type": "markdown",
   "metadata": {
    "id": "3TLSfyOuFGR0"
   },
   "source": [
    "# Inference"
   ]
  },
  {
   "cell_type": "code",
   "execution_count": null,
   "metadata": {
    "colab": {
     "base_uri": "https://localhost:8080/"
    },
    "id": "6mHls0urFGR3",
    "outputId": "2c60351a-2719-4f87-ac92-e7ef79e7058e"
   },
   "outputs": [],
   "source": [
    "# MAKE PREDICTION\n",
    "# SAVE OUTPUT\n",
    "\n",
    "prediction = predict_model(model_full, data=df_test_shift[FEATS], raw_score=True)\n",
    "total_preds = prediction.Score_1.values\n",
    "\n",
    "prediction_name = datetime.now(timezone(timedelta(hours=9))).strftime('%m%d_%H%M')\n",
    "\n",
    "output_dir = 'output/lgbm-results/'\n",
    "write_path = os.path.join(output_dir, f\"{prediction_name}.csv\")\n",
    "if not os.path.exists(output_dir):\n",
    "    os.makedirs(output_dir)    \n",
    "with open(write_path, 'w', encoding='utf8') as w:\n",
    "    print(\"writing prediction : {}\".format(write_path))\n",
    "    w.write(\"id,prediction\\n\")\n",
    "    for id, p in enumerate(total_preds):\n",
    "        w.write('{},{}\\n'.format(id,p))\n",
    "\n",
    "name = ('filter_option', 'train_must_exist_leaderboard', 'FEATS', 'log1', 'log2','log_full')\n",
    "logs = (filter_option, train_must_exist_leaderboard, FEATS, log1, log2,log_full)\n",
    "#name = ('filter_option', 'train_must_exist_leaderboard', 'FEATS', 'log_full')\n",
    "#logs = (filter_option, train_must_exist_leaderboard, FEATS, log_full)\n",
    "write_path = os.path.join(output_dir, f\"{prediction_name}_log.txt\")\n",
    "with open(write_path, 'w', encoding='utf8') as w:\n",
    "    print(\"writing prediction : {}\".format(write_path))\n",
    "    for n, l in zip(name, logs):\n",
    "        w.write(f'{n}: {l}\\n')\n"
   ]
  }
 ],
 "metadata": {
  "colab": {
   "collapsed_sections": [],
   "machine_shape": "hm",
   "name": "피처 엔지니어링과 vali 구축을 위한 노트북",
   "provenance": [],
   "toc_visible": true
  },
  "kernelspec": {
   "display_name": "Python 3",
   "language": "python",
   "name": "python3"
  },
  "language_info": {
   "codemirror_mode": {
    "name": "ipython",
    "version": 3
   },
   "file_extension": ".py",
   "mimetype": "text/x-python",
   "name": "python",
   "nbconvert_exporter": "python",
   "pygments_lexer": "ipython3",
   "version": "3.7.7"
  },
  "toc": {
   "base_numbering": 1,
   "nav_menu": {},
   "number_sections": false,
   "sideBar": true,
   "skip_h1_title": false,
   "title_cell": "Table of Contents",
   "title_sidebar": "Contents",
   "toc_cell": false,
   "toc_position": {},
   "toc_section_display": true,
   "toc_window_display": true
  },
  "widgets": {
   "application/vnd.jupyter.widget-state+json": {
    "07e8a961cb4f4b638a320f74f6acedfa": {
     "model_module": "@jupyter-widgets/base",
     "model_name": "LayoutModel",
     "state": {
      "_model_module": "@jupyter-widgets/base",
      "_model_module_version": "1.2.0",
      "_model_name": "LayoutModel",
      "_view_count": null,
      "_view_module": "@jupyter-widgets/base",
      "_view_module_version": "1.2.0",
      "_view_name": "LayoutView",
      "align_content": null,
      "align_items": null,
      "align_self": null,
      "border": null,
      "bottom": null,
      "display": null,
      "flex": null,
      "flex_flow": null,
      "grid_area": null,
      "grid_auto_columns": null,
      "grid_auto_flow": null,
      "grid_auto_rows": null,
      "grid_column": null,
      "grid_gap": null,
      "grid_row": null,
      "grid_template_areas": null,
      "grid_template_columns": null,
      "grid_template_rows": null,
      "height": null,
      "justify_content": null,
      "justify_items": null,
      "left": null,
      "margin": null,
      "max_height": null,
      "max_width": null,
      "min_height": null,
      "min_width": null,
      "object_fit": null,
      "object_position": null,
      "order": null,
      "overflow": null,
      "overflow_x": null,
      "overflow_y": null,
      "padding": null,
      "right": null,
      "top": null,
      "visibility": null,
      "width": null
     }
    },
    "088b6761daaf4f4da4e8b92bbb479720": {
     "model_module": "@jupyter-widgets/controls",
     "model_name": "IntProgressModel",
     "state": {
      "_dom_classes": [],
      "_model_module": "@jupyter-widgets/controls",
      "_model_module_version": "1.5.0",
      "_model_name": "IntProgressModel",
      "_view_count": null,
      "_view_module": "@jupyter-widgets/controls",
      "_view_module_version": "1.5.0",
      "_view_name": "ProgressView",
      "bar_style": "",
      "description": "Processing: ",
      "description_tooltip": null,
      "layout": "IPY_MODEL_ea5221c6e0c94fcd86df22555b3a7c52",
      "max": 4,
      "min": 0,
      "orientation": "horizontal",
      "style": "IPY_MODEL_ca3712427eb64a63ab162b2c9a73a6f0",
      "value": 4
     }
    },
    "0bb2d851c2d24912a9030843235a0403": {
     "model_module": "@jupyter-widgets/controls",
     "model_name": "IntProgressModel",
     "state": {
      "_dom_classes": [],
      "_model_module": "@jupyter-widgets/controls",
      "_model_module_version": "1.5.0",
      "_model_name": "IntProgressModel",
      "_view_count": null,
      "_view_module": "@jupyter-widgets/controls",
      "_view_module_version": "1.5.0",
      "_view_name": "ProgressView",
      "bar_style": "",
      "description": "Processing: ",
      "description_tooltip": null,
      "layout": "IPY_MODEL_d3bc00f6e9fa4033876d0c6fb3fee669",
      "max": 7,
      "min": 0,
      "orientation": "horizontal",
      "style": "IPY_MODEL_4c7f582278684b9681235cb8353020c2",
      "value": 7
     }
    },
    "0ed63a91627e47368b3be67befecfcad": {
     "model_module": "@jupyter-widgets/controls",
     "model_name": "TextModel",
     "state": {
      "_dom_classes": [],
      "_model_module": "@jupyter-widgets/controls",
      "_model_module_version": "1.5.0",
      "_model_name": "TextModel",
      "_view_count": null,
      "_view_module": "@jupyter-widgets/controls",
      "_view_module_version": "1.5.0",
      "_view_name": "TextView",
      "continuous_update": true,
      "description": "",
      "description_tooltip": null,
      "disabled": false,
      "layout": "IPY_MODEL_47ca0516b186464987fc6d2dc3279f99",
      "placeholder": "​",
      "style": "IPY_MODEL_ecf0eb4eb8f641d591365150c1485174",
      "value": "Following data types have been inferred automatically, if they are correct press enter to continue or type 'quit' otherwise."
     }
    },
    "14d8a8ec76234e07b472bfa66488c746": {
     "model_module": "@jupyter-widgets/controls",
     "model_name": "ProgressStyleModel",
     "state": {
      "_model_module": "@jupyter-widgets/controls",
      "_model_module_version": "1.5.0",
      "_model_name": "ProgressStyleModel",
      "_view_count": null,
      "_view_module": "@jupyter-widgets/base",
      "_view_module_version": "1.2.0",
      "_view_name": "StyleView",
      "bar_color": null,
      "description_width": ""
     }
    },
    "168f33457053488fbaee342d7b17b13f": {
     "model_module": "@jupyter-widgets/controls",
     "model_name": "TextModel",
     "state": {
      "_dom_classes": [],
      "_model_module": "@jupyter-widgets/controls",
      "_model_module_version": "1.5.0",
      "_model_name": "TextModel",
      "_view_count": null,
      "_view_module": "@jupyter-widgets/controls",
      "_view_module_version": "1.5.0",
      "_view_name": "TextView",
      "continuous_update": true,
      "description": "",
      "description_tooltip": null,
      "disabled": false,
      "layout": "IPY_MODEL_64e134d37f894327984124c0eccf688d",
      "placeholder": "​",
      "style": "IPY_MODEL_9489c73bb04b4045bc572cb718bfd605",
      "value": "Following data types have been inferred automatically, if they are correct press enter to continue or type 'quit' otherwise."
     }
    },
    "1ed91200c52d49e28975e16af8c6a2f7": {
     "model_module": "@jupyter-widgets/controls",
     "model_name": "IntProgressModel",
     "state": {
      "_dom_classes": [],
      "_model_module": "@jupyter-widgets/controls",
      "_model_module_version": "1.5.0",
      "_model_name": "IntProgressModel",
      "_view_count": null,
      "_view_module": "@jupyter-widgets/controls",
      "_view_module_version": "1.5.0",
      "_view_name": "ProgressView",
      "bar_style": "",
      "description": "Processing: ",
      "description_tooltip": null,
      "layout": "IPY_MODEL_07e8a961cb4f4b638a320f74f6acedfa",
      "max": 7,
      "min": 0,
      "orientation": "horizontal",
      "style": "IPY_MODEL_39dbee50b3e64935bfdf9cef285d88b4",
      "value": 7
     }
    },
    "227b4917fb1847c39aded16caae47dd7": {
     "model_module": "@jupyter-widgets/controls",
     "model_name": "ProgressStyleModel",
     "state": {
      "_model_module": "@jupyter-widgets/controls",
      "_model_module_version": "1.5.0",
      "_model_name": "ProgressStyleModel",
      "_view_count": null,
      "_view_module": "@jupyter-widgets/base",
      "_view_module_version": "1.2.0",
      "_view_name": "StyleView",
      "bar_color": null,
      "description_width": ""
     }
    },
    "22b9a14f344244f69163f677725b6a84": {
     "model_module": "@jupyter-widgets/base",
     "model_name": "LayoutModel",
     "state": {
      "_model_module": "@jupyter-widgets/base",
      "_model_module_version": "1.2.0",
      "_model_name": "LayoutModel",
      "_view_count": null,
      "_view_module": "@jupyter-widgets/base",
      "_view_module_version": "1.2.0",
      "_view_name": "LayoutView",
      "align_content": null,
      "align_items": null,
      "align_self": null,
      "border": null,
      "bottom": null,
      "display": null,
      "flex": null,
      "flex_flow": null,
      "grid_area": null,
      "grid_auto_columns": null,
      "grid_auto_flow": null,
      "grid_auto_rows": null,
      "grid_column": null,
      "grid_gap": null,
      "grid_row": null,
      "grid_template_areas": null,
      "grid_template_columns": null,
      "grid_template_rows": null,
      "height": null,
      "justify_content": null,
      "justify_items": null,
      "left": null,
      "margin": null,
      "max_height": null,
      "max_width": null,
      "min_height": null,
      "min_width": null,
      "object_fit": null,
      "object_position": null,
      "order": null,
      "overflow": null,
      "overflow_x": null,
      "overflow_y": null,
      "padding": null,
      "right": null,
      "top": null,
      "visibility": null,
      "width": null
     }
    },
    "300da9c69464453c96741727955df6ac": {
     "model_module": "@jupyter-widgets/controls",
     "model_name": "IntProgressModel",
     "state": {
      "_dom_classes": [],
      "_model_module": "@jupyter-widgets/controls",
      "_model_module_version": "1.5.0",
      "_model_name": "IntProgressModel",
      "_view_count": null,
      "_view_module": "@jupyter-widgets/controls",
      "_view_module_version": "1.5.0",
      "_view_name": "ProgressView",
      "bar_style": "",
      "description": "Processing: ",
      "description_tooltip": null,
      "layout": "IPY_MODEL_22b9a14f344244f69163f677725b6a84",
      "max": 3,
      "min": 0,
      "orientation": "horizontal",
      "style": "IPY_MODEL_e9bad9636931464e97b2e1e2f5a1ec61",
      "value": 3
     }
    },
    "39dbee50b3e64935bfdf9cef285d88b4": {
     "model_module": "@jupyter-widgets/controls",
     "model_name": "ProgressStyleModel",
     "state": {
      "_model_module": "@jupyter-widgets/controls",
      "_model_module_version": "1.5.0",
      "_model_name": "ProgressStyleModel",
      "_view_count": null,
      "_view_module": "@jupyter-widgets/base",
      "_view_module_version": "1.2.0",
      "_view_name": "StyleView",
      "bar_color": null,
      "description_width": ""
     }
    },
    "47ca0516b186464987fc6d2dc3279f99": {
     "model_module": "@jupyter-widgets/base",
     "model_name": "LayoutModel",
     "state": {
      "_model_module": "@jupyter-widgets/base",
      "_model_module_version": "1.2.0",
      "_model_name": "LayoutModel",
      "_view_count": null,
      "_view_module": "@jupyter-widgets/base",
      "_view_module_version": "1.2.0",
      "_view_name": "LayoutView",
      "align_content": null,
      "align_items": null,
      "align_self": null,
      "border": null,
      "bottom": null,
      "display": null,
      "flex": null,
      "flex_flow": null,
      "grid_area": null,
      "grid_auto_columns": null,
      "grid_auto_flow": null,
      "grid_auto_rows": null,
      "grid_column": null,
      "grid_gap": null,
      "grid_row": null,
      "grid_template_areas": null,
      "grid_template_columns": null,
      "grid_template_rows": null,
      "height": null,
      "justify_content": null,
      "justify_items": null,
      "left": null,
      "margin": null,
      "max_height": null,
      "max_width": null,
      "min_height": null,
      "min_width": null,
      "object_fit": null,
      "object_position": null,
      "order": null,
      "overflow": null,
      "overflow_x": null,
      "overflow_y": null,
      "padding": null,
      "right": null,
      "top": null,
      "visibility": null,
      "width": "100%"
     }
    },
    "4c7f582278684b9681235cb8353020c2": {
     "model_module": "@jupyter-widgets/controls",
     "model_name": "ProgressStyleModel",
     "state": {
      "_model_module": "@jupyter-widgets/controls",
      "_model_module_version": "1.5.0",
      "_model_name": "ProgressStyleModel",
      "_view_count": null,
      "_view_module": "@jupyter-widgets/base",
      "_view_module_version": "1.2.0",
      "_view_name": "StyleView",
      "bar_color": null,
      "description_width": ""
     }
    },
    "550cedf56100475baa1c5d55be22e556": {
     "model_module": "@jupyter-widgets/controls",
     "model_name": "IntProgressModel",
     "state": {
      "_dom_classes": [],
      "_model_module": "@jupyter-widgets/controls",
      "_model_module_version": "1.5.0",
      "_model_name": "IntProgressModel",
      "_view_count": null,
      "_view_module": "@jupyter-widgets/controls",
      "_view_module_version": "1.5.0",
      "_view_name": "ProgressView",
      "bar_style": "",
      "description": "Processing: ",
      "description_tooltip": null,
      "layout": "IPY_MODEL_74e223eba7f4464dbde68601e8d6a682",
      "max": 4,
      "min": 0,
      "orientation": "horizontal",
      "style": "IPY_MODEL_7cfb9f737f904636a50826720c490ffa",
      "value": 4
     }
    },
    "64e134d37f894327984124c0eccf688d": {
     "model_module": "@jupyter-widgets/base",
     "model_name": "LayoutModel",
     "state": {
      "_model_module": "@jupyter-widgets/base",
      "_model_module_version": "1.2.0",
      "_model_name": "LayoutModel",
      "_view_count": null,
      "_view_module": "@jupyter-widgets/base",
      "_view_module_version": "1.2.0",
      "_view_name": "LayoutView",
      "align_content": null,
      "align_items": null,
      "align_self": null,
      "border": null,
      "bottom": null,
      "display": null,
      "flex": null,
      "flex_flow": null,
      "grid_area": null,
      "grid_auto_columns": null,
      "grid_auto_flow": null,
      "grid_auto_rows": null,
      "grid_column": null,
      "grid_gap": null,
      "grid_row": null,
      "grid_template_areas": null,
      "grid_template_columns": null,
      "grid_template_rows": null,
      "height": null,
      "justify_content": null,
      "justify_items": null,
      "left": null,
      "margin": null,
      "max_height": null,
      "max_width": null,
      "min_height": null,
      "min_width": null,
      "object_fit": null,
      "object_position": null,
      "order": null,
      "overflow": null,
      "overflow_x": null,
      "overflow_y": null,
      "padding": null,
      "right": null,
      "top": null,
      "visibility": null,
      "width": "100%"
     }
    },
    "74e223eba7f4464dbde68601e8d6a682": {
     "model_module": "@jupyter-widgets/base",
     "model_name": "LayoutModel",
     "state": {
      "_model_module": "@jupyter-widgets/base",
      "_model_module_version": "1.2.0",
      "_model_name": "LayoutModel",
      "_view_count": null,
      "_view_module": "@jupyter-widgets/base",
      "_view_module_version": "1.2.0",
      "_view_name": "LayoutView",
      "align_content": null,
      "align_items": null,
      "align_self": null,
      "border": null,
      "bottom": null,
      "display": null,
      "flex": null,
      "flex_flow": null,
      "grid_area": null,
      "grid_auto_columns": null,
      "grid_auto_flow": null,
      "grid_auto_rows": null,
      "grid_column": null,
      "grid_gap": null,
      "grid_row": null,
      "grid_template_areas": null,
      "grid_template_columns": null,
      "grid_template_rows": null,
      "height": null,
      "justify_content": null,
      "justify_items": null,
      "left": null,
      "margin": null,
      "max_height": null,
      "max_width": null,
      "min_height": null,
      "min_width": null,
      "object_fit": null,
      "object_position": null,
      "order": null,
      "overflow": null,
      "overflow_x": null,
      "overflow_y": null,
      "padding": null,
      "right": null,
      "top": null,
      "visibility": null,
      "width": null
     }
    },
    "7cfb9f737f904636a50826720c490ffa": {
     "model_module": "@jupyter-widgets/controls",
     "model_name": "ProgressStyleModel",
     "state": {
      "_model_module": "@jupyter-widgets/controls",
      "_model_module_version": "1.5.0",
      "_model_name": "ProgressStyleModel",
      "_view_count": null,
      "_view_module": "@jupyter-widgets/base",
      "_view_module_version": "1.2.0",
      "_view_name": "StyleView",
      "bar_color": null,
      "description_width": ""
     }
    },
    "8755dadb553144c6b147bc1c5fdc4705": {
     "model_module": "@jupyter-widgets/controls",
     "model_name": "IntProgressModel",
     "state": {
      "_dom_classes": [],
      "_model_module": "@jupyter-widgets/controls",
      "_model_module_version": "1.5.0",
      "_model_name": "IntProgressModel",
      "_view_count": null,
      "_view_module": "@jupyter-widgets/controls",
      "_view_module_version": "1.5.0",
      "_view_name": "ProgressView",
      "bar_style": "",
      "description": "Processing: ",
      "description_tooltip": null,
      "layout": "IPY_MODEL_905053f66a784337a90be8aeab6fb0f2",
      "max": 3,
      "min": 0,
      "orientation": "horizontal",
      "style": "IPY_MODEL_14d8a8ec76234e07b472bfa66488c746",
      "value": 3
     }
    },
    "8a8073dc9baf4a0c924f220b3e0b50bc": {
     "model_module": "@jupyter-widgets/controls",
     "model_name": "IntProgressModel",
     "state": {
      "_dom_classes": [],
      "_model_module": "@jupyter-widgets/controls",
      "_model_module_version": "1.5.0",
      "_model_name": "IntProgressModel",
      "_view_count": null,
      "_view_module": "@jupyter-widgets/controls",
      "_view_module_version": "1.5.0",
      "_view_name": "ProgressView",
      "bar_style": "",
      "description": "Processing: ",
      "description_tooltip": null,
      "layout": "IPY_MODEL_fec84246bc724c7abf0ceaa6e2d07e9a",
      "max": 4,
      "min": 0,
      "orientation": "horizontal",
      "style": "IPY_MODEL_9d2cef9cd5e3419b924bfca13762ac5e",
      "value": 4
     }
    },
    "8c215526354340d582910fabaaaf11cf": {
     "model_module": "@jupyter-widgets/base",
     "model_name": "LayoutModel",
     "state": {
      "_model_module": "@jupyter-widgets/base",
      "_model_module_version": "1.2.0",
      "_model_name": "LayoutModel",
      "_view_count": null,
      "_view_module": "@jupyter-widgets/base",
      "_view_module_version": "1.2.0",
      "_view_name": "LayoutView",
      "align_content": null,
      "align_items": null,
      "align_self": null,
      "border": null,
      "bottom": null,
      "display": null,
      "flex": null,
      "flex_flow": null,
      "grid_area": null,
      "grid_auto_columns": null,
      "grid_auto_flow": null,
      "grid_auto_rows": null,
      "grid_column": null,
      "grid_gap": null,
      "grid_row": null,
      "grid_template_areas": null,
      "grid_template_columns": null,
      "grid_template_rows": null,
      "height": null,
      "justify_content": null,
      "justify_items": null,
      "left": null,
      "margin": null,
      "max_height": null,
      "max_width": null,
      "min_height": null,
      "min_width": null,
      "object_fit": null,
      "object_position": null,
      "order": null,
      "overflow": null,
      "overflow_x": null,
      "overflow_y": null,
      "padding": null,
      "right": null,
      "top": null,
      "visibility": null,
      "width": null
     }
    },
    "905053f66a784337a90be8aeab6fb0f2": {
     "model_module": "@jupyter-widgets/base",
     "model_name": "LayoutModel",
     "state": {
      "_model_module": "@jupyter-widgets/base",
      "_model_module_version": "1.2.0",
      "_model_name": "LayoutModel",
      "_view_count": null,
      "_view_module": "@jupyter-widgets/base",
      "_view_module_version": "1.2.0",
      "_view_name": "LayoutView",
      "align_content": null,
      "align_items": null,
      "align_self": null,
      "border": null,
      "bottom": null,
      "display": null,
      "flex": null,
      "flex_flow": null,
      "grid_area": null,
      "grid_auto_columns": null,
      "grid_auto_flow": null,
      "grid_auto_rows": null,
      "grid_column": null,
      "grid_gap": null,
      "grid_row": null,
      "grid_template_areas": null,
      "grid_template_columns": null,
      "grid_template_rows": null,
      "height": null,
      "justify_content": null,
      "justify_items": null,
      "left": null,
      "margin": null,
      "max_height": null,
      "max_width": null,
      "min_height": null,
      "min_width": null,
      "object_fit": null,
      "object_position": null,
      "order": null,
      "overflow": null,
      "overflow_x": null,
      "overflow_y": null,
      "padding": null,
      "right": null,
      "top": null,
      "visibility": null,
      "width": null
     }
    },
    "9489c73bb04b4045bc572cb718bfd605": {
     "model_module": "@jupyter-widgets/controls",
     "model_name": "DescriptionStyleModel",
     "state": {
      "_model_module": "@jupyter-widgets/controls",
      "_model_module_version": "1.5.0",
      "_model_name": "DescriptionStyleModel",
      "_view_count": null,
      "_view_module": "@jupyter-widgets/base",
      "_view_module_version": "1.2.0",
      "_view_name": "StyleView",
      "description_width": ""
     }
    },
    "9d2cef9cd5e3419b924bfca13762ac5e": {
     "model_module": "@jupyter-widgets/controls",
     "model_name": "ProgressStyleModel",
     "state": {
      "_model_module": "@jupyter-widgets/controls",
      "_model_module_version": "1.5.0",
      "_model_name": "ProgressStyleModel",
      "_view_count": null,
      "_view_module": "@jupyter-widgets/base",
      "_view_module_version": "1.2.0",
      "_view_name": "StyleView",
      "bar_color": null,
      "description_width": ""
     }
    },
    "a677d44bffa74a8d9a0303c4aa4daae5": {
     "model_module": "@jupyter-widgets/controls",
     "model_name": "TextModel",
     "state": {
      "_dom_classes": [],
      "_model_module": "@jupyter-widgets/controls",
      "_model_module_version": "1.5.0",
      "_model_name": "TextModel",
      "_view_count": null,
      "_view_module": "@jupyter-widgets/controls",
      "_view_module_version": "1.5.0",
      "_view_name": "TextView",
      "continuous_update": true,
      "description": "",
      "description_tooltip": null,
      "disabled": false,
      "layout": "IPY_MODEL_ef650fcff44141a39c8faded30ff25d7",
      "placeholder": "​",
      "style": "IPY_MODEL_f1a3089504b94e208af3e45db31d2ad5",
      "value": "Following data types have been inferred automatically, if they are correct press enter to continue or type 'quit' otherwise."
     }
    },
    "af13da7c13024099a6d437044b7d3393": {
     "model_module": "@jupyter-widgets/controls",
     "model_name": "ProgressStyleModel",
     "state": {
      "_model_module": "@jupyter-widgets/controls",
      "_model_module_version": "1.5.0",
      "_model_name": "ProgressStyleModel",
      "_view_count": null,
      "_view_module": "@jupyter-widgets/base",
      "_view_module_version": "1.2.0",
      "_view_name": "StyleView",
      "bar_color": null,
      "description_width": ""
     }
    },
    "b56d7218d0cb48909340c02b7a65b9ad": {
     "model_module": "@jupyter-widgets/base",
     "model_name": "LayoutModel",
     "state": {
      "_model_module": "@jupyter-widgets/base",
      "_model_module_version": "1.2.0",
      "_model_name": "LayoutModel",
      "_view_count": null,
      "_view_module": "@jupyter-widgets/base",
      "_view_module_version": "1.2.0",
      "_view_name": "LayoutView",
      "align_content": null,
      "align_items": null,
      "align_self": null,
      "border": null,
      "bottom": null,
      "display": null,
      "flex": null,
      "flex_flow": null,
      "grid_area": null,
      "grid_auto_columns": null,
      "grid_auto_flow": null,
      "grid_auto_rows": null,
      "grid_column": null,
      "grid_gap": null,
      "grid_row": null,
      "grid_template_areas": null,
      "grid_template_columns": null,
      "grid_template_rows": null,
      "height": null,
      "justify_content": null,
      "justify_items": null,
      "left": null,
      "margin": null,
      "max_height": null,
      "max_width": null,
      "min_height": null,
      "min_width": null,
      "object_fit": null,
      "object_position": null,
      "order": null,
      "overflow": null,
      "overflow_x": null,
      "overflow_y": null,
      "padding": null,
      "right": null,
      "top": null,
      "visibility": null,
      "width": null
     }
    },
    "ca3712427eb64a63ab162b2c9a73a6f0": {
     "model_module": "@jupyter-widgets/controls",
     "model_name": "ProgressStyleModel",
     "state": {
      "_model_module": "@jupyter-widgets/controls",
      "_model_module_version": "1.5.0",
      "_model_name": "ProgressStyleModel",
      "_view_count": null,
      "_view_module": "@jupyter-widgets/base",
      "_view_module_version": "1.2.0",
      "_view_name": "StyleView",
      "bar_color": null,
      "description_width": ""
     }
    },
    "d3bc00f6e9fa4033876d0c6fb3fee669": {
     "model_module": "@jupyter-widgets/base",
     "model_name": "LayoutModel",
     "state": {
      "_model_module": "@jupyter-widgets/base",
      "_model_module_version": "1.2.0",
      "_model_name": "LayoutModel",
      "_view_count": null,
      "_view_module": "@jupyter-widgets/base",
      "_view_module_version": "1.2.0",
      "_view_name": "LayoutView",
      "align_content": null,
      "align_items": null,
      "align_self": null,
      "border": null,
      "bottom": null,
      "display": null,
      "flex": null,
      "flex_flow": null,
      "grid_area": null,
      "grid_auto_columns": null,
      "grid_auto_flow": null,
      "grid_auto_rows": null,
      "grid_column": null,
      "grid_gap": null,
      "grid_row": null,
      "grid_template_areas": null,
      "grid_template_columns": null,
      "grid_template_rows": null,
      "height": null,
      "justify_content": null,
      "justify_items": null,
      "left": null,
      "margin": null,
      "max_height": null,
      "max_width": null,
      "min_height": null,
      "min_width": null,
      "object_fit": null,
      "object_position": null,
      "order": null,
      "overflow": null,
      "overflow_x": null,
      "overflow_y": null,
      "padding": null,
      "right": null,
      "top": null,
      "visibility": null,
      "width": null
     }
    },
    "e9bad9636931464e97b2e1e2f5a1ec61": {
     "model_module": "@jupyter-widgets/controls",
     "model_name": "ProgressStyleModel",
     "state": {
      "_model_module": "@jupyter-widgets/controls",
      "_model_module_version": "1.5.0",
      "_model_name": "ProgressStyleModel",
      "_view_count": null,
      "_view_module": "@jupyter-widgets/base",
      "_view_module_version": "1.2.0",
      "_view_name": "StyleView",
      "bar_color": null,
      "description_width": ""
     }
    },
    "ea5221c6e0c94fcd86df22555b3a7c52": {
     "model_module": "@jupyter-widgets/base",
     "model_name": "LayoutModel",
     "state": {
      "_model_module": "@jupyter-widgets/base",
      "_model_module_version": "1.2.0",
      "_model_name": "LayoutModel",
      "_view_count": null,
      "_view_module": "@jupyter-widgets/base",
      "_view_module_version": "1.2.0",
      "_view_name": "LayoutView",
      "align_content": null,
      "align_items": null,
      "align_self": null,
      "border": null,
      "bottom": null,
      "display": null,
      "flex": null,
      "flex_flow": null,
      "grid_area": null,
      "grid_auto_columns": null,
      "grid_auto_flow": null,
      "grid_auto_rows": null,
      "grid_column": null,
      "grid_gap": null,
      "grid_row": null,
      "grid_template_areas": null,
      "grid_template_columns": null,
      "grid_template_rows": null,
      "height": null,
      "justify_content": null,
      "justify_items": null,
      "left": null,
      "margin": null,
      "max_height": null,
      "max_width": null,
      "min_height": null,
      "min_width": null,
      "object_fit": null,
      "object_position": null,
      "order": null,
      "overflow": null,
      "overflow_x": null,
      "overflow_y": null,
      "padding": null,
      "right": null,
      "top": null,
      "visibility": null,
      "width": null
     }
    },
    "ecf0eb4eb8f641d591365150c1485174": {
     "model_module": "@jupyter-widgets/controls",
     "model_name": "DescriptionStyleModel",
     "state": {
      "_model_module": "@jupyter-widgets/controls",
      "_model_module_version": "1.5.0",
      "_model_name": "DescriptionStyleModel",
      "_view_count": null,
      "_view_module": "@jupyter-widgets/base",
      "_view_module_version": "1.2.0",
      "_view_name": "StyleView",
      "description_width": ""
     }
    },
    "ef650fcff44141a39c8faded30ff25d7": {
     "model_module": "@jupyter-widgets/base",
     "model_name": "LayoutModel",
     "state": {
      "_model_module": "@jupyter-widgets/base",
      "_model_module_version": "1.2.0",
      "_model_name": "LayoutModel",
      "_view_count": null,
      "_view_module": "@jupyter-widgets/base",
      "_view_module_version": "1.2.0",
      "_view_name": "LayoutView",
      "align_content": null,
      "align_items": null,
      "align_self": null,
      "border": null,
      "bottom": null,
      "display": null,
      "flex": null,
      "flex_flow": null,
      "grid_area": null,
      "grid_auto_columns": null,
      "grid_auto_flow": null,
      "grid_auto_rows": null,
      "grid_column": null,
      "grid_gap": null,
      "grid_row": null,
      "grid_template_areas": null,
      "grid_template_columns": null,
      "grid_template_rows": null,
      "height": null,
      "justify_content": null,
      "justify_items": null,
      "left": null,
      "margin": null,
      "max_height": null,
      "max_width": null,
      "min_height": null,
      "min_width": null,
      "object_fit": null,
      "object_position": null,
      "order": null,
      "overflow": null,
      "overflow_x": null,
      "overflow_y": null,
      "padding": null,
      "right": null,
      "top": null,
      "visibility": null,
      "width": "100%"
     }
    },
    "f1a3089504b94e208af3e45db31d2ad5": {
     "model_module": "@jupyter-widgets/controls",
     "model_name": "DescriptionStyleModel",
     "state": {
      "_model_module": "@jupyter-widgets/controls",
      "_model_module_version": "1.5.0",
      "_model_name": "DescriptionStyleModel",
      "_view_count": null,
      "_view_module": "@jupyter-widgets/base",
      "_view_module_version": "1.2.0",
      "_view_name": "StyleView",
      "description_width": ""
     }
    },
    "fbf4ef0c753f4494a190c55670b8eb82": {
     "model_module": "@jupyter-widgets/controls",
     "model_name": "IntProgressModel",
     "state": {
      "_dom_classes": [],
      "_model_module": "@jupyter-widgets/controls",
      "_model_module_version": "1.5.0",
      "_model_name": "IntProgressModel",
      "_view_count": null,
      "_view_module": "@jupyter-widgets/controls",
      "_view_module_version": "1.5.0",
      "_view_name": "ProgressView",
      "bar_style": "",
      "description": "Processing: ",
      "description_tooltip": null,
      "layout": "IPY_MODEL_b56d7218d0cb48909340c02b7a65b9ad",
      "max": 7,
      "min": 0,
      "orientation": "horizontal",
      "style": "IPY_MODEL_227b4917fb1847c39aded16caae47dd7",
      "value": 7
     }
    },
    "fd27e1cc8dfe475db4a38176e1e1cfd9": {
     "model_module": "@jupyter-widgets/controls",
     "model_name": "IntProgressModel",
     "state": {
      "_dom_classes": [],
      "_model_module": "@jupyter-widgets/controls",
      "_model_module_version": "1.5.0",
      "_model_name": "IntProgressModel",
      "_view_count": null,
      "_view_module": "@jupyter-widgets/controls",
      "_view_module_version": "1.5.0",
      "_view_name": "ProgressView",
      "bar_style": "",
      "description": "Processing: ",
      "description_tooltip": null,
      "layout": "IPY_MODEL_8c215526354340d582910fabaaaf11cf",
      "max": 3,
      "min": 0,
      "orientation": "horizontal",
      "style": "IPY_MODEL_af13da7c13024099a6d437044b7d3393",
      "value": 3
     }
    },
    "fec84246bc724c7abf0ceaa6e2d07e9a": {
     "model_module": "@jupyter-widgets/base",
     "model_name": "LayoutModel",
     "state": {
      "_model_module": "@jupyter-widgets/base",
      "_model_module_version": "1.2.0",
      "_model_name": "LayoutModel",
      "_view_count": null,
      "_view_module": "@jupyter-widgets/base",
      "_view_module_version": "1.2.0",
      "_view_name": "LayoutView",
      "align_content": null,
      "align_items": null,
      "align_self": null,
      "border": null,
      "bottom": null,
      "display": null,
      "flex": null,
      "flex_flow": null,
      "grid_area": null,
      "grid_auto_columns": null,
      "grid_auto_flow": null,
      "grid_auto_rows": null,
      "grid_column": null,
      "grid_gap": null,
      "grid_row": null,
      "grid_template_areas": null,
      "grid_template_columns": null,
      "grid_template_rows": null,
      "height": null,
      "justify_content": null,
      "justify_items": null,
      "left": null,
      "margin": null,
      "max_height": null,
      "max_width": null,
      "min_height": null,
      "min_width": null,
      "object_fit": null,
      "object_position": null,
      "order": null,
      "overflow": null,
      "overflow_x": null,
      "overflow_y": null,
      "padding": null,
      "right": null,
      "top": null,
      "visibility": null,
      "width": null
     }
    }
   }
  }
 },
 "nbformat": 4,
 "nbformat_minor": 4
}
