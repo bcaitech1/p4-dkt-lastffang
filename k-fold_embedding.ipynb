{
 "cells": [
  {
   "cell_type": "code",
   "execution_count": 2,
   "id": "b2619d9e-ad30-481d-b9c1-64eae4259cf7",
   "metadata": {},
   "outputs": [],
   "source": [
    "import torch.nn as nn"
   ]
  },
  {
   "cell_type": "code",
   "execution_count": 3,
   "id": "cf355766-03c9-45f0-9ac0-d7de6a561421",
   "metadata": {},
   "outputs": [],
   "source": [
    "import os, random, torch\n",
    "import numpy as np\n",
    "\n",
    "def setSeeds(seed = 42):\n",
    "    # 랜덤 시드를 설정하여 매 코드를 실행할 때마다 동일한 결과를 얻게 합니다.\n",
    "    os.environ['PYTHONHASHSEED'] = str(seed)\n",
    "    random.seed(seed)\n",
    "    np.random.seed(seed)\n",
    "    torch.manual_seed(seed)    \n",
    "    torch.cuda.manual_seed(seed)\n",
    "    torch.backends.cudnn.deterministic = True\n",
    "    torch.cuda.manual_seed_all(seed) # if use multi-GPU\n",
    "    torch.backends.cudnn.benchmark = False"
   ]
  },
  {
   "cell_type": "code",
   "execution_count": 4,
   "id": "8df3426c-0312-4174-825b-4bc70880b221",
   "metadata": {},
   "outputs": [],
   "source": [
    "setSeeds()"
   ]
  },
  {
   "cell_type": "markdown",
   "id": "14091ccb-ad93-483b-9bd8-14a3ed3c2fcd",
   "metadata": {},
   "source": [
    "# 원래 Inference (모델 로드마다 시드 초기화 안할 때)"
   ]
  },
  {
   "cell_type": "code",
   "execution_count": 8,
   "id": "a6ff74a0-3c0c-4269-92d8-8a0bc6a42b92",
   "metadata": {},
   "outputs": [
    {
     "data": {
      "text/plain": [
       "Parameter containing:\n",
       "tensor([[-1.4570, -0.1023, -0.5992,  0.4771,  0.7262,  0.0912, -0.3891,  0.5279,\n",
       "         -0.0127,  0.2408],\n",
       "        [ 0.1325,  0.7642,  1.0950,  0.3399,  0.7200,  0.4114,  1.9312,  1.0119,\n",
       "         -1.4364, -1.1299],\n",
       "        [-0.1360,  1.6354,  0.6547,  0.5760,  1.0414, -0.3997, -2.2933,  0.4976,\n",
       "         -0.4257, -1.3371],\n",
       "        [-0.1933,  0.6526, -0.3063, -0.3302, -0.9808,  0.1947, -1.6535,  0.6814,\n",
       "          1.4611, -0.3098]], requires_grad=True)"
      ]
     },
     "execution_count": 8,
     "metadata": {},
     "output_type": "execute_result"
    }
   ],
   "source": [
    "# Model 1\n",
    "cate_embedding = nn.Embedding(4, 10)\n",
    "cate_embedding.weight"
   ]
  },
  {
   "cell_type": "code",
   "execution_count": 9,
   "id": "49763d50-01c7-49db-8961-c7f60d018e9f",
   "metadata": {},
   "outputs": [
    {
     "data": {
      "text/plain": [
       "Parameter containing:\n",
       "tensor([[ 0.9633, -0.3095,  0.5712,  1.1179, -1.2956,  0.0503, -0.5855, -0.3900,\n",
       "          0.9812, -0.6401],\n",
       "        [-0.4908,  0.2080, -1.1586, -0.9637, -0.3750,  0.8033,  0.7165,  1.5335,\n",
       "         -1.4510, -0.7861],\n",
       "        [-0.9563, -1.2476, -0.7499, -0.5922, -0.8146, -1.0212, -0.4949, -0.5923,\n",
       "          0.1543,  0.4408],\n",
       "        [-0.1483, -2.3184, -0.3980,  1.0805, -1.7809,  1.5080,  0.3094, -0.5003,\n",
       "          1.0350,  1.6896]], requires_grad=True)"
      ]
     },
     "execution_count": 9,
     "metadata": {},
     "output_type": "execute_result"
    }
   ],
   "source": [
    "# Model 2\n",
    "cate_embedding = nn.Embedding(4, 10)\n",
    "cate_embedding.weight"
   ]
  },
  {
   "cell_type": "markdown",
   "id": "c6c2de57-6e36-42f2-b400-a3ca8c67bd1e",
   "metadata": {},
   "source": [
    "똑같은 초기값 임베딩을 기대했지만, 그렇지 않습니다\n",
    "\n",
    "k-fold에서 생성된 1번 모델에서 임베딩 레이어와 2번 모델에서 임베딩 레이어의 값이 다르기 때문에,\n",
    "\n",
    "2번 임베딩 레이어에서 학습시킨 값과 다른 값이 입력으로 들어갑니다"
   ]
  },
  {
   "cell_type": "markdown",
   "id": "4fc0d4a1-dd61-4076-bab7-fc111c41ea8a",
   "metadata": {},
   "source": [
    "# 수정한 Inference (모델 로드마다 시드 초기화)"
   ]
  },
  {
   "cell_type": "code",
   "execution_count": 10,
   "id": "5d33dd07-238d-495e-945e-f119dcf1d589",
   "metadata": {},
   "outputs": [
    {
     "data": {
      "text/plain": [
       "Parameter containing:\n",
       "tensor([[ 1.9269,  1.4873,  0.9007, -2.1055,  0.6784, -1.2345, -0.0431, -1.6047,\n",
       "         -0.7521,  1.6487],\n",
       "        [-0.3925, -1.4036, -0.7279, -0.5594, -0.7688,  0.7624,  1.6423, -0.1596,\n",
       "         -0.4974,  0.4396],\n",
       "        [-0.7581,  1.0783,  0.8008,  1.6806,  0.0349,  0.3211,  1.5736, -0.8455,\n",
       "          1.3123,  0.6872],\n",
       "        [-1.0892, -0.3553, -1.4181,  0.8963,  0.0499,  2.2667,  1.1790, -0.4345,\n",
       "         -1.3864, -1.2862]], requires_grad=True)"
      ]
     },
     "execution_count": 10,
     "metadata": {},
     "output_type": "execute_result"
    }
   ],
   "source": [
    "# Model 1\n",
    "setSeeds()\n",
    "cate_embedding = nn.Embedding(4, 10)\n",
    "cate_embedding.weight"
   ]
  },
  {
   "cell_type": "code",
   "execution_count": 11,
   "id": "eb870d6f-5431-40d1-b379-ced5838c5ebd",
   "metadata": {},
   "outputs": [
    {
     "data": {
      "text/plain": [
       "Parameter containing:\n",
       "tensor([[ 1.9269,  1.4873,  0.9007, -2.1055,  0.6784, -1.2345, -0.0431, -1.6047,\n",
       "         -0.7521,  1.6487],\n",
       "        [-0.3925, -1.4036, -0.7279, -0.5594, -0.7688,  0.7624,  1.6423, -0.1596,\n",
       "         -0.4974,  0.4396],\n",
       "        [-0.7581,  1.0783,  0.8008,  1.6806,  0.0349,  0.3211,  1.5736, -0.8455,\n",
       "          1.3123,  0.6872],\n",
       "        [-1.0892, -0.3553, -1.4181,  0.8963,  0.0499,  2.2667,  1.1790, -0.4345,\n",
       "         -1.3864, -1.2862]], requires_grad=True)"
      ]
     },
     "execution_count": 11,
     "metadata": {},
     "output_type": "execute_result"
    }
   ],
   "source": [
    "# Model 2\n",
    "setSeeds()\n",
    "cate_embedding = nn.Embedding(4, 10)\n",
    "cate_embedding.weight"
   ]
  },
  {
   "cell_type": "markdown",
   "id": "643ddefe-9a86-41db-95ea-23fa26931002",
   "metadata": {},
   "source": [
    "모델 1과 모델 2에서 임베딩이 똑같이 되는 것을 알 수 있습니다\n",
    "\n",
    "그렇기 때문에 k-fold를 inference할 때, 각 모델을 로드할 때마다 시드를 초기화해야 임베딩 레이어의 초기값을 의도했던 대로 가져올 수 있습니다"
   ]
  }
 ],
 "metadata": {
  "kernelspec": {
   "display_name": "Python 3",
   "language": "python",
   "name": "python3"
  },
  "language_info": {
   "codemirror_mode": {
    "name": "ipython",
    "version": 3
   },
   "file_extension": ".py",
   "mimetype": "text/x-python",
   "name": "python",
   "nbconvert_exporter": "python",
   "pygments_lexer": "ipython3",
   "version": "3.7.7"
  }
 },
 "nbformat": 4,
 "nbformat_minor": 5
}
